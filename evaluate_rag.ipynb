{
  "cells": [
    {
      "cell_type": "markdown",
      "metadata": {
        "id": "view-in-github",
        "colab_type": "text"
      },
      "source": [
        "<a href=\"https://colab.research.google.com/github/aiejf/RAG-Agent/blob/main/evaluate_rag.ipynb\" target=\"_parent\"><img src=\"https://colab.research.google.com/assets/colab-badge.svg\" alt=\"Open In Colab\"/></a>"
      ]
    },
    {
      "cell_type": "code",
      "execution_count": 1,
      "metadata": {
        "id": "TUHJaYmqLTj8",
        "outputId": "e2492d66-4c3a-4705-858a-25feb160c3a9",
        "colab": {
          "base_uri": "https://localhost:8080/",
          "height": 1000
        }
      },
      "outputs": [
        {
          "output_type": "stream",
          "name": "stdout",
          "text": [
            "Collecting langgraph\n",
            "  Downloading langgraph-0.6.6-py3-none-any.whl.metadata (6.8 kB)\n",
            "Requirement already satisfied: langchain-core>=0.1 in /usr/local/lib/python3.12/dist-packages (from langgraph) (0.3.74)\n",
            "Collecting langgraph-checkpoint<3.0.0,>=2.1.0 (from langgraph)\n",
            "  Downloading langgraph_checkpoint-2.1.1-py3-none-any.whl.metadata (4.2 kB)\n",
            "Collecting langgraph-prebuilt<0.7.0,>=0.6.0 (from langgraph)\n",
            "  Downloading langgraph_prebuilt-0.6.4-py3-none-any.whl.metadata (4.5 kB)\n",
            "Collecting langgraph-sdk<0.3.0,>=0.2.2 (from langgraph)\n",
            "  Downloading langgraph_sdk-0.2.4-py3-none-any.whl.metadata (1.5 kB)\n",
            "Requirement already satisfied: pydantic>=2.7.4 in /usr/local/lib/python3.12/dist-packages (from langgraph) (2.11.7)\n",
            "Requirement already satisfied: xxhash>=3.5.0 in /usr/local/lib/python3.12/dist-packages (from langgraph) (3.5.0)\n",
            "Requirement already satisfied: langsmith>=0.3.45 in /usr/local/lib/python3.12/dist-packages (from langchain-core>=0.1->langgraph) (0.4.16)\n",
            "Requirement already satisfied: tenacity!=8.4.0,<10.0.0,>=8.1.0 in /usr/local/lib/python3.12/dist-packages (from langchain-core>=0.1->langgraph) (8.5.0)\n",
            "Requirement already satisfied: jsonpatch<2.0,>=1.33 in /usr/local/lib/python3.12/dist-packages (from langchain-core>=0.1->langgraph) (1.33)\n",
            "Requirement already satisfied: PyYAML>=5.3 in /usr/local/lib/python3.12/dist-packages (from langchain-core>=0.1->langgraph) (6.0.2)\n",
            "Requirement already satisfied: typing-extensions>=4.7 in /usr/local/lib/python3.12/dist-packages (from langchain-core>=0.1->langgraph) (4.15.0)\n",
            "Requirement already satisfied: packaging>=23.2 in /usr/local/lib/python3.12/dist-packages (from langchain-core>=0.1->langgraph) (25.0)\n",
            "Collecting ormsgpack>=1.10.0 (from langgraph-checkpoint<3.0.0,>=2.1.0->langgraph)\n",
            "  Downloading ormsgpack-1.10.0-cp312-cp312-manylinux_2_17_x86_64.manylinux2014_x86_64.whl.metadata (43 kB)\n",
            "\u001b[2K     \u001b[90m━━━━━━━━━━━━━━━━━━━━━━━━━━━━━━━━━━━━━━━━\u001b[0m \u001b[32m43.7/43.7 kB\u001b[0m \u001b[31m2.2 MB/s\u001b[0m eta \u001b[36m0:00:00\u001b[0m\n",
            "\u001b[?25hRequirement already satisfied: httpx>=0.25.2 in /usr/local/lib/python3.12/dist-packages (from langgraph-sdk<0.3.0,>=0.2.2->langgraph) (0.28.1)\n",
            "Requirement already satisfied: orjson>=3.10.1 in /usr/local/lib/python3.12/dist-packages (from langgraph-sdk<0.3.0,>=0.2.2->langgraph) (3.11.2)\n",
            "Requirement already satisfied: annotated-types>=0.6.0 in /usr/local/lib/python3.12/dist-packages (from pydantic>=2.7.4->langgraph) (0.7.0)\n",
            "Requirement already satisfied: pydantic-core==2.33.2 in /usr/local/lib/python3.12/dist-packages (from pydantic>=2.7.4->langgraph) (2.33.2)\n",
            "Requirement already satisfied: typing-inspection>=0.4.0 in /usr/local/lib/python3.12/dist-packages (from pydantic>=2.7.4->langgraph) (0.4.1)\n",
            "Requirement already satisfied: anyio in /usr/local/lib/python3.12/dist-packages (from httpx>=0.25.2->langgraph-sdk<0.3.0,>=0.2.2->langgraph) (4.10.0)\n",
            "Requirement already satisfied: certifi in /usr/local/lib/python3.12/dist-packages (from httpx>=0.25.2->langgraph-sdk<0.3.0,>=0.2.2->langgraph) (2025.8.3)\n",
            "Requirement already satisfied: httpcore==1.* in /usr/local/lib/python3.12/dist-packages (from httpx>=0.25.2->langgraph-sdk<0.3.0,>=0.2.2->langgraph) (1.0.9)\n",
            "Requirement already satisfied: idna in /usr/local/lib/python3.12/dist-packages (from httpx>=0.25.2->langgraph-sdk<0.3.0,>=0.2.2->langgraph) (3.10)\n",
            "Requirement already satisfied: h11>=0.16 in /usr/local/lib/python3.12/dist-packages (from httpcore==1.*->httpx>=0.25.2->langgraph-sdk<0.3.0,>=0.2.2->langgraph) (0.16.0)\n",
            "Requirement already satisfied: jsonpointer>=1.9 in /usr/local/lib/python3.12/dist-packages (from jsonpatch<2.0,>=1.33->langchain-core>=0.1->langgraph) (3.0.0)\n",
            "Requirement already satisfied: requests-toolbelt>=1.0.0 in /usr/local/lib/python3.12/dist-packages (from langsmith>=0.3.45->langchain-core>=0.1->langgraph) (1.0.0)\n",
            "Requirement already satisfied: requests>=2.0.0 in /usr/local/lib/python3.12/dist-packages (from langsmith>=0.3.45->langchain-core>=0.1->langgraph) (2.32.4)\n",
            "Requirement already satisfied: zstandard>=0.23.0 in /usr/local/lib/python3.12/dist-packages (from langsmith>=0.3.45->langchain-core>=0.1->langgraph) (0.24.0)\n",
            "Requirement already satisfied: charset_normalizer<4,>=2 in /usr/local/lib/python3.12/dist-packages (from requests>=2.0.0->langsmith>=0.3.45->langchain-core>=0.1->langgraph) (3.4.3)\n",
            "Requirement already satisfied: urllib3<3,>=1.21.1 in /usr/local/lib/python3.12/dist-packages (from requests>=2.0.0->langsmith>=0.3.45->langchain-core>=0.1->langgraph) (2.5.0)\n",
            "Requirement already satisfied: sniffio>=1.1 in /usr/local/lib/python3.12/dist-packages (from anyio->httpx>=0.25.2->langgraph-sdk<0.3.0,>=0.2.2->langgraph) (1.3.1)\n",
            "Downloading langgraph-0.6.6-py3-none-any.whl (153 kB)\n",
            "\u001b[2K   \u001b[90m━━━━━━━━━━━━━━━━━━━━━━━━━━━━━━━━━━━━━━━━\u001b[0m \u001b[32m153.3/153.3 kB\u001b[0m \u001b[31m3.2 MB/s\u001b[0m eta \u001b[36m0:00:00\u001b[0m\n",
            "\u001b[?25hDownloading langgraph_checkpoint-2.1.1-py3-none-any.whl (43 kB)\n",
            "\u001b[2K   \u001b[90m━━━━━━━━━━━━━━━━━━━━━━━━━━━━━━━━━━━━━━━━\u001b[0m \u001b[32m43.9/43.9 kB\u001b[0m \u001b[31m2.5 MB/s\u001b[0m eta \u001b[36m0:00:00\u001b[0m\n",
            "\u001b[?25hDownloading langgraph_prebuilt-0.6.4-py3-none-any.whl (28 kB)\n",
            "Downloading langgraph_sdk-0.2.4-py3-none-any.whl (53 kB)\n",
            "\u001b[2K   \u001b[90m━━━━━━━━━━━━━━━━━━━━━━━━━━━━━━━━━━━━━━━━\u001b[0m \u001b[32m54.0/54.0 kB\u001b[0m \u001b[31m5.1 MB/s\u001b[0m eta \u001b[36m0:00:00\u001b[0m\n",
            "\u001b[?25hDownloading ormsgpack-1.10.0-cp312-cp312-manylinux_2_17_x86_64.manylinux2014_x86_64.whl (216 kB)\n",
            "\u001b[2K   \u001b[90m━━━━━━━━━━━━━━━━━━━━━━━━━━━━━━━━━━━━━━━━\u001b[0m \u001b[32m216.7/216.7 kB\u001b[0m \u001b[31m7.0 MB/s\u001b[0m eta \u001b[36m0:00:00\u001b[0m\n",
            "\u001b[?25hInstalling collected packages: ormsgpack, langgraph-sdk, langgraph-checkpoint, langgraph-prebuilt, langgraph\n",
            "Successfully installed langgraph-0.6.6 langgraph-checkpoint-2.1.1 langgraph-prebuilt-0.6.4 langgraph-sdk-0.2.4 ormsgpack-1.10.0\n",
            "Collecting opik\n",
            "  Downloading opik-1.8.37-py3-none-any.whl.metadata (35 kB)\n",
            "Collecting boto3-stubs>=1.34.110 (from boto3-stubs[bedrock-runtime]>=1.34.110->opik)\n",
            "  Downloading boto3_stubs-1.40.21-py3-none-any.whl.metadata (152 kB)\n",
            "\u001b[2K     \u001b[90m━━━━━━━━━━━━━━━━━━━━━━━━━━━━━━━━━━━━━━━\u001b[0m \u001b[32m152.5/152.5 kB\u001b[0m \u001b[31m3.7 MB/s\u001b[0m eta \u001b[36m0:00:00\u001b[0m\n",
            "\u001b[?25hRequirement already satisfied: click in /usr/local/lib/python3.12/dist-packages (from opik) (8.2.1)\n",
            "Requirement already satisfied: httpx in /usr/local/lib/python3.12/dist-packages (from opik) (0.28.1)\n",
            "Collecting rapidfuzz<4.0.0,>=3.0.0 (from opik)\n",
            "  Downloading rapidfuzz-3.14.0-cp312-cp312-manylinux_2_27_x86_64.manylinux_2_28_x86_64.whl.metadata (12 kB)\n",
            "Collecting litellm!=1.75.0,!=1.75.1,!=1.75.2,!=1.75.3,!=1.75.4,!=1.75.5 (from opik)\n",
            "  Downloading litellm-1.76.1-py3-none-any.whl.metadata (41 kB)\n",
            "\u001b[2K     \u001b[90m━━━━━━━━━━━━━━━━━━━━━━━━━━━━━━━━━━━━━━━━\u001b[0m \u001b[32m41.3/41.3 kB\u001b[0m \u001b[31m4.1 MB/s\u001b[0m eta \u001b[36m0:00:00\u001b[0m\n",
            "\u001b[?25hCollecting openai<1.100.0 (from opik)\n",
            "  Downloading openai-1.99.9-py3-none-any.whl.metadata (29 kB)\n",
            "Requirement already satisfied: pydantic-settings!=2.9.0,<3.0.0,>=2.0.0 in /usr/local/lib/python3.12/dist-packages (from opik) (2.10.1)\n",
            "Requirement already satisfied: pydantic<3.0.0,>=2.0.0 in /usr/local/lib/python3.12/dist-packages (from opik) (2.11.7)\n",
            "Requirement already satisfied: pytest in /usr/local/lib/python3.12/dist-packages (from opik) (8.4.1)\n",
            "Requirement already satisfied: rich in /usr/local/lib/python3.12/dist-packages (from opik) (13.9.4)\n",
            "Requirement already satisfied: sentry_sdk>=2.0.0 in /usr/local/lib/python3.12/dist-packages (from opik) (2.35.0)\n",
            "Requirement already satisfied: tenacity in /usr/local/lib/python3.12/dist-packages (from opik) (8.5.0)\n",
            "Requirement already satisfied: tqdm in /usr/local/lib/python3.12/dist-packages (from opik) (4.67.1)\n",
            "Collecting uuid6 (from opik)\n",
            "  Downloading uuid6-2025.0.1-py3-none-any.whl.metadata (10 kB)\n",
            "Requirement already satisfied: jinja2 in /usr/local/lib/python3.12/dist-packages (from opik) (3.1.6)\n",
            "Collecting botocore-stubs (from boto3-stubs>=1.34.110->boto3-stubs[bedrock-runtime]>=1.34.110->opik)\n",
            "  Downloading botocore_stubs-1.40.21-py3-none-any.whl.metadata (4.6 kB)\n",
            "Collecting types-s3transfer (from boto3-stubs>=1.34.110->boto3-stubs[bedrock-runtime]>=1.34.110->opik)\n",
            "  Downloading types_s3transfer-0.13.1-py3-none-any.whl.metadata (5.0 kB)\n",
            "Collecting mypy-boto3-bedrock-runtime<1.41.0,>=1.40.0 (from boto3-stubs[bedrock-runtime]>=1.34.110->opik)\n",
            "  Downloading mypy_boto3_bedrock_runtime-1.40.21-py3-none-any.whl.metadata (15 kB)\n",
            "Requirement already satisfied: aiohttp>=3.10 in /usr/local/lib/python3.12/dist-packages (from litellm!=1.75.0,!=1.75.1,!=1.75.2,!=1.75.3,!=1.75.4,!=1.75.5->opik) (3.12.15)\n",
            "Collecting fastuuid>=0.12.0 (from litellm!=1.75.0,!=1.75.1,!=1.75.2,!=1.75.3,!=1.75.4,!=1.75.5->opik)\n",
            "  Downloading fastuuid-0.12.0-cp312-cp312-manylinux_2_34_x86_64.whl.metadata (7.8 kB)\n",
            "Requirement already satisfied: importlib-metadata>=6.8.0 in /usr/local/lib/python3.12/dist-packages (from litellm!=1.75.0,!=1.75.1,!=1.75.2,!=1.75.3,!=1.75.4,!=1.75.5->opik) (8.7.0)\n",
            "Requirement already satisfied: jsonschema<5.0.0,>=4.22.0 in /usr/local/lib/python3.12/dist-packages (from litellm!=1.75.0,!=1.75.1,!=1.75.2,!=1.75.3,!=1.75.4,!=1.75.5->opik) (4.25.1)\n",
            "Requirement already satisfied: python-dotenv>=0.2.0 in /usr/local/lib/python3.12/dist-packages (from litellm!=1.75.0,!=1.75.1,!=1.75.2,!=1.75.3,!=1.75.4,!=1.75.5->opik) (1.1.1)\n",
            "Requirement already satisfied: tiktoken>=0.7.0 in /usr/local/lib/python3.12/dist-packages (from litellm!=1.75.0,!=1.75.1,!=1.75.2,!=1.75.3,!=1.75.4,!=1.75.5->opik) (0.11.0)\n",
            "Requirement already satisfied: tokenizers in /usr/local/lib/python3.12/dist-packages (from litellm!=1.75.0,!=1.75.1,!=1.75.2,!=1.75.3,!=1.75.4,!=1.75.5->opik) (0.21.4)\n",
            "Requirement already satisfied: anyio in /usr/local/lib/python3.12/dist-packages (from httpx->opik) (4.10.0)\n",
            "Requirement already satisfied: certifi in /usr/local/lib/python3.12/dist-packages (from httpx->opik) (2025.8.3)\n",
            "Requirement already satisfied: httpcore==1.* in /usr/local/lib/python3.12/dist-packages (from httpx->opik) (1.0.9)\n",
            "Requirement already satisfied: idna in /usr/local/lib/python3.12/dist-packages (from httpx->opik) (3.10)\n",
            "Requirement already satisfied: h11>=0.16 in /usr/local/lib/python3.12/dist-packages (from httpcore==1.*->httpx->opik) (0.16.0)\n",
            "Requirement already satisfied: MarkupSafe>=2.0 in /usr/local/lib/python3.12/dist-packages (from jinja2->opik) (3.0.2)\n",
            "Requirement already satisfied: distro<2,>=1.7.0 in /usr/local/lib/python3.12/dist-packages (from openai<1.100.0->opik) (1.9.0)\n",
            "Requirement already satisfied: jiter<1,>=0.4.0 in /usr/local/lib/python3.12/dist-packages (from openai<1.100.0->opik) (0.10.0)\n",
            "Requirement already satisfied: sniffio in /usr/local/lib/python3.12/dist-packages (from openai<1.100.0->opik) (1.3.1)\n",
            "Requirement already satisfied: typing-extensions<5,>=4.11 in /usr/local/lib/python3.12/dist-packages (from openai<1.100.0->opik) (4.15.0)\n",
            "Requirement already satisfied: annotated-types>=0.6.0 in /usr/local/lib/python3.12/dist-packages (from pydantic<3.0.0,>=2.0.0->opik) (0.7.0)\n",
            "Requirement already satisfied: pydantic-core==2.33.2 in /usr/local/lib/python3.12/dist-packages (from pydantic<3.0.0,>=2.0.0->opik) (2.33.2)\n",
            "Requirement already satisfied: typing-inspection>=0.4.0 in /usr/local/lib/python3.12/dist-packages (from pydantic<3.0.0,>=2.0.0->opik) (0.4.1)\n",
            "Requirement already satisfied: urllib3>=1.26.11 in /usr/local/lib/python3.12/dist-packages (from sentry_sdk>=2.0.0->opik) (2.5.0)\n",
            "Requirement already satisfied: iniconfig>=1 in /usr/local/lib/python3.12/dist-packages (from pytest->opik) (2.1.0)\n",
            "Requirement already satisfied: packaging>=20 in /usr/local/lib/python3.12/dist-packages (from pytest->opik) (25.0)\n",
            "Requirement already satisfied: pluggy<2,>=1.5 in /usr/local/lib/python3.12/dist-packages (from pytest->opik) (1.6.0)\n",
            "Requirement already satisfied: pygments>=2.7.2 in /usr/local/lib/python3.12/dist-packages (from pytest->opik) (2.19.2)\n",
            "Requirement already satisfied: markdown-it-py>=2.2.0 in /usr/local/lib/python3.12/dist-packages (from rich->opik) (4.0.0)\n",
            "Requirement already satisfied: aiohappyeyeballs>=2.5.0 in /usr/local/lib/python3.12/dist-packages (from aiohttp>=3.10->litellm!=1.75.0,!=1.75.1,!=1.75.2,!=1.75.3,!=1.75.4,!=1.75.5->opik) (2.6.1)\n",
            "Requirement already satisfied: aiosignal>=1.4.0 in /usr/local/lib/python3.12/dist-packages (from aiohttp>=3.10->litellm!=1.75.0,!=1.75.1,!=1.75.2,!=1.75.3,!=1.75.4,!=1.75.5->opik) (1.4.0)\n",
            "Requirement already satisfied: attrs>=17.3.0 in /usr/local/lib/python3.12/dist-packages (from aiohttp>=3.10->litellm!=1.75.0,!=1.75.1,!=1.75.2,!=1.75.3,!=1.75.4,!=1.75.5->opik) (25.3.0)\n",
            "Requirement already satisfied: frozenlist>=1.1.1 in /usr/local/lib/python3.12/dist-packages (from aiohttp>=3.10->litellm!=1.75.0,!=1.75.1,!=1.75.2,!=1.75.3,!=1.75.4,!=1.75.5->opik) (1.7.0)\n",
            "Requirement already satisfied: multidict<7.0,>=4.5 in /usr/local/lib/python3.12/dist-packages (from aiohttp>=3.10->litellm!=1.75.0,!=1.75.1,!=1.75.2,!=1.75.3,!=1.75.4,!=1.75.5->opik) (6.6.4)\n",
            "Requirement already satisfied: propcache>=0.2.0 in /usr/local/lib/python3.12/dist-packages (from aiohttp>=3.10->litellm!=1.75.0,!=1.75.1,!=1.75.2,!=1.75.3,!=1.75.4,!=1.75.5->opik) (0.3.2)\n",
            "Requirement already satisfied: yarl<2.0,>=1.17.0 in /usr/local/lib/python3.12/dist-packages (from aiohttp>=3.10->litellm!=1.75.0,!=1.75.1,!=1.75.2,!=1.75.3,!=1.75.4,!=1.75.5->opik) (1.20.1)\n",
            "Requirement already satisfied: zipp>=3.20 in /usr/local/lib/python3.12/dist-packages (from importlib-metadata>=6.8.0->litellm!=1.75.0,!=1.75.1,!=1.75.2,!=1.75.3,!=1.75.4,!=1.75.5->opik) (3.23.0)\n",
            "Requirement already satisfied: jsonschema-specifications>=2023.03.6 in /usr/local/lib/python3.12/dist-packages (from jsonschema<5.0.0,>=4.22.0->litellm!=1.75.0,!=1.75.1,!=1.75.2,!=1.75.3,!=1.75.4,!=1.75.5->opik) (2025.4.1)\n",
            "Requirement already satisfied: referencing>=0.28.4 in /usr/local/lib/python3.12/dist-packages (from jsonschema<5.0.0,>=4.22.0->litellm!=1.75.0,!=1.75.1,!=1.75.2,!=1.75.3,!=1.75.4,!=1.75.5->opik) (0.36.2)\n",
            "Requirement already satisfied: rpds-py>=0.7.1 in /usr/local/lib/python3.12/dist-packages (from jsonschema<5.0.0,>=4.22.0->litellm!=1.75.0,!=1.75.1,!=1.75.2,!=1.75.3,!=1.75.4,!=1.75.5->opik) (0.27.0)\n",
            "Requirement already satisfied: mdurl~=0.1 in /usr/local/lib/python3.12/dist-packages (from markdown-it-py>=2.2.0->rich->opik) (0.1.2)\n",
            "Requirement already satisfied: regex>=2022.1.18 in /usr/local/lib/python3.12/dist-packages (from tiktoken>=0.7.0->litellm!=1.75.0,!=1.75.1,!=1.75.2,!=1.75.3,!=1.75.4,!=1.75.5->opik) (2024.11.6)\n",
            "Requirement already satisfied: requests>=2.26.0 in /usr/local/lib/python3.12/dist-packages (from tiktoken>=0.7.0->litellm!=1.75.0,!=1.75.1,!=1.75.2,!=1.75.3,!=1.75.4,!=1.75.5->opik) (2.32.4)\n",
            "Collecting types-awscrt (from botocore-stubs->boto3-stubs>=1.34.110->boto3-stubs[bedrock-runtime]>=1.34.110->opik)\n",
            "  Downloading types_awscrt-0.27.6-py3-none-any.whl.metadata (4.9 kB)\n",
            "Requirement already satisfied: huggingface-hub<1.0,>=0.16.4 in /usr/local/lib/python3.12/dist-packages (from tokenizers->litellm!=1.75.0,!=1.75.1,!=1.75.2,!=1.75.3,!=1.75.4,!=1.75.5->opik) (0.34.4)\n",
            "Requirement already satisfied: filelock in /usr/local/lib/python3.12/dist-packages (from huggingface-hub<1.0,>=0.16.4->tokenizers->litellm!=1.75.0,!=1.75.1,!=1.75.2,!=1.75.3,!=1.75.4,!=1.75.5->opik) (3.19.1)\n",
            "Requirement already satisfied: fsspec>=2023.5.0 in /usr/local/lib/python3.12/dist-packages (from huggingface-hub<1.0,>=0.16.4->tokenizers->litellm!=1.75.0,!=1.75.1,!=1.75.2,!=1.75.3,!=1.75.4,!=1.75.5->opik) (2025.3.0)\n",
            "Requirement already satisfied: pyyaml>=5.1 in /usr/local/lib/python3.12/dist-packages (from huggingface-hub<1.0,>=0.16.4->tokenizers->litellm!=1.75.0,!=1.75.1,!=1.75.2,!=1.75.3,!=1.75.4,!=1.75.5->opik) (6.0.2)\n",
            "Requirement already satisfied: hf-xet<2.0.0,>=1.1.3 in /usr/local/lib/python3.12/dist-packages (from huggingface-hub<1.0,>=0.16.4->tokenizers->litellm!=1.75.0,!=1.75.1,!=1.75.2,!=1.75.3,!=1.75.4,!=1.75.5->opik) (1.1.8)\n",
            "Requirement already satisfied: charset_normalizer<4,>=2 in /usr/local/lib/python3.12/dist-packages (from requests>=2.26.0->tiktoken>=0.7.0->litellm!=1.75.0,!=1.75.1,!=1.75.2,!=1.75.3,!=1.75.4,!=1.75.5->opik) (3.4.3)\n",
            "Downloading opik-1.8.37-py3-none-any.whl (684 kB)\n",
            "\u001b[2K   \u001b[90m━━━━━━━━━━━━━━━━━━━━━━━━━━━━━━━━━━━━━━━━\u001b[0m \u001b[32m684.7/684.7 kB\u001b[0m \u001b[31m16.4 MB/s\u001b[0m eta \u001b[36m0:00:00\u001b[0m\n",
            "\u001b[?25hDownloading boto3_stubs-1.40.21-py3-none-any.whl (69 kB)\n",
            "\u001b[2K   \u001b[90m━━━━━━━━━━━━━━━━━━━━━━━━━━━━━━━━━━━━━━━━\u001b[0m \u001b[32m69.8/69.8 kB\u001b[0m \u001b[31m7.2 MB/s\u001b[0m eta \u001b[36m0:00:00\u001b[0m\n",
            "\u001b[?25hDownloading litellm-1.76.1-py3-none-any.whl (9.0 MB)\n",
            "\u001b[2K   \u001b[90m━━━━━━━━━━━━━━━━━━━━━━━━━━━━━━━━━━━━━━━━\u001b[0m \u001b[32m9.0/9.0 MB\u001b[0m \u001b[31m89.9 MB/s\u001b[0m eta \u001b[36m0:00:00\u001b[0m\n",
            "\u001b[?25hDownloading openai-1.99.9-py3-none-any.whl (786 kB)\n",
            "\u001b[2K   \u001b[90m━━━━━━━━━━━━━━━━━━━━━━━━━━━━━━━━━━━━━━━━\u001b[0m \u001b[32m786.8/786.8 kB\u001b[0m \u001b[31m56.6 MB/s\u001b[0m eta \u001b[36m0:00:00\u001b[0m\n",
            "\u001b[?25hDownloading rapidfuzz-3.14.0-cp312-cp312-manylinux_2_27_x86_64.manylinux_2_28_x86_64.whl (3.3 MB)\n",
            "\u001b[2K   \u001b[90m━━━━━━━━━━━━━━━━━━━━━━━━━━━━━━━━━━━━━━━━\u001b[0m \u001b[32m3.3/3.3 MB\u001b[0m \u001b[31m83.4 MB/s\u001b[0m eta \u001b[36m0:00:00\u001b[0m\n",
            "\u001b[?25hDownloading uuid6-2025.0.1-py3-none-any.whl (7.0 kB)\n",
            "Downloading fastuuid-0.12.0-cp312-cp312-manylinux_2_34_x86_64.whl (278 kB)\n",
            "\u001b[2K   \u001b[90m━━━━━━━━━━━━━━━━━━━━━━━━━━━━━━━━━━━━━━━━\u001b[0m \u001b[32m278.4/278.4 kB\u001b[0m \u001b[31m27.1 MB/s\u001b[0m eta \u001b[36m0:00:00\u001b[0m\n",
            "\u001b[?25hDownloading mypy_boto3_bedrock_runtime-1.40.21-py3-none-any.whl (34 kB)\n",
            "Downloading botocore_stubs-1.40.21-py3-none-any.whl (66 kB)\n",
            "\u001b[2K   \u001b[90m━━━━━━━━━━━━━━━━━━━━━━━━━━━━━━━━━━━━━━━━\u001b[0m \u001b[32m66.8/66.8 kB\u001b[0m \u001b[31m7.1 MB/s\u001b[0m eta \u001b[36m0:00:00\u001b[0m\n",
            "\u001b[?25hDownloading types_s3transfer-0.13.1-py3-none-any.whl (19 kB)\n",
            "Downloading types_awscrt-0.27.6-py3-none-any.whl (39 kB)\n",
            "Installing collected packages: uuid6, types-s3transfer, types-awscrt, rapidfuzz, mypy-boto3-bedrock-runtime, fastuuid, botocore-stubs, openai, boto3-stubs, litellm, opik\n",
            "  Attempting uninstall: openai\n",
            "    Found existing installation: openai 1.101.0\n",
            "    Uninstalling openai-1.101.0:\n",
            "      Successfully uninstalled openai-1.101.0\n",
            "Successfully installed boto3-stubs-1.40.21 botocore-stubs-1.40.21 fastuuid-0.12.0 litellm-1.76.1 mypy-boto3-bedrock-runtime-1.40.21 openai-1.99.9 opik-1.8.37 rapidfuzz-3.14.0 types-awscrt-0.27.6 types-s3transfer-0.13.1 uuid6-2025.0.1\n",
            "Collecting fastembed\n",
            "  Downloading fastembed-0.7.3-py3-none-any.whl.metadata (10 kB)\n",
            "Collecting langchain-qdrant\n",
            "  Downloading langchain_qdrant-0.2.0-py3-none-any.whl.metadata (1.8 kB)\n",
            "Requirement already satisfied: huggingface-hub<1.0,>=0.20 in /usr/local/lib/python3.12/dist-packages (from fastembed) (0.34.4)\n",
            "Collecting loguru<0.8.0,>=0.7.2 (from fastembed)\n",
            "  Downloading loguru-0.7.3-py3-none-any.whl.metadata (22 kB)\n",
            "Collecting mmh3<6.0.0,>=4.1.0 (from fastembed)\n",
            "  Downloading mmh3-5.2.0-cp312-cp312-manylinux1_x86_64.manylinux_2_28_x86_64.manylinux_2_5_x86_64.whl.metadata (14 kB)\n",
            "Requirement already satisfied: numpy>=1.26 in /usr/local/lib/python3.12/dist-packages (from fastembed) (2.0.2)\n",
            "Collecting onnxruntime!=1.20.0,>=1.17.0 (from fastembed)\n",
            "  Downloading onnxruntime-1.22.1-cp312-cp312-manylinux_2_27_x86_64.manylinux_2_28_x86_64.whl.metadata (4.9 kB)\n",
            "Requirement already satisfied: pillow<12.0.0,>=10.3.0 in /usr/local/lib/python3.12/dist-packages (from fastembed) (11.3.0)\n",
            "Collecting py-rust-stemmers<0.2.0,>=0.1.0 (from fastembed)\n",
            "  Downloading py_rust_stemmers-0.1.5-cp312-cp312-manylinux_2_28_x86_64.whl.metadata (3.4 kB)\n",
            "Requirement already satisfied: requests<3.0,>=2.31 in /usr/local/lib/python3.12/dist-packages (from fastembed) (2.32.4)\n",
            "Requirement already satisfied: tokenizers<1.0,>=0.15 in /usr/local/lib/python3.12/dist-packages (from fastembed) (0.21.4)\n",
            "Requirement already satisfied: tqdm<5.0,>=4.66 in /usr/local/lib/python3.12/dist-packages (from fastembed) (4.67.1)\n",
            "Requirement already satisfied: langchain-core!=0.3.0,!=0.3.1,!=0.3.10,!=0.3.11,!=0.3.12,!=0.3.13,!=0.3.14,!=0.3.2,!=0.3.3,!=0.3.4,!=0.3.5,!=0.3.6,!=0.3.7,!=0.3.8,!=0.3.9,<0.4.0,>=0.2.43 in /usr/local/lib/python3.12/dist-packages (from langchain-qdrant) (0.3.74)\n",
            "Requirement already satisfied: pydantic<3.0.0,>=2.7.4 in /usr/local/lib/python3.12/dist-packages (from langchain-qdrant) (2.11.7)\n",
            "Collecting qdrant-client<2.0.0,>=1.10.1 (from langchain-qdrant)\n",
            "  Downloading qdrant_client-1.15.1-py3-none-any.whl.metadata (11 kB)\n",
            "Requirement already satisfied: filelock in /usr/local/lib/python3.12/dist-packages (from huggingface-hub<1.0,>=0.20->fastembed) (3.19.1)\n",
            "Requirement already satisfied: fsspec>=2023.5.0 in /usr/local/lib/python3.12/dist-packages (from huggingface-hub<1.0,>=0.20->fastembed) (2025.3.0)\n",
            "Requirement already satisfied: packaging>=20.9 in /usr/local/lib/python3.12/dist-packages (from huggingface-hub<1.0,>=0.20->fastembed) (25.0)\n",
            "Requirement already satisfied: pyyaml>=5.1 in /usr/local/lib/python3.12/dist-packages (from huggingface-hub<1.0,>=0.20->fastembed) (6.0.2)\n",
            "Requirement already satisfied: typing-extensions>=3.7.4.3 in /usr/local/lib/python3.12/dist-packages (from huggingface-hub<1.0,>=0.20->fastembed) (4.15.0)\n",
            "Requirement already satisfied: hf-xet<2.0.0,>=1.1.3 in /usr/local/lib/python3.12/dist-packages (from huggingface-hub<1.0,>=0.20->fastembed) (1.1.8)\n",
            "Requirement already satisfied: langsmith>=0.3.45 in /usr/local/lib/python3.12/dist-packages (from langchain-core!=0.3.0,!=0.3.1,!=0.3.10,!=0.3.11,!=0.3.12,!=0.3.13,!=0.3.14,!=0.3.2,!=0.3.3,!=0.3.4,!=0.3.5,!=0.3.6,!=0.3.7,!=0.3.8,!=0.3.9,<0.4.0,>=0.2.43->langchain-qdrant) (0.4.16)\n",
            "Requirement already satisfied: tenacity!=8.4.0,<10.0.0,>=8.1.0 in /usr/local/lib/python3.12/dist-packages (from langchain-core!=0.3.0,!=0.3.1,!=0.3.10,!=0.3.11,!=0.3.12,!=0.3.13,!=0.3.14,!=0.3.2,!=0.3.3,!=0.3.4,!=0.3.5,!=0.3.6,!=0.3.7,!=0.3.8,!=0.3.9,<0.4.0,>=0.2.43->langchain-qdrant) (8.5.0)\n",
            "Requirement already satisfied: jsonpatch<2.0,>=1.33 in /usr/local/lib/python3.12/dist-packages (from langchain-core!=0.3.0,!=0.3.1,!=0.3.10,!=0.3.11,!=0.3.12,!=0.3.13,!=0.3.14,!=0.3.2,!=0.3.3,!=0.3.4,!=0.3.5,!=0.3.6,!=0.3.7,!=0.3.8,!=0.3.9,<0.4.0,>=0.2.43->langchain-qdrant) (1.33)\n",
            "Collecting coloredlogs (from onnxruntime!=1.20.0,>=1.17.0->fastembed)\n",
            "  Downloading coloredlogs-15.0.1-py2.py3-none-any.whl.metadata (12 kB)\n",
            "Requirement already satisfied: flatbuffers in /usr/local/lib/python3.12/dist-packages (from onnxruntime!=1.20.0,>=1.17.0->fastembed) (25.2.10)\n",
            "Requirement already satisfied: protobuf in /usr/local/lib/python3.12/dist-packages (from onnxruntime!=1.20.0,>=1.17.0->fastembed) (5.29.5)\n",
            "Requirement already satisfied: sympy in /usr/local/lib/python3.12/dist-packages (from onnxruntime!=1.20.0,>=1.17.0->fastembed) (1.13.3)\n",
            "Requirement already satisfied: annotated-types>=0.6.0 in /usr/local/lib/python3.12/dist-packages (from pydantic<3.0.0,>=2.7.4->langchain-qdrant) (0.7.0)\n",
            "Requirement already satisfied: pydantic-core==2.33.2 in /usr/local/lib/python3.12/dist-packages (from pydantic<3.0.0,>=2.7.4->langchain-qdrant) (2.33.2)\n",
            "Requirement already satisfied: typing-inspection>=0.4.0 in /usr/local/lib/python3.12/dist-packages (from pydantic<3.0.0,>=2.7.4->langchain-qdrant) (0.4.1)\n",
            "Requirement already satisfied: grpcio>=1.41.0 in /usr/local/lib/python3.12/dist-packages (from qdrant-client<2.0.0,>=1.10.1->langchain-qdrant) (1.74.0)\n",
            "Requirement already satisfied: httpx>=0.20.0 in /usr/local/lib/python3.12/dist-packages (from httpx[http2]>=0.20.0->qdrant-client<2.0.0,>=1.10.1->langchain-qdrant) (0.28.1)\n",
            "Collecting portalocker<4.0,>=2.7.0 (from qdrant-client<2.0.0,>=1.10.1->langchain-qdrant)\n",
            "  Downloading portalocker-3.2.0-py3-none-any.whl.metadata (8.7 kB)\n",
            "Requirement already satisfied: urllib3<3,>=1.26.14 in /usr/local/lib/python3.12/dist-packages (from qdrant-client<2.0.0,>=1.10.1->langchain-qdrant) (2.5.0)\n",
            "Requirement already satisfied: charset_normalizer<4,>=2 in /usr/local/lib/python3.12/dist-packages (from requests<3.0,>=2.31->fastembed) (3.4.3)\n",
            "Requirement already satisfied: idna<4,>=2.5 in /usr/local/lib/python3.12/dist-packages (from requests<3.0,>=2.31->fastembed) (3.10)\n",
            "Requirement already satisfied: certifi>=2017.4.17 in /usr/local/lib/python3.12/dist-packages (from requests<3.0,>=2.31->fastembed) (2025.8.3)\n",
            "Requirement already satisfied: anyio in /usr/local/lib/python3.12/dist-packages (from httpx>=0.20.0->httpx[http2]>=0.20.0->qdrant-client<2.0.0,>=1.10.1->langchain-qdrant) (4.10.0)\n",
            "Requirement already satisfied: httpcore==1.* in /usr/local/lib/python3.12/dist-packages (from httpx>=0.20.0->httpx[http2]>=0.20.0->qdrant-client<2.0.0,>=1.10.1->langchain-qdrant) (1.0.9)\n",
            "Requirement already satisfied: h11>=0.16 in /usr/local/lib/python3.12/dist-packages (from httpcore==1.*->httpx>=0.20.0->httpx[http2]>=0.20.0->qdrant-client<2.0.0,>=1.10.1->langchain-qdrant) (0.16.0)\n",
            "Requirement already satisfied: h2<5,>=3 in /usr/local/lib/python3.12/dist-packages (from httpx[http2]>=0.20.0->qdrant-client<2.0.0,>=1.10.1->langchain-qdrant) (4.3.0)\n",
            "Requirement already satisfied: jsonpointer>=1.9 in /usr/local/lib/python3.12/dist-packages (from jsonpatch<2.0,>=1.33->langchain-core!=0.3.0,!=0.3.1,!=0.3.10,!=0.3.11,!=0.3.12,!=0.3.13,!=0.3.14,!=0.3.2,!=0.3.3,!=0.3.4,!=0.3.5,!=0.3.6,!=0.3.7,!=0.3.8,!=0.3.9,<0.4.0,>=0.2.43->langchain-qdrant) (3.0.0)\n",
            "Requirement already satisfied: orjson>=3.9.14 in /usr/local/lib/python3.12/dist-packages (from langsmith>=0.3.45->langchain-core!=0.3.0,!=0.3.1,!=0.3.10,!=0.3.11,!=0.3.12,!=0.3.13,!=0.3.14,!=0.3.2,!=0.3.3,!=0.3.4,!=0.3.5,!=0.3.6,!=0.3.7,!=0.3.8,!=0.3.9,<0.4.0,>=0.2.43->langchain-qdrant) (3.11.2)\n",
            "Requirement already satisfied: requests-toolbelt>=1.0.0 in /usr/local/lib/python3.12/dist-packages (from langsmith>=0.3.45->langchain-core!=0.3.0,!=0.3.1,!=0.3.10,!=0.3.11,!=0.3.12,!=0.3.13,!=0.3.14,!=0.3.2,!=0.3.3,!=0.3.4,!=0.3.5,!=0.3.6,!=0.3.7,!=0.3.8,!=0.3.9,<0.4.0,>=0.2.43->langchain-qdrant) (1.0.0)\n",
            "Requirement already satisfied: zstandard>=0.23.0 in /usr/local/lib/python3.12/dist-packages (from langsmith>=0.3.45->langchain-core!=0.3.0,!=0.3.1,!=0.3.10,!=0.3.11,!=0.3.12,!=0.3.13,!=0.3.14,!=0.3.2,!=0.3.3,!=0.3.4,!=0.3.5,!=0.3.6,!=0.3.7,!=0.3.8,!=0.3.9,<0.4.0,>=0.2.43->langchain-qdrant) (0.24.0)\n",
            "Collecting humanfriendly>=9.1 (from coloredlogs->onnxruntime!=1.20.0,>=1.17.0->fastembed)\n",
            "  Downloading humanfriendly-10.0-py2.py3-none-any.whl.metadata (9.2 kB)\n",
            "Requirement already satisfied: mpmath<1.4,>=1.1.0 in /usr/local/lib/python3.12/dist-packages (from sympy->onnxruntime!=1.20.0,>=1.17.0->fastembed) (1.3.0)\n",
            "Requirement already satisfied: hyperframe<7,>=6.1 in /usr/local/lib/python3.12/dist-packages (from h2<5,>=3->httpx[http2]>=0.20.0->qdrant-client<2.0.0,>=1.10.1->langchain-qdrant) (6.1.0)\n",
            "Requirement already satisfied: hpack<5,>=4.1 in /usr/local/lib/python3.12/dist-packages (from h2<5,>=3->httpx[http2]>=0.20.0->qdrant-client<2.0.0,>=1.10.1->langchain-qdrant) (4.1.0)\n",
            "Requirement already satisfied: sniffio>=1.1 in /usr/local/lib/python3.12/dist-packages (from anyio->httpx>=0.20.0->httpx[http2]>=0.20.0->qdrant-client<2.0.0,>=1.10.1->langchain-qdrant) (1.3.1)\n",
            "Downloading fastembed-0.7.3-py3-none-any.whl (105 kB)\n",
            "\u001b[2K   \u001b[90m━━━━━━━━━━━━━━━━━━━━━━━━━━━━━━━━━━━━━━━━\u001b[0m \u001b[32m105.3/105.3 kB\u001b[0m \u001b[31m3.8 MB/s\u001b[0m eta \u001b[36m0:00:00\u001b[0m\n",
            "\u001b[?25hDownloading langchain_qdrant-0.2.0-py3-none-any.whl (23 kB)\n",
            "Downloading loguru-0.7.3-py3-none-any.whl (61 kB)\n",
            "\u001b[2K   \u001b[90m━━━━━━━━━━━━━━━━━━━━━━━━━━━━━━━━━━━━━━━━\u001b[0m \u001b[32m61.6/61.6 kB\u001b[0m \u001b[31m6.6 MB/s\u001b[0m eta \u001b[36m0:00:00\u001b[0m\n",
            "\u001b[?25hDownloading mmh3-5.2.0-cp312-cp312-manylinux1_x86_64.manylinux_2_28_x86_64.manylinux_2_5_x86_64.whl (103 kB)\n",
            "\u001b[2K   \u001b[90m━━━━━━━━━━━━━━━━━━━━━━━━━━━━━━━━━━━━━━━━\u001b[0m \u001b[32m103.3/103.3 kB\u001b[0m \u001b[31m11.5 MB/s\u001b[0m eta \u001b[36m0:00:00\u001b[0m\n",
            "\u001b[?25hDownloading onnxruntime-1.22.1-cp312-cp312-manylinux_2_27_x86_64.manylinux_2_28_x86_64.whl (16.5 MB)\n",
            "\u001b[2K   \u001b[90m━━━━━━━━━━━━━━━━━━━━━━━━━━━━━━━━━━━━━━━━\u001b[0m \u001b[32m16.5/16.5 MB\u001b[0m \u001b[31m70.2 MB/s\u001b[0m eta \u001b[36m0:00:00\u001b[0m\n",
            "\u001b[?25hDownloading py_rust_stemmers-0.1.5-cp312-cp312-manylinux_2_28_x86_64.whl (324 kB)\n",
            "\u001b[2K   \u001b[90m━━━━━━━━━━━━━━━━━━━━━━━━━━━━━━━━━━━━━━━━\u001b[0m \u001b[32m324.8/324.8 kB\u001b[0m \u001b[31m32.3 MB/s\u001b[0m eta \u001b[36m0:00:00\u001b[0m\n",
            "\u001b[?25hDownloading qdrant_client-1.15.1-py3-none-any.whl (337 kB)\n",
            "\u001b[2K   \u001b[90m━━━━━━━━━━━━━━━━━━━━━━━━━━━━━━━━━━━━━━━━\u001b[0m \u001b[32m337.3/337.3 kB\u001b[0m \u001b[31m31.6 MB/s\u001b[0m eta \u001b[36m0:00:00\u001b[0m\n",
            "\u001b[?25hDownloading portalocker-3.2.0-py3-none-any.whl (22 kB)\n",
            "Downloading coloredlogs-15.0.1-py2.py3-none-any.whl (46 kB)\n",
            "\u001b[2K   \u001b[90m━━━━━━━━━━━━━━━━━━━━━━━━━━━━━━━━━━━━━━━━\u001b[0m \u001b[32m46.0/46.0 kB\u001b[0m \u001b[31m4.5 MB/s\u001b[0m eta \u001b[36m0:00:00\u001b[0m\n",
            "\u001b[?25hDownloading humanfriendly-10.0-py2.py3-none-any.whl (86 kB)\n",
            "\u001b[2K   \u001b[90m━━━━━━━━━━━━━━━━━━━━━━━━━━━━━━━━━━━━━━━━\u001b[0m \u001b[32m86.8/86.8 kB\u001b[0m \u001b[31m9.2 MB/s\u001b[0m eta \u001b[36m0:00:00\u001b[0m\n",
            "\u001b[?25hInstalling collected packages: py-rust-stemmers, portalocker, mmh3, loguru, humanfriendly, coloredlogs, onnxruntime, qdrant-client, fastembed, langchain-qdrant\n",
            "Successfully installed coloredlogs-15.0.1 fastembed-0.7.3 humanfriendly-10.0 langchain-qdrant-0.2.0 loguru-0.7.3 mmh3-5.2.0 onnxruntime-1.22.1 portalocker-3.2.0 py-rust-stemmers-0.1.5 qdrant-client-1.15.1\n",
            "Collecting langchain-google-genai\n",
            "  Downloading langchain_google_genai-2.1.10-py3-none-any.whl.metadata (7.2 kB)\n",
            "Collecting filetype<2.0.0,>=1.2.0 (from langchain-google-genai)\n",
            "  Downloading filetype-1.2.0-py2.py3-none-any.whl.metadata (6.5 kB)\n",
            "Collecting google-ai-generativelanguage<0.7.0,>=0.6.18 (from langchain-google-genai)\n",
            "  Downloading google_ai_generativelanguage-0.6.18-py3-none-any.whl.metadata (9.8 kB)\n",
            "Collecting langchain-core<0.4.0,>=0.3.75 (from langchain-google-genai)\n",
            "  Downloading langchain_core-0.3.75-py3-none-any.whl.metadata (5.7 kB)\n",
            "Requirement already satisfied: pydantic<3,>=2 in /usr/local/lib/python3.12/dist-packages (from langchain-google-genai) (2.11.7)\n",
            "Requirement already satisfied: google-api-core!=2.0.*,!=2.1.*,!=2.10.*,!=2.2.*,!=2.3.*,!=2.4.*,!=2.5.*,!=2.6.*,!=2.7.*,!=2.8.*,!=2.9.*,<3.0.0,>=1.34.1 in /usr/local/lib/python3.12/dist-packages (from google-api-core[grpc]!=2.0.*,!=2.1.*,!=2.10.*,!=2.2.*,!=2.3.*,!=2.4.*,!=2.5.*,!=2.6.*,!=2.7.*,!=2.8.*,!=2.9.*,<3.0.0,>=1.34.1->google-ai-generativelanguage<0.7.0,>=0.6.18->langchain-google-genai) (2.25.1)\n",
            "Requirement already satisfied: google-auth!=2.24.0,!=2.25.0,<3.0.0,>=2.14.1 in /usr/local/lib/python3.12/dist-packages (from google-ai-generativelanguage<0.7.0,>=0.6.18->langchain-google-genai) (2.38.0)\n",
            "Requirement already satisfied: proto-plus<2.0.0,>=1.22.3 in /usr/local/lib/python3.12/dist-packages (from google-ai-generativelanguage<0.7.0,>=0.6.18->langchain-google-genai) (1.26.1)\n",
            "Requirement already satisfied: protobuf!=4.21.0,!=4.21.1,!=4.21.2,!=4.21.3,!=4.21.4,!=4.21.5,<7.0.0,>=3.20.2 in /usr/local/lib/python3.12/dist-packages (from google-ai-generativelanguage<0.7.0,>=0.6.18->langchain-google-genai) (5.29.5)\n",
            "Requirement already satisfied: langsmith>=0.3.45 in /usr/local/lib/python3.12/dist-packages (from langchain-core<0.4.0,>=0.3.75->langchain-google-genai) (0.4.16)\n",
            "Requirement already satisfied: tenacity!=8.4.0,<10.0.0,>=8.1.0 in /usr/local/lib/python3.12/dist-packages (from langchain-core<0.4.0,>=0.3.75->langchain-google-genai) (8.5.0)\n",
            "Requirement already satisfied: jsonpatch<2.0,>=1.33 in /usr/local/lib/python3.12/dist-packages (from langchain-core<0.4.0,>=0.3.75->langchain-google-genai) (1.33)\n",
            "Requirement already satisfied: PyYAML>=5.3 in /usr/local/lib/python3.12/dist-packages (from langchain-core<0.4.0,>=0.3.75->langchain-google-genai) (6.0.2)\n",
            "Requirement already satisfied: typing-extensions>=4.7 in /usr/local/lib/python3.12/dist-packages (from langchain-core<0.4.0,>=0.3.75->langchain-google-genai) (4.15.0)\n",
            "Requirement already satisfied: packaging>=23.2 in /usr/local/lib/python3.12/dist-packages (from langchain-core<0.4.0,>=0.3.75->langchain-google-genai) (25.0)\n",
            "Requirement already satisfied: annotated-types>=0.6.0 in /usr/local/lib/python3.12/dist-packages (from pydantic<3,>=2->langchain-google-genai) (0.7.0)\n",
            "Requirement already satisfied: pydantic-core==2.33.2 in /usr/local/lib/python3.12/dist-packages (from pydantic<3,>=2->langchain-google-genai) (2.33.2)\n",
            "Requirement already satisfied: typing-inspection>=0.4.0 in /usr/local/lib/python3.12/dist-packages (from pydantic<3,>=2->langchain-google-genai) (0.4.1)\n",
            "Requirement already satisfied: googleapis-common-protos<2.0.0,>=1.56.2 in /usr/local/lib/python3.12/dist-packages (from google-api-core!=2.0.*,!=2.1.*,!=2.10.*,!=2.2.*,!=2.3.*,!=2.4.*,!=2.5.*,!=2.6.*,!=2.7.*,!=2.8.*,!=2.9.*,<3.0.0,>=1.34.1->google-api-core[grpc]!=2.0.*,!=2.1.*,!=2.10.*,!=2.2.*,!=2.3.*,!=2.4.*,!=2.5.*,!=2.6.*,!=2.7.*,!=2.8.*,!=2.9.*,<3.0.0,>=1.34.1->google-ai-generativelanguage<0.7.0,>=0.6.18->langchain-google-genai) (1.70.0)\n",
            "Requirement already satisfied: requests<3.0.0,>=2.18.0 in /usr/local/lib/python3.12/dist-packages (from google-api-core!=2.0.*,!=2.1.*,!=2.10.*,!=2.2.*,!=2.3.*,!=2.4.*,!=2.5.*,!=2.6.*,!=2.7.*,!=2.8.*,!=2.9.*,<3.0.0,>=1.34.1->google-api-core[grpc]!=2.0.*,!=2.1.*,!=2.10.*,!=2.2.*,!=2.3.*,!=2.4.*,!=2.5.*,!=2.6.*,!=2.7.*,!=2.8.*,!=2.9.*,<3.0.0,>=1.34.1->google-ai-generativelanguage<0.7.0,>=0.6.18->langchain-google-genai) (2.32.4)\n",
            "Requirement already satisfied: grpcio<2.0.0,>=1.33.2 in /usr/local/lib/python3.12/dist-packages (from google-api-core[grpc]!=2.0.*,!=2.1.*,!=2.10.*,!=2.2.*,!=2.3.*,!=2.4.*,!=2.5.*,!=2.6.*,!=2.7.*,!=2.8.*,!=2.9.*,<3.0.0,>=1.34.1->google-ai-generativelanguage<0.7.0,>=0.6.18->langchain-google-genai) (1.74.0)\n",
            "Requirement already satisfied: grpcio-status<2.0.0,>=1.33.2 in /usr/local/lib/python3.12/dist-packages (from google-api-core[grpc]!=2.0.*,!=2.1.*,!=2.10.*,!=2.2.*,!=2.3.*,!=2.4.*,!=2.5.*,!=2.6.*,!=2.7.*,!=2.8.*,!=2.9.*,<3.0.0,>=1.34.1->google-ai-generativelanguage<0.7.0,>=0.6.18->langchain-google-genai) (1.71.2)\n",
            "Requirement already satisfied: cachetools<6.0,>=2.0.0 in /usr/local/lib/python3.12/dist-packages (from google-auth!=2.24.0,!=2.25.0,<3.0.0,>=2.14.1->google-ai-generativelanguage<0.7.0,>=0.6.18->langchain-google-genai) (5.5.2)\n",
            "Requirement already satisfied: pyasn1-modules>=0.2.1 in /usr/local/lib/python3.12/dist-packages (from google-auth!=2.24.0,!=2.25.0,<3.0.0,>=2.14.1->google-ai-generativelanguage<0.7.0,>=0.6.18->langchain-google-genai) (0.4.2)\n",
            "Requirement already satisfied: rsa<5,>=3.1.4 in /usr/local/lib/python3.12/dist-packages (from google-auth!=2.24.0,!=2.25.0,<3.0.0,>=2.14.1->google-ai-generativelanguage<0.7.0,>=0.6.18->langchain-google-genai) (4.9.1)\n",
            "Requirement already satisfied: jsonpointer>=1.9 in /usr/local/lib/python3.12/dist-packages (from jsonpatch<2.0,>=1.33->langchain-core<0.4.0,>=0.3.75->langchain-google-genai) (3.0.0)\n",
            "Requirement already satisfied: httpx<1,>=0.23.0 in /usr/local/lib/python3.12/dist-packages (from langsmith>=0.3.45->langchain-core<0.4.0,>=0.3.75->langchain-google-genai) (0.28.1)\n",
            "Requirement already satisfied: orjson>=3.9.14 in /usr/local/lib/python3.12/dist-packages (from langsmith>=0.3.45->langchain-core<0.4.0,>=0.3.75->langchain-google-genai) (3.11.2)\n",
            "Requirement already satisfied: requests-toolbelt>=1.0.0 in /usr/local/lib/python3.12/dist-packages (from langsmith>=0.3.45->langchain-core<0.4.0,>=0.3.75->langchain-google-genai) (1.0.0)\n",
            "Requirement already satisfied: zstandard>=0.23.0 in /usr/local/lib/python3.12/dist-packages (from langsmith>=0.3.45->langchain-core<0.4.0,>=0.3.75->langchain-google-genai) (0.24.0)\n",
            "Requirement already satisfied: anyio in /usr/local/lib/python3.12/dist-packages (from httpx<1,>=0.23.0->langsmith>=0.3.45->langchain-core<0.4.0,>=0.3.75->langchain-google-genai) (4.10.0)\n",
            "Requirement already satisfied: certifi in /usr/local/lib/python3.12/dist-packages (from httpx<1,>=0.23.0->langsmith>=0.3.45->langchain-core<0.4.0,>=0.3.75->langchain-google-genai) (2025.8.3)\n",
            "Requirement already satisfied: httpcore==1.* in /usr/local/lib/python3.12/dist-packages (from httpx<1,>=0.23.0->langsmith>=0.3.45->langchain-core<0.4.0,>=0.3.75->langchain-google-genai) (1.0.9)\n",
            "Requirement already satisfied: idna in /usr/local/lib/python3.12/dist-packages (from httpx<1,>=0.23.0->langsmith>=0.3.45->langchain-core<0.4.0,>=0.3.75->langchain-google-genai) (3.10)\n",
            "Requirement already satisfied: h11>=0.16 in /usr/local/lib/python3.12/dist-packages (from httpcore==1.*->httpx<1,>=0.23.0->langsmith>=0.3.45->langchain-core<0.4.0,>=0.3.75->langchain-google-genai) (0.16.0)\n",
            "Requirement already satisfied: pyasn1<0.7.0,>=0.6.1 in /usr/local/lib/python3.12/dist-packages (from pyasn1-modules>=0.2.1->google-auth!=2.24.0,!=2.25.0,<3.0.0,>=2.14.1->google-ai-generativelanguage<0.7.0,>=0.6.18->langchain-google-genai) (0.6.1)\n",
            "Requirement already satisfied: charset_normalizer<4,>=2 in /usr/local/lib/python3.12/dist-packages (from requests<3.0.0,>=2.18.0->google-api-core!=2.0.*,!=2.1.*,!=2.10.*,!=2.2.*,!=2.3.*,!=2.4.*,!=2.5.*,!=2.6.*,!=2.7.*,!=2.8.*,!=2.9.*,<3.0.0,>=1.34.1->google-api-core[grpc]!=2.0.*,!=2.1.*,!=2.10.*,!=2.2.*,!=2.3.*,!=2.4.*,!=2.5.*,!=2.6.*,!=2.7.*,!=2.8.*,!=2.9.*,<3.0.0,>=1.34.1->google-ai-generativelanguage<0.7.0,>=0.6.18->langchain-google-genai) (3.4.3)\n",
            "Requirement already satisfied: urllib3<3,>=1.21.1 in /usr/local/lib/python3.12/dist-packages (from requests<3.0.0,>=2.18.0->google-api-core!=2.0.*,!=2.1.*,!=2.10.*,!=2.2.*,!=2.3.*,!=2.4.*,!=2.5.*,!=2.6.*,!=2.7.*,!=2.8.*,!=2.9.*,<3.0.0,>=1.34.1->google-api-core[grpc]!=2.0.*,!=2.1.*,!=2.10.*,!=2.2.*,!=2.3.*,!=2.4.*,!=2.5.*,!=2.6.*,!=2.7.*,!=2.8.*,!=2.9.*,<3.0.0,>=1.34.1->google-ai-generativelanguage<0.7.0,>=0.6.18->langchain-google-genai) (2.5.0)\n",
            "Requirement already satisfied: sniffio>=1.1 in /usr/local/lib/python3.12/dist-packages (from anyio->httpx<1,>=0.23.0->langsmith>=0.3.45->langchain-core<0.4.0,>=0.3.75->langchain-google-genai) (1.3.1)\n",
            "Downloading langchain_google_genai-2.1.10-py3-none-any.whl (49 kB)\n",
            "\u001b[2K   \u001b[90m━━━━━━━━━━━━━━━━━━━━━━━━━━━━━━━━━━━━━━━━\u001b[0m \u001b[32m49.4/49.4 kB\u001b[0m \u001b[31m1.8 MB/s\u001b[0m eta \u001b[36m0:00:00\u001b[0m\n",
            "\u001b[?25hDownloading filetype-1.2.0-py2.py3-none-any.whl (19 kB)\n",
            "Downloading google_ai_generativelanguage-0.6.18-py3-none-any.whl (1.4 MB)\n",
            "\u001b[2K   \u001b[90m━━━━━━━━━━━━━━━━━━━━━━━━━━━━━━━━━━━━━━━━\u001b[0m \u001b[32m1.4/1.4 MB\u001b[0m \u001b[31m19.0 MB/s\u001b[0m eta \u001b[36m0:00:00\u001b[0m\n",
            "\u001b[?25hDownloading langchain_core-0.3.75-py3-none-any.whl (443 kB)\n",
            "\u001b[2K   \u001b[90m━━━━━━━━━━━━━━━━━━━━━━━━━━━━━━━━━━━━━━━━\u001b[0m \u001b[32m444.0/444.0 kB\u001b[0m \u001b[31m35.8 MB/s\u001b[0m eta \u001b[36m0:00:00\u001b[0m\n",
            "\u001b[?25hInstalling collected packages: filetype, langchain-core, google-ai-generativelanguage, langchain-google-genai\n",
            "  Attempting uninstall: langchain-core\n",
            "    Found existing installation: langchain-core 0.3.74\n",
            "    Uninstalling langchain-core-0.3.74:\n",
            "      Successfully uninstalled langchain-core-0.3.74\n",
            "  Attempting uninstall: google-ai-generativelanguage\n",
            "    Found existing installation: google-ai-generativelanguage 0.6.15\n",
            "    Uninstalling google-ai-generativelanguage-0.6.15:\n",
            "      Successfully uninstalled google-ai-generativelanguage-0.6.15\n",
            "\u001b[31mERROR: pip's dependency resolver does not currently take into account all the packages that are installed. This behaviour is the source of the following dependency conflicts.\n",
            "google-generativeai 0.8.5 requires google-ai-generativelanguage==0.6.15, but you have google-ai-generativelanguage 0.6.18 which is incompatible.\u001b[0m\u001b[31m\n",
            "\u001b[0mSuccessfully installed filetype-1.2.0 google-ai-generativelanguage-0.6.18 langchain-core-0.3.75 langchain-google-genai-2.1.10\n"
          ]
        },
        {
          "output_type": "display_data",
          "data": {
            "application/vnd.colab-display-data+json": {
              "pip_warning": {
                "packages": [
                  "google"
                ]
              },
              "id": "1343933282bf4cc891ad257d0e1b81a4"
            }
          },
          "metadata": {}
        },
        {
          "output_type": "stream",
          "name": "stdout",
          "text": [
            "Collecting langchain-sambanova\n",
            "  Downloading langchain_sambanova-0.1.6-py3-none-any.whl.metadata (3.2 kB)\n",
            "Requirement already satisfied: langchain<0.4.0,>=0.3.18 in /usr/local/lib/python3.12/dist-packages (from langchain-sambanova) (0.3.27)\n",
            "Requirement already satisfied: langchain-core<0.4.0,>=0.3.34 in /usr/local/lib/python3.12/dist-packages (from langchain-sambanova) (0.3.75)\n",
            "Collecting sseclient-py<2.0,>=1.8.0 (from langchain-sambanova)\n",
            "  Downloading sseclient_py-1.8.0-py2.py3-none-any.whl.metadata (2.0 kB)\n",
            "Collecting types-requests (from langchain-sambanova)\n",
            "  Downloading types_requests-2.32.4.20250809-py3-none-any.whl.metadata (2.0 kB)\n",
            "Requirement already satisfied: langchain-text-splitters<1.0.0,>=0.3.9 in /usr/local/lib/python3.12/dist-packages (from langchain<0.4.0,>=0.3.18->langchain-sambanova) (0.3.9)\n",
            "Requirement already satisfied: langsmith>=0.1.17 in /usr/local/lib/python3.12/dist-packages (from langchain<0.4.0,>=0.3.18->langchain-sambanova) (0.4.16)\n",
            "Requirement already satisfied: pydantic<3.0.0,>=2.7.4 in /usr/local/lib/python3.12/dist-packages (from langchain<0.4.0,>=0.3.18->langchain-sambanova) (2.11.7)\n",
            "Requirement already satisfied: SQLAlchemy<3,>=1.4 in /usr/local/lib/python3.12/dist-packages (from langchain<0.4.0,>=0.3.18->langchain-sambanova) (2.0.43)\n",
            "Requirement already satisfied: requests<3,>=2 in /usr/local/lib/python3.12/dist-packages (from langchain<0.4.0,>=0.3.18->langchain-sambanova) (2.32.4)\n",
            "Requirement already satisfied: PyYAML>=5.3 in /usr/local/lib/python3.12/dist-packages (from langchain<0.4.0,>=0.3.18->langchain-sambanova) (6.0.2)\n",
            "Requirement already satisfied: tenacity!=8.4.0,<10.0.0,>=8.1.0 in /usr/local/lib/python3.12/dist-packages (from langchain-core<0.4.0,>=0.3.34->langchain-sambanova) (8.5.0)\n",
            "Requirement already satisfied: jsonpatch<2.0,>=1.33 in /usr/local/lib/python3.12/dist-packages (from langchain-core<0.4.0,>=0.3.34->langchain-sambanova) (1.33)\n",
            "Requirement already satisfied: typing-extensions>=4.7 in /usr/local/lib/python3.12/dist-packages (from langchain-core<0.4.0,>=0.3.34->langchain-sambanova) (4.15.0)\n",
            "Requirement already satisfied: packaging>=23.2 in /usr/local/lib/python3.12/dist-packages (from langchain-core<0.4.0,>=0.3.34->langchain-sambanova) (25.0)\n",
            "Requirement already satisfied: urllib3>=2 in /usr/local/lib/python3.12/dist-packages (from types-requests->langchain-sambanova) (2.5.0)\n",
            "Requirement already satisfied: jsonpointer>=1.9 in /usr/local/lib/python3.12/dist-packages (from jsonpatch<2.0,>=1.33->langchain-core<0.4.0,>=0.3.34->langchain-sambanova) (3.0.0)\n",
            "Requirement already satisfied: httpx<1,>=0.23.0 in /usr/local/lib/python3.12/dist-packages (from langsmith>=0.1.17->langchain<0.4.0,>=0.3.18->langchain-sambanova) (0.28.1)\n",
            "Requirement already satisfied: orjson>=3.9.14 in /usr/local/lib/python3.12/dist-packages (from langsmith>=0.1.17->langchain<0.4.0,>=0.3.18->langchain-sambanova) (3.11.2)\n",
            "Requirement already satisfied: requests-toolbelt>=1.0.0 in /usr/local/lib/python3.12/dist-packages (from langsmith>=0.1.17->langchain<0.4.0,>=0.3.18->langchain-sambanova) (1.0.0)\n",
            "Requirement already satisfied: zstandard>=0.23.0 in /usr/local/lib/python3.12/dist-packages (from langsmith>=0.1.17->langchain<0.4.0,>=0.3.18->langchain-sambanova) (0.24.0)\n",
            "Requirement already satisfied: annotated-types>=0.6.0 in /usr/local/lib/python3.12/dist-packages (from pydantic<3.0.0,>=2.7.4->langchain<0.4.0,>=0.3.18->langchain-sambanova) (0.7.0)\n",
            "Requirement already satisfied: pydantic-core==2.33.2 in /usr/local/lib/python3.12/dist-packages (from pydantic<3.0.0,>=2.7.4->langchain<0.4.0,>=0.3.18->langchain-sambanova) (2.33.2)\n",
            "Requirement already satisfied: typing-inspection>=0.4.0 in /usr/local/lib/python3.12/dist-packages (from pydantic<3.0.0,>=2.7.4->langchain<0.4.0,>=0.3.18->langchain-sambanova) (0.4.1)\n",
            "Requirement already satisfied: charset_normalizer<4,>=2 in /usr/local/lib/python3.12/dist-packages (from requests<3,>=2->langchain<0.4.0,>=0.3.18->langchain-sambanova) (3.4.3)\n",
            "Requirement already satisfied: idna<4,>=2.5 in /usr/local/lib/python3.12/dist-packages (from requests<3,>=2->langchain<0.4.0,>=0.3.18->langchain-sambanova) (3.10)\n",
            "Requirement already satisfied: certifi>=2017.4.17 in /usr/local/lib/python3.12/dist-packages (from requests<3,>=2->langchain<0.4.0,>=0.3.18->langchain-sambanova) (2025.8.3)\n",
            "Requirement already satisfied: greenlet>=1 in /usr/local/lib/python3.12/dist-packages (from SQLAlchemy<3,>=1.4->langchain<0.4.0,>=0.3.18->langchain-sambanova) (3.2.4)\n",
            "Requirement already satisfied: anyio in /usr/local/lib/python3.12/dist-packages (from httpx<1,>=0.23.0->langsmith>=0.1.17->langchain<0.4.0,>=0.3.18->langchain-sambanova) (4.10.0)\n",
            "Requirement already satisfied: httpcore==1.* in /usr/local/lib/python3.12/dist-packages (from httpx<1,>=0.23.0->langsmith>=0.1.17->langchain<0.4.0,>=0.3.18->langchain-sambanova) (1.0.9)\n",
            "Requirement already satisfied: h11>=0.16 in /usr/local/lib/python3.12/dist-packages (from httpcore==1.*->httpx<1,>=0.23.0->langsmith>=0.1.17->langchain<0.4.0,>=0.3.18->langchain-sambanova) (0.16.0)\n",
            "Requirement already satisfied: sniffio>=1.1 in /usr/local/lib/python3.12/dist-packages (from anyio->httpx<1,>=0.23.0->langsmith>=0.1.17->langchain<0.4.0,>=0.3.18->langchain-sambanova) (1.3.1)\n",
            "Downloading langchain_sambanova-0.1.6-py3-none-any.whl (26 kB)\n",
            "Downloading sseclient_py-1.8.0-py2.py3-none-any.whl (8.8 kB)\n",
            "Downloading types_requests-2.32.4.20250809-py3-none-any.whl (20 kB)\n",
            "Installing collected packages: sseclient-py, types-requests, langchain-sambanova\n",
            "Successfully installed langchain-sambanova-0.1.6 sseclient-py-1.8.0 types-requests-2.32.4.20250809\n",
            "Requirement already satisfied: langchain in /usr/local/lib/python3.12/dist-packages (0.3.27)\n",
            "Collecting langchain-community\n",
            "  Downloading langchain_community-0.3.29-py3-none-any.whl.metadata (2.9 kB)\n",
            "Requirement already satisfied: langchain-core<1.0.0,>=0.3.72 in /usr/local/lib/python3.12/dist-packages (from langchain) (0.3.75)\n",
            "Requirement already satisfied: langchain-text-splitters<1.0.0,>=0.3.9 in /usr/local/lib/python3.12/dist-packages (from langchain) (0.3.9)\n",
            "Requirement already satisfied: langsmith>=0.1.17 in /usr/local/lib/python3.12/dist-packages (from langchain) (0.4.16)\n",
            "Requirement already satisfied: pydantic<3.0.0,>=2.7.4 in /usr/local/lib/python3.12/dist-packages (from langchain) (2.11.7)\n",
            "Requirement already satisfied: SQLAlchemy<3,>=1.4 in /usr/local/lib/python3.12/dist-packages (from langchain) (2.0.43)\n",
            "Requirement already satisfied: requests<3,>=2 in /usr/local/lib/python3.12/dist-packages (from langchain) (2.32.4)\n",
            "Requirement already satisfied: PyYAML>=5.3 in /usr/local/lib/python3.12/dist-packages (from langchain) (6.0.2)\n",
            "Collecting requests<3,>=2 (from langchain)\n",
            "  Downloading requests-2.32.5-py3-none-any.whl.metadata (4.9 kB)\n",
            "Requirement already satisfied: aiohttp<4.0.0,>=3.8.3 in /usr/local/lib/python3.12/dist-packages (from langchain-community) (3.12.15)\n",
            "Requirement already satisfied: tenacity!=8.4.0,<10,>=8.1.0 in /usr/local/lib/python3.12/dist-packages (from langchain-community) (8.5.0)\n",
            "Collecting dataclasses-json<0.7,>=0.6.7 (from langchain-community)\n",
            "  Downloading dataclasses_json-0.6.7-py3-none-any.whl.metadata (25 kB)\n",
            "Requirement already satisfied: pydantic-settings<3.0.0,>=2.10.1 in /usr/local/lib/python3.12/dist-packages (from langchain-community) (2.10.1)\n",
            "Requirement already satisfied: httpx-sse<1.0.0,>=0.4.0 in /usr/local/lib/python3.12/dist-packages (from langchain-community) (0.4.1)\n",
            "Requirement already satisfied: numpy>=1.26.2 in /usr/local/lib/python3.12/dist-packages (from langchain-community) (2.0.2)\n",
            "Requirement already satisfied: aiohappyeyeballs>=2.5.0 in /usr/local/lib/python3.12/dist-packages (from aiohttp<4.0.0,>=3.8.3->langchain-community) (2.6.1)\n",
            "Requirement already satisfied: aiosignal>=1.4.0 in /usr/local/lib/python3.12/dist-packages (from aiohttp<4.0.0,>=3.8.3->langchain-community) (1.4.0)\n",
            "Requirement already satisfied: attrs>=17.3.0 in /usr/local/lib/python3.12/dist-packages (from aiohttp<4.0.0,>=3.8.3->langchain-community) (25.3.0)\n",
            "Requirement already satisfied: frozenlist>=1.1.1 in /usr/local/lib/python3.12/dist-packages (from aiohttp<4.0.0,>=3.8.3->langchain-community) (1.7.0)\n",
            "Requirement already satisfied: multidict<7.0,>=4.5 in /usr/local/lib/python3.12/dist-packages (from aiohttp<4.0.0,>=3.8.3->langchain-community) (6.6.4)\n",
            "Requirement already satisfied: propcache>=0.2.0 in /usr/local/lib/python3.12/dist-packages (from aiohttp<4.0.0,>=3.8.3->langchain-community) (0.3.2)\n",
            "Requirement already satisfied: yarl<2.0,>=1.17.0 in /usr/local/lib/python3.12/dist-packages (from aiohttp<4.0.0,>=3.8.3->langchain-community) (1.20.1)\n",
            "Collecting marshmallow<4.0.0,>=3.18.0 (from dataclasses-json<0.7,>=0.6.7->langchain-community)\n",
            "  Downloading marshmallow-3.26.1-py3-none-any.whl.metadata (7.3 kB)\n",
            "Collecting typing-inspect<1,>=0.4.0 (from dataclasses-json<0.7,>=0.6.7->langchain-community)\n",
            "  Downloading typing_inspect-0.9.0-py3-none-any.whl.metadata (1.5 kB)\n",
            "Requirement already satisfied: jsonpatch<2.0,>=1.33 in /usr/local/lib/python3.12/dist-packages (from langchain-core<1.0.0,>=0.3.72->langchain) (1.33)\n",
            "Requirement already satisfied: typing-extensions>=4.7 in /usr/local/lib/python3.12/dist-packages (from langchain-core<1.0.0,>=0.3.72->langchain) (4.15.0)\n",
            "Requirement already satisfied: packaging>=23.2 in /usr/local/lib/python3.12/dist-packages (from langchain-core<1.0.0,>=0.3.72->langchain) (25.0)\n",
            "Requirement already satisfied: httpx<1,>=0.23.0 in /usr/local/lib/python3.12/dist-packages (from langsmith>=0.1.17->langchain) (0.28.1)\n",
            "Requirement already satisfied: orjson>=3.9.14 in /usr/local/lib/python3.12/dist-packages (from langsmith>=0.1.17->langchain) (3.11.2)\n",
            "Requirement already satisfied: requests-toolbelt>=1.0.0 in /usr/local/lib/python3.12/dist-packages (from langsmith>=0.1.17->langchain) (1.0.0)\n",
            "Requirement already satisfied: zstandard>=0.23.0 in /usr/local/lib/python3.12/dist-packages (from langsmith>=0.1.17->langchain) (0.24.0)\n",
            "Requirement already satisfied: annotated-types>=0.6.0 in /usr/local/lib/python3.12/dist-packages (from pydantic<3.0.0,>=2.7.4->langchain) (0.7.0)\n",
            "Requirement already satisfied: pydantic-core==2.33.2 in /usr/local/lib/python3.12/dist-packages (from pydantic<3.0.0,>=2.7.4->langchain) (2.33.2)\n",
            "Requirement already satisfied: typing-inspection>=0.4.0 in /usr/local/lib/python3.12/dist-packages (from pydantic<3.0.0,>=2.7.4->langchain) (0.4.1)\n",
            "Requirement already satisfied: python-dotenv>=0.21.0 in /usr/local/lib/python3.12/dist-packages (from pydantic-settings<3.0.0,>=2.10.1->langchain-community) (1.1.1)\n",
            "Requirement already satisfied: charset_normalizer<4,>=2 in /usr/local/lib/python3.12/dist-packages (from requests<3,>=2->langchain) (3.4.3)\n",
            "Requirement already satisfied: idna<4,>=2.5 in /usr/local/lib/python3.12/dist-packages (from requests<3,>=2->langchain) (3.10)\n",
            "Requirement already satisfied: urllib3<3,>=1.21.1 in /usr/local/lib/python3.12/dist-packages (from requests<3,>=2->langchain) (2.5.0)\n",
            "Requirement already satisfied: certifi>=2017.4.17 in /usr/local/lib/python3.12/dist-packages (from requests<3,>=2->langchain) (2025.8.3)\n",
            "Requirement already satisfied: greenlet>=1 in /usr/local/lib/python3.12/dist-packages (from SQLAlchemy<3,>=1.4->langchain) (3.2.4)\n",
            "Requirement already satisfied: anyio in /usr/local/lib/python3.12/dist-packages (from httpx<1,>=0.23.0->langsmith>=0.1.17->langchain) (4.10.0)\n",
            "Requirement already satisfied: httpcore==1.* in /usr/local/lib/python3.12/dist-packages (from httpx<1,>=0.23.0->langsmith>=0.1.17->langchain) (1.0.9)\n",
            "Requirement already satisfied: h11>=0.16 in /usr/local/lib/python3.12/dist-packages (from httpcore==1.*->httpx<1,>=0.23.0->langsmith>=0.1.17->langchain) (0.16.0)\n",
            "Requirement already satisfied: jsonpointer>=1.9 in /usr/local/lib/python3.12/dist-packages (from jsonpatch<2.0,>=1.33->langchain-core<1.0.0,>=0.3.72->langchain) (3.0.0)\n",
            "Collecting mypy-extensions>=0.3.0 (from typing-inspect<1,>=0.4.0->dataclasses-json<0.7,>=0.6.7->langchain-community)\n",
            "  Downloading mypy_extensions-1.1.0-py3-none-any.whl.metadata (1.1 kB)\n",
            "Requirement already satisfied: sniffio>=1.1 in /usr/local/lib/python3.12/dist-packages (from anyio->httpx<1,>=0.23.0->langsmith>=0.1.17->langchain) (1.3.1)\n",
            "Downloading langchain_community-0.3.29-py3-none-any.whl (2.5 MB)\n",
            "\u001b[2K   \u001b[90m━━━━━━━━━━━━━━━━━━━━━━━━━━━━━━━━━━━━━━━━\u001b[0m \u001b[32m2.5/2.5 MB\u001b[0m \u001b[31m25.7 MB/s\u001b[0m eta \u001b[36m0:00:00\u001b[0m\n",
            "\u001b[?25hDownloading dataclasses_json-0.6.7-py3-none-any.whl (28 kB)\n",
            "Downloading requests-2.32.5-py3-none-any.whl (64 kB)\n",
            "\u001b[2K   \u001b[90m━━━━━━━━━━━━━━━━━━━━━━━━━━━━━━━━━━━━━━━━\u001b[0m \u001b[32m64.7/64.7 kB\u001b[0m \u001b[31m6.5 MB/s\u001b[0m eta \u001b[36m0:00:00\u001b[0m\n",
            "\u001b[?25hDownloading marshmallow-3.26.1-py3-none-any.whl (50 kB)\n",
            "\u001b[2K   \u001b[90m━━━━━━━━━━━━━━━━━━━━━━━━━━━━━━━━━━━━━━━━\u001b[0m \u001b[32m50.9/50.9 kB\u001b[0m \u001b[31m5.3 MB/s\u001b[0m eta \u001b[36m0:00:00\u001b[0m\n",
            "\u001b[?25hDownloading typing_inspect-0.9.0-py3-none-any.whl (8.8 kB)\n",
            "Downloading mypy_extensions-1.1.0-py3-none-any.whl (5.0 kB)\n",
            "Installing collected packages: requests, mypy-extensions, marshmallow, typing-inspect, dataclasses-json, langchain-community\n",
            "  Attempting uninstall: requests\n",
            "    Found existing installation: requests 2.32.4\n",
            "    Uninstalling requests-2.32.4:\n",
            "      Successfully uninstalled requests-2.32.4\n",
            "\u001b[31mERROR: pip's dependency resolver does not currently take into account all the packages that are installed. This behaviour is the source of the following dependency conflicts.\n",
            "google-colab 1.0.0 requires requests==2.32.4, but you have requests 2.32.5 which is incompatible.\n",
            "google-generativeai 0.8.5 requires google-ai-generativelanguage==0.6.15, but you have google-ai-generativelanguage 0.6.18 which is incompatible.\u001b[0m\u001b[31m\n",
            "\u001b[0mSuccessfully installed dataclasses-json-0.6.7 langchain-community-0.3.29 marshmallow-3.26.1 mypy-extensions-1.1.0 requests-2.32.5 typing-inspect-0.9.0\n",
            "Collecting ragas\n",
            "  Downloading ragas-0.3.2-py3-none-any.whl.metadata (21 kB)\n",
            "Requirement already satisfied: numpy in /usr/local/lib/python3.12/dist-packages (from ragas) (2.0.2)\n",
            "Requirement already satisfied: datasets in /usr/local/lib/python3.12/dist-packages (from ragas) (4.0.0)\n",
            "Requirement already satisfied: tiktoken in /usr/local/lib/python3.12/dist-packages (from ragas) (0.11.0)\n",
            "Requirement already satisfied: pydantic>=2.0.0 in /usr/local/lib/python3.12/dist-packages (from ragas) (2.11.7)\n",
            "Requirement already satisfied: nest-asyncio in /usr/local/lib/python3.12/dist-packages (from ragas) (1.6.0)\n",
            "Collecting appdirs (from ragas)\n",
            "  Downloading appdirs-1.4.4-py2.py3-none-any.whl.metadata (9.0 kB)\n",
            "Collecting diskcache>=5.6.3 (from ragas)\n",
            "  Downloading diskcache-5.6.3-py3-none-any.whl.metadata (20 kB)\n",
            "Requirement already satisfied: langchain in /usr/local/lib/python3.12/dist-packages (from ragas) (0.3.27)\n",
            "Requirement already satisfied: langchain-core in /usr/local/lib/python3.12/dist-packages (from ragas) (0.3.75)\n",
            "Requirement already satisfied: langchain-community in /usr/local/lib/python3.12/dist-packages (from ragas) (0.3.29)\n",
            "Collecting langchain_openai (from ragas)\n",
            "  Downloading langchain_openai-0.3.32-py3-none-any.whl.metadata (2.4 kB)\n",
            "Requirement already satisfied: typer in /usr/local/lib/python3.12/dist-packages (from ragas) (0.16.1)\n",
            "Requirement already satisfied: rich in /usr/local/lib/python3.12/dist-packages (from ragas) (13.9.4)\n",
            "Requirement already satisfied: openai>=1.0.0 in /usr/local/lib/python3.12/dist-packages (from ragas) (1.99.9)\n",
            "Requirement already satisfied: tqdm in /usr/local/lib/python3.12/dist-packages (from ragas) (4.67.1)\n",
            "Collecting instructor (from ragas)\n",
            "  Downloading instructor-1.11.2-py3-none-any.whl.metadata (11 kB)\n",
            "Requirement already satisfied: gitpython in /usr/local/lib/python3.12/dist-packages (from ragas) (3.1.45)\n",
            "Requirement already satisfied: pillow>=10.4.0 in /usr/local/lib/python3.12/dist-packages (from ragas) (11.3.0)\n",
            "Requirement already satisfied: anyio<5,>=3.5.0 in /usr/local/lib/python3.12/dist-packages (from openai>=1.0.0->ragas) (4.10.0)\n",
            "Requirement already satisfied: distro<2,>=1.7.0 in /usr/local/lib/python3.12/dist-packages (from openai>=1.0.0->ragas) (1.9.0)\n",
            "Requirement already satisfied: httpx<1,>=0.23.0 in /usr/local/lib/python3.12/dist-packages (from openai>=1.0.0->ragas) (0.28.1)\n",
            "Requirement already satisfied: jiter<1,>=0.4.0 in /usr/local/lib/python3.12/dist-packages (from openai>=1.0.0->ragas) (0.10.0)\n",
            "Requirement already satisfied: sniffio in /usr/local/lib/python3.12/dist-packages (from openai>=1.0.0->ragas) (1.3.1)\n",
            "Requirement already satisfied: typing-extensions<5,>=4.11 in /usr/local/lib/python3.12/dist-packages (from openai>=1.0.0->ragas) (4.15.0)\n",
            "Requirement already satisfied: annotated-types>=0.6.0 in /usr/local/lib/python3.12/dist-packages (from pydantic>=2.0.0->ragas) (0.7.0)\n",
            "Requirement already satisfied: pydantic-core==2.33.2 in /usr/local/lib/python3.12/dist-packages (from pydantic>=2.0.0->ragas) (2.33.2)\n",
            "Requirement already satisfied: typing-inspection>=0.4.0 in /usr/local/lib/python3.12/dist-packages (from pydantic>=2.0.0->ragas) (0.4.1)\n",
            "Requirement already satisfied: filelock in /usr/local/lib/python3.12/dist-packages (from datasets->ragas) (3.19.1)\n",
            "Requirement already satisfied: pyarrow>=15.0.0 in /usr/local/lib/python3.12/dist-packages (from datasets->ragas) (18.1.0)\n",
            "Requirement already satisfied: dill<0.3.9,>=0.3.0 in /usr/local/lib/python3.12/dist-packages (from datasets->ragas) (0.3.8)\n",
            "Requirement already satisfied: pandas in /usr/local/lib/python3.12/dist-packages (from datasets->ragas) (2.2.2)\n",
            "Requirement already satisfied: requests>=2.32.2 in /usr/local/lib/python3.12/dist-packages (from datasets->ragas) (2.32.5)\n",
            "Requirement already satisfied: xxhash in /usr/local/lib/python3.12/dist-packages (from datasets->ragas) (3.5.0)\n",
            "Requirement already satisfied: multiprocess<0.70.17 in /usr/local/lib/python3.12/dist-packages (from datasets->ragas) (0.70.16)\n",
            "Requirement already satisfied: fsspec<=2025.3.0,>=2023.1.0 in /usr/local/lib/python3.12/dist-packages (from fsspec[http]<=2025.3.0,>=2023.1.0->datasets->ragas) (2025.3.0)\n",
            "Requirement already satisfied: huggingface-hub>=0.24.0 in /usr/local/lib/python3.12/dist-packages (from datasets->ragas) (0.34.4)\n",
            "Requirement already satisfied: packaging in /usr/local/lib/python3.12/dist-packages (from datasets->ragas) (25.0)\n",
            "Requirement already satisfied: pyyaml>=5.1 in /usr/local/lib/python3.12/dist-packages (from datasets->ragas) (6.0.2)\n",
            "Requirement already satisfied: gitdb<5,>=4.0.1 in /usr/local/lib/python3.12/dist-packages (from gitpython->ragas) (4.0.12)\n",
            "Requirement already satisfied: aiohttp<4.0.0,>=3.9.1 in /usr/local/lib/python3.12/dist-packages (from instructor->ragas) (3.12.15)\n",
            "Requirement already satisfied: docstring-parser<1.0,>=0.16 in /usr/local/lib/python3.12/dist-packages (from instructor->ragas) (0.17.0)\n",
            "Requirement already satisfied: jinja2<4.0.0,>=3.1.4 in /usr/local/lib/python3.12/dist-packages (from instructor->ragas) (3.1.6)\n",
            "Requirement already satisfied: tenacity<10.0.0,>=8.2.3 in /usr/local/lib/python3.12/dist-packages (from instructor->ragas) (8.5.0)\n",
            "Requirement already satisfied: markdown-it-py>=2.2.0 in /usr/local/lib/python3.12/dist-packages (from rich->ragas) (4.0.0)\n",
            "Requirement already satisfied: pygments<3.0.0,>=2.13.0 in /usr/local/lib/python3.12/dist-packages (from rich->ragas) (2.19.2)\n",
            "Requirement already satisfied: click>=8.0.0 in /usr/local/lib/python3.12/dist-packages (from typer->ragas) (8.2.1)\n",
            "Requirement already satisfied: shellingham>=1.3.0 in /usr/local/lib/python3.12/dist-packages (from typer->ragas) (1.5.4)\n",
            "Requirement already satisfied: langchain-text-splitters<1.0.0,>=0.3.9 in /usr/local/lib/python3.12/dist-packages (from langchain->ragas) (0.3.9)\n",
            "Requirement already satisfied: langsmith>=0.1.17 in /usr/local/lib/python3.12/dist-packages (from langchain->ragas) (0.4.16)\n",
            "Requirement already satisfied: SQLAlchemy<3,>=1.4 in /usr/local/lib/python3.12/dist-packages (from langchain->ragas) (2.0.43)\n",
            "Requirement already satisfied: jsonpatch<2.0,>=1.33 in /usr/local/lib/python3.12/dist-packages (from langchain-core->ragas) (1.33)\n",
            "Requirement already satisfied: dataclasses-json<0.7,>=0.6.7 in /usr/local/lib/python3.12/dist-packages (from langchain-community->ragas) (0.6.7)\n",
            "Requirement already satisfied: pydantic-settings<3.0.0,>=2.10.1 in /usr/local/lib/python3.12/dist-packages (from langchain-community->ragas) (2.10.1)\n",
            "Requirement already satisfied: httpx-sse<1.0.0,>=0.4.0 in /usr/local/lib/python3.12/dist-packages (from langchain-community->ragas) (0.4.1)\n",
            "Requirement already satisfied: regex>=2022.1.18 in /usr/local/lib/python3.12/dist-packages (from tiktoken->ragas) (2024.11.6)\n",
            "Requirement already satisfied: aiohappyeyeballs>=2.5.0 in /usr/local/lib/python3.12/dist-packages (from aiohttp<4.0.0,>=3.9.1->instructor->ragas) (2.6.1)\n",
            "Requirement already satisfied: aiosignal>=1.4.0 in /usr/local/lib/python3.12/dist-packages (from aiohttp<4.0.0,>=3.9.1->instructor->ragas) (1.4.0)\n",
            "Requirement already satisfied: attrs>=17.3.0 in /usr/local/lib/python3.12/dist-packages (from aiohttp<4.0.0,>=3.9.1->instructor->ragas) (25.3.0)\n",
            "Requirement already satisfied: frozenlist>=1.1.1 in /usr/local/lib/python3.12/dist-packages (from aiohttp<4.0.0,>=3.9.1->instructor->ragas) (1.7.0)\n",
            "Requirement already satisfied: multidict<7.0,>=4.5 in /usr/local/lib/python3.12/dist-packages (from aiohttp<4.0.0,>=3.9.1->instructor->ragas) (6.6.4)\n",
            "Requirement already satisfied: propcache>=0.2.0 in /usr/local/lib/python3.12/dist-packages (from aiohttp<4.0.0,>=3.9.1->instructor->ragas) (0.3.2)\n",
            "Requirement already satisfied: yarl<2.0,>=1.17.0 in /usr/local/lib/python3.12/dist-packages (from aiohttp<4.0.0,>=3.9.1->instructor->ragas) (1.20.1)\n",
            "Requirement already satisfied: idna>=2.8 in /usr/local/lib/python3.12/dist-packages (from anyio<5,>=3.5.0->openai>=1.0.0->ragas) (3.10)\n",
            "Requirement already satisfied: marshmallow<4.0.0,>=3.18.0 in /usr/local/lib/python3.12/dist-packages (from dataclasses-json<0.7,>=0.6.7->langchain-community->ragas) (3.26.1)\n",
            "Requirement already satisfied: typing-inspect<1,>=0.4.0 in /usr/local/lib/python3.12/dist-packages (from dataclasses-json<0.7,>=0.6.7->langchain-community->ragas) (0.9.0)\n",
            "Requirement already satisfied: smmap<6,>=3.0.1 in /usr/local/lib/python3.12/dist-packages (from gitdb<5,>=4.0.1->gitpython->ragas) (5.0.2)\n",
            "Requirement already satisfied: certifi in /usr/local/lib/python3.12/dist-packages (from httpx<1,>=0.23.0->openai>=1.0.0->ragas) (2025.8.3)\n",
            "Requirement already satisfied: httpcore==1.* in /usr/local/lib/python3.12/dist-packages (from httpx<1,>=0.23.0->openai>=1.0.0->ragas) (1.0.9)\n",
            "Requirement already satisfied: h11>=0.16 in /usr/local/lib/python3.12/dist-packages (from httpcore==1.*->httpx<1,>=0.23.0->openai>=1.0.0->ragas) (0.16.0)\n",
            "Requirement already satisfied: hf-xet<2.0.0,>=1.1.3 in /usr/local/lib/python3.12/dist-packages (from huggingface-hub>=0.24.0->datasets->ragas) (1.1.8)\n",
            "Requirement already satisfied: MarkupSafe>=2.0 in /usr/local/lib/python3.12/dist-packages (from jinja2<4.0.0,>=3.1.4->instructor->ragas) (3.0.2)\n",
            "Requirement already satisfied: jsonpointer>=1.9 in /usr/local/lib/python3.12/dist-packages (from jsonpatch<2.0,>=1.33->langchain-core->ragas) (3.0.0)\n",
            "Requirement already satisfied: orjson>=3.9.14 in /usr/local/lib/python3.12/dist-packages (from langsmith>=0.1.17->langchain->ragas) (3.11.2)\n",
            "Requirement already satisfied: requests-toolbelt>=1.0.0 in /usr/local/lib/python3.12/dist-packages (from langsmith>=0.1.17->langchain->ragas) (1.0.0)\n",
            "Requirement already satisfied: zstandard>=0.23.0 in /usr/local/lib/python3.12/dist-packages (from langsmith>=0.1.17->langchain->ragas) (0.24.0)\n",
            "Requirement already satisfied: mdurl~=0.1 in /usr/local/lib/python3.12/dist-packages (from markdown-it-py>=2.2.0->rich->ragas) (0.1.2)\n",
            "Requirement already satisfied: python-dotenv>=0.21.0 in /usr/local/lib/python3.12/dist-packages (from pydantic-settings<3.0.0,>=2.10.1->langchain-community->ragas) (1.1.1)\n",
            "Requirement already satisfied: charset_normalizer<4,>=2 in /usr/local/lib/python3.12/dist-packages (from requests>=2.32.2->datasets->ragas) (3.4.3)\n",
            "Requirement already satisfied: urllib3<3,>=1.21.1 in /usr/local/lib/python3.12/dist-packages (from requests>=2.32.2->datasets->ragas) (2.5.0)\n",
            "Requirement already satisfied: greenlet>=1 in /usr/local/lib/python3.12/dist-packages (from SQLAlchemy<3,>=1.4->langchain->ragas) (3.2.4)\n",
            "Requirement already satisfied: python-dateutil>=2.8.2 in /usr/local/lib/python3.12/dist-packages (from pandas->datasets->ragas) (2.9.0.post0)\n",
            "Requirement already satisfied: pytz>=2020.1 in /usr/local/lib/python3.12/dist-packages (from pandas->datasets->ragas) (2025.2)\n",
            "Requirement already satisfied: tzdata>=2022.7 in /usr/local/lib/python3.12/dist-packages (from pandas->datasets->ragas) (2025.2)\n",
            "Requirement already satisfied: six>=1.5 in /usr/local/lib/python3.12/dist-packages (from python-dateutil>=2.8.2->pandas->datasets->ragas) (1.17.0)\n",
            "Requirement already satisfied: mypy-extensions>=0.3.0 in /usr/local/lib/python3.12/dist-packages (from typing-inspect<1,>=0.4.0->dataclasses-json<0.7,>=0.6.7->langchain-community->ragas) (1.1.0)\n",
            "Downloading ragas-0.3.2-py3-none-any.whl (277 kB)\n",
            "\u001b[2K   \u001b[90m━━━━━━━━━━━━━━━━━━━━━━━━━━━━━━━━━━━━━━━━\u001b[0m \u001b[32m277.3/277.3 kB\u001b[0m \u001b[31m6.0 MB/s\u001b[0m eta \u001b[36m0:00:00\u001b[0m\n",
            "\u001b[?25hDownloading diskcache-5.6.3-py3-none-any.whl (45 kB)\n",
            "\u001b[2K   \u001b[90m━━━━━━━━━━━━━━━━━━━━━━━━━━━━━━━━━━━━━━━━\u001b[0m \u001b[32m45.5/45.5 kB\u001b[0m \u001b[31m4.4 MB/s\u001b[0m eta \u001b[36m0:00:00\u001b[0m\n",
            "\u001b[?25hDownloading appdirs-1.4.4-py2.py3-none-any.whl (9.6 kB)\n",
            "Downloading instructor-1.11.2-py3-none-any.whl (148 kB)\n",
            "\u001b[2K   \u001b[90m━━━━━━━━━━━━━━━━━━━━━━━━━━━━━━━━━━━━━━━━\u001b[0m \u001b[32m148.9/148.9 kB\u001b[0m \u001b[31m14.2 MB/s\u001b[0m eta \u001b[36m0:00:00\u001b[0m\n",
            "\u001b[?25hDownloading langchain_openai-0.3.32-py3-none-any.whl (74 kB)\n",
            "\u001b[2K   \u001b[90m━━━━━━━━━━━━━━━━━━━━━━━━━━━━━━━━━━━━━━━━\u001b[0m \u001b[32m74.5/74.5 kB\u001b[0m \u001b[31m7.9 MB/s\u001b[0m eta \u001b[36m0:00:00\u001b[0m\n",
            "\u001b[?25hInstalling collected packages: appdirs, diskcache, instructor, langchain_openai, ragas\n",
            "Successfully installed appdirs-1.4.4 diskcache-5.6.3 instructor-1.11.2 langchain_openai-0.3.32 ragas-0.3.2\n",
            "Collecting pdfplumber\n",
            "  Downloading pdfplumber-0.11.7-py3-none-any.whl.metadata (42 kB)\n",
            "\u001b[2K     \u001b[90m━━━━━━━━━━━━━━━━━━━━━━━━━━━━━━━━━━━━━━━━\u001b[0m \u001b[32m42.8/42.8 kB\u001b[0m \u001b[31m1.5 MB/s\u001b[0m eta \u001b[36m0:00:00\u001b[0m\n",
            "\u001b[?25hCollecting pdfminer.six==20250506 (from pdfplumber)\n",
            "  Downloading pdfminer_six-20250506-py3-none-any.whl.metadata (4.2 kB)\n",
            "Requirement already satisfied: Pillow>=9.1 in /usr/local/lib/python3.12/dist-packages (from pdfplumber) (11.3.0)\n",
            "Collecting pypdfium2>=4.18.0 (from pdfplumber)\n",
            "  Downloading pypdfium2-4.30.0-py3-none-manylinux_2_17_x86_64.manylinux2014_x86_64.whl.metadata (48 kB)\n",
            "\u001b[2K     \u001b[90m━━━━━━━━━━━━━━━━━━━━━━━━━━━━━━━━━━━━━━━━\u001b[0m \u001b[32m48.5/48.5 kB\u001b[0m \u001b[31m3.6 MB/s\u001b[0m eta \u001b[36m0:00:00\u001b[0m\n",
            "\u001b[?25hRequirement already satisfied: charset-normalizer>=2.0.0 in /usr/local/lib/python3.12/dist-packages (from pdfminer.six==20250506->pdfplumber) (3.4.3)\n",
            "Requirement already satisfied: cryptography>=36.0.0 in /usr/local/lib/python3.12/dist-packages (from pdfminer.six==20250506->pdfplumber) (43.0.3)\n",
            "Requirement already satisfied: cffi>=1.12 in /usr/local/lib/python3.12/dist-packages (from cryptography>=36.0.0->pdfminer.six==20250506->pdfplumber) (1.17.1)\n",
            "Requirement already satisfied: pycparser in /usr/local/lib/python3.12/dist-packages (from cffi>=1.12->cryptography>=36.0.0->pdfminer.six==20250506->pdfplumber) (2.22)\n",
            "Downloading pdfplumber-0.11.7-py3-none-any.whl (60 kB)\n",
            "\u001b[2K   \u001b[90m━━━━━━━━━━━━━━━━━━━━━━━━━━━━━━━━━━━━━━━━\u001b[0m \u001b[32m60.0/60.0 kB\u001b[0m \u001b[31m5.5 MB/s\u001b[0m eta \u001b[36m0:00:00\u001b[0m\n",
            "\u001b[?25hDownloading pdfminer_six-20250506-py3-none-any.whl (5.6 MB)\n",
            "\u001b[2K   \u001b[90m━━━━━━━━━━━━━━━━━━━━━━━━━━━━━━━━━━━━━━━━\u001b[0m \u001b[32m5.6/5.6 MB\u001b[0m \u001b[31m48.6 MB/s\u001b[0m eta \u001b[36m0:00:00\u001b[0m\n",
            "\u001b[?25hDownloading pypdfium2-4.30.0-py3-none-manylinux_2_17_x86_64.manylinux2014_x86_64.whl (2.8 MB)\n",
            "\u001b[2K   \u001b[90m━━━━━━━━━━━━━━━━━━━━━━━━━━━━━━━━━━━━━━━━\u001b[0m \u001b[32m2.8/2.8 MB\u001b[0m \u001b[31m98.5 MB/s\u001b[0m eta \u001b[36m0:00:00\u001b[0m\n",
            "\u001b[?25hInstalling collected packages: pypdfium2, pdfminer.six, pdfplumber\n",
            "Successfully installed pdfminer.six-20250506 pdfplumber-0.11.7 pypdfium2-4.30.0\n"
          ]
        }
      ],
      "source": [
        "!pip install langgraph\n",
        "!pip install opik\n",
        "!pip install fastembed langchain-qdrant\n",
        "!pip install langchain-google-genai\n",
        "!pip install langchain-sambanova\n",
        "!pip install langchain langchain-community\n",
        "!pip install ragas\n",
        "!pip install pdfplumber"
      ]
    },
    {
      "cell_type": "markdown",
      "metadata": {
        "id": "Ms7N5jdQ8qgP"
      },
      "source": [
        "## Get your API key:\n",
        "\n",
        "- [OPIK API KEY](https://www.comet.com/signup?utm_source=workshop&utm_medium=partner&utm_campaign=tarun)\n",
        "- [Google API Key](https://aistudio.google.com/apikey)"
      ]
    },
    {
      "cell_type": "code",
      "source": [],
      "metadata": {
        "id": "4XWHM8PNeW4r"
      },
      "execution_count": null,
      "outputs": []
    },
    {
      "cell_type": "code",
      "execution_count": 3,
      "metadata": {
        "id": "f0cKteqroqRV"
      },
      "outputs": [],
      "source": [
        "import os\n",
        "from google.colab import userdata\n",
        "\n",
        "os.environ[\"OPIK_API_KEY\"] = userdata.get(\"OPIK_API_KEY\")\n",
        "os.environ[\"OPIK_WORKSPACE\"] = \"jean-fran-ois-a\"\n",
        "os.environ['OPIK_PROJECT_NAME'] = \"eval\"\n",
        "os.environ['GOOGLE_API_KEY'] = userdata.get(\"GOOGLE_API_KEY\")\n",
        "os.environ['SAMBANOVA_API_KEY'] = userdata.get(\"SAMBANOVA_API_KEY\")"
      ]
    },
    {
      "cell_type": "markdown",
      "metadata": {
        "id": "A5P2y9RbnLGc"
      },
      "source": [
        "## Download the document"
      ]
    },
    {
      "cell_type": "code",
      "execution_count": 4,
      "metadata": {
        "id": "IDSuH7MLoFgY"
      },
      "outputs": [],
      "source": [
        "data_path=\"policy.pdf\"\n",
        "pdf_url=\"https://www.undp.org/sites/g/files/zskgke326/files/migration/al/IT-Policies-and-Procedures-Manual.pdf\""
      ]
    },
    {
      "cell_type": "code",
      "source": [
        "!wget --user-agent=\"Mozilla/5.0 (Windows NT 10.0; Win64; x64) AppleWebKit/537.36\" -O \"$data_path\" \"$pdf_url\""
      ],
      "metadata": {
        "colab": {
          "base_uri": "https://localhost:8080/"
        },
        "id": "hJZffDAQ8nWr",
        "outputId": "006eb56e-bfbf-4dbc-e272-16024c3c8ca0"
      },
      "execution_count": 5,
      "outputs": [
        {
          "output_type": "stream",
          "name": "stdout",
          "text": [
            "--2025-09-01 18:34:03--  https://www.undp.org/sites/g/files/zskgke326/files/migration/al/IT-Policies-and-Procedures-Manual.pdf\n",
            "Resolving www.undp.org (www.undp.org)... 23.56.4.73, 23.56.4.9\n",
            "Connecting to www.undp.org (www.undp.org)|23.56.4.73|:443... connected.\n",
            "HTTP request sent, awaiting response... 200 OK\n",
            "Length: 748042 (731K) [application/pdf]\n",
            "Saving to: ‘policy.pdf’\n",
            "\n",
            "policy.pdf          100%[===================>] 730.51K  --.-KB/s    in 0.1s    \n",
            "\n",
            "2025-09-01 18:34:03 (6.11 MB/s) - ‘policy.pdf’ saved [748042/748042]\n",
            "\n"
          ]
        }
      ]
    },
    {
      "cell_type": "code",
      "execution_count": 10,
      "metadata": {
        "id": "lkV6gu0y5MeP",
        "outputId": "c5ba00dc-bbe2-438f-edde-7c89f30658bd",
        "colab": {
          "base_uri": "https://localhost:8080/",
          "height": 35
        }
      },
      "outputs": [
        {
          "output_type": "execute_result",
          "data": {
            "text/plain": [
              "' \\n2-data parallelism\\n'"
            ],
            "application/vnd.google.colaboratory.intrinsic+json": {
              "type": "string"
            }
          },
          "metadata": {},
          "execution_count": 10
        }
      ],
      "source": [
        "from langchain_community.document_loaders.pdf import PDFPlumberLoader #read pdf\n",
        "from langchain_text_splitters import RecursiveCharacterTextSplitter #chunck data based on token\n",
        "from langchain_community.embeddings.fastembed import FastEmbedEmbeddings #embedding\n",
        "\n",
        "#three advantages of using fastembedding\n",
        "\"\"\"\n",
        "1-onnx runtime which will load your model faster than other open sources\n",
        "2-data parallelism\n",
        "3-sparse (bm25 or minicoil) and dense vectors (bge models, jina embedding)\n",
        "\"\"\""
      ]
    },
    {
      "cell_type": "code",
      "execution_count": 7,
      "metadata": {
        "id": "lM5VtieRoe2B"
      },
      "outputs": [],
      "source": [
        "loader = PDFPlumberLoader(data_path)\n",
        "data = loader.load()"
      ]
    },
    {
      "cell_type": "code",
      "execution_count": 8,
      "metadata": {
        "id": "KNSaB3lz9sXr"
      },
      "outputs": [],
      "source": [
        "text_splitter = RecursiveCharacterTextSplitter(chunk_size=2000, chunk_overlap=0)\n",
        "chunks = text_splitter.split_documents(data)"
      ]
    },
    {
      "cell_type": "code",
      "execution_count": 9,
      "metadata": {
        "colab": {
          "base_uri": "https://localhost:8080/"
        },
        "id": "qBDbsKseo14E",
        "outputId": "088a66c2-a9bc-4a93-8481-be618dcbfcc9"
      },
      "outputs": [
        {
          "output_type": "execute_result",
          "data": {
            "text/plain": [
              "37"
            ]
          },
          "metadata": {},
          "execution_count": 9
        }
      ],
      "source": [
        "len(chunks)"
      ]
    },
    {
      "cell_type": "code",
      "execution_count": 11,
      "metadata": {
        "id": "fuhsQkrU3Zwr"
      },
      "outputs": [],
      "source": [
        "from langchain_qdrant import FastEmbedSparse, QdrantVectorStore, RetrievalMode # hybrid\n",
        "from qdrant_client import QdrantClient, models\n",
        "from qdrant_client.http.models import Distance, SparseVectorParams, VectorParams"
      ]
    },
    {
      "cell_type": "code",
      "execution_count": 12,
      "metadata": {
        "id": "ASMau2hp9HYG",
        "colab": {
          "base_uri": "https://localhost:8080/",
          "height": 409,
          "referenced_widgets": [
            "9ae2f2d786cf4402a03faeabb851f2dc",
            "00416e777bdb47ce8b9e69067185f363",
            "f1835e55d2a04907966d1212fffa0085",
            "717c5a984bc34422bb2464d5387872a6",
            "0af060ec681a4a08be02bab35b3d1f6b",
            "34955fa4ab7a4e22b5af5d9fdecc87a6",
            "f8bfe7455f8b4ddf8312f8450ef9ded5",
            "8fd8ca5218064bfab638ce231dde345c",
            "2f83ac54f579472081e7435b0c0156c7",
            "9715a443b5604d53bf50c03bab15a1d1",
            "53b3ccda74df40feb9be93fae129c8fb",
            "81a5ea4323b34db998ab67cc3d7ddab9",
            "d0dba4724bae4042a738ad309efe97be",
            "22db3bed21254408b51f4985bdd4c9c8",
            "7eb5f4698e75465bbc2267976f89ed9a",
            "2896dcb735b142fd979a11dd9019aa04",
            "3656eff7982a4143a7c93de8f417a794",
            "3a442c9841d84bc599aff2053cfba48c",
            "79bef877390042abbbb331ade572cfa7",
            "1e1f6dba2d11404db0efcaffc7c7355c",
            "23526b67b51d4ec6aaa1cafa2f2f124f",
            "b8378c1063b043b8b45b413b6f115ab0",
            "5656d704e93a4bc5bae1853910be2a8d",
            "4ee5bb5cb88342e3b603049424da7517",
            "47fa9308d1f14b5a9701ce7ec816a636",
            "aa8b7ee7742647648a18e2110369714a",
            "dd5757845306432f97f1541f87253673",
            "3a8c54b596204dc3befd5833b21a27f1",
            "496257a843d5491ab202442d28a68ba1",
            "bf0498caaaad458997557421453631a6",
            "2cb47caded954be0871e711b0b1978c9",
            "6389ff36bb1542f98d41f10a6e1fb976",
            "9d035e3f87eb45c7b58ab47f5c56b357",
            "f1d12fac7fe241db80d85d148b7217af",
            "2a7336c22dea49f0b1308452145c7cae",
            "1de1298192b944b5890a61a9d9ba6724",
            "baebdd6ce08f4786ad2b7013218ecf07",
            "03b3282a28e44861a5f6a20f0e649a94",
            "f4bb9aea10b0425995fd399918695e66",
            "fda3ce2a7c554904bc7cc5d1329dab9e",
            "788bdf9e356447f49a5188415feac8c4",
            "d97845a3a4324b7789760bc1af34d590",
            "6291491dcddd4eac9a172cca2505958d",
            "ff7145d406af44b3a7ff08cf61fd892d",
            "82fb1f49923a49dab1af6aa07d2a79cd",
            "a615f31da7ea47bc8b21fe78a697c833",
            "d804fe4cb2e048569f38293d47246bc7",
            "87bc6443fd694de8bda46c9c01929f36",
            "98fb6e030467447a9bc4a8c4e237f542",
            "8c30284f3b4e470fab4c178fcee433e1",
            "dd5c565f1a304299825c1e827a81bc72",
            "c5ffec4cd85c4689a36088eed45c099d",
            "8eb7b83e1d474d2ca3f89048f0faa322",
            "f137f0390f114f40b1aaea7e6d0b7741",
            "86e29e4fd09040bbb737fcc3e6e944e2",
            "a81c13d95a5a4a8888e50253bc6ceba9",
            "1a2d462dcc3f46188854dde9745342ef",
            "47da61f9fd184dc29ad373eb5a8ec019",
            "ea4f24425c4d4bb4889c0fa8711469be",
            "2ff4f6f8a50340b4a6b5be183835096b",
            "d82eff734b734f39bb9c2c4d729e39e0",
            "ae41ed06217341a7a0347316cb170404",
            "82143521f523438bbb48485af230bd57",
            "4312e183420a4fb2b87bc5dbe0a1be4b",
            "dc0c496ecc8c40ac90827a16f96966af",
            "5a5fe9799c5c4e889ad6370408c0b576",
            "2f5f9b2a9e7b4ac684fd520e796d5965",
            "def6af27209742d2a7e297a09232d787",
            "e5cfb03b26294938b1c265f783b9b7b1",
            "539298c8a0ad47729706653885aba8d5",
            "c62f9229582d4f71ac9bf3e3643633b5",
            "65d005c911114b95adac64aa4b1aafa9",
            "07b8147451ac4a10b6a56db18fa5e14b",
            "b4e5d09e4c724268abf078f5edfa4613",
            "ce72b9e0afaa4b7ead6cd43eb1490f61",
            "cd8a238b7126411a8ac80bcdedb4e01f",
            "cc967db3681a4a088e386bf33fe3e16a",
            "736f64ce9b1a43d3873356027d40168d",
            "3bed853cbbcf44f382d7004a2e664e04",
            "13b8b0c27de64c80a6f89ee0fcfcda06",
            "35a28f5d11d54d81b3e635b45d4ac22d",
            "d8190ada96dc48a2ade329ef15c05de2",
            "c5d8bce57df24fb39824e1c076f46353",
            "3f89c37d58264742b4adb90cceaf229b",
            "b969662954b74a748a31a5a7bb263a9b",
            "7f9604e11b9b42799a224fc408e569ae",
            "4c86c4497b8445ee80160de370343dd4",
            "81d7651b8d734dddb54cf31fefdda604",
            "585cc029c2234c8ab294fbfe37fac318",
            "660e7cdb6b3a44968dccd6ae76261bed",
            "0edeb783e7bf41d3abefa8104f13654c",
            "52b3fe235fb342baaf79a20a923fffe5",
            "3c7eb73bf456465ea453c0a480ecb9e2",
            "38f247fddbce48baa4898a20ddbf3149",
            "4d13cfd30f8444998d0733eb11c9b323",
            "2d4ed94303e24649b93e056497d33e83",
            "d148a1c1836d4a6aae04273f67598a05",
            "c75cb257a9484cd2b2907770cd168c26",
            "fd59ae94a147490d91543277cc2115a8"
          ]
        },
        "outputId": "7bcea418-6db8-4613-b6be-378c47b1aaa8"
      },
      "outputs": [
        {
          "output_type": "stream",
          "name": "stderr",
          "text": [
            "/usr/local/lib/python3.12/dist-packages/huggingface_hub/utils/_auth.py:94: UserWarning: \n",
            "The secret `HF_TOKEN` does not exist in your Colab secrets.\n",
            "To authenticate with the Hugging Face Hub, create a token in your settings tab (https://huggingface.co/settings/tokens), set it as secret in your Google Colab and restart your session.\n",
            "You will be able to reuse this secret in all of your notebooks.\n",
            "Please note that authentication is recommended but still optional to access public models or datasets.\n",
            "  warnings.warn(\n"
          ]
        },
        {
          "output_type": "display_data",
          "data": {
            "text/plain": [
              "Fetching 8 files:   0%|          | 0/8 [00:00<?, ?it/s]"
            ],
            "application/vnd.jupyter.widget-view+json": {
              "version_major": 2,
              "version_minor": 0,
              "model_id": "9ae2f2d786cf4402a03faeabb851f2dc"
            }
          },
          "metadata": {}
        },
        {
          "output_type": "display_data",
          "data": {
            "text/plain": [
              "minicoil.triplet.model.npy:   0%|          | 0.00/157M [00:00<?, ?B/s]"
            ],
            "application/vnd.jupyter.widget-view+json": {
              "version_major": 2,
              "version_minor": 0,
              "model_id": "81a5ea4323b34db998ab67cc3d7ddab9"
            }
          },
          "metadata": {}
        },
        {
          "output_type": "display_data",
          "data": {
            "text/plain": [
              "onnx/model.onnx:   0%|          | 0.00/130M [00:00<?, ?B/s]"
            ],
            "application/vnd.jupyter.widget-view+json": {
              "version_major": 2,
              "version_minor": 0,
              "model_id": "5656d704e93a4bc5bae1853910be2a8d"
            }
          },
          "metadata": {}
        },
        {
          "output_type": "display_data",
          "data": {
            "text/plain": [
              "tokenizer_config.json:   0%|          | 0.00/367 [00:00<?, ?B/s]"
            ],
            "application/vnd.jupyter.widget-view+json": {
              "version_major": 2,
              "version_minor": 0,
              "model_id": "f1d12fac7fe241db80d85d148b7217af"
            }
          },
          "metadata": {}
        },
        {
          "output_type": "display_data",
          "data": {
            "text/plain": [
              "tokenizer.json: 0.00B [00:00, ?B/s]"
            ],
            "application/vnd.jupyter.widget-view+json": {
              "version_major": 2,
              "version_minor": 0,
              "model_id": "82fb1f49923a49dab1af6aa07d2a79cd"
            }
          },
          "metadata": {}
        },
        {
          "output_type": "display_data",
          "data": {
            "text/plain": [
              "stopwords.txt:   0%|          | 0.00/743 [00:00<?, ?B/s]"
            ],
            "application/vnd.jupyter.widget-view+json": {
              "version_major": 2,
              "version_minor": 0,
              "model_id": "a81c13d95a5a4a8888e50253bc6ceba9"
            }
          },
          "metadata": {}
        },
        {
          "output_type": "display_data",
          "data": {
            "text/plain": [
              "config.json: 0.00B [00:00, ?B/s]"
            ],
            "application/vnd.jupyter.widget-view+json": {
              "version_major": 2,
              "version_minor": 0,
              "model_id": "2f5f9b2a9e7b4ac684fd520e796d5965"
            }
          },
          "metadata": {}
        },
        {
          "output_type": "display_data",
          "data": {
            "text/plain": [
              "minicoil.triplet.model.vocab: 0.00B [00:00, ?B/s]"
            ],
            "application/vnd.jupyter.widget-view+json": {
              "version_major": 2,
              "version_minor": 0,
              "model_id": "736f64ce9b1a43d3873356027d40168d"
            }
          },
          "metadata": {}
        },
        {
          "output_type": "display_data",
          "data": {
            "text/plain": [
              "special_tokens_map.json:   0%|          | 0.00/125 [00:00<?, ?B/s]"
            ],
            "application/vnd.jupyter.widget-view+json": {
              "version_major": 2,
              "version_minor": 0,
              "model_id": "585cc029c2234c8ab294fbfe37fac318"
            }
          },
          "metadata": {}
        }
      ],
      "source": [
        "sparse_embeddings = FastEmbedSparse(model_name=\"Qdrant/minicoil-v1\")"
      ]
    },
    {
      "cell_type": "code",
      "execution_count": 13,
      "metadata": {
        "colab": {
          "base_uri": "https://localhost:8080/",
          "height": 264,
          "referenced_widgets": [
            "8329a261d12f4016a227bb3fed2969a7",
            "fd8dcf1296124eeca5542eab1e3fa9ae",
            "c503ca7a5a2d4d4697c5f8669c89c02c",
            "8bf61ab20d2242a2abbbb184fc2c298d",
            "2eb99ac745f8431f868d73b5d9553daf",
            "9b08fa0158534c99b218e1f092bae136",
            "8f23a7af1b07448cb60ecd1b9383b61f",
            "838fd9ac734c4ea282da1b1d069dbf21",
            "2a96ebce5dd64c8e95a97c75dd2dd029",
            "45ad750664b1474d96653a40568ba02c",
            "5b128d37ab3e428197e7ddeea6e6d29f",
            "477c847af2154530a7873227ff2b6506",
            "093e2f6d99db4681a28e5f837066d405",
            "a2ae96d18f1d4d2fb781476fdfae1a29",
            "ca388397b34d45cfac810a48725b3fc2",
            "6243d62a2797480196660738a624f396",
            "f611e0ae00464cbd90e0231fd24418cd",
            "0ff47bc4e2fb4442a550b391a8b75033",
            "b021f0950e484ea982d6c5c3fa36a6e3",
            "7b9747e2db5f436b9fa793ac23b4cef9",
            "dd9c26a8a02e45cd99a6dc8b6f02d199",
            "785c6ad18f714b7485054daa77f63616",
            "a69377ee8b134a49b284a20881117b47",
            "af071fc1d91b4d63a51700affabc35f6",
            "26761be349b24133860f7c95578a4508",
            "54fbd1ca862344c4af8401b2c684b7ff",
            "aa15293b6064406e892f2fec8af5266c",
            "39e4d51adc6343f68d3b68ac68502daa",
            "dae12aacba6d4fcdaaa67111f198d180",
            "bebdbb7b826945c6bbc95e0bb6b4d1ea",
            "6c089a0d820440d1b6206da8f1d1879f",
            "b54eb70753734d7eb39afe0123aea609",
            "b0edf3a6a2c04602b313179e63fb1566",
            "1c8d7c95f8f145e8b9045e97fa4a2b12",
            "7d330003af034185a2c5684a591b52b6",
            "2d31e4768db34250989fa7914894196d",
            "aff599166c934e18a168a01e6cc95502",
            "4fcf6f044bcc4995ad16665830e7f6e6",
            "f49b75834f404322b48027df2de7f44f",
            "b59ee9ba3f9f49c99af2c9165377514c",
            "7a29d838a7e940b8ad0eea88519f9842",
            "275943172473432f987e520d5485a8d4",
            "65e17f5fd2c9420494009bc8ea01a793",
            "51d8aa090feb45469a3495abf91cb1b5",
            "e9889c9e685e409e8bdf12067138939f",
            "111afdaadef447b4babe6d8609096f5e",
            "6218e04b6f524ffca3e8ee3b67162e2f",
            "fb1565d99fbc41da8f80b0ebc65ef23c",
            "9866f9bde2ae489dba1ce3a44774dd5c",
            "f670964bb2a248f290506c26fbcc4992",
            "64ecd29ca4aa4ae7985b1f1bbc343098",
            "c7aed4e07c6b49a7a1325a73817586be",
            "3f9e169a1ff94c13896d6504619d5456",
            "faa5084254dd4822876133c04feb689f",
            "19f89320b4384f98956dead4e0efce37",
            "fb0d2a8d30a34de1a36160de86215ce7",
            "eaa979e623604fcc8c769d9b339347fb",
            "a059e9b52339483dada54db848b15d42",
            "b2cc7963f2324b11ba06f9f66ac0b86c",
            "7fa1aa019a2c4959a4a16fcecaa45c21",
            "fed23f5321e64b7286cd107a55344970",
            "2351aac5684c40478e90667c70ffedf9",
            "c812e75d8dc7431492dc2e025ebe92ac",
            "58dfdd3939684a4296f219f1d4ab6b4b",
            "d34ad7b1dd78428db19f0c3ea0ce7df4",
            "11c6b8ec09604b72b953e593ba641c21"
          ]
        },
        "id": "uU8II0J0-GG4",
        "outputId": "5b0386fa-46d7-49de-da1c-793c6bb4c0d4"
      },
      "outputs": [
        {
          "output_type": "stream",
          "name": "stderr",
          "text": [
            "/usr/local/lib/python3.12/dist-packages/langchain_community/embeddings/fastembed.py:109: UserWarning: The model thenlper/gte-large now uses mean pooling instead of CLS embedding. In order to preserve the previous behaviour, consider either pinning fastembed version to 0.5.1 or using `add_custom_model` functionality.\n",
            "  values[\"model\"] = fastembed.TextEmbedding(\n"
          ]
        },
        {
          "output_type": "display_data",
          "data": {
            "text/plain": [
              "Fetching 5 files:   0%|          | 0/5 [00:00<?, ?it/s]"
            ],
            "application/vnd.jupyter.widget-view+json": {
              "version_major": 2,
              "version_minor": 0,
              "model_id": "8329a261d12f4016a227bb3fed2969a7"
            }
          },
          "metadata": {}
        },
        {
          "output_type": "display_data",
          "data": {
            "text/plain": [
              "model.onnx:   0%|          | 0.00/1.34G [00:00<?, ?B/s]"
            ],
            "application/vnd.jupyter.widget-view+json": {
              "version_major": 2,
              "version_minor": 0,
              "model_id": "477c847af2154530a7873227ff2b6506"
            }
          },
          "metadata": {}
        },
        {
          "output_type": "display_data",
          "data": {
            "text/plain": [
              "config.json:   0%|          | 0.00/660 [00:00<?, ?B/s]"
            ],
            "application/vnd.jupyter.widget-view+json": {
              "version_major": 2,
              "version_minor": 0,
              "model_id": "a69377ee8b134a49b284a20881117b47"
            }
          },
          "metadata": {}
        },
        {
          "output_type": "display_data",
          "data": {
            "text/plain": [
              "tokenizer.json: 0.00B [00:00, ?B/s]"
            ],
            "application/vnd.jupyter.widget-view+json": {
              "version_major": 2,
              "version_minor": 0,
              "model_id": "1c8d7c95f8f145e8b9045e97fa4a2b12"
            }
          },
          "metadata": {}
        },
        {
          "output_type": "display_data",
          "data": {
            "text/plain": [
              "tokenizer_config.json: 0.00B [00:00, ?B/s]"
            ],
            "application/vnd.jupyter.widget-view+json": {
              "version_major": 2,
              "version_minor": 0,
              "model_id": "e9889c9e685e409e8bdf12067138939f"
            }
          },
          "metadata": {}
        },
        {
          "output_type": "display_data",
          "data": {
            "text/plain": [
              "special_tokens_map.json:   0%|          | 0.00/695 [00:00<?, ?B/s]"
            ],
            "application/vnd.jupyter.widget-view+json": {
              "version_major": 2,
              "version_minor": 0,
              "model_id": "fb0d2a8d30a34de1a36160de86215ce7"
            }
          },
          "metadata": {}
        }
      ],
      "source": [
        "embeddings = FastEmbedEmbeddings(model_name=\"thenlper/gte-large\")"
      ]
    },
    {
      "cell_type": "markdown",
      "metadata": {
        "id": "wJoUmV1LJhGh"
      },
      "source": [
        "## Vector store: Qdrant\n",
        "\n",
        "- RetrievalMode: Hybrid,\n",
        "\n",
        "Dense (Vector based search) or Sparse (Keyword based search)"
      ]
    },
    {
      "cell_type": "code",
      "execution_count": 14,
      "metadata": {
        "id": "WyfHxoJVpjMT",
        "outputId": "5e3f2c5e-768f-4dc5-93a2-6c1c1b5ff2ea",
        "colab": {
          "base_uri": "https://localhost:8080/",
          "height": 280
        }
      },
      "outputs": [
        {
          "output_type": "error",
          "ename": "SecretNotFoundError",
          "evalue": "Secret QDRANT_API_KEY does not exist.",
          "traceback": [
            "\u001b[0;31m---------------------------------------------------------------------------\u001b[0m",
            "\u001b[0;31mSecretNotFoundError\u001b[0m                       Traceback (most recent call last)",
            "\u001b[0;32m/tmp/ipython-input-4148388868.py\u001b[0m in \u001b[0;36m<cell line: 0>\u001b[0;34m()\u001b[0m\n\u001b[0;32m----> 1\u001b[0;31m \u001b[0mapi_key\u001b[0m \u001b[0;34m=\u001b[0m \u001b[0muserdata\u001b[0m\u001b[0;34m.\u001b[0m\u001b[0mget\u001b[0m\u001b[0;34m(\u001b[0m\u001b[0;34m\"QDRANT_API_KEY\"\u001b[0m\u001b[0;34m)\u001b[0m\u001b[0;34m\u001b[0m\u001b[0;34m\u001b[0m\u001b[0m\n\u001b[0m\u001b[1;32m      2\u001b[0m \u001b[0mendpoint_url\u001b[0m \u001b[0;34m=\u001b[0m \u001b[0muserdata\u001b[0m\u001b[0;34m.\u001b[0m\u001b[0mget\u001b[0m\u001b[0;34m(\u001b[0m\u001b[0;34m\"QDRANT_URL\"\u001b[0m\u001b[0;34m)\u001b[0m\u001b[0;34m\u001b[0m\u001b[0;34m\u001b[0m\u001b[0m\n",
            "\u001b[0;32m/usr/local/lib/python3.12/dist-packages/google/colab/userdata.py\u001b[0m in \u001b[0;36mget\u001b[0;34m(key)\u001b[0m\n\u001b[1;32m     66\u001b[0m     \u001b[0;32mraise\u001b[0m \u001b[0mTimeoutException\u001b[0m\u001b[0;34m(\u001b[0m\u001b[0mkey\u001b[0m\u001b[0;34m)\u001b[0m\u001b[0;34m\u001b[0m\u001b[0;34m\u001b[0m\u001b[0m\n\u001b[1;32m     67\u001b[0m   \u001b[0;32mif\u001b[0m \u001b[0;32mnot\u001b[0m \u001b[0mresp\u001b[0m\u001b[0;34m.\u001b[0m\u001b[0mget\u001b[0m\u001b[0;34m(\u001b[0m\u001b[0;34m'exists'\u001b[0m\u001b[0;34m,\u001b[0m \u001b[0;32mFalse\u001b[0m\u001b[0;34m)\u001b[0m\u001b[0;34m:\u001b[0m\u001b[0;34m\u001b[0m\u001b[0;34m\u001b[0m\u001b[0m\n\u001b[0;32m---> 68\u001b[0;31m     \u001b[0;32mraise\u001b[0m \u001b[0mSecretNotFoundError\u001b[0m\u001b[0;34m(\u001b[0m\u001b[0mkey\u001b[0m\u001b[0;34m)\u001b[0m\u001b[0;34m\u001b[0m\u001b[0;34m\u001b[0m\u001b[0m\n\u001b[0m\u001b[1;32m     69\u001b[0m   \u001b[0;32mif\u001b[0m \u001b[0;32mnot\u001b[0m \u001b[0mresp\u001b[0m\u001b[0;34m.\u001b[0m\u001b[0mget\u001b[0m\u001b[0;34m(\u001b[0m\u001b[0;34m'access'\u001b[0m\u001b[0;34m,\u001b[0m \u001b[0;32mFalse\u001b[0m\u001b[0;34m)\u001b[0m\u001b[0;34m:\u001b[0m\u001b[0;34m\u001b[0m\u001b[0;34m\u001b[0m\u001b[0m\n\u001b[1;32m     70\u001b[0m     \u001b[0;32mraise\u001b[0m \u001b[0mNotebookAccessError\u001b[0m\u001b[0;34m(\u001b[0m\u001b[0mkey\u001b[0m\u001b[0;34m)\u001b[0m\u001b[0;34m\u001b[0m\u001b[0;34m\u001b[0m\u001b[0m\n",
            "\u001b[0;31mSecretNotFoundError\u001b[0m: Secret QDRANT_API_KEY does not exist."
          ]
        }
      ],
      "source": [
        "api_key = userdata.get(\"QDRANT_API_KEY\")\n",
        "endpoint_url = userdata.get(\"QDRANT_URL\")"
      ]
    },
    {
      "cell_type": "code",
      "source": [
        "!ls /tmp/\n",
        "# !mkdir /tmp/evalapp"
      ],
      "metadata": {
        "id": "U6M0uhEAtcu1",
        "outputId": "77e05b0b-fe8a-41fa-de01-99111245c5ab",
        "colab": {
          "base_uri": "https://localhost:8080/"
        }
      },
      "execution_count": 17,
      "outputs": [
        {
          "output_type": "stream",
          "name": "stdout",
          "text": [
            "colab_runtime.sock\n",
            "dap_multiplexer.e61c3be6a014.root.log.INFO.20250901-182441.83\n",
            "dap_multiplexer.INFO\n",
            "debugger_hole0ecj3\n",
            "evalapp\n",
            "fastembed_cache\n",
            "initgoogle_syslog_dir.0\n",
            "language_service.e61c3be6a014.root.log.ERROR.20250901-183559.719\n",
            "language_service.e61c3be6a014.root.log.INFO.20250901-182456.169\n",
            "language_service.e61c3be6a014.root.log.INFO.20250901-182635.658\n",
            "language_service.e61c3be6a014.root.log.INFO.20250901-182646.719\n",
            "language_service.e61c3be6a014.root.log.WARNING.20250901-183559.719\n",
            "language_service.ERROR\n",
            "language_service.INFO\n",
            "language_service.WARNING\n",
            "pyright-176-xqbFmkWZVED1\n",
            "pyright-664-DJUnvogA1eKN\n",
            "pyright-725-nKLivzOTFHsm\n",
            "pyright-725-TPiZUFVBtBnU\n",
            "python-languageserver-cancellation\n"
          ]
        }
      ]
    },
    {
      "cell_type": "code",
      "execution_count": 18,
      "metadata": {
        "id": "p021AyAc4MYA"
      },
      "outputs": [],
      "source": [
        "# client = QdrantClient(api_key=api_key,\n",
        "#                       url=endpoint_url)\n",
        "\n",
        "client = QdrantClient(path=\"/tmp/evalapp\")"
      ]
    },
    {
      "cell_type": "code",
      "execution_count": 19,
      "metadata": {
        "id": "2uO0ndAz9Rw5"
      },
      "outputs": [],
      "source": [
        "collection_name = \"initialv1\""
      ]
    },
    {
      "cell_type": "code",
      "execution_count": 20,
      "metadata": {
        "colab": {
          "base_uri": "https://localhost:8080/"
        },
        "id": "wSXRGWAm_xEy",
        "outputId": "c50a913e-568b-4cba-c5e9-522df81b0d6a"
      },
      "outputs": [
        {
          "output_type": "execute_result",
          "data": {
            "text/plain": [
              "True"
            ]
          },
          "metadata": {},
          "execution_count": 20
        }
      ],
      "source": [
        "#create space to save the data\n",
        "client.create_collection(\n",
        "    collection_name=collection_name,\n",
        "    vectors_config={\"dense\": VectorParams(size=1024, distance=Distance.COSINE,on_disk=True)},\n",
        "    sparse_vectors_config={\n",
        "        \"sparse\": SparseVectorParams(index=models.SparseIndexParams(on_disk=True))\n",
        "    },\n",
        ")"
      ]
    },
    {
      "cell_type": "code",
      "execution_count": 21,
      "metadata": {
        "id": "DNKTWL72_xHY"
      },
      "outputs": [],
      "source": [
        "qdrant = QdrantVectorStore(\n",
        "    client=client,\n",
        "    collection_name=collection_name,\n",
        "    embedding=embeddings, # dense embeddings\n",
        "    sparse_embedding=sparse_embeddings, # sparse embeddings\n",
        "    retrieval_mode=RetrievalMode.HYBRID,\n",
        "    vector_name=\"dense\",\n",
        "    sparse_vector_name=\"sparse\",\n",
        ")"
      ]
    },
    {
      "cell_type": "code",
      "execution_count": 22,
      "metadata": {
        "id": "z9MejdvaATPM"
      },
      "outputs": [],
      "source": [
        "#generate a ID for each chunck\n",
        "from uuid import uuid4\n",
        "uuids = [str(uuid4()) for _ in range(len(chunks))]"
      ]
    },
    {
      "cell_type": "code",
      "execution_count": 23,
      "metadata": {
        "colab": {
          "base_uri": "https://localhost:8080/"
        },
        "id": "vl4s_ZOiKrYk",
        "outputId": "cf3b1d37-d821-47d5-aaf2-45aead5509e5"
      },
      "outputs": [
        {
          "output_type": "execute_result",
          "data": {
            "text/plain": [
              "37"
            ]
          },
          "metadata": {},
          "execution_count": 23
        }
      ],
      "source": [
        "len(uuids)"
      ]
    },
    {
      "cell_type": "code",
      "execution_count": 24,
      "metadata": {
        "colab": {
          "base_uri": "https://localhost:8080/"
        },
        "id": "zvZZK28AKxW9",
        "outputId": "13917d34-71be-416a-ac4e-b7dee2390b16"
      },
      "outputs": [
        {
          "output_type": "execute_result",
          "data": {
            "text/plain": [
              "37"
            ]
          },
          "metadata": {},
          "execution_count": 24
        }
      ],
      "source": [
        "len(chunks)"
      ]
    },
    {
      "cell_type": "code",
      "source": [],
      "metadata": {
        "id": "aKsEy3yxwwbJ"
      },
      "execution_count": null,
      "outputs": []
    },
    {
      "cell_type": "code",
      "execution_count": 25,
      "metadata": {
        "id": "XdxRKO9z_xJ_",
        "outputId": "eddd2d98-f975-4dfe-ce69-995f52dd597e",
        "colab": {
          "base_uri": "https://localhost:8080/"
        }
      },
      "outputs": [
        {
          "output_type": "execute_result",
          "data": {
            "text/plain": [
              "['7e0581c5-373c-4427-a249-e4e62c3be206',\n",
              " '684ed49f-14fe-4261-ac40-4fc46dd70aea',\n",
              " 'cb450fde-f3e5-41a9-9536-06c78c7cb9d3',\n",
              " 'bb13a56c-f40d-4a10-9ddc-87810bf4c72a',\n",
              " '25fa3f1a-8073-4b89-ba3d-df11198d775a',\n",
              " '78ceb990-769f-42dd-b2bc-03b81db1cf81',\n",
              " 'eeaad16d-8755-4dbc-80bf-ba9aa3b76edd',\n",
              " 'cad6f30a-2a05-469e-ade9-4625c91eb7a4',\n",
              " '8a5b8d14-5b31-4a38-b42c-903add18efcc',\n",
              " '4e6abeed-4b59-44f2-89f1-f672fdeb6333',\n",
              " '04fb0d19-80dc-4290-9323-dec11931690a',\n",
              " 'a6a33049-1807-4871-9fd6-68590284b3a7',\n",
              " 'b4d24d1d-5665-4855-8e07-cb5feb47d730',\n",
              " 'dd53fe47-0472-4590-a28e-4e803f04a1c8',\n",
              " 'b3ac7399-9d88-4f25-8012-81494c52c998',\n",
              " '7ad35bc6-97a6-4095-9bad-7452fe9ae531',\n",
              " 'd93e6441-0694-4f92-8a1f-9596b21e2b02',\n",
              " 'fc55d89f-a2e4-4509-9c80-c5593b68c2ef',\n",
              " 'd6246703-dec8-4662-ab92-ecaa608c5fd9',\n",
              " 'b6dd8657-5065-4089-a39e-659fd6be2bfc',\n",
              " 'fe7da495-033c-4600-b1ae-efa29f375e25',\n",
              " '4f52ff6e-a9e7-443a-96f7-d581fdfadbd6',\n",
              " 'df7ac5fe-fed0-45a7-80af-2fe5acfdd9cc',\n",
              " '02d0c2cb-4385-4eeb-aaf9-723c2459fd99',\n",
              " 'a0054a65-6e5c-47f2-b8a9-a88acfbf8bcc',\n",
              " '1588417c-4307-42cd-baf7-1ff3f72b92cb',\n",
              " 'c4b87444-9e50-46fd-ac26-69f7eb150254',\n",
              " '65f1fdcc-ed80-4a54-8e3d-c794954bee14',\n",
              " 'ff74857c-3e99-4d1d-942d-d8c1706552b5',\n",
              " '4a0d6c25-5522-47d0-982b-408009ed3cff',\n",
              " 'c545db94-fb4c-4bdd-8892-6148458304b2',\n",
              " '22e2f7f5-09da-4d75-9a82-45af4e0ff398',\n",
              " '6ac09d1a-8af2-4803-ae9e-464ac010bc2d',\n",
              " '80ad5d4b-ef42-4fe2-809d-2ac6a26ef9ac',\n",
              " '7b0b3c1c-dcab-4814-8c29-ab401f4f65e7',\n",
              " '3bf7ef81-48fa-4e90-bd12-d865082296e3',\n",
              " 'cb5f1773-304d-4fb9-bb1c-8941960055ab']"
            ]
          },
          "metadata": {},
          "execution_count": 25
        }
      ],
      "source": [
        "qdrant.add_documents(documents=chunks,ids=uuids)"
      ]
    },
    {
      "cell_type": "code",
      "source": [
        "#check where data is saved\n",
        "!ls /tmp/evalapp/collection/"
      ],
      "metadata": {
        "id": "CCrvoEHkwyEj",
        "outputId": "f8185a4b-5db2-4f01-ba82-e29e46994373",
        "colab": {
          "base_uri": "https://localhost:8080/"
        }
      },
      "execution_count": 26,
      "outputs": [
        {
          "output_type": "stream",
          "name": "stdout",
          "text": [
            "initialv1\n"
          ]
        }
      ]
    },
    {
      "cell_type": "code",
      "source": [
        "#try to retrieve some relevant info (k=4 by default)\n",
        "# qdrant.similarity_search(\"what is a breach of policy?\") #will retrieve top 4\n",
        "# len(qdrant.similarity_search(\"what is a breach of policy?\"))\n",
        "qdrant.max_marginal_relevance_search(\"what is a breach of policy?\")"
      ],
      "metadata": {
        "id": "M61y0zO6xGyB",
        "outputId": "f9ff69ec-1e32-4661-d8c6-81eaa55f10a4",
        "colab": {
          "base_uri": "https://localhost:8080/"
        }
      },
      "execution_count": 29,
      "outputs": [
        {
          "output_type": "execute_result",
          "data": {
            "text/plain": [
              "[Document(metadata={'source': 'policy.pdf', 'file_path': 'policy.pdf', 'page': 15, 'total_pages': 33, 'Title': 'IT Policies and Procedures Manual Template', 'Author': 'Business Victoria (www.business.vic.gov.au)', 'Subject': 'IT Policies and Procedures Manual Template', 'Creator': 'Microsoft® Word 2010', 'CreationDate': \"D:20160513175204+02'00'\", 'ModDate': \"D:20160513175204+02'00'\", 'Producer': 'Microsoft® Word 2010', '_id': 'd6246703-dec8-4662-ab92-ecaa608c5fd9', '_collection_name': 'initialv1'}, page_content='IT Policy and Procedure Manual\\nBreach of Policy\\nWhere there is a breach of this policy by an employee, that employee will be referred to {insert\\nrelevant job title here} for {insert consequence here, such as further consultation, reprimand\\naction etc.}\\nWhere an employee is aware of a breach of the use of software in accordance with this policy,\\nthey are obliged to notify {insert relevant job title here} immediately. In the event that the breach\\nis not reported and it is determined that an employee failed to report the breach, then that\\nemployee will be referred to {insert relevant job title here} for {insert consequence here, such as\\nfurther consultation, reprimand action etc.}\\nAdditional Policies for Use of Software\\nGuidance: add, link or remove the policies listed below as required.\\nTechnology Hardware Policy\\nObtaining Software policy\\nPage 13 of 30'),\n",
              " Document(metadata={'source': 'policy.pdf', 'file_path': 'policy.pdf', 'page': 3, 'total_pages': 33, 'Title': 'IT Policies and Procedures Manual Template', 'Author': 'Business Victoria (www.business.vic.gov.au)', 'Subject': 'IT Policies and Procedures Manual Template', 'Creator': 'Microsoft® Word 2010', 'CreationDate': \"D:20160513175204+02'00'\", 'ModDate': \"D:20160513175204+02'00'\", 'Producer': 'Microsoft® Word 2010', '_id': '78ceb990-769f-42dd-b2bc-03b81db1cf81', '_collection_name': 'initialv1'}, page_content='IT Service Agreements Policy ........................................................................................................... 27\\nPurpose of the Policy ..................................................................................................................... 27\\n(cid:9) (cid:9)\\n(cid:9)\\n(cid:9) (cid:9)'),\n",
              " Document(metadata={'source': 'policy.pdf', 'file_path': 'policy.pdf', 'page': 10, 'total_pages': 33, 'Title': 'IT Policies and Procedures Manual Template', 'Author': 'Business Victoria (www.business.vic.gov.au)', 'Subject': 'IT Policies and Procedures Manual Template', 'Creator': 'Microsoft® Word 2010', 'CreationDate': \"D:20160513175204+02'00'\", 'ModDate': \"D:20160513175204+02'00'\", 'Producer': 'Microsoft® Word 2010', '_id': 'b4d24d1d-5665-4855-8e07-cb5feb47d730', '_collection_name': 'initialv1'}, page_content='IT Policy and Procedure Manual\\nAll purchases of all mobile phones must be supported by{insert guarantee and/or warranty\\nrequirements here}.\\nAll purchases for mobile phones must be in line with the purchasing policy in the Financial\\npolicies and procedures manual.\\nAdditional Policies for Purchasing Hardware\\nGuidance: add, link or remove the policies listed below as required.\\nPurchasing Policy\\nMobile phone policy\\nPage 8 of 30'),\n",
              " Document(metadata={'source': 'policy.pdf', 'file_path': 'policy.pdf', 'page': 14, 'total_pages': 33, 'Title': 'IT Policies and Procedures Manual Template', 'Author': 'Business Victoria (www.business.vic.gov.au)', 'Subject': 'IT Policies and Procedures Manual Template', 'Creator': 'Microsoft® Word 2010', 'CreationDate': \"D:20160513175204+02'00'\", 'ModDate': \"D:20160513175204+02'00'\", 'Producer': 'Microsoft® Word 2010', '_id': 'fc55d89f-a2e4-4509-9c80-c5593b68c2ef', '_collection_name': 'initialv1'}, page_content='The illegal duplication of software or other copyrighted works is not condoned within this\\ninstitution and {insert relevant job title here} is authorised to undertake disciplinary action where\\nsuch event occurs.\\nPage 12 of 30')]"
            ]
          },
          "metadata": {},
          "execution_count": 29
        }
      ]
    },
    {
      "cell_type": "markdown",
      "source": [
        "##RAG\n",
        "-Retrieval: Qdrant - mmr or similarity search to get the context\n",
        "-Augmentation: system prompt and instructions\n",
        "-Generation: your lLM\n",
        "\n",
        "##Best practices to define a system prompt:\n",
        "-role play: you are a expert coder\n",
        "-instructions\n",
        "-motivation (negative sentiment)"
      ],
      "metadata": {
        "id": "Kl8D0LYnyjd3"
      }
    },
    {
      "cell_type": "code",
      "execution_count": 34,
      "metadata": {
        "id": "6QIfzjH2Ulwy"
      },
      "outputs": [],
      "source": [
        "from langchain_google_genai import ChatGoogleGenerativeAI\n",
        "from langchain_sambanova import ChatSambaNovaCloud"
      ]
    },
    {
      "cell_type": "code",
      "execution_count": 35,
      "metadata": {
        "id": "M_MO2v5FqJUl"
      },
      "outputs": [],
      "source": [
        "llm = ChatSambaNovaCloud(\n",
        "    model=\"Llama-4-Maverick-17B-128E-Instruct\",\n",
        "    max_tokens=1024,\n",
        "    temperature=0,\n",
        "    top_p=0.01,\n",
        ")\n",
        "# llm = ChatSambaNovaCloud(\n",
        "#     model=\"gemini-2.5-flash\",\n",
        "#     max_tokens=1024,\n",
        "#     temperature=0,\n",
        "#     top_p=0.01,\n",
        "# )"
      ]
    },
    {
      "cell_type": "code",
      "execution_count": 36,
      "metadata": {
        "id": "hJgONQhqUh-R"
      },
      "outputs": [],
      "source": [
        "eval_llm = ChatGoogleGenerativeAI(\n",
        "    model=\"gemini-2.5-flash\",\n",
        "    temperature=0,\n",
        "    max_tokens=None)"
      ]
    },
    {
      "cell_type": "code",
      "source": [
        "del chunks"
      ],
      "metadata": {
        "id": "fw-I4kyY6hnS"
      },
      "execution_count": 37,
      "outputs": []
    },
    {
      "cell_type": "code",
      "source": [
        "import gc\n",
        "gc.collect()"
      ],
      "metadata": {
        "colab": {
          "base_uri": "https://localhost:8080/"
        },
        "id": "j26A2PNP6Ych",
        "outputId": "43f34f73-49bb-47aa-9d78-4e7b47380361"
      },
      "execution_count": 38,
      "outputs": [
        {
          "output_type": "execute_result",
          "data": {
            "text/plain": [
              "90"
            ]
          },
          "metadata": {},
          "execution_count": 38
        }
      ]
    },
    {
      "cell_type": "markdown",
      "metadata": {
        "id": "5Ti0ksUqT7dt"
      },
      "source": [
        "## Generate dataset"
      ]
    },
    {
      "cell_type": "code",
      "execution_count": 39,
      "metadata": {
        "id": "gGFUQcncURgh"
      },
      "outputs": [],
      "source": [
        "from ragas.testset import TestsetGenerator\n",
        "from ragas.llms import LangchainLLMWrapper\n",
        "from ragas.embeddings import LangchainEmbeddingsWrapper"
      ]
    },
    {
      "cell_type": "code",
      "execution_count": 40,
      "metadata": {
        "id": "dCiWJgpoUda9"
      },
      "outputs": [],
      "source": [
        "evaluator_llm = LangchainLLMWrapper(eval_llm)\n",
        "evaluator_embeddings = LangchainEmbeddingsWrapper(embeddings)"
      ]
    },
    {
      "cell_type": "code",
      "execution_count": 99,
      "metadata": {
        "id": "SdBqVo6ZT9Gt"
      },
      "outputs": [],
      "source": [
        "generator = TestsetGenerator(llm=evaluator_llm, embedding_model=evaluator_embeddings)\n",
        "dataset = generator.generate_with_langchain_docs(data, testset_size=15)"
      ]
    },
    {
      "cell_type": "code",
      "execution_count": 100,
      "metadata": {
        "colab": {
          "base_uri": "https://localhost:8080/",
          "height": 520
        },
        "id": "HOnTPZlDVqic",
        "outputId": "a771da3a-98de-43a2-e508-3a60c7ec5d25"
      },
      "outputs": [
        {
          "output_type": "execute_result",
          "data": {
            "text/plain": [
              "                                           user_input  \\\n",
              "0   What manual is for Information Technology, I n...   \n",
              "1   What steps for complete this IT Policy and Pro...   \n",
              "2   How to make IT Policy and Procedure Manual a l...   \n",
              "3   Where can I find the Electonic Transactions Po...   \n",
              "4   As Lena Petrova, overseeing IT and financial p...   \n",
              "5   Considering the institution's commitment to `E...   \n",
              "6   According to the IT Policy and Procedure Manua...   \n",
              "7   Lena Petrova, I need to know about the IT Poli...   \n",
              "8   How does IT audting help with informashun tech...   \n",
              "9   How to ensure staff compliance with the Bring ...   \n",
              "10  What are the consequences for breaching the Te...   \n",
              "11  Wot is the Information Technology Security Pol...   \n",
              "12  What are the exemption and breach rules for th...   \n",
              "13  According to the IT Policy and Procedure Manua...   \n",
              "14  What are the distinct purchasing policy requir...   \n",
              "\n",
              "                                   reference_contexts  \\\n",
              "0   [Information Technology Policy and Procedure\\n...   \n",
              "1   [IT Policy and Procedure Manual\\nHow to comple...   \n",
              "2   [IT Policy and Procedure Manual\\n5. Once you h...   \n",
              "3   [Information Technology\\nPolicy and Procedure ...   \n",
              "4   [IT Policy and Procedure Manual\\nProcedures......   \n",
              "5   [<1-hop>\\n\\nIT Policy and Procedure Manual\\nEm...   \n",
              "6   [<1-hop>\\n\\nIT Policy and Procedure Manual\\n ...   \n",
              "7   [<1-hop>\\n\\nIT Policy and Procedure Manual\\nAl...   \n",
              "8   [<1-hop>\\n\\nIT Policy and Procedure Manual\\n ...   \n",
              "9   [<1-hop>\\n\\nIT Policy and Procedure Manual\\n5....   \n",
              "10  [<1-hop>\\n\\nInformation Technology\\nPolicy and...   \n",
              "11  [<1-hop>\\n\\nInformation Technology Policy and ...   \n",
              "12  [<1-hop>\\n\\nIT Policy and Procedure Manual\\nAn...   \n",
              "13  [<1-hop>\\n\\nIT Policy and Procedure Manual\\nIn...   \n",
              "14  [<1-hop>\\n\\nIT Policy and Procedure Manual\\nAl...   \n",
              "\n",
              "                                            reference  \\\n",
              "0   The Information Technology Policy and Procedur...   \n",
              "1   To complete the template for an IT Policy and ...   \n",
              "2   To make the IT Policy and Procedure Manual a l...   \n",
              "3   The Electronic Transactions Policy is located ...   \n",
              "4   The section for Emergency Management of Inform...   \n",
              "5   Regarding `data privacy` for information colle...   \n",
              "6   The IT Policy and Procedure Manual provides po...   \n",
              "7   The IT Policy and Procedures for mobile device...   \n",
              "8   A technology audit is conducted to ensure that...   \n",
              "9   To ensure staff compliance with the Bring Your...   \n",
              "10  Any breach of the Technology Hardware Purchasi...   \n",
              "11  The Information Technology Security Policy is ...   \n",
              "12  The Purchasing Policy, as part of the IT Polic...   \n",
              "13  The Information Technology Administration Poli...   \n",
              "14  For mobile phones, all purchases must be suppo...   \n",
              "\n",
              "                        synthesizer_name  \n",
              "0   single_hop_specifc_query_synthesizer  \n",
              "1   single_hop_specifc_query_synthesizer  \n",
              "2   single_hop_specifc_query_synthesizer  \n",
              "3   single_hop_specifc_query_synthesizer  \n",
              "4   single_hop_specifc_query_synthesizer  \n",
              "5   multi_hop_abstract_query_synthesizer  \n",
              "6   multi_hop_abstract_query_synthesizer  \n",
              "7   multi_hop_abstract_query_synthesizer  \n",
              "8   multi_hop_abstract_query_synthesizer  \n",
              "9   multi_hop_abstract_query_synthesizer  \n",
              "10  multi_hop_specific_query_synthesizer  \n",
              "11  multi_hop_specific_query_synthesizer  \n",
              "12  multi_hop_specific_query_synthesizer  \n",
              "13  multi_hop_specific_query_synthesizer  \n",
              "14  multi_hop_specific_query_synthesizer  "
            ],
            "text/html": [
              "\n",
              "  <div id=\"df-2c47ec61-3c5f-4b44-8712-c4e218563d32\" class=\"colab-df-container\">\n",
              "    <div>\n",
              "<style scoped>\n",
              "    .dataframe tbody tr th:only-of-type {\n",
              "        vertical-align: middle;\n",
              "    }\n",
              "\n",
              "    .dataframe tbody tr th {\n",
              "        vertical-align: top;\n",
              "    }\n",
              "\n",
              "    .dataframe thead th {\n",
              "        text-align: right;\n",
              "    }\n",
              "</style>\n",
              "<table border=\"1\" class=\"dataframe\">\n",
              "  <thead>\n",
              "    <tr style=\"text-align: right;\">\n",
              "      <th></th>\n",
              "      <th>user_input</th>\n",
              "      <th>reference_contexts</th>\n",
              "      <th>reference</th>\n",
              "      <th>synthesizer_name</th>\n",
              "    </tr>\n",
              "  </thead>\n",
              "  <tbody>\n",
              "    <tr>\n",
              "      <th>0</th>\n",
              "      <td>What manual is for Information Technology, I n...</td>\n",
              "      <td>[Information Technology Policy and Procedure\\n...</td>\n",
              "      <td>The Information Technology Policy and Procedur...</td>\n",
              "      <td>single_hop_specifc_query_synthesizer</td>\n",
              "    </tr>\n",
              "    <tr>\n",
              "      <th>1</th>\n",
              "      <td>What steps for complete this IT Policy and Pro...</td>\n",
              "      <td>[IT Policy and Procedure Manual\\nHow to comple...</td>\n",
              "      <td>To complete the template for an IT Policy and ...</td>\n",
              "      <td>single_hop_specifc_query_synthesizer</td>\n",
              "    </tr>\n",
              "    <tr>\n",
              "      <th>2</th>\n",
              "      <td>How to make IT Policy and Procedure Manual a l...</td>\n",
              "      <td>[IT Policy and Procedure Manual\\n5. Once you h...</td>\n",
              "      <td>To make the IT Policy and Procedure Manual a l...</td>\n",
              "      <td>single_hop_specifc_query_synthesizer</td>\n",
              "    </tr>\n",
              "    <tr>\n",
              "      <th>3</th>\n",
              "      <td>Where can I find the Electonic Transactions Po...</td>\n",
              "      <td>[Information Technology\\nPolicy and Procedure ...</td>\n",
              "      <td>The Electronic Transactions Policy is located ...</td>\n",
              "      <td>single_hop_specifc_query_synthesizer</td>\n",
              "    </tr>\n",
              "    <tr>\n",
              "      <th>4</th>\n",
              "      <td>As Lena Petrova, overseeing IT and financial p...</td>\n",
              "      <td>[IT Policy and Procedure Manual\\nProcedures......</td>\n",
              "      <td>The section for Emergency Management of Inform...</td>\n",
              "      <td>single_hop_specifc_query_synthesizer</td>\n",
              "    </tr>\n",
              "    <tr>\n",
              "      <th>5</th>\n",
              "      <td>Considering the institution's commitment to `E...</td>\n",
              "      <td>[&lt;1-hop&gt;\\n\\nIT Policy and Procedure Manual\\nEm...</td>\n",
              "      <td>Regarding `data privacy` for information colle...</td>\n",
              "      <td>multi_hop_abstract_query_synthesizer</td>\n",
              "    </tr>\n",
              "    <tr>\n",
              "      <th>6</th>\n",
              "      <td>According to the IT Policy and Procedure Manua...</td>\n",
              "      <td>[&lt;1-hop&gt;\\n\\nIT Policy and Procedure Manual\\n ...</td>\n",
              "      <td>The IT Policy and Procedure Manual provides po...</td>\n",
              "      <td>multi_hop_abstract_query_synthesizer</td>\n",
              "    </tr>\n",
              "    <tr>\n",
              "      <th>7</th>\n",
              "      <td>Lena Petrova, I need to know about the IT Poli...</td>\n",
              "      <td>[&lt;1-hop&gt;\\n\\nIT Policy and Procedure Manual\\nAl...</td>\n",
              "      <td>The IT Policy and Procedures for mobile device...</td>\n",
              "      <td>multi_hop_abstract_query_synthesizer</td>\n",
              "    </tr>\n",
              "    <tr>\n",
              "      <th>8</th>\n",
              "      <td>How does IT audting help with informashun tech...</td>\n",
              "      <td>[&lt;1-hop&gt;\\n\\nIT Policy and Procedure Manual\\n ...</td>\n",
              "      <td>A technology audit is conducted to ensure that...</td>\n",
              "      <td>multi_hop_abstract_query_synthesizer</td>\n",
              "    </tr>\n",
              "    <tr>\n",
              "      <th>9</th>\n",
              "      <td>How to ensure staff compliance with the Bring ...</td>\n",
              "      <td>[&lt;1-hop&gt;\\n\\nIT Policy and Procedure Manual\\n5....</td>\n",
              "      <td>To ensure staff compliance with the Bring Your...</td>\n",
              "      <td>multi_hop_abstract_query_synthesizer</td>\n",
              "    </tr>\n",
              "    <tr>\n",
              "      <th>10</th>\n",
              "      <td>What are the consequences for breaching the Te...</td>\n",
              "      <td>[&lt;1-hop&gt;\\n\\nInformation Technology\\nPolicy and...</td>\n",
              "      <td>Any breach of the Technology Hardware Purchasi...</td>\n",
              "      <td>multi_hop_specific_query_synthesizer</td>\n",
              "    </tr>\n",
              "    <tr>\n",
              "      <th>11</th>\n",
              "      <td>Wot is the Information Technology Security Pol...</td>\n",
              "      <td>[&lt;1-hop&gt;\\n\\nInformation Technology Policy and ...</td>\n",
              "      <td>The Information Technology Security Policy is ...</td>\n",
              "      <td>multi_hop_specific_query_synthesizer</td>\n",
              "    </tr>\n",
              "    <tr>\n",
              "      <th>12</th>\n",
              "      <td>What are the exemption and breach rules for th...</td>\n",
              "      <td>[&lt;1-hop&gt;\\n\\nIT Policy and Procedure Manual\\nAn...</td>\n",
              "      <td>The Purchasing Policy, as part of the IT Polic...</td>\n",
              "      <td>multi_hop_specific_query_synthesizer</td>\n",
              "    </tr>\n",
              "    <tr>\n",
              "      <th>13</th>\n",
              "      <td>According to the IT Policy and Procedure Manua...</td>\n",
              "      <td>[&lt;1-hop&gt;\\n\\nIT Policy and Procedure Manual\\nIn...</td>\n",
              "      <td>The Information Technology Administration Poli...</td>\n",
              "      <td>multi_hop_specific_query_synthesizer</td>\n",
              "    </tr>\n",
              "    <tr>\n",
              "      <th>14</th>\n",
              "      <td>What are the distinct purchasing policy requir...</td>\n",
              "      <td>[&lt;1-hop&gt;\\n\\nIT Policy and Procedure Manual\\nAl...</td>\n",
              "      <td>For mobile phones, all purchases must be suppo...</td>\n",
              "      <td>multi_hop_specific_query_synthesizer</td>\n",
              "    </tr>\n",
              "  </tbody>\n",
              "</table>\n",
              "</div>\n",
              "    <div class=\"colab-df-buttons\">\n",
              "\n",
              "  <div class=\"colab-df-container\">\n",
              "    <button class=\"colab-df-convert\" onclick=\"convertToInteractive('df-2c47ec61-3c5f-4b44-8712-c4e218563d32')\"\n",
              "            title=\"Convert this dataframe to an interactive table.\"\n",
              "            style=\"display:none;\">\n",
              "\n",
              "  <svg xmlns=\"http://www.w3.org/2000/svg\" height=\"24px\" viewBox=\"0 -960 960 960\">\n",
              "    <path d=\"M120-120v-720h720v720H120Zm60-500h600v-160H180v160Zm220 220h160v-160H400v160Zm0 220h160v-160H400v160ZM180-400h160v-160H180v160Zm440 0h160v-160H620v160ZM180-180h160v-160H180v160Zm440 0h160v-160H620v160Z\"/>\n",
              "  </svg>\n",
              "    </button>\n",
              "\n",
              "  <style>\n",
              "    .colab-df-container {\n",
              "      display:flex;\n",
              "      gap: 12px;\n",
              "    }\n",
              "\n",
              "    .colab-df-convert {\n",
              "      background-color: #E8F0FE;\n",
              "      border: none;\n",
              "      border-radius: 50%;\n",
              "      cursor: pointer;\n",
              "      display: none;\n",
              "      fill: #1967D2;\n",
              "      height: 32px;\n",
              "      padding: 0 0 0 0;\n",
              "      width: 32px;\n",
              "    }\n",
              "\n",
              "    .colab-df-convert:hover {\n",
              "      background-color: #E2EBFA;\n",
              "      box-shadow: 0px 1px 2px rgba(60, 64, 67, 0.3), 0px 1px 3px 1px rgba(60, 64, 67, 0.15);\n",
              "      fill: #174EA6;\n",
              "    }\n",
              "\n",
              "    .colab-df-buttons div {\n",
              "      margin-bottom: 4px;\n",
              "    }\n",
              "\n",
              "    [theme=dark] .colab-df-convert {\n",
              "      background-color: #3B4455;\n",
              "      fill: #D2E3FC;\n",
              "    }\n",
              "\n",
              "    [theme=dark] .colab-df-convert:hover {\n",
              "      background-color: #434B5C;\n",
              "      box-shadow: 0px 1px 3px 1px rgba(0, 0, 0, 0.15);\n",
              "      filter: drop-shadow(0px 1px 2px rgba(0, 0, 0, 0.3));\n",
              "      fill: #FFFFFF;\n",
              "    }\n",
              "  </style>\n",
              "\n",
              "    <script>\n",
              "      const buttonEl =\n",
              "        document.querySelector('#df-2c47ec61-3c5f-4b44-8712-c4e218563d32 button.colab-df-convert');\n",
              "      buttonEl.style.display =\n",
              "        google.colab.kernel.accessAllowed ? 'block' : 'none';\n",
              "\n",
              "      async function convertToInteractive(key) {\n",
              "        const element = document.querySelector('#df-2c47ec61-3c5f-4b44-8712-c4e218563d32');\n",
              "        const dataTable =\n",
              "          await google.colab.kernel.invokeFunction('convertToInteractive',\n",
              "                                                    [key], {});\n",
              "        if (!dataTable) return;\n",
              "\n",
              "        const docLinkHtml = 'Like what you see? Visit the ' +\n",
              "          '<a target=\"_blank\" href=https://colab.research.google.com/notebooks/data_table.ipynb>data table notebook</a>'\n",
              "          + ' to learn more about interactive tables.';\n",
              "        element.innerHTML = '';\n",
              "        dataTable['output_type'] = 'display_data';\n",
              "        await google.colab.output.renderOutput(dataTable, element);\n",
              "        const docLink = document.createElement('div');\n",
              "        docLink.innerHTML = docLinkHtml;\n",
              "        element.appendChild(docLink);\n",
              "      }\n",
              "    </script>\n",
              "  </div>\n",
              "\n",
              "\n",
              "    <div id=\"df-891dbf64-eff6-4412-813b-634c902a1997\">\n",
              "      <button class=\"colab-df-quickchart\" onclick=\"quickchart('df-891dbf64-eff6-4412-813b-634c902a1997')\"\n",
              "                title=\"Suggest charts\"\n",
              "                style=\"display:none;\">\n",
              "\n",
              "<svg xmlns=\"http://www.w3.org/2000/svg\" height=\"24px\"viewBox=\"0 0 24 24\"\n",
              "     width=\"24px\">\n",
              "    <g>\n",
              "        <path d=\"M19 3H5c-1.1 0-2 .9-2 2v14c0 1.1.9 2 2 2h14c1.1 0 2-.9 2-2V5c0-1.1-.9-2-2-2zM9 17H7v-7h2v7zm4 0h-2V7h2v10zm4 0h-2v-4h2v4z\"/>\n",
              "    </g>\n",
              "</svg>\n",
              "      </button>\n",
              "\n",
              "<style>\n",
              "  .colab-df-quickchart {\n",
              "      --bg-color: #E8F0FE;\n",
              "      --fill-color: #1967D2;\n",
              "      --hover-bg-color: #E2EBFA;\n",
              "      --hover-fill-color: #174EA6;\n",
              "      --disabled-fill-color: #AAA;\n",
              "      --disabled-bg-color: #DDD;\n",
              "  }\n",
              "\n",
              "  [theme=dark] .colab-df-quickchart {\n",
              "      --bg-color: #3B4455;\n",
              "      --fill-color: #D2E3FC;\n",
              "      --hover-bg-color: #434B5C;\n",
              "      --hover-fill-color: #FFFFFF;\n",
              "      --disabled-bg-color: #3B4455;\n",
              "      --disabled-fill-color: #666;\n",
              "  }\n",
              "\n",
              "  .colab-df-quickchart {\n",
              "    background-color: var(--bg-color);\n",
              "    border: none;\n",
              "    border-radius: 50%;\n",
              "    cursor: pointer;\n",
              "    display: none;\n",
              "    fill: var(--fill-color);\n",
              "    height: 32px;\n",
              "    padding: 0;\n",
              "    width: 32px;\n",
              "  }\n",
              "\n",
              "  .colab-df-quickchart:hover {\n",
              "    background-color: var(--hover-bg-color);\n",
              "    box-shadow: 0 1px 2px rgba(60, 64, 67, 0.3), 0 1px 3px 1px rgba(60, 64, 67, 0.15);\n",
              "    fill: var(--button-hover-fill-color);\n",
              "  }\n",
              "\n",
              "  .colab-df-quickchart-complete:disabled,\n",
              "  .colab-df-quickchart-complete:disabled:hover {\n",
              "    background-color: var(--disabled-bg-color);\n",
              "    fill: var(--disabled-fill-color);\n",
              "    box-shadow: none;\n",
              "  }\n",
              "\n",
              "  .colab-df-spinner {\n",
              "    border: 2px solid var(--fill-color);\n",
              "    border-color: transparent;\n",
              "    border-bottom-color: var(--fill-color);\n",
              "    animation:\n",
              "      spin 1s steps(1) infinite;\n",
              "  }\n",
              "\n",
              "  @keyframes spin {\n",
              "    0% {\n",
              "      border-color: transparent;\n",
              "      border-bottom-color: var(--fill-color);\n",
              "      border-left-color: var(--fill-color);\n",
              "    }\n",
              "    20% {\n",
              "      border-color: transparent;\n",
              "      border-left-color: var(--fill-color);\n",
              "      border-top-color: var(--fill-color);\n",
              "    }\n",
              "    30% {\n",
              "      border-color: transparent;\n",
              "      border-left-color: var(--fill-color);\n",
              "      border-top-color: var(--fill-color);\n",
              "      border-right-color: var(--fill-color);\n",
              "    }\n",
              "    40% {\n",
              "      border-color: transparent;\n",
              "      border-right-color: var(--fill-color);\n",
              "      border-top-color: var(--fill-color);\n",
              "    }\n",
              "    60% {\n",
              "      border-color: transparent;\n",
              "      border-right-color: var(--fill-color);\n",
              "    }\n",
              "    80% {\n",
              "      border-color: transparent;\n",
              "      border-right-color: var(--fill-color);\n",
              "      border-bottom-color: var(--fill-color);\n",
              "    }\n",
              "    90% {\n",
              "      border-color: transparent;\n",
              "      border-bottom-color: var(--fill-color);\n",
              "    }\n",
              "  }\n",
              "</style>\n",
              "\n",
              "      <script>\n",
              "        async function quickchart(key) {\n",
              "          const quickchartButtonEl =\n",
              "            document.querySelector('#' + key + ' button');\n",
              "          quickchartButtonEl.disabled = true;  // To prevent multiple clicks.\n",
              "          quickchartButtonEl.classList.add('colab-df-spinner');\n",
              "          try {\n",
              "            const charts = await google.colab.kernel.invokeFunction(\n",
              "                'suggestCharts', [key], {});\n",
              "          } catch (error) {\n",
              "            console.error('Error during call to suggestCharts:', error);\n",
              "          }\n",
              "          quickchartButtonEl.classList.remove('colab-df-spinner');\n",
              "          quickchartButtonEl.classList.add('colab-df-quickchart-complete');\n",
              "        }\n",
              "        (() => {\n",
              "          let quickchartButtonEl =\n",
              "            document.querySelector('#df-891dbf64-eff6-4412-813b-634c902a1997 button');\n",
              "          quickchartButtonEl.style.display =\n",
              "            google.colab.kernel.accessAllowed ? 'block' : 'none';\n",
              "        })();\n",
              "      </script>\n",
              "    </div>\n",
              "\n",
              "    </div>\n",
              "  </div>\n"
            ],
            "application/vnd.google.colaboratory.intrinsic+json": {
              "type": "dataframe",
              "summary": "{\n  \"name\": \"dataset\",\n  \"rows\": 15,\n  \"fields\": [\n    {\n      \"column\": \"user_input\",\n      \"properties\": {\n        \"dtype\": \"string\",\n        \"num_unique_values\": 15,\n        \"samples\": [\n          \"How to ensure staff compliance with the Bring Your Own Device Policy, including its regular review?\",\n          \"Wot is the Information Technology Security Policy and how it relates to electronic purchases in the IT Policy Manual?\",\n          \"What manual is for Information Technology, I need check policies for controls?\"\n        ],\n        \"semantic_type\": \"\",\n        \"description\": \"\"\n      }\n    },\n    {\n      \"column\": \"reference_contexts\",\n      \"properties\": {\n        \"dtype\": \"object\",\n        \"semantic_type\": \"\",\n        \"description\": \"\"\n      }\n    },\n    {\n      \"column\": \"reference\",\n      \"properties\": {\n        \"dtype\": \"string\",\n        \"num_unique_values\": 15,\n        \"samples\": [\n          \"To ensure staff compliance with the Bring Your Own Device Policy, which all staff are bound by and should read and carry out, the policy manual should be made a living document by asking staff for their thoughts on how to improve it and reviewing it every six months. Additionally, explaining policies and procedures should be an important part of the induction process, using simple sentences and plain English to reduce the chance an employee or manager will be confused about the policy's intent or procedure.\",\n          \"The Information Technology Security Policy is listed as an additional policy for electronic transactions within the IT Policy and Procedure Manual. Regarding electronic purchases, the manual specifies that all electronic purchases must adhere to the purchasing policy in the Financial policies and procedures manual. Furthermore, the person authorising an electronic purchase must ensure the internet sales site is secure and safe, and all such purchases must be undertaken using institution credit cards only, adhering to the institution credit card policy.\",\n          \"The Information Technology Policy and Procedure Manual Template.\"\n        ],\n        \"semantic_type\": \"\",\n        \"description\": \"\"\n      }\n    },\n    {\n      \"column\": \"synthesizer_name\",\n      \"properties\": {\n        \"dtype\": \"category\",\n        \"num_unique_values\": 3,\n        \"samples\": [\n          \"single_hop_specifc_query_synthesizer\",\n          \"multi_hop_abstract_query_synthesizer\",\n          \"multi_hop_specific_query_synthesizer\"\n        ],\n        \"semantic_type\": \"\",\n        \"description\": \"\"\n      }\n    }\n  ]\n}"
            }
          },
          "metadata": {},
          "execution_count": 100
        }
      ],
      "source": [
        "dataset.to_pandas()"
      ]
    },
    {
      "cell_type": "code",
      "execution_count": 44,
      "metadata": {
        "colab": {
          "base_uri": "https://localhost:8080/"
        },
        "id": "ysfyKmMcVyNO",
        "outputId": "d5162b0f-9f07-429f-9feb-15e63607409e"
      },
      "outputs": [
        {
          "output_type": "execute_result",
          "data": {
            "text/plain": [
              "1"
            ]
          },
          "metadata": {},
          "execution_count": 44
        }
      ],
      "source": [
        "len(dataset.to_pandas().iloc[0].reference_contexts)"
      ]
    },
    {
      "cell_type": "markdown",
      "metadata": {
        "id": "ONsr1Gi8V8st"
      },
      "source": [
        "## Precision"
      ]
    },
    {
      "cell_type": "code",
      "execution_count": 45,
      "metadata": {
        "id": "mehOBKykW7Fi"
      },
      "outputs": [],
      "source": [
        "sample_question = dataset.to_pandas().iloc[1].user_input"
      ]
    },
    {
      "cell_type": "code",
      "execution_count": 46,
      "metadata": {
        "colab": {
          "base_uri": "https://localhost:8080/",
          "height": 35
        },
        "id": "8P9YQFoFs5qp",
        "outputId": "d981b547-4a99-40ea-f150-c49fead86cd5"
      },
      "outputs": [
        {
          "output_type": "execute_result",
          "data": {
            "text/plain": [
              "'What steps for complete this IT Policy and Procedure Manual template?'"
            ],
            "application/vnd.google.colaboratory.intrinsic+json": {
              "type": "string"
            }
          },
          "metadata": {},
          "execution_count": 46
        }
      ],
      "source": [
        "sample_question"
      ]
    },
    {
      "cell_type": "code",
      "execution_count": 47,
      "metadata": {
        "id": "m7a9RT7AXCEQ"
      },
      "outputs": [],
      "source": [
        "sample_context = dataset.to_pandas().iloc[1].reference_contexts"
      ]
    },
    {
      "cell_type": "code",
      "execution_count": 48,
      "metadata": {
        "colab": {
          "base_uri": "https://localhost:8080/"
        },
        "id": "67YKFp9JXhQT",
        "outputId": "a010b681-06f4-4339-f591-9e5f7be87306"
      },
      "outputs": [
        {
          "output_type": "execute_result",
          "data": {
            "text/plain": [
              "[\"IT Policy and Procedure Manual\\nHow to complete this template\\nDesigned to be customized\\nThis template for an IT policy and procedures manual is made up of example topics. You\\ncan customize these if you wish, for example, by adding or removing topics.\\nTo complete the template:\\n1. Guidance text appears throughout the document, marked by the word Guidance.\\nWhere you see a guidance note, read and then delete it. Guidance has been added\\nto help you complete the template and should not appear in your final version.\\n2. Using Word's Replace function, search for {Municipality Name} and replace with\\nyour company name.\\na) In Word's Home ribbon, open the Find and Replace tool, choose\\nReplace to open the Find and Replace tool. The Find and Replace\\ndialog opens with the Replace tab selected.\\nb) Enter {Municipality Name} in the Find what field.\\nc) Enter your company name in the Replace with field.\\nd) Click Replace All\\n3. Replace {items in curly brackets} with your own wording.\\n4. Where you see a reference to other policies, insert a link to another example policy\\nthat applies in your institution\\nPage ii of iii\\n\"]"
            ]
          },
          "metadata": {},
          "execution_count": 48
        }
      ],
      "source": [
        "sample_context"
      ]
    },
    {
      "cell_type": "code",
      "execution_count": 49,
      "metadata": {
        "id": "1vJhcnpyWrRi"
      },
      "outputs": [],
      "source": [
        "relevant_docs = qdrant.max_marginal_relevance_search(sample_question)"
      ]
    },
    {
      "cell_type": "code",
      "execution_count": 50,
      "metadata": {
        "colab": {
          "base_uri": "https://localhost:8080/"
        },
        "id": "hbMKIAR_tHLz",
        "outputId": "bbceb5bd-0794-42d6-86bf-701669682d2c"
      },
      "outputs": [
        {
          "output_type": "execute_result",
          "data": {
            "text/plain": [
              "[Document(metadata={'source': 'policy.pdf', 'file_path': 'policy.pdf', 'page': 1, 'total_pages': 33, 'Title': 'IT Policies and Procedures Manual Template', 'Author': 'Business Victoria (www.business.vic.gov.au)', 'Subject': 'IT Policies and Procedures Manual Template', 'Creator': 'Microsoft® Word 2010', 'CreationDate': \"D:20160513175204+02'00'\", 'ModDate': \"D:20160513175204+02'00'\", 'Producer': 'Microsoft® Word 2010', '_id': '684ed49f-14fe-4261-ac40-4fc46dd70aea', '_collection_name': 'initialv1'}, page_content=\"IT Policy and Procedure Manual\\nHow to complete this template\\nDesigned to be customized\\nThis template for an IT policy and procedures manual is made up of example topics. You\\ncan customize these if you wish, for example, by adding or removing topics.\\nTo complete the template:\\n1. Guidance text appears throughout the document, marked by the word Guidance.\\nWhere you see a guidance note, read and then delete it. Guidance has been added\\nto help you complete the template and should not appear in your final version.\\n2. Using Word's Replace function, search for {Municipality Name} and replace with\\nyour company name.\\na) In Word's Home ribbon, open the Find and Replace tool, choose\\nReplace to open the Find and Replace tool. The Find and Replace\\ndialog opens with the Replace tab selected.\\nb) Enter {Municipality Name} in the Find what field.\\nc) Enter your company name in the Replace with field.\\nd) Click Replace All\\n3. Replace {items in curly brackets} with your own wording.\\n4. Where you see a reference to other policies, insert a link to another example policy\\nthat applies in your institution\\nPage ii of iii\"),\n",
              " Document(metadata={'source': 'policy.pdf', 'file_path': 'policy.pdf', 'page': 32, 'total_pages': 33, 'Title': 'IT Policies and Procedures Manual Template', 'Author': 'Business Victoria (www.business.vic.gov.au)', 'Subject': 'IT Policies and Procedures Manual Template', 'Creator': 'Microsoft® Word 2010', 'CreationDate': \"D:20160513175204+02'00'\", 'ModDate': \"D:20160513175204+02'00'\", 'Producer': 'Microsoft® Word 2010', '_id': 'cb5f1773-304d-4fb9-bb1c-8941960055ab', '_collection_name': 'initialv1'}, page_content='IT Policy and Procedure Manual\\n\\uf0b7 For all manual POS transactions, customer signatures must be verified\\n\\uf0b7 {insert other relevant emergency actions here}\\n\\uf0b7 {insert other relevant emergency actions here}.\\nVirus or other security breach\\nIn the event that the institution’s information technology is compromised by software virus or\\n{insert other relevant possible security breaches here} such breaches are to be reported to {insert\\nrelevant job title here} immediately.\\n{insert relevant job title here} is responsible for ensuring that any security breach is dealt with\\nwithin {insert relevant timeframe here} to minimise disruption to institution operations.\\nWebsite Disruption\\nIn the event that institution website is disrupted, the following actions must be immediately\\nundertaken:\\nGuidance: Insert the actions required for your institution – the following dot points will assist.\\n\\uf0b7 Website host to be notified\\n\\uf0b7 {insert relevant job title here} must be notified immediately\\n\\uf0b7 {insert other relevant emergency actions here}\\n\\uf0b7 {insert other relevant emergency actions here}.\\nPage 30 of 30'),\n",
              " Document(metadata={'source': 'policy.pdf', 'file_path': 'policy.pdf', 'page': 3, 'total_pages': 33, 'Title': 'IT Policies and Procedures Manual Template', 'Author': 'Business Victoria (www.business.vic.gov.au)', 'Subject': 'IT Policies and Procedures Manual Template', 'Creator': 'Microsoft® Word 2010', 'CreationDate': \"D:20160513175204+02'00'\", 'ModDate': \"D:20160513175204+02'00'\", 'Producer': 'Microsoft® Word 2010', '_id': 'bb13a56c-f40d-4a10-9ddc-87810bf4c72a', '_collection_name': 'initialv1'}, page_content='Information Technology\\nPolicy and Procedure Manual\\nTable of Contents\\nInformation Technology Policy and Procedure Manual ..................................................................... 1\\nIntroduction ......................................................................................................................................... 3\\nTechnology Hardware Purchasing Policy ........................................................................................... 4\\nPurpose of the Policy ....................................................................................................................... 4\\nProcedures........................................................................................................................................ 4\\nPolicy for Getting Software ................................................................................................................. 9\\nPurpose of the Policy ....................................................................................................................... 9\\nProcedures........................................................................................................................................ 9\\nPolicy for Use of Software ................................................................................................................ 11\\nPurpose of the Policy ..................................................................................................................... 11\\nProcedures...................................................................................................................................... 11\\nBring Your Own Device Policy ......................................................................................................... 14\\nPurpose of the Policy ..................................................................................................................... 14'),\n",
              " Document(metadata={'source': 'policy.pdf', 'file_path': 'policy.pdf', 'page': 29, 'total_pages': 33, 'Title': 'IT Policies and Procedures Manual Template', 'Author': 'Business Victoria (www.business.vic.gov.au)', 'Subject': 'IT Policies and Procedures Manual Template', 'Creator': 'Microsoft® Word 2010', 'CreationDate': \"D:20160513175204+02'00'\", 'ModDate': \"D:20160513175204+02'00'\", 'Producer': 'Microsoft® Word 2010', '_id': '80ad5d4b-ef42-4fe2-809d-2ac6a26ef9ac', '_collection_name': 'initialv1'}, page_content='IT Policy and Procedure Manual\\nIT Service Agreements Policy\\nPolicy Number: {insert unique number}\\nPolicy Date: {insert date of policy}\\nGuidance: This policy should be read and carried out by all staff. Edit this policy so it suits your\\nneeds.\\nPurpose of the Policy\\nThis policy provides guidelines for all IT service agreements entered into on behalf of the\\ninstitution.\\nProcedures\\nThe following IT service agreements can be entered into on behalf of the institution:\\nGuidance: Insert the acceptable IT services for your institution – the following dot points will\\nassist.\\n\\uf0b7 Provision of general IT services\\n\\uf0b7 Provision of network hardware and software\\n\\uf0b7 Repairs and maintenance of IT equipment\\n\\uf0b7 Provision of institution software\\n\\uf0b7 Provision of mobile phones and relevant plans\\n\\uf0b7 Website design, maintenance etc.\\n\\uf0b7 {insert type of IT service here}.\\nAll IT service agreements must be reviewed by {insert who should review, recommended lawyer\\nor solicitor} before the agreement is entered into. Once the agreement has been reviewed and\\nrecommendation for execution received, then the agreement must be approved by {insert\\nrelevant job title here}\\nPage 27 of 30')]"
            ]
          },
          "metadata": {},
          "execution_count": 50
        }
      ],
      "source": [
        "relevant_docs"
      ]
    },
    {
      "cell_type": "code",
      "execution_count": 51,
      "metadata": {
        "id": "QBg5A8W0Wx64"
      },
      "outputs": [],
      "source": [
        "retrieved_context = [relevant_docs[0].page_content]"
      ]
    },
    {
      "cell_type": "code",
      "execution_count": 52,
      "metadata": {
        "colab": {
          "base_uri": "https://localhost:8080/"
        },
        "id": "XXszMlRut0dN",
        "outputId": "426c6f93-1b5d-4640-865b-c463a09af901"
      },
      "outputs": [
        {
          "output_type": "execute_result",
          "data": {
            "text/plain": [
              "{<MetricType.SINGLE_TURN: 'single_turn'>: {'reference',\n",
              "  'retrieved_contexts',\n",
              "  'user_input'}}"
            ]
          },
          "metadata": {},
          "execution_count": 52
        }
      ],
      "source": [
        "from ragas.metrics import context_precision\n",
        "context_precision.llm = evaluator_llm\n",
        "context_precision._required_columns"
      ]
    },
    {
      "cell_type": "code",
      "execution_count": 53,
      "metadata": {
        "id": "_PV2zw2tXS-B"
      },
      "outputs": [],
      "source": [
        "from ragas import SingleTurnSample\n",
        "from ragas.metrics import NonLLMContextPrecisionWithReference\n",
        "\n",
        "context_precision = NonLLMContextPrecisionWithReference()"
      ]
    },
    {
      "cell_type": "code",
      "execution_count": 54,
      "metadata": {
        "colab": {
          "base_uri": "https://localhost:8080/"
        },
        "id": "SUAswxzaV-Ey",
        "outputId": "2c000de0-58a6-45b5-fafc-99c22813604c"
      },
      "outputs": [
        {
          "output_type": "execute_result",
          "data": {
            "text/plain": [
              "0.9999999999"
            ]
          },
          "metadata": {},
          "execution_count": 54
        }
      ],
      "source": [
        "sample = SingleTurnSample(\n",
        "    retrieved_contexts=retrieved_context,\n",
        "    reference_contexts=sample_context\n",
        ")\n",
        "\n",
        "await context_precision.single_turn_ascore(sample)"
      ]
    },
    {
      "cell_type": "code",
      "execution_count": 55,
      "metadata": {
        "id": "kHn2i7wuyR5i"
      },
      "outputs": [],
      "source": [
        "from sklearn.feature_extraction.text import TfidfVectorizer\n",
        "from sklearn.metrics.pairwise import cosine_similarity\n",
        "import numpy as np\n",
        "\n",
        "def evaluate_retriever(reference_contexts, retrieved_context, method='tfidf', threshold=0.7):\n",
        "    \"\"\"\n",
        "    Evaluate retriever using precision@1 and recall@1\n",
        "\n",
        "    Args:\n",
        "        reference_contexts: List of ground truth relevant contexts\n",
        "        retrieved_context: Single retrieved context (string)\n",
        "        method: 'exact' or 'tfidf'\n",
        "        threshold: Similarity threshold for relevance (only for tfidf)\n",
        "\n",
        "    Returns:\n",
        "        tuple: (precision_at_1, recall_at_1)\n",
        "    \"\"\"\n",
        "\n",
        "    if method == 'exact':\n",
        "        # Exact string matching\n",
        "        is_relevant = any(ref.strip() == retrieved_context.strip() for ref in reference_contexts)\n",
        "\n",
        "    elif method == 'tfidf':\n",
        "        # TF-IDF cosine similarity\n",
        "        all_texts = reference_contexts + [retrieved_context]\n",
        "        vectorizer = TfidfVectorizer(stop_words='english')\n",
        "        tfidf_matrix = vectorizer.fit_transform(all_texts)\n",
        "\n",
        "        ref_vectors = tfidf_matrix[:len(reference_contexts)]\n",
        "        ret_vector = tfidf_matrix[-1]\n",
        "\n",
        "        max_sim = cosine_similarity(ret_vector, ref_vectors).max()\n",
        "        is_relevant = max_sim >= threshold\n",
        "\n",
        "    else:\n",
        "        raise ValueError(\"Method must be 'exact' or 'tfidf'\")\n",
        "\n",
        "    precision_at_1 = 1.0 if is_relevant else 0.0\n",
        "    recall_at_1 = 1.0 if is_relevant else 0.0\n",
        "\n",
        "    return precision_at_1, recall_at_1"
      ]
    },
    {
      "cell_type": "code",
      "execution_count": 56,
      "metadata": {
        "colab": {
          "base_uri": "https://localhost:8080/",
          "height": 211
        },
        "id": "xJdKncr5yYzJ",
        "outputId": "eedc151c-10b4-4ed5-982f-c6ca587ce703"
      },
      "outputs": [
        {
          "output_type": "error",
          "ename": "TypeError",
          "evalue": "evaluate_retriever() got an unexpected keyword argument 'retrieved_contexts'",
          "traceback": [
            "\u001b[0;31m---------------------------------------------------------------------------\u001b[0m",
            "\u001b[0;31mTypeError\u001b[0m                                 Traceback (most recent call last)",
            "\u001b[0;32m/tmp/ipython-input-1173024682.py\u001b[0m in \u001b[0;36m<cell line: 0>\u001b[0;34m()\u001b[0m\n\u001b[0;32m----> 1\u001b[0;31m evaluate_retriever(\n\u001b[0m\u001b[1;32m      2\u001b[0m     \u001b[0mreference_contexts\u001b[0m \u001b[0;34m=\u001b[0m \u001b[0msample_context\u001b[0m\u001b[0;34m,\u001b[0m\u001b[0;34m\u001b[0m\u001b[0;34m\u001b[0m\u001b[0m\n\u001b[1;32m      3\u001b[0m     \u001b[0mretrieved_contexts\u001b[0m \u001b[0;34m=\u001b[0m \u001b[0mretrieved_context\u001b[0m\u001b[0;34m,\u001b[0m\u001b[0;34m\u001b[0m\u001b[0;34m\u001b[0m\u001b[0m\n\u001b[1;32m      4\u001b[0m     \u001b[0mmethod\u001b[0m \u001b[0;34m=\u001b[0m \u001b[0;34m'exact'\u001b[0m\u001b[0;34m,\u001b[0m\u001b[0;34m\u001b[0m\u001b[0;34m\u001b[0m\u001b[0m\n\u001b[1;32m      5\u001b[0m     \u001b[0mthreshold\u001b[0m \u001b[0;34m=\u001b[0m \u001b[0;36m0.7\u001b[0m\u001b[0;34m,\u001b[0m\u001b[0;34m\u001b[0m\u001b[0;34m\u001b[0m\u001b[0m\n",
            "\u001b[0;31mTypeError\u001b[0m: evaluate_retriever() got an unexpected keyword argument 'retrieved_contexts'"
          ]
        }
      ],
      "source": [
        "evaluate_retriever(\n",
        "    reference_contexts = sample_context,\n",
        "    retrieved_contexts = retrieved_context,\n",
        "    method = 'exact',\n",
        "    threshold = 0.7,\n",
        "    k = 3\n",
        ")"
      ]
    },
    {
      "cell_type": "markdown",
      "metadata": {
        "id": "YM2zbMkYLpxH"
      },
      "source": [
        "## RAG\n",
        "\n",
        "- Retrieval: Qdrant- mmr or similarity search to get the context\n",
        "- Augmentation: System prompt and instructions\n",
        "- Generation: gemini-2.5-flash\n",
        "\n",
        "# best practices to define a system prompt:\n",
        "- role play\n",
        "- instructions\n",
        "- motivation (negative sentiment)\n"
      ]
    },
    {
      "cell_type": "code",
      "execution_count": 30,
      "metadata": {
        "id": "xEKbr37I_W1X"
      },
      "outputs": [],
      "source": [
        "from langgraph.graph import START, StateGraph,END\n",
        "\n",
        "from langchain_core.documents import Document\n",
        "from typing_extensions import List, TypedDict, Annotated"
      ]
    },
    {
      "cell_type": "code",
      "execution_count": 31,
      "metadata": {
        "id": "IpHkmbJ_B_SI"
      },
      "outputs": [],
      "source": [
        "from opik.integrations.langchain import OpikTracer"
      ]
    },
    {
      "cell_type": "code",
      "execution_count": 32,
      "metadata": {
        "id": "MDniEAcXACz4"
      },
      "outputs": [],
      "source": [
        "SYSTEM_TEMPLATE = \"\"\"\n",
        "You are an expert QA Assistant who answers questions using only the provided context as your source of information.\n",
        "If the question is not from the provided context, say `I don't know. Not enough information received.`\n",
        "If the task is not performed, then you are fired.\n",
        "\"\"\"\n",
        "\n",
        "HUMAN_TEMPLATE = \"\"\"\n",
        "We have provided context information below.\n",
        "\n",
        "CONTEXT: {context_str}\n",
        "---------------------\n",
        "Given this information, please answer the question: {query}\n",
        "---------------------\n",
        "If the question is not from the provided context, say `I don't know. Not enough information received.`\n",
        "\"\"\""
      ]
    },
    {
      "cell_type": "code",
      "execution_count": 33,
      "metadata": {
        "id": "hQklYUJ6_Trk"
      },
      "outputs": [],
      "source": [
        "class State(TypedDict):\n",
        "    question: str\n",
        "    context: List[Document]\n",
        "    answer: str\n",
        "    context_relevance: str\n",
        "    answer_relevance: str"
      ]
    },
    {
      "cell_type": "markdown",
      "metadata": {
        "id": "_7mAWc_hNTdK"
      },
      "source": [
        "## 4 nodes\n",
        "- search: context\n",
        "- generate: generating the final response\n",
        "- context relevance: context, question, answer: eval- LLM as a Judge (True/False)\n",
        "- answer relvance: : context, question, answer: eval- LLM as a Judge (True/False)"
      ]
    },
    {
      "cell_type": "code",
      "execution_count": 57,
      "metadata": {
        "id": "OIHHuUJQ_crU"
      },
      "outputs": [],
      "source": [
        "def search(state: State):\n",
        "    retrieved_docs = qdrant.similarity_search(state[\"question\"])\n",
        "    return {\"context\": retrieved_docs}"
      ]
    },
    {
      "cell_type": "code",
      "execution_count": 58,
      "metadata": {
        "id": "a9o5lhKlNqlS"
      },
      "outputs": [],
      "source": [
        "context = qdrant.similarity_search(\"what is blackhole?\")"
      ]
    },
    {
      "cell_type": "code",
      "execution_count": 59,
      "metadata": {
        "colab": {
          "base_uri": "https://localhost:8080/",
          "height": 35
        },
        "id": "QsGr6PEeNtUw",
        "outputId": "4078b215-4ece-4703-b835-f00a99316a0d"
      },
      "outputs": [
        {
          "output_type": "execute_result",
          "data": {
            "text/plain": [
              "'The illegal duplication of software or other copyrighted works is not condoned within this\\ninstitution and {insert relevant job title here} is authorised to undertake disciplinary action where\\nsuch event occurs.\\nPage 12 of 30'"
            ],
            "application/vnd.google.colaboratory.intrinsic+json": {
              "type": "string"
            }
          },
          "metadata": {},
          "execution_count": 59
        }
      ],
      "source": [
        "context[0].page_content"
      ]
    },
    {
      "cell_type": "markdown",
      "metadata": {
        "id": "9k5il7OYOBIV"
      },
      "source": [
        "## Before RAG"
      ]
    },
    {
      "cell_type": "code",
      "execution_count": 60,
      "metadata": {
        "colab": {
          "base_uri": "https://localhost:8080/"
        },
        "id": "6deHpvJON8HG",
        "outputId": "e8b9220b-c642-4c7f-be97-9b529b9d0dc3"
      },
      "outputs": [
        {
          "output_type": "execute_result",
          "data": {
            "text/plain": [
              "AIMessage(content=\"A black hole is a region in space where the gravitational pull is so strong that nothing, including light, can escape. It is formed when a massive star collapses in on itself and its gravity becomes so strong that it warps the fabric of spacetime around it.\\n\\nHere's a simplified explanation:\\n\\n1. **Massive star collapse**: A massive star (at least 3-4 times larger than the sun) runs out of fuel and dies.\\n2. **Supernova explosion**: The star undergoes a massive explosion, expelling a large amount of matter into space.\\n3. **Core collapse**: The star's core collapses under its own gravity, causing a massive amount of matter to be compressed into an incredibly small space.\\n4. **Singularity**: The core collapses into a singularity, a point of infinite density and zero volume, where the laws of physics as we know them break down.\\n5. **Event Horizon**: The point of no return around the singularity is called the event horizon. Any matter or radiation that crosses the event horizon is trapped by the black hole's gravity and cannot escape.\\n\\nCharacteristics of black holes:\\n\\n* **Gravitational pull**: Black holes are characterized by their incredibly strong gravitational pull, which is determined by their mass and spin.\\n* **No emission**: Black holes do not emit any radiation or light, making them invisible to our telescopes.\\n* **Distortion of spacetime**: Black holes warp the fabric of spacetime around them, causing strange effects such as gravitational lensing and frame-dragging.\\n\\nTypes of black holes:\\n\\n* **Stellar black holes**: Formed from the collapse of individual stars.\\n* **Supermassive black holes**: Found at the centers of galaxies, with masses millions or even billions of times that of the sun.\\n* **Intermediate-mass black holes**: Black holes with masses that fall between those of stellar and supermassive black holes.\\n\\nThe study of black holes has led to a deeper understanding of the universe, from the behavior of matter in extreme environments to the role of black holes in the evolution of galaxies.\\n\\nIs there anything specific you'd like to know about black holes?\", additional_kwargs={}, response_metadata={'finish_reason': 'stop', 'usage': {'completion_tokens': 426, 'completion_tokens_after_first_per_sec': 650.0309411920437, 'completion_tokens_after_first_per_sec_first_ten': 653.1697202139443, 'completion_tokens_after_first_per_sec_graph': 653.1697202139443, 'completion_tokens_per_sec': 599.6840113776525, 'end_time': 1756759463.8841095, 'is_last_response': True, 'prompt_tokens': 16, 'stop_reason': 'stop', 'time_to_first_token': 0.056559085845947266, 'total_latency': 0.710374116897583, 'total_tokens': 442, 'total_tokens_per_sec': 622.2073545279868}, 'model_name': 'Llama-4-Maverick-17B-128E-Instruct', 'system_fingerprint': 'fastcoe', 'created': 1756759463.8841608}, id='22cebccf-fd39-43d1-87cd-c12eee850589', usage_metadata={'input_tokens': 16, 'output_tokens': 426, 'total_tokens': 442})"
            ]
          },
          "metadata": {},
          "execution_count": 60
        }
      ],
      "source": [
        "llm.invoke(\"what is blackhole?\")"
      ]
    },
    {
      "cell_type": "code",
      "execution_count": 61,
      "metadata": {
        "id": "kDgQaWZ3_9e8"
      },
      "outputs": [],
      "source": [
        "def generate(state: State):\n",
        "    # first retrieve the relevant context\n",
        "    # document format: extract the string\n",
        "    docs_content = \"\\n\\n\".join(doc.page_content for doc in state[\"context\"])\n",
        "\n",
        "    messages = [\n",
        "        {\"role\": \"system\", \"content\": SYSTEM_TEMPLATE},\n",
        "        {\"role\": \"user\", \"content\": HUMAN_TEMPLATE.format(context_str=docs_content, query=state[\"question\"])},\n",
        "    ]\n",
        "\n",
        "    response = llm.invoke(messages)\n",
        "    return {\"answer\": response.content}"
      ]
    },
    {
      "cell_type": "code",
      "execution_count": 62,
      "metadata": {
        "id": "M-pJwLyRpkXl"
      },
      "outputs": [],
      "source": [
        "def get_context_relevance(state: State):\n",
        "  instuctions = \"\"\"You are a teacher grading a quiz.\n",
        "  You will be given a QUESTION and a set of FACTS provided by the student.\n",
        "\n",
        "  Here is the grade criteria to follow:\n",
        "\n",
        "  <criteria>\n",
        "  (1) You goal is to identify FACTS that are completely unrelated to the QUESTION\n",
        "  (2) If the facts contain ANY keywords or semantic meaning related to the question, consider them relevant\n",
        "  (3) It is OK if the facts have SOME information that is unrelated to the question as long as (2) is met\n",
        "  </criteria>\n",
        "\n",
        "  <instructions>\n",
        "  Relevance:\n",
        "  A relevance value of True means that the FACTS contain ANY keywords or semantic meaning related to the QUESTION and are therefore relevant.\n",
        "  A relevance value of False means that the FACTS are completely unrelated to the QUESTION.\n",
        "  Explain your reasoning in a step-by-step manner to ensure your reasoning and conclusion are correct.\n",
        "  Avoid simply stating the correct answer at the outset.\n",
        "  </instructions>\n",
        "  \"\"\"\n",
        "\n",
        "  relevant_document = \"\\n\\n\".join(doc.page_content for doc in state[\"context\"])\n",
        "\n",
        "  # Context relevance (C|Q)\n",
        "  eval_setup = f\"FACTS: {relevant_document}\\nQUESTION: {state['question']}\"\n",
        "\n",
        "  prompt = [\n",
        "        {\"role\": \"system\", \"content\": instuctions},\n",
        "        {\"role\": \"user\", \"content\": eval_setup},\n",
        "    ]\n",
        "  grade = llm.invoke(prompt)\n",
        "\n",
        "  return {\"context_relevance\": grade.content}"
      ]
    },
    {
      "cell_type": "code",
      "execution_count": 63,
      "metadata": {
        "id": "7rtX92m_3SGF"
      },
      "outputs": [],
      "source": [
        "def get_answer_relevance(state: State):\n",
        "  instuctions = \"\"\"You are a teacher grading a quiz.\n",
        "    You will be given a QUESTION and a STUDENT ANSWER.\n",
        "\n",
        "    <criteria>\n",
        "    Here is the grade criteria to follow:\n",
        "    (1) Ensure the STUDENT ANSWER is concise and relevant to the QUESTION\n",
        "    (2) Ensure the STUDENT ANSWER helps to answer the QUESTION\n",
        "    </criteria>\n",
        "\n",
        "    <instructions>\n",
        "    Relevance:\n",
        "    A relevance value of True means that the student's answer meets all of the criteria.\n",
        "    A relevance value of False means that the student's answer does not meet all of the criteria.\n",
        "    Explain your reasoning in a step-by-step manner to ensure your reasoning and conclusion are correct.\n",
        "    Avoid simply stating the correct answer at the outset.\n",
        "    </instructions>\n",
        "  \"\"\"\n",
        "\n",
        "  # Answer relevance (A|Q)\n",
        "  eval_setup = f\"QUESTION: {state['question']}\\nSTUDENT ANSWER: {state['answer']}\"\n",
        "  prompt = [\n",
        "        {\"role\": \"system\", \"content\": instuctions},\n",
        "        {\"role\": \"user\", \"content\": eval_setup},\n",
        "    ]\n",
        "  grade = llm.invoke(prompt)\n",
        "\n",
        "  return {\"answer_relevance\": grade.content}"
      ]
    },
    {
      "cell_type": "markdown",
      "metadata": {
        "id": "iYGOqI-xOuHg"
      },
      "source": [
        "## 4 nodes: search generate context relevant and answer relevance\n"
      ]
    },
    {
      "cell_type": "markdown",
      "metadata": {
        "id": "qqQPYVUwO1AS"
      },
      "source": [
        "1 First: Search\n",
        "2. Second: Generate\n",
        "3. Parallel Node: COntext relevance and answer relevance"
      ]
    },
    {
      "cell_type": "code",
      "execution_count": 64,
      "metadata": {
        "id": "wPi_0lzpqLUB"
      },
      "outputs": [],
      "source": [
        "def route_to_parallel(state):\n",
        "    return [\"get_context_relevance\", \"get_answer_relevance\"]"
      ]
    },
    {
      "cell_type": "code",
      "execution_count": 65,
      "metadata": {
        "id": "0LEX0LCp-4di"
      },
      "outputs": [],
      "source": [
        "def join_nodes(state: State):\n",
        "  return state"
      ]
    },
    {
      "cell_type": "code",
      "execution_count": 66,
      "metadata": {
        "colab": {
          "base_uri": "https://localhost:8080/"
        },
        "id": "DfGxPwXf-3Bg",
        "outputId": "94da2162-4729-40b6-cef2-5283b46e06b0"
      },
      "outputs": [
        {
          "output_type": "execute_result",
          "data": {
            "text/plain": [
              "<langgraph.graph.state.StateGraph at 0x7f84856b7290>"
            ]
          },
          "metadata": {},
          "execution_count": 66
        }
      ],
      "source": [
        "graph_builder = StateGraph(State)\n",
        "graph_builder.add_node(\"search\", search)\n",
        "graph_builder.add_node(\"generate\", generate)\n",
        "\n",
        "graph_builder.add_node(\"get_context_relevance\", get_context_relevance)\n",
        "graph_builder.add_node(\"get_answer_relevance\", get_answer_relevance)\n",
        "graph_builder.add_node(\"join_node\", join_nodes)\n",
        "\n",
        "graph_builder.add_edge(START, \"search\")\n",
        "graph_builder.add_edge(\"search\", \"generate\")\n",
        "graph_builder.add_conditional_edges(\n",
        "    \"generate\",\n",
        "    route_to_parallel,\n",
        "    {\n",
        "    \"get_context_relevance\": \"get_context_relevance\",\n",
        "    \"get_answer_relevance\": \"get_answer_relevance\"\n",
        "    }\n",
        ")\n",
        "graph_builder.add_edge(\"get_context_relevance\", \"join_node\")\n",
        "graph_builder.add_edge(\"get_answer_relevance\", \"join_node\")\n",
        "graph_builder.add_edge(\"join_node\", END)"
      ]
    },
    {
      "cell_type": "code",
      "execution_count": 67,
      "metadata": {
        "id": "eUi9pP4SBAty"
      },
      "outputs": [],
      "source": [
        "graph = graph_builder.compile()"
      ]
    },
    {
      "cell_type": "code",
      "execution_count": 68,
      "metadata": {
        "colab": {
          "base_uri": "https://localhost:8080/",
          "height": 548
        },
        "id": "1pydBvjO1qTF",
        "outputId": "092ad322-9764-4de9-e693-e147c263d280"
      },
      "outputs": [
        {
          "output_type": "display_data",
          "data": {
            "image/png": "[encoded data removed]",
            "text/plain": [
              "<IPython.core.display.Image object>"
            ]
          },
          "metadata": {}
        }
      ],
      "source": [
        "from IPython.display import Image, display\n",
        "\n",
        "try:\n",
        "    display(Image(graph.get_graph().draw_mermaid_png()))\n",
        "except Exception:\n",
        "    pass"
      ]
    },
    {
      "cell_type": "markdown",
      "metadata": {
        "id": "_yqLMl4wPvZs"
      },
      "source": [
        "## Run the user query and track the evals on OPIK"
      ]
    },
    {
      "cell_type": "code",
      "execution_count": 69,
      "metadata": {
        "id": "GPXt0-D0GAZW"
      },
      "outputs": [],
      "source": [
        "opik_tracer = OpikTracer(graph=graph.get_graph(xray=True))"
      ]
    },
    {
      "cell_type": "code",
      "execution_count": 70,
      "metadata": {
        "colab": {
          "base_uri": "https://localhost:8080/"
        },
        "id": "E49_xdoyAW_Q",
        "outputId": "71c1e304-6600-4723-8803-5966cb424786"
      },
      "outputs": [
        {
          "output_type": "stream",
          "name": "stderr",
          "text": [
            "OPIK: Started logging traces to the \"eval\" project at https://www.comet.com/opik/api/v1/session/redirect/projects/?trace_id=0199070d-b4e3-73e5-8e88-3ce8e10914cc&path=aHR0cHM6Ly93d3cuY29tZXQuY29tL29waWsvYXBpLw==.\n"
          ]
        }
      ],
      "source": [
        "response = graph.invoke({\"question\": \"What happens when I receive an order?\"},config={\"callbacks\": [opik_tracer]})"
      ]
    },
    {
      "cell_type": "code",
      "execution_count": 71,
      "metadata": {
        "colab": {
          "base_uri": "https://localhost:8080/"
        },
        "id": "pjMo4C4pAuCX",
        "outputId": "ed68575a-d305-4a8b-9c03-a5e17e2e84c1"
      },
      "outputs": [
        {
          "output_type": "stream",
          "name": "stdout",
          "text": [
            "I don't know. Not enough information received.\n",
            "\n",
            "The provided context does not contain information about what happens when an order is received. It discusses EFT payments, electronic purchases, software usage, and IT service agreements, but does not mention the process for handling received orders.\n"
          ]
        }
      ],
      "source": [
        "print(response[\"answer\"])"
      ]
    },
    {
      "cell_type": "code",
      "execution_count": 72,
      "metadata": {
        "colab": {
          "base_uri": "https://localhost:8080/"
        },
        "id": "omQqBmGnQNmY",
        "outputId": "3cdf67d3-55f9-49b8-c691-d8dac2ba9f24"
      },
      "outputs": [
        {
          "output_type": "stream",
          "name": "stdout",
          "text": [
            "[Document(metadata={'source': 'policy.pdf', 'file_path': 'policy.pdf', 'page': 28, 'total_pages': 33, 'Title': 'IT Policies and Procedures Manual Template', 'Author': 'Business Victoria (www.business.vic.gov.au)', 'Subject': 'IT Policies and Procedures Manual Template', 'Creator': 'Microsoft® Word 2010', 'CreationDate': \"D:20160513175204+02'00'\", 'ModDate': \"D:20160513175204+02'00'\", 'Producer': 'Microsoft® Word 2010', '_id': '6ac09d1a-8af2-4803-ae9e-464ac010bc2d', '_collection_name': 'initialv1'}, page_content='IT Policy and Procedure Manual\\nEFT payments can only be released for payment once pending payments have been authorised\\nby {insert relevant job title here}\\nFor good control over EFT payments, ensure that the persons authorising the payments and\\nmaking the payment are not the same person.\\nAll EFT receipts must be reconciled to customer records {insert frequency here e.g. once a week\\netc.}\\nWhere EFT receipt cannot be allocated to customer account, it is responsibility of {insert\\nrelevant job title here} to investigate. In the event that the customer account cannot be identified\\nwithin {insert length of time here, such as one month} the receipted funds must be {insert action\\nhere such as allocated to suspense account or returned to source etc.}. {insert relevant job title\\nhere} must authorise this transaction.\\nIt is the responsibility of {insert relevant job title here} to annually review EFT authorisations for\\ninitial entry, alterations, or deletion of EFT records, including supplier payment records and\\ncustomer receipt records.\\nElectronic Purchases\\nAll electronic purchases by any authorised employee must adhere to the purchasing policy in the\\nFinancial policies and procedures manual.\\nWhere an electronic purchase is being considered, the person authorising this transaction must\\nensure that the internet sales site is secure and safe and be able to demonstrate that this has been\\nreviewed.\\nAll electronic purchases must be undertaken using institution credit cards only and therefore\\nadhere to the institution credit card policy in the Financial policies and procedures manual.\\nAdditional Policies for Electronic Transactions Policy\\nGuidance: add, link or remove the policies listed below as required.\\nInformation Technology Security Policy\\nFinance Policies\\nPage 26 of 30'), Document(metadata={'source': 'policy.pdf', 'file_path': 'policy.pdf', 'page': 14, 'total_pages': 33, 'Title': 'IT Policies and Procedures Manual Template', 'Author': 'Business Victoria (www.business.vic.gov.au)', 'Subject': 'IT Policies and Procedures Manual Template', 'Creator': 'Microsoft® Word 2010', 'CreationDate': \"D:20160513175204+02'00'\", 'ModDate': \"D:20160513175204+02'00'\", 'Producer': 'Microsoft® Word 2010', '_id': 'd93e6441-0694-4f92-8a1f-9596b21e2b02', '_collection_name': 'initialv1'}, page_content='IT Policy and Procedure Manual\\nA software upgrade shall not be installed on a computer that does not already have a copy of the\\noriginal version of the software loaded on it.\\nSoftware Usage\\nOnly software purchased in accordance with the getting software policy is to be used within the\\ninstitution.\\nPrior to the use of any software, the employee must receive instructions on any licensing\\nagreements relating to the software, including any restrictions on use of the software.\\nAll employees must receive training for all new software. This includes new employees to be\\ntrained to use existing software appropriately. This will be the responsibility of {insert relevant\\njob title here}\\nEmployees are prohibited from bringing software from home and loading it onto the institution’s\\ncomputer hardware.\\nUnless express approval from {insert relevant job title here} is obtained, software cannot be\\ntaken home and loaded on a employees’ home computer\\nWhere an employee is required to use software at home, an evaluation of providing the employee\\nwith a portable computer should be undertaken in the first instance. Where it is found that\\nsoftware can be used on the employee’s home computer, authorisation from {insert relevant job\\ntitle here} is required to purchase separate software if licensing or copyright restrictions apply.\\nWhere software is purchased in this circumstance, it remains the property of the institution and\\nmust be recorded on the software register by {insert relevant job title here}\\nUnauthorised software is prohibited from being used in the institution. This includes the use of\\nsoftware owned by an employee and used within the institution.\\nThe unauthorised duplicating, acquiring or use of software copies is prohibited. Any employee\\nwho makes, acquires, or uses unauthorised copies of software will be referred to {insert relevant\\njob title here} for {insert consequence here, such as further consultation, reprimand action etc.}.'), Document(metadata={'source': 'policy.pdf', 'file_path': 'policy.pdf', 'page': 3, 'total_pages': 33, 'Title': 'IT Policies and Procedures Manual Template', 'Author': 'Business Victoria (www.business.vic.gov.au)', 'Subject': 'IT Policies and Procedures Manual Template', 'Creator': 'Microsoft® Word 2010', 'CreationDate': \"D:20160513175204+02'00'\", 'ModDate': \"D:20160513175204+02'00'\", 'Producer': 'Microsoft® Word 2010', '_id': '25fa3f1a-8073-4b89-ba3d-df11198d775a', '_collection_name': 'initialv1'}, page_content='Procedures...................................................................................................................................... 14\\nInformation Technology Security Policy .......................................................................................... 18\\nPurpose of the Policy ..................................................................................................................... 18\\nProcedures...................................................................................................................................... 18\\nInformation Technology Administration Policy ................................................................................ 21\\nPurpose of the Policy ..................................................................................................................... 21\\nProcedures...................................................................................................................................... 21\\nWebsite Policy ................................................................................................................................... 23\\nPurpose of the Policy ..................................................................................................................... 23\\nProcedures...................................................................................................................................... 23\\nElectronic Transactions Policy .......................................................................................................... 25\\nPurpose of the Policy ..................................................................................................................... 25\\nProcedures...................................................................................................................................... 25'), Document(metadata={'source': 'policy.pdf', 'file_path': 'policy.pdf', 'page': 30, 'total_pages': 33, 'Title': 'IT Policies and Procedures Manual Template', 'Author': 'Business Victoria (www.business.vic.gov.au)', 'Subject': 'IT Policies and Procedures Manual Template', 'Creator': 'Microsoft® Word 2010', 'CreationDate': \"D:20160513175204+02'00'\", 'ModDate': \"D:20160513175204+02'00'\", 'Producer': 'Microsoft® Word 2010', '_id': '7b0b3c1c-dcab-4814-8c29-ab401f4f65e7', '_collection_name': 'initialv1'}, page_content='IT Policy and Procedure Manual\\nAll IT service agreements, obligations and renewals must be recorded {insert where the\\nagreements are to be recorded here}\\nWhere an IT service agreement renewal is required, in the event that the agreement is\\nsubstantially unchanged from the previous agreement, then this agreement renewal can be\\nauthorised by {insert relevant job title here}.\\nWhere an IT service agreement renewal is required, in the event that the agreement has\\nsubstantially changed from the previous agreement, {insert who should review, recommended\\nlawyer or solicitor} before the renewal is entered into. Once the agreement has been reviewed\\nand recommendation for execution received, then the agreement must be approved by {insert\\nrelevant job title here}\\nIn the event that there is a dispute to the provision of IT services covered by an IT service\\nagreement, it must be referred to {insert relevant job title here} who will be responsible for the\\nsettlement of such dispute.\\nAdditional Policies for IT Services Policy\\nGuidance: add, link or remove the policies listed below as required.\\nTechnology Hardware Purchasing Policy\\nPage 28 of 30')]\n"
          ]
        }
      ],
      "source": [
        "print(response['context'])"
      ]
    },
    {
      "cell_type": "code",
      "execution_count": 73,
      "metadata": {
        "colab": {
          "base_uri": "https://localhost:8080/"
        },
        "id": "zdyYIKpW437y",
        "outputId": "5ca84194-a4bf-4bea-81e6-64543f0b92b8"
      },
      "outputs": [
        {
          "output_type": "stream",
          "name": "stdout",
          "text": [
            "To determine the relevance of the provided FACTS to the QUESTION \"What happens when I receive an order?\", let's analyze the content step by step.\n",
            "\n",
            "1. **Understanding the QUESTION**: The question is asking about the process or actions taken when an order is received.\n",
            "\n",
            "2. **Analyzing the FACTS**: The provided FACTS are from an \"IT Policy and Procedure Manual\" and cover various topics such as EFT payments, electronic purchases, software usage, and IT service agreements. \n",
            "\n",
            "3. **Checking for Relevance**:\n",
            "   - The FACTS discuss policies and procedures related to financial transactions (EFT payments, electronic purchases), software management, and IT services. \n",
            "   - Keywords related to the QUESTION could be \"order\" or related terms like \"purchase\" or \"transaction\".\n",
            "   - The FACTS mention \"electronic purchases\" and the procedures surrounding them, which could be semantically related to receiving an order.\n",
            "\n",
            "4. **Detailed Analysis**:\n",
            "   - The section on \"Electronic Purchases\" states that all electronic purchases must adhere to the purchasing policy and be made using institution credit cards. This implies a process for handling purchases or orders.\n",
            "   - Although the FACTS do not directly address the process of \"receiving an order\", the context of electronic purchases and financial transactions is related to the broader topic of managing orders or transactions.\n",
            "\n",
            "5. **Relevance Determination**:\n",
            "   - Given that the FACTS contain information related to electronic purchases and financial transactions, which could be considered related to the concept of receiving an order, we need to assess if this is sufficient to be deemed relevant.\n",
            "   - The presence of terms like \"electronic purchases\" and the procedures around financial transactions indicates a connection to the process of handling orders.\n",
            "\n",
            "6. **Conclusion**:\n",
            "   - The FACTS contain information that is related to the semantic meaning of the QUESTION, specifically in the context of electronic transactions and purchases.\n",
            "   - Therefore, despite not directly answering \"What happens when I receive an order?\", the FACTS are relevant because they contain related concepts and procedures.\n",
            "\n",
            "**Relevance Value: True**\n",
            "\n",
            "The FACTS are considered relevant to the QUESTION because they contain related keywords and semantic meaning, specifically around electronic purchases and financial transactions, which are related to the concept of receiving and handling orders.\n"
          ]
        }
      ],
      "source": [
        "print(response[\"context_relevance\"])"
      ]
    },
    {
      "cell_type": "code",
      "execution_count": 74,
      "metadata": {
        "colab": {
          "base_uri": "https://localhost:8080/"
        },
        "id": "4mzDPa1d4y7K",
        "outputId": "7b2f9040-cc4d-47b9-d4c9-24d53200920d"
      },
      "outputs": [
        {
          "output_type": "stream",
          "name": "stdout",
          "text": [
            "To determine the relevance of the STUDENT ANSWER to the QUESTION, let's analyze it step by step.\n",
            "\n",
            "1. **Understanding the QUESTION**: The QUESTION asks about the process or outcome when an order is received. It implies a need for information about the steps or actions taken after receiving an order.\n",
            "\n",
            "2. **Analyzing the STUDENT ANSWER**: The STUDENT ANSWER is \"I don't know. Not enough information received.\" This response indicates that the student lacks the necessary information to answer the question about what happens when an order is received.\n",
            "\n",
            "3. **Evaluating Conciseness and Relevance**:\n",
            "   - **Conciseness**: The STUDENT ANSWER is concise as it directly states the student's inability to provide an answer due to a lack of information.\n",
            "   - **Relevance**: To assess relevance, we need to consider whether the answer helps to address the QUESTION. The QUESTION seeks a description or explanation of the process following the receipt of an order. The STUDENT ANSWER, however, does not provide any information about the process; instead, it expresses the student's lack of knowledge or information.\n",
            "\n",
            "4. **Assessing if the STUDENT ANSWER helps to answer the QUESTION**: The STUDENT ANSWER does not provide any insight into what happens when an order is received. It merely states that the student cannot answer due to insufficient information, which does not help in understanding the process or outcome of receiving an order.\n",
            "\n",
            "5. **Conclusion**: The STUDENT ANSWER is concise but does not help to answer the QUESTION as it doesn't provide any relevant information about the process of handling received orders. Therefore, the relevance value should be **False** because it fails to meet the criteria of helping to answer the QUESTION.\n",
            "\n",
            "Relevance: False. The student's answer does not provide relevant information to the question asked.\n"
          ]
        }
      ],
      "source": [
        "print(response[\"answer_relevance\"])"
      ]
    },
    {
      "cell_type": "code",
      "execution_count": 75,
      "metadata": {
        "id": "0ilsOrLZ5d02"
      },
      "outputs": [],
      "source": [
        "response2 = graph.invoke({\"question\": \"what is blackhole?\"},config={\"callbacks\": [opik_tracer]})"
      ]
    },
    {
      "cell_type": "code",
      "execution_count": 76,
      "metadata": {
        "colab": {
          "base_uri": "https://localhost:8080/",
          "height": 35
        },
        "id": "sA73YajwCZVG",
        "outputId": "0490f85b-5b51-45d9-e831-f957b2ae0a45"
      },
      "outputs": [
        {
          "output_type": "execute_result",
          "data": {
            "text/plain": [
              "\"I don't know. Not enough information received.\""
            ],
            "application/vnd.google.colaboratory.intrinsic+json": {
              "type": "string"
            }
          },
          "metadata": {},
          "execution_count": 76
        }
      ],
      "source": [
        "response2['answer']"
      ]
    },
    {
      "cell_type": "code",
      "execution_count": 77,
      "metadata": {
        "colab": {
          "base_uri": "https://localhost:8080/"
        },
        "id": "Pj_I71uWCbM_",
        "outputId": "47589ade-1585-4712-885f-b1c1d5064a8d"
      },
      "outputs": [
        {
          "output_type": "stream",
          "name": "stdout",
          "text": [
            "To determine the relevance of the provided FACTS to the QUESTION \"what is blackhole?\", let's analyze the content step by step.\n",
            "\n",
            "1. **Understanding the QUESTION**: The question is asking about the definition or explanation of the term \"blackhole.\" This term is commonly associated with astronomy or computer security (e.g., black hole attack in networking).\n",
            "\n",
            "2. **Analyzing the FACTS**: The provided FACTS appear to be excerpts from an IT Policy and Procedure Manual. The content discusses various policies related to information technology within an institution, including software duplication, IT security, website policy, electronic transactions, and breach of policy procedures.\n",
            "\n",
            "3. **Checking for Relevance**: To assess if the FACTS are relevant to the QUESTION, we need to identify if there are any keywords or semantic meanings related to \"blackhole\" within the provided text.\n",
            "\n",
            "   - The term \"blackhole\" is not explicitly mentioned in the FACTS.\n",
            "   - The topics covered in the FACTS include IT policies, software usage, breach of policy, and various other IT-related procedures. While these topics are related to information technology, there is no direct or indirect mention of \"blackhole\" or its common associations (astronomy or a specific type of security threat).\n",
            "\n",
            "4. **Conclusion**: Since the term \"blackhole\" or any related concept is not mentioned or implied in the provided FACTS, and the content does not semantically relate to the question about \"blackhole,\" we can conclude that the FACTS are completely unrelated to the QUESTION.\n",
            "\n",
            "Therefore, the relevance value is **False**, as the FACTS do not contain any keywords or semantic meaning related to the QUESTION \"what is blackhole?\".\n"
          ]
        }
      ],
      "source": [
        "print(response2['context_relevance'])"
      ]
    },
    {
      "cell_type": "code",
      "execution_count": 78,
      "metadata": {
        "colab": {
          "base_uri": "https://localhost:8080/"
        },
        "id": "gN8_4PHwCg3h",
        "outputId": "9804d3f1-3ea9-491d-b469-fc278d82cd1b"
      },
      "outputs": [
        {
          "output_type": "stream",
          "name": "stdout",
          "text": [
            "To determine the relevance of the STUDENT ANSWER to the QUESTION, let's analyze it step by step based on the given criteria.\n",
            "\n",
            "1. **Conciseness and Relevance**: The first criterion is to check if the STUDENT ANSWER is concise and relevant to the QUESTION. The QUESTION asks for a definition or explanation of what a \"black hole\" is. The STUDENT ANSWER is \"I don't know. Not enough information received.\" \n",
            "\n",
            "   - **Conciseness**: The answer is brief, so it can be considered concise.\n",
            "   - **Relevance**: The answer does not provide any information about what a black hole is. Instead, it expresses a lack of knowledge and a claim about insufficient information. The relevance here is questionable because the answer doesn't directly address the question.\n",
            "\n",
            "2. **Helping to Answer the QUESTION**: The second criterion is whether the STUDENT ANSWER helps to answer the QUESTION. The STUDENT ANSWER does not provide any information about black holes; it merely states the student's lack of knowledge and perceived lack of information.\n",
            "\n",
            "Let's evaluate the relevance based on these observations:\n",
            "\n",
            "- The STUDENT ANSWER is concise but lacks relevance because it doesn't provide any information about black holes.\n",
            "- It does not help to answer the QUESTION as it doesn't offer any explanation or definition of a black hole.\n",
            "\n",
            "Therefore, the STUDENT ANSWER does not meet the criteria of being relevant to the QUESTION and helping to answer it.\n",
            "\n",
            "Relevance value: **False** \n",
            "\n",
            "The reasoning is that while the answer is concise, its lack of relevance and failure to provide any helpful information regarding the question about black holes means it does not fulfill the given criteria.\n"
          ]
        }
      ],
      "source": [
        "print(response2['answer_relevance'])"
      ]
    },
    {
      "cell_type": "code",
      "execution_count": 79,
      "metadata": {
        "id": "0BRidWzN5Sji"
      },
      "outputs": [],
      "source": [
        "response3 = graph.invoke({\"question\": \"what currency is accepted?\"},config={\"callbacks\": [opik_tracer]})"
      ]
    },
    {
      "cell_type": "code",
      "execution_count": 80,
      "metadata": {
        "colab": {
          "base_uri": "https://localhost:8080/",
          "height": 53
        },
        "id": "U1DByfr6CnoD",
        "outputId": "a0ec6147-0149-40d9-9e61-4a5de24e1144"
      },
      "outputs": [
        {
          "output_type": "execute_result",
          "data": {
            "text/plain": [
              "\"I don't know. Not enough information received. \\n\\nThe provided context does not mention the currency accepted. It discusses electronic transactions, EFT payments and receipts, IT service agreements, and purchasing policies, but does not specify the currency.\""
            ],
            "application/vnd.google.colaboratory.intrinsic+json": {
              "type": "string"
            }
          },
          "metadata": {},
          "execution_count": 80
        }
      ],
      "source": [
        "response3['answer']"
      ]
    },
    {
      "cell_type": "code",
      "execution_count": 81,
      "metadata": {
        "colab": {
          "base_uri": "https://localhost:8080/"
        },
        "id": "RQkD-Q7gCqAk",
        "outputId": "1b4273e1-6a02-4ff8-cdc6-9c3650895839"
      },
      "outputs": [
        {
          "output_type": "stream",
          "name": "stdout",
          "text": [
            "To determine the relevance of the provided FACTS to the QUESTION \"what currency is accepted?\", let's analyze the content step by step.\n",
            "\n",
            "1. **Understanding the QUESTION**: The question is asking about the type(s) of currency that are accepted by an institution, presumably a municipality or organization.\n",
            "\n",
            "2. **Analyzing the FACTS**: The provided FACTS are excerpts from an \"IT Policy and Procedure Manual\" that includes policies on Electronic Transactions, IT Service Agreements, and related procedures.\n",
            "\n",
            "3. **Relevance Check**:\n",
            "   - The FACTS discuss electronic transactions, including Electronic Funds Transfers (EFT), electronic purchases, and the use of institution credit cards.\n",
            "   - They mention adherence to various policies such as the Financial policies and procedures manual, purchasing policy, and institution credit card policy.\n",
            "   - The FACTS do not directly mention or imply the type of currency accepted.\n",
            "\n",
            "4. **Keyword and Semantic Meaning Analysis**:\n",
            "   - Keywords related to the QUESTION would include \"currency,\" \"accepted,\" \"payment,\" or \"transaction.\"\n",
            "   - While the FACTS contain terms like \"Electronic Funds Transfer,\" \"electronic purchases,\" and \"institution credit cards,\" which relate to transactions and payments, they do not directly address the currency aspect.\n",
            "   - The mention of \"EFT payments and receipts\" and \"electronic purchases\" implies transactions that could involve various currencies, but it does not specify which currencies are accepted.\n",
            "\n",
            "5. **Relevance Determination**:\n",
            "   - Although the FACTS do not directly answer the QUESTION about the accepted currency, they are related to financial transactions and payments.\n",
            "   - The presence of terms related to financial transactions (e.g., EFT, electronic purchases) could be considered semantically related to the concept of currency.\n",
            "\n",
            "6. **Conclusion**:\n",
            "   - Given the criteria that facts are considered relevant if they contain ANY keywords or semantic meaning related to the question, the provided FACTS can be seen as relevant because they discuss electronic transactions and payments, which are related to the broader context of currency acceptance.\n",
            "   - Therefore, despite not directly answering the question, the FACTS have a semantic relation to the topic of transactions and payments, making them relevant.\n",
            "\n",
            "**Relevance Value: True**\n",
            "\n",
            "The reasoning is based on the understanding that the FACTS, while not directly answering the QUESTION, are related to the broader context of financial transactions, which includes the concept of currency. Thus, they are considered relevant according to the given criteria.\n"
          ]
        }
      ],
      "source": [
        "print(response3['context_relevance'])"
      ]
    },
    {
      "cell_type": "markdown",
      "metadata": {
        "id": "t6RaxpsvQ69_"
      },
      "source": [
        "## Define Evals - Precision from RAGAS: OPIK - @track"
      ]
    },
    {
      "cell_type": "code",
      "execution_count": 82,
      "metadata": {
        "id": "xKUr8rTBDG46"
      },
      "outputs": [],
      "source": [
        "from ragas import SingleTurnSample\n",
        "from ragas.llms import LangchainLLMWrapper\n",
        "from ragas.metrics import LLMContextPrecisionWithoutReference"
      ]
    },
    {
      "cell_type": "code",
      "execution_count": 83,
      "metadata": {
        "id": "O3Z_li0vSC2T",
        "outputId": "42cb1122-cfbc-43ec-a688-1523ed67643a",
        "colab": {
          "base_uri": "https://localhost:8080/"
        }
      },
      "outputs": [
        {
          "output_type": "execute_result",
          "data": {
            "text/plain": [
              "{'question': 'What happens when I receive an order?',\n",
              " 'context': [Document(metadata={'source': 'policy.pdf', 'file_path': 'policy.pdf', 'page': 28, 'total_pages': 33, 'Title': 'IT Policies and Procedures Manual Template', 'Author': 'Business Victoria (www.business.vic.gov.au)', 'Subject': 'IT Policies and Procedures Manual Template', 'Creator': 'Microsoft® Word 2010', 'CreationDate': \"D:20160513175204+02'00'\", 'ModDate': \"D:20160513175204+02'00'\", 'Producer': 'Microsoft® Word 2010', '_id': '6ac09d1a-8af2-4803-ae9e-464ac010bc2d', '_collection_name': 'initialv1'}, page_content='IT Policy and Procedure Manual\\nEFT payments can only be released for payment once pending payments have been authorised\\nby {insert relevant job title here}\\nFor good control over EFT payments, ensure that the persons authorising the payments and\\nmaking the payment are not the same person.\\nAll EFT receipts must be reconciled to customer records {insert frequency here e.g. once a week\\netc.}\\nWhere EFT receipt cannot be allocated to customer account, it is responsibility of {insert\\nrelevant job title here} to investigate. In the event that the customer account cannot be identified\\nwithin {insert length of time here, such as one month} the receipted funds must be {insert action\\nhere such as allocated to suspense account or returned to source etc.}. {insert relevant job title\\nhere} must authorise this transaction.\\nIt is the responsibility of {insert relevant job title here} to annually review EFT authorisations for\\ninitial entry, alterations, or deletion of EFT records, including supplier payment records and\\ncustomer receipt records.\\nElectronic Purchases\\nAll electronic purchases by any authorised employee must adhere to the purchasing policy in the\\nFinancial policies and procedures manual.\\nWhere an electronic purchase is being considered, the person authorising this transaction must\\nensure that the internet sales site is secure and safe and be able to demonstrate that this has been\\nreviewed.\\nAll electronic purchases must be undertaken using institution credit cards only and therefore\\nadhere to the institution credit card policy in the Financial policies and procedures manual.\\nAdditional Policies for Electronic Transactions Policy\\nGuidance: add, link or remove the policies listed below as required.\\nInformation Technology Security Policy\\nFinance Policies\\nPage 26 of 30'),\n",
              "  Document(metadata={'source': 'policy.pdf', 'file_path': 'policy.pdf', 'page': 14, 'total_pages': 33, 'Title': 'IT Policies and Procedures Manual Template', 'Author': 'Business Victoria (www.business.vic.gov.au)', 'Subject': 'IT Policies and Procedures Manual Template', 'Creator': 'Microsoft® Word 2010', 'CreationDate': \"D:20160513175204+02'00'\", 'ModDate': \"D:20160513175204+02'00'\", 'Producer': 'Microsoft® Word 2010', '_id': 'd93e6441-0694-4f92-8a1f-9596b21e2b02', '_collection_name': 'initialv1'}, page_content='IT Policy and Procedure Manual\\nA software upgrade shall not be installed on a computer that does not already have a copy of the\\noriginal version of the software loaded on it.\\nSoftware Usage\\nOnly software purchased in accordance with the getting software policy is to be used within the\\ninstitution.\\nPrior to the use of any software, the employee must receive instructions on any licensing\\nagreements relating to the software, including any restrictions on use of the software.\\nAll employees must receive training for all new software. This includes new employees to be\\ntrained to use existing software appropriately. This will be the responsibility of {insert relevant\\njob title here}\\nEmployees are prohibited from bringing software from home and loading it onto the institution’s\\ncomputer hardware.\\nUnless express approval from {insert relevant job title here} is obtained, software cannot be\\ntaken home and loaded on a employees’ home computer\\nWhere an employee is required to use software at home, an evaluation of providing the employee\\nwith a portable computer should be undertaken in the first instance. Where it is found that\\nsoftware can be used on the employee’s home computer, authorisation from {insert relevant job\\ntitle here} is required to purchase separate software if licensing or copyright restrictions apply.\\nWhere software is purchased in this circumstance, it remains the property of the institution and\\nmust be recorded on the software register by {insert relevant job title here}\\nUnauthorised software is prohibited from being used in the institution. This includes the use of\\nsoftware owned by an employee and used within the institution.\\nThe unauthorised duplicating, acquiring or use of software copies is prohibited. Any employee\\nwho makes, acquires, or uses unauthorised copies of software will be referred to {insert relevant\\njob title here} for {insert consequence here, such as further consultation, reprimand action etc.}.'),\n",
              "  Document(metadata={'source': 'policy.pdf', 'file_path': 'policy.pdf', 'page': 3, 'total_pages': 33, 'Title': 'IT Policies and Procedures Manual Template', 'Author': 'Business Victoria (www.business.vic.gov.au)', 'Subject': 'IT Policies and Procedures Manual Template', 'Creator': 'Microsoft® Word 2010', 'CreationDate': \"D:20160513175204+02'00'\", 'ModDate': \"D:20160513175204+02'00'\", 'Producer': 'Microsoft® Word 2010', '_id': '25fa3f1a-8073-4b89-ba3d-df11198d775a', '_collection_name': 'initialv1'}, page_content='Procedures...................................................................................................................................... 14\\nInformation Technology Security Policy .......................................................................................... 18\\nPurpose of the Policy ..................................................................................................................... 18\\nProcedures...................................................................................................................................... 18\\nInformation Technology Administration Policy ................................................................................ 21\\nPurpose of the Policy ..................................................................................................................... 21\\nProcedures...................................................................................................................................... 21\\nWebsite Policy ................................................................................................................................... 23\\nPurpose of the Policy ..................................................................................................................... 23\\nProcedures...................................................................................................................................... 23\\nElectronic Transactions Policy .......................................................................................................... 25\\nPurpose of the Policy ..................................................................................................................... 25\\nProcedures...................................................................................................................................... 25'),\n",
              "  Document(metadata={'source': 'policy.pdf', 'file_path': 'policy.pdf', 'page': 30, 'total_pages': 33, 'Title': 'IT Policies and Procedures Manual Template', 'Author': 'Business Victoria (www.business.vic.gov.au)', 'Subject': 'IT Policies and Procedures Manual Template', 'Creator': 'Microsoft® Word 2010', 'CreationDate': \"D:20160513175204+02'00'\", 'ModDate': \"D:20160513175204+02'00'\", 'Producer': 'Microsoft® Word 2010', '_id': '7b0b3c1c-dcab-4814-8c29-ab401f4f65e7', '_collection_name': 'initialv1'}, page_content='IT Policy and Procedure Manual\\nAll IT service agreements, obligations and renewals must be recorded {insert where the\\nagreements are to be recorded here}\\nWhere an IT service agreement renewal is required, in the event that the agreement is\\nsubstantially unchanged from the previous agreement, then this agreement renewal can be\\nauthorised by {insert relevant job title here}.\\nWhere an IT service agreement renewal is required, in the event that the agreement has\\nsubstantially changed from the previous agreement, {insert who should review, recommended\\nlawyer or solicitor} before the renewal is entered into. Once the agreement has been reviewed\\nand recommendation for execution received, then the agreement must be approved by {insert\\nrelevant job title here}\\nIn the event that there is a dispute to the provision of IT services covered by an IT service\\nagreement, it must be referred to {insert relevant job title here} who will be responsible for the\\nsettlement of such dispute.\\nAdditional Policies for IT Services Policy\\nGuidance: add, link or remove the policies listed below as required.\\nTechnology Hardware Purchasing Policy\\nPage 28 of 30')],\n",
              " 'answer': \"I don't know. Not enough information received.\\n\\nThe provided context does not contain information about what happens when an order is received. It discusses EFT payments, electronic purchases, software usage, and IT service agreements, but does not mention the process for handling received orders.\",\n",
              " 'context_relevance': 'To determine the relevance of the provided FACTS to the QUESTION \"What happens when I receive an order?\", let\\'s analyze the content step by step.\\n\\n1. **Understanding the QUESTION**: The question is asking about the process or actions taken when an order is received.\\n\\n2. **Analyzing the FACTS**: The provided FACTS are from an \"IT Policy and Procedure Manual\" and cover various topics such as EFT payments, electronic purchases, software usage, and IT service agreements. \\n\\n3. **Checking for Relevance**:\\n   - The FACTS discuss policies and procedures related to financial transactions (EFT payments, electronic purchases), software management, and IT services. \\n   - Keywords related to the QUESTION could be \"order\" or related terms like \"purchase\" or \"transaction\".\\n   - The FACTS mention \"electronic purchases\" and the procedures surrounding them, which could be semantically related to receiving an order.\\n\\n4. **Detailed Analysis**:\\n   - The section on \"Electronic Purchases\" states that all electronic purchases must adhere to the purchasing policy and be made using institution credit cards. This implies a process for handling purchases or orders.\\n   - Although the FACTS do not directly address the process of \"receiving an order\", the context of electronic purchases and financial transactions is related to the broader topic of managing orders or transactions.\\n\\n5. **Relevance Determination**:\\n   - Given that the FACTS contain information related to electronic purchases and financial transactions, which could be considered related to the concept of receiving an order, we need to assess if this is sufficient to be deemed relevant.\\n   - The presence of terms like \"electronic purchases\" and the procedures around financial transactions indicates a connection to the process of handling orders.\\n\\n6. **Conclusion**:\\n   - The FACTS contain information that is related to the semantic meaning of the QUESTION, specifically in the context of electronic transactions and purchases.\\n   - Therefore, despite not directly answering \"What happens when I receive an order?\", the FACTS are relevant because they contain related concepts and procedures.\\n\\n**Relevance Value: True**\\n\\nThe FACTS are considered relevant to the QUESTION because they contain related keywords and semantic meaning, specifically around electronic purchases and financial transactions, which are related to the concept of receiving and handling orders.',\n",
              " 'answer_relevance': 'To determine the relevance of the STUDENT ANSWER to the QUESTION, let\\'s analyze it step by step.\\n\\n1. **Understanding the QUESTION**: The QUESTION asks about the process or outcome when an order is received. It implies a need for information about the steps or actions taken after receiving an order.\\n\\n2. **Analyzing the STUDENT ANSWER**: The STUDENT ANSWER is \"I don\\'t know. Not enough information received.\" This response indicates that the student lacks the necessary information to answer the question about what happens when an order is received.\\n\\n3. **Evaluating Conciseness and Relevance**:\\n   - **Conciseness**: The STUDENT ANSWER is concise as it directly states the student\\'s inability to provide an answer due to a lack of information.\\n   - **Relevance**: To assess relevance, we need to consider whether the answer helps to address the QUESTION. The QUESTION seeks a description or explanation of the process following the receipt of an order. The STUDENT ANSWER, however, does not provide any information about the process; instead, it expresses the student\\'s lack of knowledge or information.\\n\\n4. **Assessing if the STUDENT ANSWER helps to answer the QUESTION**: The STUDENT ANSWER does not provide any insight into what happens when an order is received. It merely states that the student cannot answer due to insufficient information, which does not help in understanding the process or outcome of receiving an order.\\n\\n5. **Conclusion**: The STUDENT ANSWER is concise but does not help to answer the QUESTION as it doesn\\'t provide any relevant information about the process of handling received orders. Therefore, the relevance value should be **False** because it fails to meet the criteria of helping to answer the QUESTION.\\n\\nRelevance: False. The student\\'s answer does not provide relevant information to the question asked.'}"
            ]
          },
          "metadata": {},
          "execution_count": 83
        }
      ],
      "source": [
        "response"
      ]
    },
    {
      "cell_type": "code",
      "execution_count": 84,
      "metadata": {
        "id": "aUhIqrgMSJyY",
        "outputId": "2b0a3aa2-3457-4cff-cea9-c5d55bdeaf33",
        "colab": {
          "base_uri": "https://localhost:8080/"
        }
      },
      "outputs": [
        {
          "output_type": "stream",
          "name": "stdout",
          "text": [
            "IT Policy and Procedure Manual\n",
            "EFT payments can only be released for payment once pending payments have been authorised\n",
            "by {insert relevant job title here}\n",
            "For good control over EFT payments, ensure that the persons authorising the payments and\n",
            "making the payment are not the same person.\n",
            "All EFT receipts must be reconciled to customer records {insert frequency here e.g. once a week\n",
            "etc.}\n",
            "Where EFT receipt cannot be allocated to customer account, it is responsibility of {insert\n",
            "relevant job title here} to investigate. In the event that the customer account cannot be identified\n",
            "within {insert length of time here, such as one month} the receipted funds must be {insert action\n",
            "here such as allocated to suspense account or returned to source etc.}. {insert relevant job title\n",
            "here} must authorise this transaction.\n",
            "It is the responsibility of {insert relevant job title here} to annually review EFT authorisations for\n",
            "initial entry, alterations, or deletion of EFT records, including supplier payment records and\n",
            "customer receipt records.\n",
            "Electronic Purchases\n",
            "All electronic purchases by any authorised employee must adhere to the purchasing policy in the\n",
            "Financial policies and procedures manual.\n",
            "Where an electronic purchase is being considered, the person authorising this transaction must\n",
            "ensure that the internet sales site is secure and safe and be able to demonstrate that this has been\n",
            "reviewed.\n",
            "All electronic purchases must be undertaken using institution credit cards only and therefore\n",
            "adhere to the institution credit card policy in the Financial policies and procedures manual.\n",
            "Additional Policies for Electronic Transactions Policy\n",
            "Guidance: add, link or remove the policies listed below as required.\n",
            "Information Technology Security Policy\n",
            "Finance Policies\n",
            "Page 26 of 30\n",
            "IT Policy and Procedure Manual\n",
            "A software upgrade shall not be installed on a computer that does not already have a copy of the\n",
            "original version of the software loaded on it.\n",
            "Software Usage\n",
            "Only software purchased in accordance with the getting software policy is to be used within the\n",
            "institution.\n",
            "Prior to the use of any software, the employee must receive instructions on any licensing\n",
            "agreements relating to the software, including any restrictions on use of the software.\n",
            "All employees must receive training for all new software. This includes new employees to be\n",
            "trained to use existing software appropriately. This will be the responsibility of {insert relevant\n",
            "job title here}\n",
            "Employees are prohibited from bringing software from home and loading it onto the institution’s\n",
            "computer hardware.\n",
            "Unless express approval from {insert relevant job title here} is obtained, software cannot be\n",
            "taken home and loaded on a employees’ home computer\n",
            "Where an employee is required to use software at home, an evaluation of providing the employee\n",
            "with a portable computer should be undertaken in the first instance. Where it is found that\n",
            "software can be used on the employee’s home computer, authorisation from {insert relevant job\n",
            "title here} is required to purchase separate software if licensing or copyright restrictions apply.\n",
            "Where software is purchased in this circumstance, it remains the property of the institution and\n",
            "must be recorded on the software register by {insert relevant job title here}\n",
            "Unauthorised software is prohibited from being used in the institution. This includes the use of\n",
            "software owned by an employee and used within the institution.\n",
            "The unauthorised duplicating, acquiring or use of software copies is prohibited. Any employee\n",
            "who makes, acquires, or uses unauthorised copies of software will be referred to {insert relevant\n",
            "job title here} for {insert consequence here, such as further consultation, reprimand action etc.}.\n",
            "Procedures...................................................................................................................................... 14\n",
            "Information Technology Security Policy .......................................................................................... 18\n",
            "Purpose of the Policy ..................................................................................................................... 18\n",
            "Procedures...................................................................................................................................... 18\n",
            "Information Technology Administration Policy ................................................................................ 21\n",
            "Purpose of the Policy ..................................................................................................................... 21\n",
            "Procedures...................................................................................................................................... 21\n",
            "Website Policy ................................................................................................................................... 23\n",
            "Purpose of the Policy ..................................................................................................................... 23\n",
            "Procedures...................................................................................................................................... 23\n",
            "Electronic Transactions Policy .......................................................................................................... 25\n",
            "Purpose of the Policy ..................................................................................................................... 25\n",
            "Procedures...................................................................................................................................... 25\n",
            "IT Policy and Procedure Manual\n",
            "All IT service agreements, obligations and renewals must be recorded {insert where the\n",
            "agreements are to be recorded here}\n",
            "Where an IT service agreement renewal is required, in the event that the agreement is\n",
            "substantially unchanged from the previous agreement, then this agreement renewal can be\n",
            "authorised by {insert relevant job title here}.\n",
            "Where an IT service agreement renewal is required, in the event that the agreement has\n",
            "substantially changed from the previous agreement, {insert who should review, recommended\n",
            "lawyer or solicitor} before the renewal is entered into. Once the agreement has been reviewed\n",
            "and recommendation for execution received, then the agreement must be approved by {insert\n",
            "relevant job title here}\n",
            "In the event that there is a dispute to the provision of IT services covered by an IT service\n",
            "agreement, it must be referred to {insert relevant job title here} who will be responsible for the\n",
            "settlement of such dispute.\n",
            "Additional Policies for IT Services Policy\n",
            "Guidance: add, link or remove the policies listed below as required.\n",
            "Technology Hardware Purchasing Policy\n",
            "Page 28 of 30\n"
          ]
        }
      ],
      "source": [
        "for doc in response['context']:\n",
        "  print(doc.page_content)"
      ]
    },
    {
      "cell_type": "code",
      "execution_count": 85,
      "metadata": {
        "id": "rMPJ92ePESOr"
      },
      "outputs": [],
      "source": [
        "def get_context_precision(response):\n",
        "  evaluator_llm = LangchainLLMWrapper(llm) # gemini-2.5-flash\n",
        "\n",
        "  context_precision = LLMContextPrecisionWithoutReference(llm=evaluator_llm)\n",
        "\n",
        "  context = \" \".join(doc.page_content for doc in response['context'])\n",
        "\n",
        "  eval = SingleTurnSample(\n",
        "    user_input=response['question'],\n",
        "    response=response['answer'],\n",
        "    retrieved_contexts=[context],\n",
        "  )\n",
        "\n",
        "  return context_precision.single_turn_ascore(eval)"
      ]
    },
    {
      "cell_type": "code",
      "execution_count": 86,
      "metadata": {
        "id": "MK8u9ChFDv0T"
      },
      "outputs": [],
      "source": [
        "precision = get_context_precision(response)"
      ]
    },
    {
      "cell_type": "code",
      "execution_count": 87,
      "metadata": {
        "colab": {
          "base_uri": "https://localhost:8080/"
        },
        "id": "fZuzDhFREAkZ",
        "outputId": "44e6802a-b7a5-46e9-f9b6-43281a89565c"
      },
      "outputs": [
        {
          "output_type": "execute_result",
          "data": {
            "text/plain": [
              "0.0"
            ]
          },
          "metadata": {},
          "execution_count": 87
        }
      ],
      "source": [
        "await precision"
      ]
    },
    {
      "cell_type": "code",
      "execution_count": 88,
      "metadata": {
        "colab": {
          "base_uri": "https://localhost:8080/"
        },
        "id": "CEdg83EfFS6b",
        "outputId": "46c33ab2-efeb-4c3b-e49d-efddbc5f4938"
      },
      "outputs": [
        {
          "output_type": "execute_result",
          "data": {
            "text/plain": [
              "0.0"
            ]
          },
          "metadata": {},
          "execution_count": 88
        }
      ],
      "source": [
        "precision2 = get_context_precision(response2)\n",
        "await precision2"
      ]
    },
    {
      "cell_type": "code",
      "execution_count": 89,
      "metadata": {
        "colab": {
          "base_uri": "https://localhost:8080/"
        },
        "id": "wTW0VJZJFYeq",
        "outputId": "b31d8767-5ffd-4dcb-cb95-995184917469"
      },
      "outputs": [
        {
          "output_type": "execute_result",
          "data": {
            "text/plain": [
              "0.0"
            ]
          },
          "metadata": {},
          "execution_count": 89
        }
      ],
      "source": [
        "precision3 = get_context_precision(response3)\n",
        "await precision3"
      ]
    },
    {
      "cell_type": "markdown",
      "metadata": {
        "id": "shM1FG__Siym"
      },
      "source": [
        "# Last part of the live session\n",
        "\n",
        "Track the custom function which uses LLM - OPIK:\n",
        "@track"
      ]
    },
    {
      "cell_type": "code",
      "execution_count": 90,
      "metadata": {
        "id": "jp7cyuv2FxiR"
      },
      "outputs": [],
      "source": [
        "from ragas.embeddings import LangchainEmbeddingsWrapper\n",
        "from ragas.metrics import ResponseRelevancy"
      ]
    },
    {
      "cell_type": "code",
      "execution_count": 91,
      "metadata": {
        "id": "4gNhNf32Hy06"
      },
      "outputs": [],
      "source": [
        "from opik import track, opik_context"
      ]
    },
    {
      "cell_type": "code",
      "execution_count": 92,
      "metadata": {
        "id": "l8MeN0LnGxnm"
      },
      "outputs": [],
      "source": [
        "@track\n",
        "async def get_response_relevancy(response):\n",
        "  evaluator_llm = LangchainLLMWrapper(llm)\n",
        "  evaluator_embeddings = LangchainEmbeddingsWrapper(embeddings)\n",
        "\n",
        "  context = \" \".join(doc.page_content for doc in response['context'])\n",
        "  eval = SingleTurnSample(\n",
        "        user_input=response['question'],\n",
        "        response=response['answer'],\n",
        "        retrieved_contexts=[context]\n",
        "    )\n",
        "  scorer = ResponseRelevancy(llm=evaluator_llm, embeddings=evaluator_embeddings)\n",
        "  scores = await scorer.single_turn_ascore(eval)\n",
        "  print(scores)\n",
        "\n",
        "  opik_context.update_current_trace(\n",
        "        feedback_scores=[\n",
        "            {\"name\": \"user_feedback\", \"value\": scores,\"reason\":response['answer']}\n",
        "  ])\n",
        "\n",
        "  return scores"
      ]
    },
    {
      "cell_type": "code",
      "execution_count": 93,
      "metadata": {
        "id": "ZPslS1J5HRW5"
      },
      "outputs": [],
      "source": [
        "response_rel = get_response_relevancy(response)"
      ]
    },
    {
      "cell_type": "code",
      "execution_count": 94,
      "metadata": {
        "colab": {
          "base_uri": "https://localhost:8080/"
        },
        "id": "DK-ldKfPHXjf",
        "outputId": "4dea64b7-95e9-4e92-e562-eafcdd9780dc"
      },
      "outputs": [
        {
          "output_type": "stream",
          "name": "stdout",
          "text": [
            "0.0\n"
          ]
        },
        {
          "output_type": "execute_result",
          "data": {
            "text/plain": [
              "np.float64(0.0)"
            ]
          },
          "metadata": {},
          "execution_count": 94
        }
      ],
      "source": [
        "await response_rel"
      ]
    },
    {
      "cell_type": "code",
      "execution_count": 95,
      "metadata": {
        "id": "-KVAiUFqHawu"
      },
      "outputs": [],
      "source": [
        "response_rel2 = get_response_relevancy(response2)"
      ]
    },
    {
      "cell_type": "code",
      "execution_count": 96,
      "metadata": {
        "colab": {
          "base_uri": "https://localhost:8080/"
        },
        "id": "Xza4N3CAHeAr",
        "outputId": "2ba8150d-648f-4b79-f0ae-ccc3f8564866"
      },
      "outputs": [
        {
          "output_type": "stream",
          "name": "stdout",
          "text": [
            "0.0\n"
          ]
        },
        {
          "output_type": "execute_result",
          "data": {
            "text/plain": [
              "np.float64(0.0)"
            ]
          },
          "metadata": {},
          "execution_count": 96
        }
      ],
      "source": [
        "await response_rel2"
      ]
    },
    {
      "cell_type": "code",
      "execution_count": 97,
      "metadata": {
        "id": "kQgBkRU_HhTd"
      },
      "outputs": [],
      "source": [
        "response_rel3 = get_response_relevancy(response3)"
      ]
    },
    {
      "cell_type": "code",
      "execution_count": 98,
      "metadata": {
        "colab": {
          "base_uri": "https://localhost:8080/"
        },
        "id": "0ZUC1u_0Hj4T",
        "outputId": "20009b35-d493-4334-9422-25d620441548"
      },
      "outputs": [
        {
          "output_type": "stream",
          "name": "stdout",
          "text": [
            "0.0\n"
          ]
        },
        {
          "output_type": "execute_result",
          "data": {
            "text/plain": [
              "np.float64(0.0)"
            ]
          },
          "metadata": {},
          "execution_count": 98
        }
      ],
      "source": [
        "await response_rel3"
      ]
    },
    {
      "cell_type": "code",
      "source": [],
      "metadata": {
        "id": "NY1L8NouDtoh"
      },
      "execution_count": null,
      "outputs": []
    }
  ],
  "metadata": {
    "colab": {
      "provenance": [],
      "include_colab_link": true
    },
    "kernelspec": {
      "display_name": "Python 3",
      "name": "python3"
    },
    "language_info": {
      "name": "python"
    },
    "widgets": {
      "application/vnd.jupyter.widget-state+json": {
        "9ae2f2d786cf4402a03faeabb851f2dc": {
          "model_module": "@jupyter-widgets/controls",
          "model_name": "HBoxModel",
          "model_module_version": "1.5.0",
          "state": {
            "_dom_classes": [],
            "_model_module": "@jupyter-widgets/controls",
            "_model_module_version": "1.5.0",
            "_model_name": "HBoxModel",
            "_view_count": null,
            "_view_module": "@jupyter-widgets/controls",
            "_view_module_version": "1.5.0",
            "_view_name": "HBoxView",
            "box_style": "",
            "children": [
              "IPY_MODEL_00416e777bdb47ce8b9e69067185f363",
              "IPY_MODEL_f1835e55d2a04907966d1212fffa0085",
              "IPY_MODEL_717c5a984bc34422bb2464d5387872a6"
            ],
            "layout": "IPY_MODEL_0af060ec681a4a08be02bab35b3d1f6b"
          }
        },
        "00416e777bdb47ce8b9e69067185f363": {
          "model_module": "@jupyter-widgets/controls",
          "model_name": "HTMLModel",
          "model_module_version": "1.5.0",
          "state": {
            "_dom_classes": [],
            "_model_module": "@jupyter-widgets/controls",
            "_model_module_version": "1.5.0",
            "_model_name": "HTMLModel",
            "_view_count": null,
            "_view_module": "@jupyter-widgets/controls",
            "_view_module_version": "1.5.0",
            "_view_name": "HTMLView",
            "description": "",
            "description_tooltip": null,
            "layout": "IPY_MODEL_34955fa4ab7a4e22b5af5d9fdecc87a6",
            "placeholder": "​",
            "style": "IPY_MODEL_f8bfe7455f8b4ddf8312f8450ef9ded5",
            "value": "Fetching 8 files: 100%"
          }
        },
        "f1835e55d2a04907966d1212fffa0085": {
          "model_module": "@jupyter-widgets/controls",
          "model_name": "FloatProgressModel",
          "model_module_version": "1.5.0",
          "state": {
            "_dom_classes": [],
            "_model_module": "@jupyter-widgets/controls",
            "_model_module_version": "1.5.0",
            "_model_name": "FloatProgressModel",
            "_view_count": null,
            "_view_module": "@jupyter-widgets/controls",
            "_view_module_version": "1.5.0",
            "_view_name": "ProgressView",
            "bar_style": "success",
            "description": "",
            "description_tooltip": null,
            "layout": "IPY_MODEL_8fd8ca5218064bfab638ce231dde345c",
            "max": 8,
            "min": 0,
            "orientation": "horizontal",
            "style": "IPY_MODEL_2f83ac54f579472081e7435b0c0156c7",
            "value": 8
          }
        },
        "717c5a984bc34422bb2464d5387872a6": {
          "model_module": "@jupyter-widgets/controls",
          "model_name": "HTMLModel",
          "model_module_version": "1.5.0",
          "state": {
            "_dom_classes": [],
            "_model_module": "@jupyter-widgets/controls",
            "_model_module_version": "1.5.0",
            "_model_name": "HTMLModel",
            "_view_count": null,
            "_view_module": "@jupyter-widgets/controls",
            "_view_module_version": "1.5.0",
            "_view_name": "HTMLView",
            "description": "",
            "description_tooltip": null,
            "layout": "IPY_MODEL_9715a443b5604d53bf50c03bab15a1d1",
            "placeholder": "​",
            "style": "IPY_MODEL_53b3ccda74df40feb9be93fae129c8fb",
            "value": " 8/8 [00:07&lt;00:00,  4.19s/it]"
          }
        },
        "0af060ec681a4a08be02bab35b3d1f6b": {
          "model_module": "@jupyter-widgets/base",
          "model_name": "LayoutModel",
          "model_module_version": "1.2.0",
          "state": {
            "_model_module": "@jupyter-widgets/base",
            "_model_module_version": "1.2.0",
            "_model_name": "LayoutModel",
            "_view_count": null,
            "_view_module": "@jupyter-widgets/base",
            "_view_module_version": "1.2.0",
            "_view_name": "LayoutView",
            "align_content": null,
            "align_items": null,
            "align_self": null,
            "border": null,
            "bottom": null,
            "display": null,
            "flex": null,
            "flex_flow": null,
            "grid_area": null,
            "grid_auto_columns": null,
            "grid_auto_flow": null,
            "grid_auto_rows": null,
            "grid_column": null,
            "grid_gap": null,
            "grid_row": null,
            "grid_template_areas": null,
            "grid_template_columns": null,
            "grid_template_rows": null,
            "height": null,
            "justify_content": null,
            "justify_items": null,
            "left": null,
            "margin": null,
            "max_height": null,
            "max_width": null,
            "min_height": null,
            "min_width": null,
            "object_fit": null,
            "object_position": null,
            "order": null,
            "overflow": null,
            "overflow_x": null,
            "overflow_y": null,
            "padding": null,
            "right": null,
            "top": null,
            "visibility": null,
            "width": null
          }
        },
        "34955fa4ab7a4e22b5af5d9fdecc87a6": {
          "model_module": "@jupyter-widgets/base",
          "model_name": "LayoutModel",
          "model_module_version": "1.2.0",
          "state": {
            "_model_module": "@jupyter-widgets/base",
            "_model_module_version": "1.2.0",
            "_model_name": "LayoutModel",
            "_view_count": null,
            "_view_module": "@jupyter-widgets/base",
            "_view_module_version": "1.2.0",
            "_view_name": "LayoutView",
            "align_content": null,
            "align_items": null,
            "align_self": null,
            "border": null,
            "bottom": null,
            "display": null,
            "flex": null,
            "flex_flow": null,
            "grid_area": null,
            "grid_auto_columns": null,
            "grid_auto_flow": null,
            "grid_auto_rows": null,
            "grid_column": null,
            "grid_gap": null,
            "grid_row": null,
            "grid_template_areas": null,
            "grid_template_columns": null,
            "grid_template_rows": null,
            "height": null,
            "justify_content": null,
            "justify_items": null,
            "left": null,
            "margin": null,
            "max_height": null,
            "max_width": null,
            "min_height": null,
            "min_width": null,
            "object_fit": null,
            "object_position": null,
            "order": null,
            "overflow": null,
            "overflow_x": null,
            "overflow_y": null,
            "padding": null,
            "right": null,
            "top": null,
            "visibility": null,
            "width": null
          }
        },
        "f8bfe7455f8b4ddf8312f8450ef9ded5": {
          "model_module": "@jupyter-widgets/controls",
          "model_name": "DescriptionStyleModel",
          "model_module_version": "1.5.0",
          "state": {
            "_model_module": "@jupyter-widgets/controls",
            "_model_module_version": "1.5.0",
            "_model_name": "DescriptionStyleModel",
            "_view_count": null,
            "_view_module": "@jupyter-widgets/base",
            "_view_module_version": "1.2.0",
            "_view_name": "StyleView",
            "description_width": ""
          }
        },
        "8fd8ca5218064bfab638ce231dde345c": {
          "model_module": "@jupyter-widgets/base",
          "model_name": "LayoutModel",
          "model_module_version": "1.2.0",
          "state": {
            "_model_module": "@jupyter-widgets/base",
            "_model_module_version": "1.2.0",
            "_model_name": "LayoutModel",
            "_view_count": null,
            "_view_module": "@jupyter-widgets/base",
            "_view_module_version": "1.2.0",
            "_view_name": "LayoutView",
            "align_content": null,
            "align_items": null,
            "align_self": null,
            "border": null,
            "bottom": null,
            "display": null,
            "flex": null,
            "flex_flow": null,
            "grid_area": null,
            "grid_auto_columns": null,
            "grid_auto_flow": null,
            "grid_auto_rows": null,
            "grid_column": null,
            "grid_gap": null,
            "grid_row": null,
            "grid_template_areas": null,
            "grid_template_columns": null,
            "grid_template_rows": null,
            "height": null,
            "justify_content": null,
            "justify_items": null,
            "left": null,
            "margin": null,
            "max_height": null,
            "max_width": null,
            "min_height": null,
            "min_width": null,
            "object_fit": null,
            "object_position": null,
            "order": null,
            "overflow": null,
            "overflow_x": null,
            "overflow_y": null,
            "padding": null,
            "right": null,
            "top": null,
            "visibility": null,
            "width": null
          }
        },
        "2f83ac54f579472081e7435b0c0156c7": {
          "model_module": "@jupyter-widgets/controls",
          "model_name": "ProgressStyleModel",
          "model_module_version": "1.5.0",
          "state": {
            "_model_module": "@jupyter-widgets/controls",
            "_model_module_version": "1.5.0",
            "_model_name": "ProgressStyleModel",
            "_view_count": null,
            "_view_module": "@jupyter-widgets/base",
            "_view_module_version": "1.2.0",
            "_view_name": "StyleView",
            "bar_color": null,
            "description_width": ""
          }
        },
        "9715a443b5604d53bf50c03bab15a1d1": {
          "model_module": "@jupyter-widgets/base",
          "model_name": "LayoutModel",
          "model_module_version": "1.2.0",
          "state": {
            "_model_module": "@jupyter-widgets/base",
            "_model_module_version": "1.2.0",
            "_model_name": "LayoutModel",
            "_view_count": null,
            "_view_module": "@jupyter-widgets/base",
            "_view_module_version": "1.2.0",
            "_view_name": "LayoutView",
            "align_content": null,
            "align_items": null,
            "align_self": null,
            "border": null,
            "bottom": null,
            "display": null,
            "flex": null,
            "flex_flow": null,
            "grid_area": null,
            "grid_auto_columns": null,
            "grid_auto_flow": null,
            "grid_auto_rows": null,
            "grid_column": null,
            "grid_gap": null,
            "grid_row": null,
            "grid_template_areas": null,
            "grid_template_columns": null,
            "grid_template_rows": null,
            "height": null,
            "justify_content": null,
            "justify_items": null,
            "left": null,
            "margin": null,
            "max_height": null,
            "max_width": null,
            "min_height": null,
            "min_width": null,
            "object_fit": null,
            "object_position": null,
            "order": null,
            "overflow": null,
            "overflow_x": null,
            "overflow_y": null,
            "padding": null,
            "right": null,
            "top": null,
            "visibility": null,
            "width": null
          }
        },
        "53b3ccda74df40feb9be93fae129c8fb": {
          "model_module": "@jupyter-widgets/controls",
          "model_name": "DescriptionStyleModel",
          "model_module_version": "1.5.0",
          "state": {
            "_model_module": "@jupyter-widgets/controls",
            "_model_module_version": "1.5.0",
            "_model_name": "DescriptionStyleModel",
            "_view_count": null,
            "_view_module": "@jupyter-widgets/base",
            "_view_module_version": "1.2.0",
            "_view_name": "StyleView",
            "description_width": ""
          }
        },
        "81a5ea4323b34db998ab67cc3d7ddab9": {
          "model_module": "@jupyter-widgets/controls",
          "model_name": "HBoxModel",
          "model_module_version": "1.5.0",
          "state": {
            "_dom_classes": [],
            "_model_module": "@jupyter-widgets/controls",
            "_model_module_version": "1.5.0",
            "_model_name": "HBoxModel",
            "_view_count": null,
            "_view_module": "@jupyter-widgets/controls",
            "_view_module_version": "1.5.0",
            "_view_name": "HBoxView",
            "box_style": "",
            "children": [
              "IPY_MODEL_d0dba4724bae4042a738ad309efe97be",
              "IPY_MODEL_22db3bed21254408b51f4985bdd4c9c8",
              "IPY_MODEL_7eb5f4698e75465bbc2267976f89ed9a"
            ],
            "layout": "IPY_MODEL_2896dcb735b142fd979a11dd9019aa04"
          }
        },
        "d0dba4724bae4042a738ad309efe97be": {
          "model_module": "@jupyter-widgets/controls",
          "model_name": "HTMLModel",
          "model_module_version": "1.5.0",
          "state": {
            "_dom_classes": [],
            "_model_module": "@jupyter-widgets/controls",
            "_model_module_version": "1.5.0",
            "_model_name": "HTMLModel",
            "_view_count": null,
            "_view_module": "@jupyter-widgets/controls",
            "_view_module_version": "1.5.0",
            "_view_name": "HTMLView",
            "description": "",
            "description_tooltip": null,
            "layout": "IPY_MODEL_3656eff7982a4143a7c93de8f417a794",
            "placeholder": "​",
            "style": "IPY_MODEL_3a442c9841d84bc599aff2053cfba48c",
            "value": "minicoil.triplet.model.npy: 100%"
          }
        },
        "22db3bed21254408b51f4985bdd4c9c8": {
          "model_module": "@jupyter-widgets/controls",
          "model_name": "FloatProgressModel",
          "model_module_version": "1.5.0",
          "state": {
            "_dom_classes": [],
            "_model_module": "@jupyter-widgets/controls",
            "_model_module_version": "1.5.0",
            "_model_name": "FloatProgressModel",
            "_view_count": null,
            "_view_module": "@jupyter-widgets/controls",
            "_view_module_version": "1.5.0",
            "_view_name": "ProgressView",
            "bar_style": "success",
            "description": "",
            "description_tooltip": null,
            "layout": "IPY_MODEL_79bef877390042abbbb331ade572cfa7",
            "max": 156672128,
            "min": 0,
            "orientation": "horizontal",
            "style": "IPY_MODEL_1e1f6dba2d11404db0efcaffc7c7355c",
            "value": 156672128
          }
        },
        "7eb5f4698e75465bbc2267976f89ed9a": {
          "model_module": "@jupyter-widgets/controls",
          "model_name": "HTMLModel",
          "model_module_version": "1.5.0",
          "state": {
            "_dom_classes": [],
            "_model_module": "@jupyter-widgets/controls",
            "_model_module_version": "1.5.0",
            "_model_name": "HTMLModel",
            "_view_count": null,
            "_view_module": "@jupyter-widgets/controls",
            "_view_module_version": "1.5.0",
            "_view_name": "HTMLView",
            "description": "",
            "description_tooltip": null,
            "layout": "IPY_MODEL_23526b67b51d4ec6aaa1cafa2f2f124f",
            "placeholder": "​",
            "style": "IPY_MODEL_b8378c1063b043b8b45b413b6f115ab0",
            "value": " 157M/157M [00:06&lt;00:00, 27.5MB/s]"
          }
        },
        "2896dcb735b142fd979a11dd9019aa04": {
          "model_module": "@jupyter-widgets/base",
          "model_name": "LayoutModel",
          "model_module_version": "1.2.0",
          "state": {
            "_model_module": "@jupyter-widgets/base",
            "_model_module_version": "1.2.0",
            "_model_name": "LayoutModel",
            "_view_count": null,
            "_view_module": "@jupyter-widgets/base",
            "_view_module_version": "1.2.0",
            "_view_name": "LayoutView",
            "align_content": null,
            "align_items": null,
            "align_self": null,
            "border": null,
            "bottom": null,
            "display": null,
            "flex": null,
            "flex_flow": null,
            "grid_area": null,
            "grid_auto_columns": null,
            "grid_auto_flow": null,
            "grid_auto_rows": null,
            "grid_column": null,
            "grid_gap": null,
            "grid_row": null,
            "grid_template_areas": null,
            "grid_template_columns": null,
            "grid_template_rows": null,
            "height": null,
            "justify_content": null,
            "justify_items": null,
            "left": null,
            "margin": null,
            "max_height": null,
            "max_width": null,
            "min_height": null,
            "min_width": null,
            "object_fit": null,
            "object_position": null,
            "order": null,
            "overflow": null,
            "overflow_x": null,
            "overflow_y": null,
            "padding": null,
            "right": null,
            "top": null,
            "visibility": null,
            "width": null
          }
        },
        "3656eff7982a4143a7c93de8f417a794": {
          "model_module": "@jupyter-widgets/base",
          "model_name": "LayoutModel",
          "model_module_version": "1.2.0",
          "state": {
            "_model_module": "@jupyter-widgets/base",
            "_model_module_version": "1.2.0",
            "_model_name": "LayoutModel",
            "_view_count": null,
            "_view_module": "@jupyter-widgets/base",
            "_view_module_version": "1.2.0",
            "_view_name": "LayoutView",
            "align_content": null,
            "align_items": null,
            "align_self": null,
            "border": null,
            "bottom": null,
            "display": null,
            "flex": null,
            "flex_flow": null,
            "grid_area": null,
            "grid_auto_columns": null,
            "grid_auto_flow": null,
            "grid_auto_rows": null,
            "grid_column": null,
            "grid_gap": null,
            "grid_row": null,
            "grid_template_areas": null,
            "grid_template_columns": null,
            "grid_template_rows": null,
            "height": null,
            "justify_content": null,
            "justify_items": null,
            "left": null,
            "margin": null,
            "max_height": null,
            "max_width": null,
            "min_height": null,
            "min_width": null,
            "object_fit": null,
            "object_position": null,
            "order": null,
            "overflow": null,
            "overflow_x": null,
            "overflow_y": null,
            "padding": null,
            "right": null,
            "top": null,
            "visibility": null,
            "width": null
          }
        },
        "3a442c9841d84bc599aff2053cfba48c": {
          "model_module": "@jupyter-widgets/controls",
          "model_name": "DescriptionStyleModel",
          "model_module_version": "1.5.0",
          "state": {
            "_model_module": "@jupyter-widgets/controls",
            "_model_module_version": "1.5.0",
            "_model_name": "DescriptionStyleModel",
            "_view_count": null,
            "_view_module": "@jupyter-widgets/base",
            "_view_module_version": "1.2.0",
            "_view_name": "StyleView",
            "description_width": ""
          }
        },
        "79bef877390042abbbb331ade572cfa7": {
          "model_module": "@jupyter-widgets/base",
          "model_name": "LayoutModel",
          "model_module_version": "1.2.0",
          "state": {
            "_model_module": "@jupyter-widgets/base",
            "_model_module_version": "1.2.0",
            "_model_name": "LayoutModel",
            "_view_count": null,
            "_view_module": "@jupyter-widgets/base",
            "_view_module_version": "1.2.0",
            "_view_name": "LayoutView",
            "align_content": null,
            "align_items": null,
            "align_self": null,
            "border": null,
            "bottom": null,
            "display": null,
            "flex": null,
            "flex_flow": null,
            "grid_area": null,
            "grid_auto_columns": null,
            "grid_auto_flow": null,
            "grid_auto_rows": null,
            "grid_column": null,
            "grid_gap": null,
            "grid_row": null,
            "grid_template_areas": null,
            "grid_template_columns": null,
            "grid_template_rows": null,
            "height": null,
            "justify_content": null,
            "justify_items": null,
            "left": null,
            "margin": null,
            "max_height": null,
            "max_width": null,
            "min_height": null,
            "min_width": null,
            "object_fit": null,
            "object_position": null,
            "order": null,
            "overflow": null,
            "overflow_x": null,
            "overflow_y": null,
            "padding": null,
            "right": null,
            "top": null,
            "visibility": null,
            "width": null
          }
        },
        "1e1f6dba2d11404db0efcaffc7c7355c": {
          "model_module": "@jupyter-widgets/controls",
          "model_name": "ProgressStyleModel",
          "model_module_version": "1.5.0",
          "state": {
            "_model_module": "@jupyter-widgets/controls",
            "_model_module_version": "1.5.0",
            "_model_name": "ProgressStyleModel",
            "_view_count": null,
            "_view_module": "@jupyter-widgets/base",
            "_view_module_version": "1.2.0",
            "_view_name": "StyleView",
            "bar_color": null,
            "description_width": ""
          }
        },
        "23526b67b51d4ec6aaa1cafa2f2f124f": {
          "model_module": "@jupyter-widgets/base",
          "model_name": "LayoutModel",
          "model_module_version": "1.2.0",
          "state": {
            "_model_module": "@jupyter-widgets/base",
            "_model_module_version": "1.2.0",
            "_model_name": "LayoutModel",
            "_view_count": null,
            "_view_module": "@jupyter-widgets/base",
            "_view_module_version": "1.2.0",
            "_view_name": "LayoutView",
            "align_content": null,
            "align_items": null,
            "align_self": null,
            "border": null,
            "bottom": null,
            "display": null,
            "flex": null,
            "flex_flow": null,
            "grid_area": null,
            "grid_auto_columns": null,
            "grid_auto_flow": null,
            "grid_auto_rows": null,
            "grid_column": null,
            "grid_gap": null,
            "grid_row": null,
            "grid_template_areas": null,
            "grid_template_columns": null,
            "grid_template_rows": null,
            "height": null,
            "justify_content": null,
            "justify_items": null,
            "left": null,
            "margin": null,
            "max_height": null,
            "max_width": null,
            "min_height": null,
            "min_width": null,
            "object_fit": null,
            "object_position": null,
            "order": null,
            "overflow": null,
            "overflow_x": null,
            "overflow_y": null,
            "padding": null,
            "right": null,
            "top": null,
            "visibility": null,
            "width": null
          }
        },
        "b8378c1063b043b8b45b413b6f115ab0": {
          "model_module": "@jupyter-widgets/controls",
          "model_name": "DescriptionStyleModel",
          "model_module_version": "1.5.0",
          "state": {
            "_model_module": "@jupyter-widgets/controls",
            "_model_module_version": "1.5.0",
            "_model_name": "DescriptionStyleModel",
            "_view_count": null,
            "_view_module": "@jupyter-widgets/base",
            "_view_module_version": "1.2.0",
            "_view_name": "StyleView",
            "description_width": ""
          }
        },
        "5656d704e93a4bc5bae1853910be2a8d": {
          "model_module": "@jupyter-widgets/controls",
          "model_name": "HBoxModel",
          "model_module_version": "1.5.0",
          "state": {
            "_dom_classes": [],
            "_model_module": "@jupyter-widgets/controls",
            "_model_module_version": "1.5.0",
            "_model_name": "HBoxModel",
            "_view_count": null,
            "_view_module": "@jupyter-widgets/controls",
            "_view_module_version": "1.5.0",
            "_view_name": "HBoxView",
            "box_style": "",
            "children": [
              "IPY_MODEL_4ee5bb5cb88342e3b603049424da7517",
              "IPY_MODEL_47fa9308d1f14b5a9701ce7ec816a636",
              "IPY_MODEL_aa8b7ee7742647648a18e2110369714a"
            ],
            "layout": "IPY_MODEL_dd5757845306432f97f1541f87253673"
          }
        },
        "4ee5bb5cb88342e3b603049424da7517": {
          "model_module": "@jupyter-widgets/controls",
          "model_name": "HTMLModel",
          "model_module_version": "1.5.0",
          "state": {
            "_dom_classes": [],
            "_model_module": "@jupyter-widgets/controls",
            "_model_module_version": "1.5.0",
            "_model_name": "HTMLModel",
            "_view_count": null,
            "_view_module": "@jupyter-widgets/controls",
            "_view_module_version": "1.5.0",
            "_view_name": "HTMLView",
            "description": "",
            "description_tooltip": null,
            "layout": "IPY_MODEL_3a8c54b596204dc3befd5833b21a27f1",
            "placeholder": "​",
            "style": "IPY_MODEL_496257a843d5491ab202442d28a68ba1",
            "value": "onnx/model.onnx: 100%"
          }
        },
        "47fa9308d1f14b5a9701ce7ec816a636": {
          "model_module": "@jupyter-widgets/controls",
          "model_name": "FloatProgressModel",
          "model_module_version": "1.5.0",
          "state": {
            "_dom_classes": [],
            "_model_module": "@jupyter-widgets/controls",
            "_model_module_version": "1.5.0",
            "_model_name": "FloatProgressModel",
            "_view_count": null,
            "_view_module": "@jupyter-widgets/controls",
            "_view_module_version": "1.5.0",
            "_view_name": "ProgressView",
            "bar_style": "success",
            "description": "",
            "description_tooltip": null,
            "layout": "IPY_MODEL_bf0498caaaad458997557421453631a6",
            "max": 129799236,
            "min": 0,
            "orientation": "horizontal",
            "style": "IPY_MODEL_2cb47caded954be0871e711b0b1978c9",
            "value": 129799236
          }
        },
        "aa8b7ee7742647648a18e2110369714a": {
          "model_module": "@jupyter-widgets/controls",
          "model_name": "HTMLModel",
          "model_module_version": "1.5.0",
          "state": {
            "_dom_classes": [],
            "_model_module": "@jupyter-widgets/controls",
            "_model_module_version": "1.5.0",
            "_model_name": "HTMLModel",
            "_view_count": null,
            "_view_module": "@jupyter-widgets/controls",
            "_view_module_version": "1.5.0",
            "_view_name": "HTMLView",
            "description": "",
            "description_tooltip": null,
            "layout": "IPY_MODEL_6389ff36bb1542f98d41f10a6e1fb976",
            "placeholder": "​",
            "style": "IPY_MODEL_9d035e3f87eb45c7b58ab47f5c56b357",
            "value": " 130M/130M [00:03&lt;00:00, 81.8MB/s]"
          }
        },
        "dd5757845306432f97f1541f87253673": {
          "model_module": "@jupyter-widgets/base",
          "model_name": "LayoutModel",
          "model_module_version": "1.2.0",
          "state": {
            "_model_module": "@jupyter-widgets/base",
            "_model_module_version": "1.2.0",
            "_model_name": "LayoutModel",
            "_view_count": null,
            "_view_module": "@jupyter-widgets/base",
            "_view_module_version": "1.2.0",
            "_view_name": "LayoutView",
            "align_content": null,
            "align_items": null,
            "align_self": null,
            "border": null,
            "bottom": null,
            "display": null,
            "flex": null,
            "flex_flow": null,
            "grid_area": null,
            "grid_auto_columns": null,
            "grid_auto_flow": null,
            "grid_auto_rows": null,
            "grid_column": null,
            "grid_gap": null,
            "grid_row": null,
            "grid_template_areas": null,
            "grid_template_columns": null,
            "grid_template_rows": null,
            "height": null,
            "justify_content": null,
            "justify_items": null,
            "left": null,
            "margin": null,
            "max_height": null,
            "max_width": null,
            "min_height": null,
            "min_width": null,
            "object_fit": null,
            "object_position": null,
            "order": null,
            "overflow": null,
            "overflow_x": null,
            "overflow_y": null,
            "padding": null,
            "right": null,
            "top": null,
            "visibility": null,
            "width": null
          }
        },
        "3a8c54b596204dc3befd5833b21a27f1": {
          "model_module": "@jupyter-widgets/base",
          "model_name": "LayoutModel",
          "model_module_version": "1.2.0",
          "state": {
            "_model_module": "@jupyter-widgets/base",
            "_model_module_version": "1.2.0",
            "_model_name": "LayoutModel",
            "_view_count": null,
            "_view_module": "@jupyter-widgets/base",
            "_view_module_version": "1.2.0",
            "_view_name": "LayoutView",
            "align_content": null,
            "align_items": null,
            "align_self": null,
            "border": null,
            "bottom": null,
            "display": null,
            "flex": null,
            "flex_flow": null,
            "grid_area": null,
            "grid_auto_columns": null,
            "grid_auto_flow": null,
            "grid_auto_rows": null,
            "grid_column": null,
            "grid_gap": null,
            "grid_row": null,
            "grid_template_areas": null,
            "grid_template_columns": null,
            "grid_template_rows": null,
            "height": null,
            "justify_content": null,
            "justify_items": null,
            "left": null,
            "margin": null,
            "max_height": null,
            "max_width": null,
            "min_height": null,
            "min_width": null,
            "object_fit": null,
            "object_position": null,
            "order": null,
            "overflow": null,
            "overflow_x": null,
            "overflow_y": null,
            "padding": null,
            "right": null,
            "top": null,
            "visibility": null,
            "width": null
          }
        },
        "496257a843d5491ab202442d28a68ba1": {
          "model_module": "@jupyter-widgets/controls",
          "model_name": "DescriptionStyleModel",
          "model_module_version": "1.5.0",
          "state": {
            "_model_module": "@jupyter-widgets/controls",
            "_model_module_version": "1.5.0",
            "_model_name": "DescriptionStyleModel",
            "_view_count": null,
            "_view_module": "@jupyter-widgets/base",
            "_view_module_version": "1.2.0",
            "_view_name": "StyleView",
            "description_width": ""
          }
        },
        "bf0498caaaad458997557421453631a6": {
          "model_module": "@jupyter-widgets/base",
          "model_name": "LayoutModel",
          "model_module_version": "1.2.0",
          "state": {
            "_model_module": "@jupyter-widgets/base",
            "_model_module_version": "1.2.0",
            "_model_name": "LayoutModel",
            "_view_count": null,
            "_view_module": "@jupyter-widgets/base",
            "_view_module_version": "1.2.0",
            "_view_name": "LayoutView",
            "align_content": null,
            "align_items": null,
            "align_self": null,
            "border": null,
            "bottom": null,
            "display": null,
            "flex": null,
            "flex_flow": null,
            "grid_area": null,
            "grid_auto_columns": null,
            "grid_auto_flow": null,
            "grid_auto_rows": null,
            "grid_column": null,
            "grid_gap": null,
            "grid_row": null,
            "grid_template_areas": null,
            "grid_template_columns": null,
            "grid_template_rows": null,
            "height": null,
            "justify_content": null,
            "justify_items": null,
            "left": null,
            "margin": null,
            "max_height": null,
            "max_width": null,
            "min_height": null,
            "min_width": null,
            "object_fit": null,
            "object_position": null,
            "order": null,
            "overflow": null,
            "overflow_x": null,
            "overflow_y": null,
            "padding": null,
            "right": null,
            "top": null,
            "visibility": null,
            "width": null
          }
        },
        "2cb47caded954be0871e711b0b1978c9": {
          "model_module": "@jupyter-widgets/controls",
          "model_name": "ProgressStyleModel",
          "model_module_version": "1.5.0",
          "state": {
            "_model_module": "@jupyter-widgets/controls",
            "_model_module_version": "1.5.0",
            "_model_name": "ProgressStyleModel",
            "_view_count": null,
            "_view_module": "@jupyter-widgets/base",
            "_view_module_version": "1.2.0",
            "_view_name": "StyleView",
            "bar_color": null,
            "description_width": ""
          }
        },
        "6389ff36bb1542f98d41f10a6e1fb976": {
          "model_module": "@jupyter-widgets/base",
          "model_name": "LayoutModel",
          "model_module_version": "1.2.0",
          "state": {
            "_model_module": "@jupyter-widgets/base",
            "_model_module_version": "1.2.0",
            "_model_name": "LayoutModel",
            "_view_count": null,
            "_view_module": "@jupyter-widgets/base",
            "_view_module_version": "1.2.0",
            "_view_name": "LayoutView",
            "align_content": null,
            "align_items": null,
            "align_self": null,
            "border": null,
            "bottom": null,
            "display": null,
            "flex": null,
            "flex_flow": null,
            "grid_area": null,
            "grid_auto_columns": null,
            "grid_auto_flow": null,
            "grid_auto_rows": null,
            "grid_column": null,
            "grid_gap": null,
            "grid_row": null,
            "grid_template_areas": null,
            "grid_template_columns": null,
            "grid_template_rows": null,
            "height": null,
            "justify_content": null,
            "justify_items": null,
            "left": null,
            "margin": null,
            "max_height": null,
            "max_width": null,
            "min_height": null,
            "min_width": null,
            "object_fit": null,
            "object_position": null,
            "order": null,
            "overflow": null,
            "overflow_x": null,
            "overflow_y": null,
            "padding": null,
            "right": null,
            "top": null,
            "visibility": null,
            "width": null
          }
        },
        "9d035e3f87eb45c7b58ab47f5c56b357": {
          "model_module": "@jupyter-widgets/controls",
          "model_name": "DescriptionStyleModel",
          "model_module_version": "1.5.0",
          "state": {
            "_model_module": "@jupyter-widgets/controls",
            "_model_module_version": "1.5.0",
            "_model_name": "DescriptionStyleModel",
            "_view_count": null,
            "_view_module": "@jupyter-widgets/base",
            "_view_module_version": "1.2.0",
            "_view_name": "StyleView",
            "description_width": ""
          }
        },
        "f1d12fac7fe241db80d85d148b7217af": {
          "model_module": "@jupyter-widgets/controls",
          "model_name": "HBoxModel",
          "model_module_version": "1.5.0",
          "state": {
            "_dom_classes": [],
            "_model_module": "@jupyter-widgets/controls",
            "_model_module_version": "1.5.0",
            "_model_name": "HBoxModel",
            "_view_count": null,
            "_view_module": "@jupyter-widgets/controls",
            "_view_module_version": "1.5.0",
            "_view_name": "HBoxView",
            "box_style": "",
            "children": [
              "IPY_MODEL_2a7336c22dea49f0b1308452145c7cae",
              "IPY_MODEL_1de1298192b944b5890a61a9d9ba6724",
              "IPY_MODEL_baebdd6ce08f4786ad2b7013218ecf07"
            ],
            "layout": "IPY_MODEL_03b3282a28e44861a5f6a20f0e649a94"
          }
        },
        "2a7336c22dea49f0b1308452145c7cae": {
          "model_module": "@jupyter-widgets/controls",
          "model_name": "HTMLModel",
          "model_module_version": "1.5.0",
          "state": {
            "_dom_classes": [],
            "_model_module": "@jupyter-widgets/controls",
            "_model_module_version": "1.5.0",
            "_model_name": "HTMLModel",
            "_view_count": null,
            "_view_module": "@jupyter-widgets/controls",
            "_view_module_version": "1.5.0",
            "_view_name": "HTMLView",
            "description": "",
            "description_tooltip": null,
            "layout": "IPY_MODEL_f4bb9aea10b0425995fd399918695e66",
            "placeholder": "​",
            "style": "IPY_MODEL_fda3ce2a7c554904bc7cc5d1329dab9e",
            "value": "tokenizer_config.json: 100%"
          }
        },
        "1de1298192b944b5890a61a9d9ba6724": {
          "model_module": "@jupyter-widgets/controls",
          "model_name": "FloatProgressModel",
          "model_module_version": "1.5.0",
          "state": {
            "_dom_classes": [],
            "_model_module": "@jupyter-widgets/controls",
            "_model_module_version": "1.5.0",
            "_model_name": "FloatProgressModel",
            "_view_count": null,
            "_view_module": "@jupyter-widgets/controls",
            "_view_module_version": "1.5.0",
            "_view_name": "ProgressView",
            "bar_style": "success",
            "description": "",
            "description_tooltip": null,
            "layout": "IPY_MODEL_788bdf9e356447f49a5188415feac8c4",
            "max": 367,
            "min": 0,
            "orientation": "horizontal",
            "style": "IPY_MODEL_d97845a3a4324b7789760bc1af34d590",
            "value": 367
          }
        },
        "baebdd6ce08f4786ad2b7013218ecf07": {
          "model_module": "@jupyter-widgets/controls",
          "model_name": "HTMLModel",
          "model_module_version": "1.5.0",
          "state": {
            "_dom_classes": [],
            "_model_module": "@jupyter-widgets/controls",
            "_model_module_version": "1.5.0",
            "_model_name": "HTMLModel",
            "_view_count": null,
            "_view_module": "@jupyter-widgets/controls",
            "_view_module_version": "1.5.0",
            "_view_name": "HTMLView",
            "description": "",
            "description_tooltip": null,
            "layout": "IPY_MODEL_6291491dcddd4eac9a172cca2505958d",
            "placeholder": "​",
            "style": "IPY_MODEL_ff7145d406af44b3a7ff08cf61fd892d",
            "value": " 367/367 [00:00&lt;00:00, 3.56kB/s]"
          }
        },
        "03b3282a28e44861a5f6a20f0e649a94": {
          "model_module": "@jupyter-widgets/base",
          "model_name": "LayoutModel",
          "model_module_version": "1.2.0",
          "state": {
            "_model_module": "@jupyter-widgets/base",
            "_model_module_version": "1.2.0",
            "_model_name": "LayoutModel",
            "_view_count": null,
            "_view_module": "@jupyter-widgets/base",
            "_view_module_version": "1.2.0",
            "_view_name": "LayoutView",
            "align_content": null,
            "align_items": null,
            "align_self": null,
            "border": null,
            "bottom": null,
            "display": null,
            "flex": null,
            "flex_flow": null,
            "grid_area": null,
            "grid_auto_columns": null,
            "grid_auto_flow": null,
            "grid_auto_rows": null,
            "grid_column": null,
            "grid_gap": null,
            "grid_row": null,
            "grid_template_areas": null,
            "grid_template_columns": null,
            "grid_template_rows": null,
            "height": null,
            "justify_content": null,
            "justify_items": null,
            "left": null,
            "margin": null,
            "max_height": null,
            "max_width": null,
            "min_height": null,
            "min_width": null,
            "object_fit": null,
            "object_position": null,
            "order": null,
            "overflow": null,
            "overflow_x": null,
            "overflow_y": null,
            "padding": null,
            "right": null,
            "top": null,
            "visibility": null,
            "width": null
          }
        },
        "f4bb9aea10b0425995fd399918695e66": {
          "model_module": "@jupyter-widgets/base",
          "model_name": "LayoutModel",
          "model_module_version": "1.2.0",
          "state": {
            "_model_module": "@jupyter-widgets/base",
            "_model_module_version": "1.2.0",
            "_model_name": "LayoutModel",
            "_view_count": null,
            "_view_module": "@jupyter-widgets/base",
            "_view_module_version": "1.2.0",
            "_view_name": "LayoutView",
            "align_content": null,
            "align_items": null,
            "align_self": null,
            "border": null,
            "bottom": null,
            "display": null,
            "flex": null,
            "flex_flow": null,
            "grid_area": null,
            "grid_auto_columns": null,
            "grid_auto_flow": null,
            "grid_auto_rows": null,
            "grid_column": null,
            "grid_gap": null,
            "grid_row": null,
            "grid_template_areas": null,
            "grid_template_columns": null,
            "grid_template_rows": null,
            "height": null,
            "justify_content": null,
            "justify_items": null,
            "left": null,
            "margin": null,
            "max_height": null,
            "max_width": null,
            "min_height": null,
            "min_width": null,
            "object_fit": null,
            "object_position": null,
            "order": null,
            "overflow": null,
            "overflow_x": null,
            "overflow_y": null,
            "padding": null,
            "right": null,
            "top": null,
            "visibility": null,
            "width": null
          }
        },
        "fda3ce2a7c554904bc7cc5d1329dab9e": {
          "model_module": "@jupyter-widgets/controls",
          "model_name": "DescriptionStyleModel",
          "model_module_version": "1.5.0",
          "state": {
            "_model_module": "@jupyter-widgets/controls",
            "_model_module_version": "1.5.0",
            "_model_name": "DescriptionStyleModel",
            "_view_count": null,
            "_view_module": "@jupyter-widgets/base",
            "_view_module_version": "1.2.0",
            "_view_name": "StyleView",
            "description_width": ""
          }
        },
        "788bdf9e356447f49a5188415feac8c4": {
          "model_module": "@jupyter-widgets/base",
          "model_name": "LayoutModel",
          "model_module_version": "1.2.0",
          "state": {
            "_model_module": "@jupyter-widgets/base",
            "_model_module_version": "1.2.0",
            "_model_name": "LayoutModel",
            "_view_count": null,
            "_view_module": "@jupyter-widgets/base",
            "_view_module_version": "1.2.0",
            "_view_name": "LayoutView",
            "align_content": null,
            "align_items": null,
            "align_self": null,
            "border": null,
            "bottom": null,
            "display": null,
            "flex": null,
            "flex_flow": null,
            "grid_area": null,
            "grid_auto_columns": null,
            "grid_auto_flow": null,
            "grid_auto_rows": null,
            "grid_column": null,
            "grid_gap": null,
            "grid_row": null,
            "grid_template_areas": null,
            "grid_template_columns": null,
            "grid_template_rows": null,
            "height": null,
            "justify_content": null,
            "justify_items": null,
            "left": null,
            "margin": null,
            "max_height": null,
            "max_width": null,
            "min_height": null,
            "min_width": null,
            "object_fit": null,
            "object_position": null,
            "order": null,
            "overflow": null,
            "overflow_x": null,
            "overflow_y": null,
            "padding": null,
            "right": null,
            "top": null,
            "visibility": null,
            "width": null
          }
        },
        "d97845a3a4324b7789760bc1af34d590": {
          "model_module": "@jupyter-widgets/controls",
          "model_name": "ProgressStyleModel",
          "model_module_version": "1.5.0",
          "state": {
            "_model_module": "@jupyter-widgets/controls",
            "_model_module_version": "1.5.0",
            "_model_name": "ProgressStyleModel",
            "_view_count": null,
            "_view_module": "@jupyter-widgets/base",
            "_view_module_version": "1.2.0",
            "_view_name": "StyleView",
            "bar_color": null,
            "description_width": ""
          }
        },
        "6291491dcddd4eac9a172cca2505958d": {
          "model_module": "@jupyter-widgets/base",
          "model_name": "LayoutModel",
          "model_module_version": "1.2.0",
          "state": {
            "_model_module": "@jupyter-widgets/base",
            "_model_module_version": "1.2.0",
            "_model_name": "LayoutModel",
            "_view_count": null,
            "_view_module": "@jupyter-widgets/base",
            "_view_module_version": "1.2.0",
            "_view_name": "LayoutView",
            "align_content": null,
            "align_items": null,
            "align_self": null,
            "border": null,
            "bottom": null,
            "display": null,
            "flex": null,
            "flex_flow": null,
            "grid_area": null,
            "grid_auto_columns": null,
            "grid_auto_flow": null,
            "grid_auto_rows": null,
            "grid_column": null,
            "grid_gap": null,
            "grid_row": null,
            "grid_template_areas": null,
            "grid_template_columns": null,
            "grid_template_rows": null,
            "height": null,
            "justify_content": null,
            "justify_items": null,
            "left": null,
            "margin": null,
            "max_height": null,
            "max_width": null,
            "min_height": null,
            "min_width": null,
            "object_fit": null,
            "object_position": null,
            "order": null,
            "overflow": null,
            "overflow_x": null,
            "overflow_y": null,
            "padding": null,
            "right": null,
            "top": null,
            "visibility": null,
            "width": null
          }
        },
        "ff7145d406af44b3a7ff08cf61fd892d": {
          "model_module": "@jupyter-widgets/controls",
          "model_name": "DescriptionStyleModel",
          "model_module_version": "1.5.0",
          "state": {
            "_model_module": "@jupyter-widgets/controls",
            "_model_module_version": "1.5.0",
            "_model_name": "DescriptionStyleModel",
            "_view_count": null,
            "_view_module": "@jupyter-widgets/base",
            "_view_module_version": "1.2.0",
            "_view_name": "StyleView",
            "description_width": ""
          }
        },
        "82fb1f49923a49dab1af6aa07d2a79cd": {
          "model_module": "@jupyter-widgets/controls",
          "model_name": "HBoxModel",
          "model_module_version": "1.5.0",
          "state": {
            "_dom_classes": [],
            "_model_module": "@jupyter-widgets/controls",
            "_model_module_version": "1.5.0",
            "_model_name": "HBoxModel",
            "_view_count": null,
            "_view_module": "@jupyter-widgets/controls",
            "_view_module_version": "1.5.0",
            "_view_name": "HBoxView",
            "box_style": "",
            "children": [
              "IPY_MODEL_a615f31da7ea47bc8b21fe78a697c833",
              "IPY_MODEL_d804fe4cb2e048569f38293d47246bc7",
              "IPY_MODEL_87bc6443fd694de8bda46c9c01929f36"
            ],
            "layout": "IPY_MODEL_98fb6e030467447a9bc4a8c4e237f542"
          }
        },
        "a615f31da7ea47bc8b21fe78a697c833": {
          "model_module": "@jupyter-widgets/controls",
          "model_name": "HTMLModel",
          "model_module_version": "1.5.0",
          "state": {
            "_dom_classes": [],
            "_model_module": "@jupyter-widgets/controls",
            "_model_module_version": "1.5.0",
            "_model_name": "HTMLModel",
            "_view_count": null,
            "_view_module": "@jupyter-widgets/controls",
            "_view_module_version": "1.5.0",
            "_view_name": "HTMLView",
            "description": "",
            "description_tooltip": null,
            "layout": "IPY_MODEL_8c30284f3b4e470fab4c178fcee433e1",
            "placeholder": "​",
            "style": "IPY_MODEL_dd5c565f1a304299825c1e827a81bc72",
            "value": "tokenizer.json: "
          }
        },
        "d804fe4cb2e048569f38293d47246bc7": {
          "model_module": "@jupyter-widgets/controls",
          "model_name": "FloatProgressModel",
          "model_module_version": "1.5.0",
          "state": {
            "_dom_classes": [],
            "_model_module": "@jupyter-widgets/controls",
            "_model_module_version": "1.5.0",
            "_model_name": "FloatProgressModel",
            "_view_count": null,
            "_view_module": "@jupyter-widgets/controls",
            "_view_module_version": "1.5.0",
            "_view_name": "ProgressView",
            "bar_style": "success",
            "description": "",
            "description_tooltip": null,
            "layout": "IPY_MODEL_c5ffec4cd85c4689a36088eed45c099d",
            "max": 1,
            "min": 0,
            "orientation": "horizontal",
            "style": "IPY_MODEL_8eb7b83e1d474d2ca3f89048f0faa322",
            "value": 1
          }
        },
        "87bc6443fd694de8bda46c9c01929f36": {
          "model_module": "@jupyter-widgets/controls",
          "model_name": "HTMLModel",
          "model_module_version": "1.5.0",
          "state": {
            "_dom_classes": [],
            "_model_module": "@jupyter-widgets/controls",
            "_model_module_version": "1.5.0",
            "_model_name": "HTMLModel",
            "_view_count": null,
            "_view_module": "@jupyter-widgets/controls",
            "_view_module_version": "1.5.0",
            "_view_name": "HTMLView",
            "description": "",
            "description_tooltip": null,
            "layout": "IPY_MODEL_f137f0390f114f40b1aaea7e6d0b7741",
            "placeholder": "​",
            "style": "IPY_MODEL_86e29e4fd09040bbb737fcc3e6e944e2",
            "value": " 712k/? [00:00&lt;00:00, 302kB/s]"
          }
        },
        "98fb6e030467447a9bc4a8c4e237f542": {
          "model_module": "@jupyter-widgets/base",
          "model_name": "LayoutModel",
          "model_module_version": "1.2.0",
          "state": {
            "_model_module": "@jupyter-widgets/base",
            "_model_module_version": "1.2.0",
            "_model_name": "LayoutModel",
            "_view_count": null,
            "_view_module": "@jupyter-widgets/base",
            "_view_module_version": "1.2.0",
            "_view_name": "LayoutView",
            "align_content": null,
            "align_items": null,
            "align_self": null,
            "border": null,
            "bottom": null,
            "display": null,
            "flex": null,
            "flex_flow": null,
            "grid_area": null,
            "grid_auto_columns": null,
            "grid_auto_flow": null,
            "grid_auto_rows": null,
            "grid_column": null,
            "grid_gap": null,
            "grid_row": null,
            "grid_template_areas": null,
            "grid_template_columns": null,
            "grid_template_rows": null,
            "height": null,
            "justify_content": null,
            "justify_items": null,
            "left": null,
            "margin": null,
            "max_height": null,
            "max_width": null,
            "min_height": null,
            "min_width": null,
            "object_fit": null,
            "object_position": null,
            "order": null,
            "overflow": null,
            "overflow_x": null,
            "overflow_y": null,
            "padding": null,
            "right": null,
            "top": null,
            "visibility": null,
            "width": null
          }
        },
        "8c30284f3b4e470fab4c178fcee433e1": {
          "model_module": "@jupyter-widgets/base",
          "model_name": "LayoutModel",
          "model_module_version": "1.2.0",
          "state": {
            "_model_module": "@jupyter-widgets/base",
            "_model_module_version": "1.2.0",
            "_model_name": "LayoutModel",
            "_view_count": null,
            "_view_module": "@jupyter-widgets/base",
            "_view_module_version": "1.2.0",
            "_view_name": "LayoutView",
            "align_content": null,
            "align_items": null,
            "align_self": null,
            "border": null,
            "bottom": null,
            "display": null,
            "flex": null,
            "flex_flow": null,
            "grid_area": null,
            "grid_auto_columns": null,
            "grid_auto_flow": null,
            "grid_auto_rows": null,
            "grid_column": null,
            "grid_gap": null,
            "grid_row": null,
            "grid_template_areas": null,
            "grid_template_columns": null,
            "grid_template_rows": null,
            "height": null,
            "justify_content": null,
            "justify_items": null,
            "left": null,
            "margin": null,
            "max_height": null,
            "max_width": null,
            "min_height": null,
            "min_width": null,
            "object_fit": null,
            "object_position": null,
            "order": null,
            "overflow": null,
            "overflow_x": null,
            "overflow_y": null,
            "padding": null,
            "right": null,
            "top": null,
            "visibility": null,
            "width": null
          }
        },
        "dd5c565f1a304299825c1e827a81bc72": {
          "model_module": "@jupyter-widgets/controls",
          "model_name": "DescriptionStyleModel",
          "model_module_version": "1.5.0",
          "state": {
            "_model_module": "@jupyter-widgets/controls",
            "_model_module_version": "1.5.0",
            "_model_name": "DescriptionStyleModel",
            "_view_count": null,
            "_view_module": "@jupyter-widgets/base",
            "_view_module_version": "1.2.0",
            "_view_name": "StyleView",
            "description_width": ""
          }
        },
        "c5ffec4cd85c4689a36088eed45c099d": {
          "model_module": "@jupyter-widgets/base",
          "model_name": "LayoutModel",
          "model_module_version": "1.2.0",
          "state": {
            "_model_module": "@jupyter-widgets/base",
            "_model_module_version": "1.2.0",
            "_model_name": "LayoutModel",
            "_view_count": null,
            "_view_module": "@jupyter-widgets/base",
            "_view_module_version": "1.2.0",
            "_view_name": "LayoutView",
            "align_content": null,
            "align_items": null,
            "align_self": null,
            "border": null,
            "bottom": null,
            "display": null,
            "flex": null,
            "flex_flow": null,
            "grid_area": null,
            "grid_auto_columns": null,
            "grid_auto_flow": null,
            "grid_auto_rows": null,
            "grid_column": null,
            "grid_gap": null,
            "grid_row": null,
            "grid_template_areas": null,
            "grid_template_columns": null,
            "grid_template_rows": null,
            "height": null,
            "justify_content": null,
            "justify_items": null,
            "left": null,
            "margin": null,
            "max_height": null,
            "max_width": null,
            "min_height": null,
            "min_width": null,
            "object_fit": null,
            "object_position": null,
            "order": null,
            "overflow": null,
            "overflow_x": null,
            "overflow_y": null,
            "padding": null,
            "right": null,
            "top": null,
            "visibility": null,
            "width": "20px"
          }
        },
        "8eb7b83e1d474d2ca3f89048f0faa322": {
          "model_module": "@jupyter-widgets/controls",
          "model_name": "ProgressStyleModel",
          "model_module_version": "1.5.0",
          "state": {
            "_model_module": "@jupyter-widgets/controls",
            "_model_module_version": "1.5.0",
            "_model_name": "ProgressStyleModel",
            "_view_count": null,
            "_view_module": "@jupyter-widgets/base",
            "_view_module_version": "1.2.0",
            "_view_name": "StyleView",
            "bar_color": null,
            "description_width": ""
          }
        },
        "f137f0390f114f40b1aaea7e6d0b7741": {
          "model_module": "@jupyter-widgets/base",
          "model_name": "LayoutModel",
          "model_module_version": "1.2.0",
          "state": {
            "_model_module": "@jupyter-widgets/base",
            "_model_module_version": "1.2.0",
            "_model_name": "LayoutModel",
            "_view_count": null,
            "_view_module": "@jupyter-widgets/base",
            "_view_module_version": "1.2.0",
            "_view_name": "LayoutView",
            "align_content": null,
            "align_items": null,
            "align_self": null,
            "border": null,
            "bottom": null,
            "display": null,
            "flex": null,
            "flex_flow": null,
            "grid_area": null,
            "grid_auto_columns": null,
            "grid_auto_flow": null,
            "grid_auto_rows": null,
            "grid_column": null,
            "grid_gap": null,
            "grid_row": null,
            "grid_template_areas": null,
            "grid_template_columns": null,
            "grid_template_rows": null,
            "height": null,
            "justify_content": null,
            "justify_items": null,
            "left": null,
            "margin": null,
            "max_height": null,
            "max_width": null,
            "min_height": null,
            "min_width": null,
            "object_fit": null,
            "object_position": null,
            "order": null,
            "overflow": null,
            "overflow_x": null,
            "overflow_y": null,
            "padding": null,
            "right": null,
            "top": null,
            "visibility": null,
            "width": null
          }
        },
        "86e29e4fd09040bbb737fcc3e6e944e2": {
          "model_module": "@jupyter-widgets/controls",
          "model_name": "DescriptionStyleModel",
          "model_module_version": "1.5.0",
          "state": {
            "_model_module": "@jupyter-widgets/controls",
            "_model_module_version": "1.5.0",
            "_model_name": "DescriptionStyleModel",
            "_view_count": null,
            "_view_module": "@jupyter-widgets/base",
            "_view_module_version": "1.2.0",
            "_view_name": "StyleView",
            "description_width": ""
          }
        },
        "a81c13d95a5a4a8888e50253bc6ceba9": {
          "model_module": "@jupyter-widgets/controls",
          "model_name": "HBoxModel",
          "model_module_version": "1.5.0",
          "state": {
            "_dom_classes": [],
            "_model_module": "@jupyter-widgets/controls",
            "_model_module_version": "1.5.0",
            "_model_name": "HBoxModel",
            "_view_count": null,
            "_view_module": "@jupyter-widgets/controls",
            "_view_module_version": "1.5.0",
            "_view_name": "HBoxView",
            "box_style": "",
            "children": [
              "IPY_MODEL_1a2d462dcc3f46188854dde9745342ef",
              "IPY_MODEL_47da61f9fd184dc29ad373eb5a8ec019",
              "IPY_MODEL_ea4f24425c4d4bb4889c0fa8711469be"
            ],
            "layout": "IPY_MODEL_2ff4f6f8a50340b4a6b5be183835096b"
          }
        },
        "1a2d462dcc3f46188854dde9745342ef": {
          "model_module": "@jupyter-widgets/controls",
          "model_name": "HTMLModel",
          "model_module_version": "1.5.0",
          "state": {
            "_dom_classes": [],
            "_model_module": "@jupyter-widgets/controls",
            "_model_module_version": "1.5.0",
            "_model_name": "HTMLModel",
            "_view_count": null,
            "_view_module": "@jupyter-widgets/controls",
            "_view_module_version": "1.5.0",
            "_view_name": "HTMLView",
            "description": "",
            "description_tooltip": null,
            "layout": "IPY_MODEL_d82eff734b734f39bb9c2c4d729e39e0",
            "placeholder": "​",
            "style": "IPY_MODEL_ae41ed06217341a7a0347316cb170404",
            "value": "stopwords.txt: 100%"
          }
        },
        "47da61f9fd184dc29ad373eb5a8ec019": {
          "model_module": "@jupyter-widgets/controls",
          "model_name": "FloatProgressModel",
          "model_module_version": "1.5.0",
          "state": {
            "_dom_classes": [],
            "_model_module": "@jupyter-widgets/controls",
            "_model_module_version": "1.5.0",
            "_model_name": "FloatProgressModel",
            "_view_count": null,
            "_view_module": "@jupyter-widgets/controls",
            "_view_module_version": "1.5.0",
            "_view_name": "ProgressView",
            "bar_style": "success",
            "description": "",
            "description_tooltip": null,
            "layout": "IPY_MODEL_82143521f523438bbb48485af230bd57",
            "max": 743,
            "min": 0,
            "orientation": "horizontal",
            "style": "IPY_MODEL_4312e183420a4fb2b87bc5dbe0a1be4b",
            "value": 743
          }
        },
        "ea4f24425c4d4bb4889c0fa8711469be": {
          "model_module": "@jupyter-widgets/controls",
          "model_name": "HTMLModel",
          "model_module_version": "1.5.0",
          "state": {
            "_dom_classes": [],
            "_model_module": "@jupyter-widgets/controls",
            "_model_module_version": "1.5.0",
            "_model_name": "HTMLModel",
            "_view_count": null,
            "_view_module": "@jupyter-widgets/controls",
            "_view_module_version": "1.5.0",
            "_view_name": "HTMLView",
            "description": "",
            "description_tooltip": null,
            "layout": "IPY_MODEL_dc0c496ecc8c40ac90827a16f96966af",
            "placeholder": "​",
            "style": "IPY_MODEL_5a5fe9799c5c4e889ad6370408c0b576",
            "value": " 743/743 [00:00&lt;00:00, 6.05kB/s]"
          }
        },
        "2ff4f6f8a50340b4a6b5be183835096b": {
          "model_module": "@jupyter-widgets/base",
          "model_name": "LayoutModel",
          "model_module_version": "1.2.0",
          "state": {
            "_model_module": "@jupyter-widgets/base",
            "_model_module_version": "1.2.0",
            "_model_name": "LayoutModel",
            "_view_count": null,
            "_view_module": "@jupyter-widgets/base",
            "_view_module_version": "1.2.0",
            "_view_name": "LayoutView",
            "align_content": null,
            "align_items": null,
            "align_self": null,
            "border": null,
            "bottom": null,
            "display": null,
            "flex": null,
            "flex_flow": null,
            "grid_area": null,
            "grid_auto_columns": null,
            "grid_auto_flow": null,
            "grid_auto_rows": null,
            "grid_column": null,
            "grid_gap": null,
            "grid_row": null,
            "grid_template_areas": null,
            "grid_template_columns": null,
            "grid_template_rows": null,
            "height": null,
            "justify_content": null,
            "justify_items": null,
            "left": null,
            "margin": null,
            "max_height": null,
            "max_width": null,
            "min_height": null,
            "min_width": null,
            "object_fit": null,
            "object_position": null,
            "order": null,
            "overflow": null,
            "overflow_x": null,
            "overflow_y": null,
            "padding": null,
            "right": null,
            "top": null,
            "visibility": null,
            "width": null
          }
        },
        "d82eff734b734f39bb9c2c4d729e39e0": {
          "model_module": "@jupyter-widgets/base",
          "model_name": "LayoutModel",
          "model_module_version": "1.2.0",
          "state": {
            "_model_module": "@jupyter-widgets/base",
            "_model_module_version": "1.2.0",
            "_model_name": "LayoutModel",
            "_view_count": null,
            "_view_module": "@jupyter-widgets/base",
            "_view_module_version": "1.2.0",
            "_view_name": "LayoutView",
            "align_content": null,
            "align_items": null,
            "align_self": null,
            "border": null,
            "bottom": null,
            "display": null,
            "flex": null,
            "flex_flow": null,
            "grid_area": null,
            "grid_auto_columns": null,
            "grid_auto_flow": null,
            "grid_auto_rows": null,
            "grid_column": null,
            "grid_gap": null,
            "grid_row": null,
            "grid_template_areas": null,
            "grid_template_columns": null,
            "grid_template_rows": null,
            "height": null,
            "justify_content": null,
            "justify_items": null,
            "left": null,
            "margin": null,
            "max_height": null,
            "max_width": null,
            "min_height": null,
            "min_width": null,
            "object_fit": null,
            "object_position": null,
            "order": null,
            "overflow": null,
            "overflow_x": null,
            "overflow_y": null,
            "padding": null,
            "right": null,
            "top": null,
            "visibility": null,
            "width": null
          }
        },
        "ae41ed06217341a7a0347316cb170404": {
          "model_module": "@jupyter-widgets/controls",
          "model_name": "DescriptionStyleModel",
          "model_module_version": "1.5.0",
          "state": {
            "_model_module": "@jupyter-widgets/controls",
            "_model_module_version": "1.5.0",
            "_model_name": "DescriptionStyleModel",
            "_view_count": null,
            "_view_module": "@jupyter-widgets/base",
            "_view_module_version": "1.2.0",
            "_view_name": "StyleView",
            "description_width": ""
          }
        },
        "82143521f523438bbb48485af230bd57": {
          "model_module": "@jupyter-widgets/base",
          "model_name": "LayoutModel",
          "model_module_version": "1.2.0",
          "state": {
            "_model_module": "@jupyter-widgets/base",
            "_model_module_version": "1.2.0",
            "_model_name": "LayoutModel",
            "_view_count": null,
            "_view_module": "@jupyter-widgets/base",
            "_view_module_version": "1.2.0",
            "_view_name": "LayoutView",
            "align_content": null,
            "align_items": null,
            "align_self": null,
            "border": null,
            "bottom": null,
            "display": null,
            "flex": null,
            "flex_flow": null,
            "grid_area": null,
            "grid_auto_columns": null,
            "grid_auto_flow": null,
            "grid_auto_rows": null,
            "grid_column": null,
            "grid_gap": null,
            "grid_row": null,
            "grid_template_areas": null,
            "grid_template_columns": null,
            "grid_template_rows": null,
            "height": null,
            "justify_content": null,
            "justify_items": null,
            "left": null,
            "margin": null,
            "max_height": null,
            "max_width": null,
            "min_height": null,
            "min_width": null,
            "object_fit": null,
            "object_position": null,
            "order": null,
            "overflow": null,
            "overflow_x": null,
            "overflow_y": null,
            "padding": null,
            "right": null,
            "top": null,
            "visibility": null,
            "width": null
          }
        },
        "4312e183420a4fb2b87bc5dbe0a1be4b": {
          "model_module": "@jupyter-widgets/controls",
          "model_name": "ProgressStyleModel",
          "model_module_version": "1.5.0",
          "state": {
            "_model_module": "@jupyter-widgets/controls",
            "_model_module_version": "1.5.0",
            "_model_name": "ProgressStyleModel",
            "_view_count": null,
            "_view_module": "@jupyter-widgets/base",
            "_view_module_version": "1.2.0",
            "_view_name": "StyleView",
            "bar_color": null,
            "description_width": ""
          }
        },
        "dc0c496ecc8c40ac90827a16f96966af": {
          "model_module": "@jupyter-widgets/base",
          "model_name": "LayoutModel",
          "model_module_version": "1.2.0",
          "state": {
            "_model_module": "@jupyter-widgets/base",
            "_model_module_version": "1.2.0",
            "_model_name": "LayoutModel",
            "_view_count": null,
            "_view_module": "@jupyter-widgets/base",
            "_view_module_version": "1.2.0",
            "_view_name": "LayoutView",
            "align_content": null,
            "align_items": null,
            "align_self": null,
            "border": null,
            "bottom": null,
            "display": null,
            "flex": null,
            "flex_flow": null,
            "grid_area": null,
            "grid_auto_columns": null,
            "grid_auto_flow": null,
            "grid_auto_rows": null,
            "grid_column": null,
            "grid_gap": null,
            "grid_row": null,
            "grid_template_areas": null,
            "grid_template_columns": null,
            "grid_template_rows": null,
            "height": null,
            "justify_content": null,
            "justify_items": null,
            "left": null,
            "margin": null,
            "max_height": null,
            "max_width": null,
            "min_height": null,
            "min_width": null,
            "object_fit": null,
            "object_position": null,
            "order": null,
            "overflow": null,
            "overflow_x": null,
            "overflow_y": null,
            "padding": null,
            "right": null,
            "top": null,
            "visibility": null,
            "width": null
          }
        },
        "5a5fe9799c5c4e889ad6370408c0b576": {
          "model_module": "@jupyter-widgets/controls",
          "model_name": "DescriptionStyleModel",
          "model_module_version": "1.5.0",
          "state": {
            "_model_module": "@jupyter-widgets/controls",
            "_model_module_version": "1.5.0",
            "_model_name": "DescriptionStyleModel",
            "_view_count": null,
            "_view_module": "@jupyter-widgets/base",
            "_view_module_version": "1.2.0",
            "_view_name": "StyleView",
            "description_width": ""
          }
        },
        "2f5f9b2a9e7b4ac684fd520e796d5965": {
          "model_module": "@jupyter-widgets/controls",
          "model_name": "HBoxModel",
          "model_module_version": "1.5.0",
          "state": {
            "_dom_classes": [],
            "_model_module": "@jupyter-widgets/controls",
            "_model_module_version": "1.5.0",
            "_model_name": "HBoxModel",
            "_view_count": null,
            "_view_module": "@jupyter-widgets/controls",
            "_view_module_version": "1.5.0",
            "_view_name": "HBoxView",
            "box_style": "",
            "children": [
              "IPY_MODEL_def6af27209742d2a7e297a09232d787",
              "IPY_MODEL_e5cfb03b26294938b1c265f783b9b7b1",
              "IPY_MODEL_539298c8a0ad47729706653885aba8d5"
            ],
            "layout": "IPY_MODEL_c62f9229582d4f71ac9bf3e3643633b5"
          }
        },
        "def6af27209742d2a7e297a09232d787": {
          "model_module": "@jupyter-widgets/controls",
          "model_name": "HTMLModel",
          "model_module_version": "1.5.0",
          "state": {
            "_dom_classes": [],
            "_model_module": "@jupyter-widgets/controls",
            "_model_module_version": "1.5.0",
            "_model_name": "HTMLModel",
            "_view_count": null,
            "_view_module": "@jupyter-widgets/controls",
            "_view_module_version": "1.5.0",
            "_view_name": "HTMLView",
            "description": "",
            "description_tooltip": null,
            "layout": "IPY_MODEL_65d005c911114b95adac64aa4b1aafa9",
            "placeholder": "​",
            "style": "IPY_MODEL_07b8147451ac4a10b6a56db18fa5e14b",
            "value": "config.json: "
          }
        },
        "e5cfb03b26294938b1c265f783b9b7b1": {
          "model_module": "@jupyter-widgets/controls",
          "model_name": "FloatProgressModel",
          "model_module_version": "1.5.0",
          "state": {
            "_dom_classes": [],
            "_model_module": "@jupyter-widgets/controls",
            "_model_module_version": "1.5.0",
            "_model_name": "FloatProgressModel",
            "_view_count": null,
            "_view_module": "@jupyter-widgets/controls",
            "_view_module_version": "1.5.0",
            "_view_name": "ProgressView",
            "bar_style": "success",
            "description": "",
            "description_tooltip": null,
            "layout": "IPY_MODEL_b4e5d09e4c724268abf078f5edfa4613",
            "max": 1,
            "min": 0,
            "orientation": "horizontal",
            "style": "IPY_MODEL_ce72b9e0afaa4b7ead6cd43eb1490f61",
            "value": 1
          }
        },
        "539298c8a0ad47729706653885aba8d5": {
          "model_module": "@jupyter-widgets/controls",
          "model_name": "HTMLModel",
          "model_module_version": "1.5.0",
          "state": {
            "_dom_classes": [],
            "_model_module": "@jupyter-widgets/controls",
            "_model_module_version": "1.5.0",
            "_model_name": "HTMLModel",
            "_view_count": null,
            "_view_module": "@jupyter-widgets/controls",
            "_view_module_version": "1.5.0",
            "_view_name": "HTMLView",
            "description": "",
            "description_tooltip": null,
            "layout": "IPY_MODEL_cd8a238b7126411a8ac80bcdedb4e01f",
            "placeholder": "​",
            "style": "IPY_MODEL_cc967db3681a4a088e386bf33fe3e16a",
            "value": " 1.15k/? [00:00&lt;00:00, 9.91kB/s]"
          }
        },
        "c62f9229582d4f71ac9bf3e3643633b5": {
          "model_module": "@jupyter-widgets/base",
          "model_name": "LayoutModel",
          "model_module_version": "1.2.0",
          "state": {
            "_model_module": "@jupyter-widgets/base",
            "_model_module_version": "1.2.0",
            "_model_name": "LayoutModel",
            "_view_count": null,
            "_view_module": "@jupyter-widgets/base",
            "_view_module_version": "1.2.0",
            "_view_name": "LayoutView",
            "align_content": null,
            "align_items": null,
            "align_self": null,
            "border": null,
            "bottom": null,
            "display": null,
            "flex": null,
            "flex_flow": null,
            "grid_area": null,
            "grid_auto_columns": null,
            "grid_auto_flow": null,
            "grid_auto_rows": null,
            "grid_column": null,
            "grid_gap": null,
            "grid_row": null,
            "grid_template_areas": null,
            "grid_template_columns": null,
            "grid_template_rows": null,
            "height": null,
            "justify_content": null,
            "justify_items": null,
            "left": null,
            "margin": null,
            "max_height": null,
            "max_width": null,
            "min_height": null,
            "min_width": null,
            "object_fit": null,
            "object_position": null,
            "order": null,
            "overflow": null,
            "overflow_x": null,
            "overflow_y": null,
            "padding": null,
            "right": null,
            "top": null,
            "visibility": null,
            "width": null
          }
        },
        "65d005c911114b95adac64aa4b1aafa9": {
          "model_module": "@jupyter-widgets/base",
          "model_name": "LayoutModel",
          "model_module_version": "1.2.0",
          "state": {
            "_model_module": "@jupyter-widgets/base",
            "_model_module_version": "1.2.0",
            "_model_name": "LayoutModel",
            "_view_count": null,
            "_view_module": "@jupyter-widgets/base",
            "_view_module_version": "1.2.0",
            "_view_name": "LayoutView",
            "align_content": null,
            "align_items": null,
            "align_self": null,
            "border": null,
            "bottom": null,
            "display": null,
            "flex": null,
            "flex_flow": null,
            "grid_area": null,
            "grid_auto_columns": null,
            "grid_auto_flow": null,
            "grid_auto_rows": null,
            "grid_column": null,
            "grid_gap": null,
            "grid_row": null,
            "grid_template_areas": null,
            "grid_template_columns": null,
            "grid_template_rows": null,
            "height": null,
            "justify_content": null,
            "justify_items": null,
            "left": null,
            "margin": null,
            "max_height": null,
            "max_width": null,
            "min_height": null,
            "min_width": null,
            "object_fit": null,
            "object_position": null,
            "order": null,
            "overflow": null,
            "overflow_x": null,
            "overflow_y": null,
            "padding": null,
            "right": null,
            "top": null,
            "visibility": null,
            "width": null
          }
        },
        "07b8147451ac4a10b6a56db18fa5e14b": {
          "model_module": "@jupyter-widgets/controls",
          "model_name": "DescriptionStyleModel",
          "model_module_version": "1.5.0",
          "state": {
            "_model_module": "@jupyter-widgets/controls",
            "_model_module_version": "1.5.0",
            "_model_name": "DescriptionStyleModel",
            "_view_count": null,
            "_view_module": "@jupyter-widgets/base",
            "_view_module_version": "1.2.0",
            "_view_name": "StyleView",
            "description_width": ""
          }
        },
        "b4e5d09e4c724268abf078f5edfa4613": {
          "model_module": "@jupyter-widgets/base",
          "model_name": "LayoutModel",
          "model_module_version": "1.2.0",
          "state": {
            "_model_module": "@jupyter-widgets/base",
            "_model_module_version": "1.2.0",
            "_model_name": "LayoutModel",
            "_view_count": null,
            "_view_module": "@jupyter-widgets/base",
            "_view_module_version": "1.2.0",
            "_view_name": "LayoutView",
            "align_content": null,
            "align_items": null,
            "align_self": null,
            "border": null,
            "bottom": null,
            "display": null,
            "flex": null,
            "flex_flow": null,
            "grid_area": null,
            "grid_auto_columns": null,
            "grid_auto_flow": null,
            "grid_auto_rows": null,
            "grid_column": null,
            "grid_gap": null,
            "grid_row": null,
            "grid_template_areas": null,
            "grid_template_columns": null,
            "grid_template_rows": null,
            "height": null,
            "justify_content": null,
            "justify_items": null,
            "left": null,
            "margin": null,
            "max_height": null,
            "max_width": null,
            "min_height": null,
            "min_width": null,
            "object_fit": null,
            "object_position": null,
            "order": null,
            "overflow": null,
            "overflow_x": null,
            "overflow_y": null,
            "padding": null,
            "right": null,
            "top": null,
            "visibility": null,
            "width": "20px"
          }
        },
        "ce72b9e0afaa4b7ead6cd43eb1490f61": {
          "model_module": "@jupyter-widgets/controls",
          "model_name": "ProgressStyleModel",
          "model_module_version": "1.5.0",
          "state": {
            "_model_module": "@jupyter-widgets/controls",
            "_model_module_version": "1.5.0",
            "_model_name": "ProgressStyleModel",
            "_view_count": null,
            "_view_module": "@jupyter-widgets/base",
            "_view_module_version": "1.2.0",
            "_view_name": "StyleView",
            "bar_color": null,
            "description_width": ""
          }
        },
        "cd8a238b7126411a8ac80bcdedb4e01f": {
          "model_module": "@jupyter-widgets/base",
          "model_name": "LayoutModel",
          "model_module_version": "1.2.0",
          "state": {
            "_model_module": "@jupyter-widgets/base",
            "_model_module_version": "1.2.0",
            "_model_name": "LayoutModel",
            "_view_count": null,
            "_view_module": "@jupyter-widgets/base",
            "_view_module_version": "1.2.0",
            "_view_name": "LayoutView",
            "align_content": null,
            "align_items": null,
            "align_self": null,
            "border": null,
            "bottom": null,
            "display": null,
            "flex": null,
            "flex_flow": null,
            "grid_area": null,
            "grid_auto_columns": null,
            "grid_auto_flow": null,
            "grid_auto_rows": null,
            "grid_column": null,
            "grid_gap": null,
            "grid_row": null,
            "grid_template_areas": null,
            "grid_template_columns": null,
            "grid_template_rows": null,
            "height": null,
            "justify_content": null,
            "justify_items": null,
            "left": null,
            "margin": null,
            "max_height": null,
            "max_width": null,
            "min_height": null,
            "min_width": null,
            "object_fit": null,
            "object_position": null,
            "order": null,
            "overflow": null,
            "overflow_x": null,
            "overflow_y": null,
            "padding": null,
            "right": null,
            "top": null,
            "visibility": null,
            "width": null
          }
        },
        "cc967db3681a4a088e386bf33fe3e16a": {
          "model_module": "@jupyter-widgets/controls",
          "model_name": "DescriptionStyleModel",
          "model_module_version": "1.5.0",
          "state": {
            "_model_module": "@jupyter-widgets/controls",
            "_model_module_version": "1.5.0",
            "_model_name": "DescriptionStyleModel",
            "_view_count": null,
            "_view_module": "@jupyter-widgets/base",
            "_view_module_version": "1.2.0",
            "_view_name": "StyleView",
            "description_width": ""
          }
        },
        "736f64ce9b1a43d3873356027d40168d": {
          "model_module": "@jupyter-widgets/controls",
          "model_name": "HBoxModel",
          "model_module_version": "1.5.0",
          "state": {
            "_dom_classes": [],
            "_model_module": "@jupyter-widgets/controls",
            "_model_module_version": "1.5.0",
            "_model_name": "HBoxModel",
            "_view_count": null,
            "_view_module": "@jupyter-widgets/controls",
            "_view_module_version": "1.5.0",
            "_view_name": "HBoxView",
            "box_style": "",
            "children": [
              "IPY_MODEL_3bed853cbbcf44f382d7004a2e664e04",
              "IPY_MODEL_13b8b0c27de64c80a6f89ee0fcfcda06",
              "IPY_MODEL_35a28f5d11d54d81b3e635b45d4ac22d"
            ],
            "layout": "IPY_MODEL_d8190ada96dc48a2ade329ef15c05de2"
          }
        },
        "3bed853cbbcf44f382d7004a2e664e04": {
          "model_module": "@jupyter-widgets/controls",
          "model_name": "HTMLModel",
          "model_module_version": "1.5.0",
          "state": {
            "_dom_classes": [],
            "_model_module": "@jupyter-widgets/controls",
            "_model_module_version": "1.5.0",
            "_model_name": "HTMLModel",
            "_view_count": null,
            "_view_module": "@jupyter-widgets/controls",
            "_view_module_version": "1.5.0",
            "_view_name": "HTMLView",
            "description": "",
            "description_tooltip": null,
            "layout": "IPY_MODEL_c5d8bce57df24fb39824e1c076f46353",
            "placeholder": "​",
            "style": "IPY_MODEL_3f89c37d58264742b4adb90cceaf229b",
            "value": "minicoil.triplet.model.vocab: "
          }
        },
        "13b8b0c27de64c80a6f89ee0fcfcda06": {
          "model_module": "@jupyter-widgets/controls",
          "model_name": "FloatProgressModel",
          "model_module_version": "1.5.0",
          "state": {
            "_dom_classes": [],
            "_model_module": "@jupyter-widgets/controls",
            "_model_module_version": "1.5.0",
            "_model_name": "FloatProgressModel",
            "_view_count": null,
            "_view_module": "@jupyter-widgets/controls",
            "_view_module_version": "1.5.0",
            "_view_name": "ProgressView",
            "bar_style": "success",
            "description": "",
            "description_tooltip": null,
            "layout": "IPY_MODEL_b969662954b74a748a31a5a7bb263a9b",
            "max": 1,
            "min": 0,
            "orientation": "horizontal",
            "style": "IPY_MODEL_7f9604e11b9b42799a224fc408e569ae",
            "value": 1
          }
        },
        "35a28f5d11d54d81b3e635b45d4ac22d": {
          "model_module": "@jupyter-widgets/controls",
          "model_name": "HTMLModel",
          "model_module_version": "1.5.0",
          "state": {
            "_dom_classes": [],
            "_model_module": "@jupyter-widgets/controls",
            "_model_module_version": "1.5.0",
            "_model_name": "HTMLModel",
            "_view_count": null,
            "_view_module": "@jupyter-widgets/controls",
            "_view_module_version": "1.5.0",
            "_view_name": "HTMLView",
            "description": "",
            "description_tooltip": null,
            "layout": "IPY_MODEL_4c86c4497b8445ee80160de370343dd4",
            "placeholder": "​",
            "style": "IPY_MODEL_81d7651b8d734dddb54cf31fefdda604",
            "value": " 717k/? [00:00&lt;00:00, 1.61MB/s]"
          }
        },
        "d8190ada96dc48a2ade329ef15c05de2": {
          "model_module": "@jupyter-widgets/base",
          "model_name": "LayoutModel",
          "model_module_version": "1.2.0",
          "state": {
            "_model_module": "@jupyter-widgets/base",
            "_model_module_version": "1.2.0",
            "_model_name": "LayoutModel",
            "_view_count": null,
            "_view_module": "@jupyter-widgets/base",
            "_view_module_version": "1.2.0",
            "_view_name": "LayoutView",
            "align_content": null,
            "align_items": null,
            "align_self": null,
            "border": null,
            "bottom": null,
            "display": null,
            "flex": null,
            "flex_flow": null,
            "grid_area": null,
            "grid_auto_columns": null,
            "grid_auto_flow": null,
            "grid_auto_rows": null,
            "grid_column": null,
            "grid_gap": null,
            "grid_row": null,
            "grid_template_areas": null,
            "grid_template_columns": null,
            "grid_template_rows": null,
            "height": null,
            "justify_content": null,
            "justify_items": null,
            "left": null,
            "margin": null,
            "max_height": null,
            "max_width": null,
            "min_height": null,
            "min_width": null,
            "object_fit": null,
            "object_position": null,
            "order": null,
            "overflow": null,
            "overflow_x": null,
            "overflow_y": null,
            "padding": null,
            "right": null,
            "top": null,
            "visibility": null,
            "width": null
          }
        },
        "c5d8bce57df24fb39824e1c076f46353": {
          "model_module": "@jupyter-widgets/base",
          "model_name": "LayoutModel",
          "model_module_version": "1.2.0",
          "state": {
            "_model_module": "@jupyter-widgets/base",
            "_model_module_version": "1.2.0",
            "_model_name": "LayoutModel",
            "_view_count": null,
            "_view_module": "@jupyter-widgets/base",
            "_view_module_version": "1.2.0",
            "_view_name": "LayoutView",
            "align_content": null,
            "align_items": null,
            "align_self": null,
            "border": null,
            "bottom": null,
            "display": null,
            "flex": null,
            "flex_flow": null,
            "grid_area": null,
            "grid_auto_columns": null,
            "grid_auto_flow": null,
            "grid_auto_rows": null,
            "grid_column": null,
            "grid_gap": null,
            "grid_row": null,
            "grid_template_areas": null,
            "grid_template_columns": null,
            "grid_template_rows": null,
            "height": null,
            "justify_content": null,
            "justify_items": null,
            "left": null,
            "margin": null,
            "max_height": null,
            "max_width": null,
            "min_height": null,
            "min_width": null,
            "object_fit": null,
            "object_position": null,
            "order": null,
            "overflow": null,
            "overflow_x": null,
            "overflow_y": null,
            "padding": null,
            "right": null,
            "top": null,
            "visibility": null,
            "width": null
          }
        },
        "3f89c37d58264742b4adb90cceaf229b": {
          "model_module": "@jupyter-widgets/controls",
          "model_name": "DescriptionStyleModel",
          "model_module_version": "1.5.0",
          "state": {
            "_model_module": "@jupyter-widgets/controls",
            "_model_module_version": "1.5.0",
            "_model_name": "DescriptionStyleModel",
            "_view_count": null,
            "_view_module": "@jupyter-widgets/base",
            "_view_module_version": "1.2.0",
            "_view_name": "StyleView",
            "description_width": ""
          }
        },
        "b969662954b74a748a31a5a7bb263a9b": {
          "model_module": "@jupyter-widgets/base",
          "model_name": "LayoutModel",
          "model_module_version": "1.2.0",
          "state": {
            "_model_module": "@jupyter-widgets/base",
            "_model_module_version": "1.2.0",
            "_model_name": "LayoutModel",
            "_view_count": null,
            "_view_module": "@jupyter-widgets/base",
            "_view_module_version": "1.2.0",
            "_view_name": "LayoutView",
            "align_content": null,
            "align_items": null,
            "align_self": null,
            "border": null,
            "bottom": null,
            "display": null,
            "flex": null,
            "flex_flow": null,
            "grid_area": null,
            "grid_auto_columns": null,
            "grid_auto_flow": null,
            "grid_auto_rows": null,
            "grid_column": null,
            "grid_gap": null,
            "grid_row": null,
            "grid_template_areas": null,
            "grid_template_columns": null,
            "grid_template_rows": null,
            "height": null,
            "justify_content": null,
            "justify_items": null,
            "left": null,
            "margin": null,
            "max_height": null,
            "max_width": null,
            "min_height": null,
            "min_width": null,
            "object_fit": null,
            "object_position": null,
            "order": null,
            "overflow": null,
            "overflow_x": null,
            "overflow_y": null,
            "padding": null,
            "right": null,
            "top": null,
            "visibility": null,
            "width": "20px"
          }
        },
        "7f9604e11b9b42799a224fc408e569ae": {
          "model_module": "@jupyter-widgets/controls",
          "model_name": "ProgressStyleModel",
          "model_module_version": "1.5.0",
          "state": {
            "_model_module": "@jupyter-widgets/controls",
            "_model_module_version": "1.5.0",
            "_model_name": "ProgressStyleModel",
            "_view_count": null,
            "_view_module": "@jupyter-widgets/base",
            "_view_module_version": "1.2.0",
            "_view_name": "StyleView",
            "bar_color": null,
            "description_width": ""
          }
        },
        "4c86c4497b8445ee80160de370343dd4": {
          "model_module": "@jupyter-widgets/base",
          "model_name": "LayoutModel",
          "model_module_version": "1.2.0",
          "state": {
            "_model_module": "@jupyter-widgets/base",
            "_model_module_version": "1.2.0",
            "_model_name": "LayoutModel",
            "_view_count": null,
            "_view_module": "@jupyter-widgets/base",
            "_view_module_version": "1.2.0",
            "_view_name": "LayoutView",
            "align_content": null,
            "align_items": null,
            "align_self": null,
            "border": null,
            "bottom": null,
            "display": null,
            "flex": null,
            "flex_flow": null,
            "grid_area": null,
            "grid_auto_columns": null,
            "grid_auto_flow": null,
            "grid_auto_rows": null,
            "grid_column": null,
            "grid_gap": null,
            "grid_row": null,
            "grid_template_areas": null,
            "grid_template_columns": null,
            "grid_template_rows": null,
            "height": null,
            "justify_content": null,
            "justify_items": null,
            "left": null,
            "margin": null,
            "max_height": null,
            "max_width": null,
            "min_height": null,
            "min_width": null,
            "object_fit": null,
            "object_position": null,
            "order": null,
            "overflow": null,
            "overflow_x": null,
            "overflow_y": null,
            "padding": null,
            "right": null,
            "top": null,
            "visibility": null,
            "width": null
          }
        },
        "81d7651b8d734dddb54cf31fefdda604": {
          "model_module": "@jupyter-widgets/controls",
          "model_name": "DescriptionStyleModel",
          "model_module_version": "1.5.0",
          "state": {
            "_model_module": "@jupyter-widgets/controls",
            "_model_module_version": "1.5.0",
            "_model_name": "DescriptionStyleModel",
            "_view_count": null,
            "_view_module": "@jupyter-widgets/base",
            "_view_module_version": "1.2.0",
            "_view_name": "StyleView",
            "description_width": ""
          }
        },
        "585cc029c2234c8ab294fbfe37fac318": {
          "model_module": "@jupyter-widgets/controls",
          "model_name": "HBoxModel",
          "model_module_version": "1.5.0",
          "state": {
            "_dom_classes": [],
            "_model_module": "@jupyter-widgets/controls",
            "_model_module_version": "1.5.0",
            "_model_name": "HBoxModel",
            "_view_count": null,
            "_view_module": "@jupyter-widgets/controls",
            "_view_module_version": "1.5.0",
            "_view_name": "HBoxView",
            "box_style": "",
            "children": [
              "IPY_MODEL_660e7cdb6b3a44968dccd6ae76261bed",
              "IPY_MODEL_0edeb783e7bf41d3abefa8104f13654c",
              "IPY_MODEL_52b3fe235fb342baaf79a20a923fffe5"
            ],
            "layout": "IPY_MODEL_3c7eb73bf456465ea453c0a480ecb9e2"
          }
        },
        "660e7cdb6b3a44968dccd6ae76261bed": {
          "model_module": "@jupyter-widgets/controls",
          "model_name": "HTMLModel",
          "model_module_version": "1.5.0",
          "state": {
            "_dom_classes": [],
            "_model_module": "@jupyter-widgets/controls",
            "_model_module_version": "1.5.0",
            "_model_name": "HTMLModel",
            "_view_count": null,
            "_view_module": "@jupyter-widgets/controls",
            "_view_module_version": "1.5.0",
            "_view_name": "HTMLView",
            "description": "",
            "description_tooltip": null,
            "layout": "IPY_MODEL_38f247fddbce48baa4898a20ddbf3149",
            "placeholder": "​",
            "style": "IPY_MODEL_4d13cfd30f8444998d0733eb11c9b323",
            "value": "special_tokens_map.json: 100%"
          }
        },
        "0edeb783e7bf41d3abefa8104f13654c": {
          "model_module": "@jupyter-widgets/controls",
          "model_name": "FloatProgressModel",
          "model_module_version": "1.5.0",
          "state": {
            "_dom_classes": [],
            "_model_module": "@jupyter-widgets/controls",
            "_model_module_version": "1.5.0",
            "_model_name": "FloatProgressModel",
            "_view_count": null,
            "_view_module": "@jupyter-widgets/controls",
            "_view_module_version": "1.5.0",
            "_view_name": "ProgressView",
            "bar_style": "success",
            "description": "",
            "description_tooltip": null,
            "layout": "IPY_MODEL_2d4ed94303e24649b93e056497d33e83",
            "max": 125,
            "min": 0,
            "orientation": "horizontal",
            "style": "IPY_MODEL_d148a1c1836d4a6aae04273f67598a05",
            "value": 125
          }
        },
        "52b3fe235fb342baaf79a20a923fffe5": {
          "model_module": "@jupyter-widgets/controls",
          "model_name": "HTMLModel",
          "model_module_version": "1.5.0",
          "state": {
            "_dom_classes": [],
            "_model_module": "@jupyter-widgets/controls",
            "_model_module_version": "1.5.0",
            "_model_name": "HTMLModel",
            "_view_count": null,
            "_view_module": "@jupyter-widgets/controls",
            "_view_module_version": "1.5.0",
            "_view_name": "HTMLView",
            "description": "",
            "description_tooltip": null,
            "layout": "IPY_MODEL_c75cb257a9484cd2b2907770cd168c26",
            "placeholder": "​",
            "style": "IPY_MODEL_fd59ae94a147490d91543277cc2115a8",
            "value": " 125/125 [00:00&lt;00:00, 912B/s]"
          }
        },
        "3c7eb73bf456465ea453c0a480ecb9e2": {
          "model_module": "@jupyter-widgets/base",
          "model_name": "LayoutModel",
          "model_module_version": "1.2.0",
          "state": {
            "_model_module": "@jupyter-widgets/base",
            "_model_module_version": "1.2.0",
            "_model_name": "LayoutModel",
            "_view_count": null,
            "_view_module": "@jupyter-widgets/base",
            "_view_module_version": "1.2.0",
            "_view_name": "LayoutView",
            "align_content": null,
            "align_items": null,
            "align_self": null,
            "border": null,
            "bottom": null,
            "display": null,
            "flex": null,
            "flex_flow": null,
            "grid_area": null,
            "grid_auto_columns": null,
            "grid_auto_flow": null,
            "grid_auto_rows": null,
            "grid_column": null,
            "grid_gap": null,
            "grid_row": null,
            "grid_template_areas": null,
            "grid_template_columns": null,
            "grid_template_rows": null,
            "height": null,
            "justify_content": null,
            "justify_items": null,
            "left": null,
            "margin": null,
            "max_height": null,
            "max_width": null,
            "min_height": null,
            "min_width": null,
            "object_fit": null,
            "object_position": null,
            "order": null,
            "overflow": null,
            "overflow_x": null,
            "overflow_y": null,
            "padding": null,
            "right": null,
            "top": null,
            "visibility": null,
            "width": null
          }
        },
        "38f247fddbce48baa4898a20ddbf3149": {
          "model_module": "@jupyter-widgets/base",
          "model_name": "LayoutModel",
          "model_module_version": "1.2.0",
          "state": {
            "_model_module": "@jupyter-widgets/base",
            "_model_module_version": "1.2.0",
            "_model_name": "LayoutModel",
            "_view_count": null,
            "_view_module": "@jupyter-widgets/base",
            "_view_module_version": "1.2.0",
            "_view_name": "LayoutView",
            "align_content": null,
            "align_items": null,
            "align_self": null,
            "border": null,
            "bottom": null,
            "display": null,
            "flex": null,
            "flex_flow": null,
            "grid_area": null,
            "grid_auto_columns": null,
            "grid_auto_flow": null,
            "grid_auto_rows": null,
            "grid_column": null,
            "grid_gap": null,
            "grid_row": null,
            "grid_template_areas": null,
            "grid_template_columns": null,
            "grid_template_rows": null,
            "height": null,
            "justify_content": null,
            "justify_items": null,
            "left": null,
            "margin": null,
            "max_height": null,
            "max_width": null,
            "min_height": null,
            "min_width": null,
            "object_fit": null,
            "object_position": null,
            "order": null,
            "overflow": null,
            "overflow_x": null,
            "overflow_y": null,
            "padding": null,
            "right": null,
            "top": null,
            "visibility": null,
            "width": null
          }
        },
        "4d13cfd30f8444998d0733eb11c9b323": {
          "model_module": "@jupyter-widgets/controls",
          "model_name": "DescriptionStyleModel",
          "model_module_version": "1.5.0",
          "state": {
            "_model_module": "@jupyter-widgets/controls",
            "_model_module_version": "1.5.0",
            "_model_name": "DescriptionStyleModel",
            "_view_count": null,
            "_view_module": "@jupyter-widgets/base",
            "_view_module_version": "1.2.0",
            "_view_name": "StyleView",
            "description_width": ""
          }
        },
        "2d4ed94303e24649b93e056497d33e83": {
          "model_module": "@jupyter-widgets/base",
          "model_name": "LayoutModel",
          "model_module_version": "1.2.0",
          "state": {
            "_model_module": "@jupyter-widgets/base",
            "_model_module_version": "1.2.0",
            "_model_name": "LayoutModel",
            "_view_count": null,
            "_view_module": "@jupyter-widgets/base",
            "_view_module_version": "1.2.0",
            "_view_name": "LayoutView",
            "align_content": null,
            "align_items": null,
            "align_self": null,
            "border": null,
            "bottom": null,
            "display": null,
            "flex": null,
            "flex_flow": null,
            "grid_area": null,
            "grid_auto_columns": null,
            "grid_auto_flow": null,
            "grid_auto_rows": null,
            "grid_column": null,
            "grid_gap": null,
            "grid_row": null,
            "grid_template_areas": null,
            "grid_template_columns": null,
            "grid_template_rows": null,
            "height": null,
            "justify_content": null,
            "justify_items": null,
            "left": null,
            "margin": null,
            "max_height": null,
            "max_width": null,
            "min_height": null,
            "min_width": null,
            "object_fit": null,
            "object_position": null,
            "order": null,
            "overflow": null,
            "overflow_x": null,
            "overflow_y": null,
            "padding": null,
            "right": null,
            "top": null,
            "visibility": null,
            "width": null
          }
        },
        "d148a1c1836d4a6aae04273f67598a05": {
          "model_module": "@jupyter-widgets/controls",
          "model_name": "ProgressStyleModel",
          "model_module_version": "1.5.0",
          "state": {
            "_model_module": "@jupyter-widgets/controls",
            "_model_module_version": "1.5.0",
            "_model_name": "ProgressStyleModel",
            "_view_count": null,
            "_view_module": "@jupyter-widgets/base",
            "_view_module_version": "1.2.0",
            "_view_name": "StyleView",
            "bar_color": null,
            "description_width": ""
          }
        },
        "c75cb257a9484cd2b2907770cd168c26": {
          "model_module": "@jupyter-widgets/base",
          "model_name": "LayoutModel",
          "model_module_version": "1.2.0",
          "state": {
            "_model_module": "@jupyter-widgets/base",
            "_model_module_version": "1.2.0",
            "_model_name": "LayoutModel",
            "_view_count": null,
            "_view_module": "@jupyter-widgets/base",
            "_view_module_version": "1.2.0",
            "_view_name": "LayoutView",
            "align_content": null,
            "align_items": null,
            "align_self": null,
            "border": null,
            "bottom": null,
            "display": null,
            "flex": null,
            "flex_flow": null,
            "grid_area": null,
            "grid_auto_columns": null,
            "grid_auto_flow": null,
            "grid_auto_rows": null,
            "grid_column": null,
            "grid_gap": null,
            "grid_row": null,
            "grid_template_areas": null,
            "grid_template_columns": null,
            "grid_template_rows": null,
            "height": null,
            "justify_content": null,
            "justify_items": null,
            "left": null,
            "margin": null,
            "max_height": null,
            "max_width": null,
            "min_height": null,
            "min_width": null,
            "object_fit": null,
            "object_position": null,
            "order": null,
            "overflow": null,
            "overflow_x": null,
            "overflow_y": null,
            "padding": null,
            "right": null,
            "top": null,
            "visibility": null,
            "width": null
          }
        },
        "fd59ae94a147490d91543277cc2115a8": {
          "model_module": "@jupyter-widgets/controls",
          "model_name": "DescriptionStyleModel",
          "model_module_version": "1.5.0",
          "state": {
            "_model_module": "@jupyter-widgets/controls",
            "_model_module_version": "1.5.0",
            "_model_name": "DescriptionStyleModel",
            "_view_count": null,
            "_view_module": "@jupyter-widgets/base",
            "_view_module_version": "1.2.0",
            "_view_name": "StyleView",
            "description_width": ""
          }
        },
        "8329a261d12f4016a227bb3fed2969a7": {
          "model_module": "@jupyter-widgets/controls",
          "model_name": "HBoxModel",
          "model_module_version": "1.5.0",
          "state": {
            "_dom_classes": [],
            "_model_module": "@jupyter-widgets/controls",
            "_model_module_version": "1.5.0",
            "_model_name": "HBoxModel",
            "_view_count": null,
            "_view_module": "@jupyter-widgets/controls",
            "_view_module_version": "1.5.0",
            "_view_name": "HBoxView",
            "box_style": "",
            "children": [
              "IPY_MODEL_fd8dcf1296124eeca5542eab1e3fa9ae",
              "IPY_MODEL_c503ca7a5a2d4d4697c5f8669c89c02c",
              "IPY_MODEL_8bf61ab20d2242a2abbbb184fc2c298d"
            ],
            "layout": "IPY_MODEL_2eb99ac745f8431f868d73b5d9553daf"
          }
        },
        "fd8dcf1296124eeca5542eab1e3fa9ae": {
          "model_module": "@jupyter-widgets/controls",
          "model_name": "HTMLModel",
          "model_module_version": "1.5.0",
          "state": {
            "_dom_classes": [],
            "_model_module": "@jupyter-widgets/controls",
            "_model_module_version": "1.5.0",
            "_model_name": "HTMLModel",
            "_view_count": null,
            "_view_module": "@jupyter-widgets/controls",
            "_view_module_version": "1.5.0",
            "_view_name": "HTMLView",
            "description": "",
            "description_tooltip": null,
            "layout": "IPY_MODEL_9b08fa0158534c99b218e1f092bae136",
            "placeholder": "​",
            "style": "IPY_MODEL_8f23a7af1b07448cb60ecd1b9383b61f",
            "value": "Fetching 5 files: 100%"
          }
        },
        "c503ca7a5a2d4d4697c5f8669c89c02c": {
          "model_module": "@jupyter-widgets/controls",
          "model_name": "FloatProgressModel",
          "model_module_version": "1.5.0",
          "state": {
            "_dom_classes": [],
            "_model_module": "@jupyter-widgets/controls",
            "_model_module_version": "1.5.0",
            "_model_name": "FloatProgressModel",
            "_view_count": null,
            "_view_module": "@jupyter-widgets/controls",
            "_view_module_version": "1.5.0",
            "_view_name": "ProgressView",
            "bar_style": "success",
            "description": "",
            "description_tooltip": null,
            "layout": "IPY_MODEL_838fd9ac734c4ea282da1b1d069dbf21",
            "max": 5,
            "min": 0,
            "orientation": "horizontal",
            "style": "IPY_MODEL_2a96ebce5dd64c8e95a97c75dd2dd029",
            "value": 5
          }
        },
        "8bf61ab20d2242a2abbbb184fc2c298d": {
          "model_module": "@jupyter-widgets/controls",
          "model_name": "HTMLModel",
          "model_module_version": "1.5.0",
          "state": {
            "_dom_classes": [],
            "_model_module": "@jupyter-widgets/controls",
            "_model_module_version": "1.5.0",
            "_model_name": "HTMLModel",
            "_view_count": null,
            "_view_module": "@jupyter-widgets/controls",
            "_view_module_version": "1.5.0",
            "_view_name": "HTMLView",
            "description": "",
            "description_tooltip": null,
            "layout": "IPY_MODEL_45ad750664b1474d96653a40568ba02c",
            "placeholder": "​",
            "style": "IPY_MODEL_5b128d37ab3e428197e7ddeea6e6d29f",
            "value": " 5/5 [00:32&lt;00:00, 19.27s/it]"
          }
        },
        "2eb99ac745f8431f868d73b5d9553daf": {
          "model_module": "@jupyter-widgets/base",
          "model_name": "LayoutModel",
          "model_module_version": "1.2.0",
          "state": {
            "_model_module": "@jupyter-widgets/base",
            "_model_module_version": "1.2.0",
            "_model_name": "LayoutModel",
            "_view_count": null,
            "_view_module": "@jupyter-widgets/base",
            "_view_module_version": "1.2.0",
            "_view_name": "LayoutView",
            "align_content": null,
            "align_items": null,
            "align_self": null,
            "border": null,
            "bottom": null,
            "display": null,
            "flex": null,
            "flex_flow": null,
            "grid_area": null,
            "grid_auto_columns": null,
            "grid_auto_flow": null,
            "grid_auto_rows": null,
            "grid_column": null,
            "grid_gap": null,
            "grid_row": null,
            "grid_template_areas": null,
            "grid_template_columns": null,
            "grid_template_rows": null,
            "height": null,
            "justify_content": null,
            "justify_items": null,
            "left": null,
            "margin": null,
            "max_height": null,
            "max_width": null,
            "min_height": null,
            "min_width": null,
            "object_fit": null,
            "object_position": null,
            "order": null,
            "overflow": null,
            "overflow_x": null,
            "overflow_y": null,
            "padding": null,
            "right": null,
            "top": null,
            "visibility": null,
            "width": null
          }
        },
        "9b08fa0158534c99b218e1f092bae136": {
          "model_module": "@jupyter-widgets/base",
          "model_name": "LayoutModel",
          "model_module_version": "1.2.0",
          "state": {
            "_model_module": "@jupyter-widgets/base",
            "_model_module_version": "1.2.0",
            "_model_name": "LayoutModel",
            "_view_count": null,
            "_view_module": "@jupyter-widgets/base",
            "_view_module_version": "1.2.0",
            "_view_name": "LayoutView",
            "align_content": null,
            "align_items": null,
            "align_self": null,
            "border": null,
            "bottom": null,
            "display": null,
            "flex": null,
            "flex_flow": null,
            "grid_area": null,
            "grid_auto_columns": null,
            "grid_auto_flow": null,
            "grid_auto_rows": null,
            "grid_column": null,
            "grid_gap": null,
            "grid_row": null,
            "grid_template_areas": null,
            "grid_template_columns": null,
            "grid_template_rows": null,
            "height": null,
            "justify_content": null,
            "justify_items": null,
            "left": null,
            "margin": null,
            "max_height": null,
            "max_width": null,
            "min_height": null,
            "min_width": null,
            "object_fit": null,
            "object_position": null,
            "order": null,
            "overflow": null,
            "overflow_x": null,
            "overflow_y": null,
            "padding": null,
            "right": null,
            "top": null,
            "visibility": null,
            "width": null
          }
        },
        "8f23a7af1b07448cb60ecd1b9383b61f": {
          "model_module": "@jupyter-widgets/controls",
          "model_name": "DescriptionStyleModel",
          "model_module_version": "1.5.0",
          "state": {
            "_model_module": "@jupyter-widgets/controls",
            "_model_module_version": "1.5.0",
            "_model_name": "DescriptionStyleModel",
            "_view_count": null,
            "_view_module": "@jupyter-widgets/base",
            "_view_module_version": "1.2.0",
            "_view_name": "StyleView",
            "description_width": ""
          }
        },
        "838fd9ac734c4ea282da1b1d069dbf21": {
          "model_module": "@jupyter-widgets/base",
          "model_name": "LayoutModel",
          "model_module_version": "1.2.0",
          "state": {
            "_model_module": "@jupyter-widgets/base",
            "_model_module_version": "1.2.0",
            "_model_name": "LayoutModel",
            "_view_count": null,
            "_view_module": "@jupyter-widgets/base",
            "_view_module_version": "1.2.0",
            "_view_name": "LayoutView",
            "align_content": null,
            "align_items": null,
            "align_self": null,
            "border": null,
            "bottom": null,
            "display": null,
            "flex": null,
            "flex_flow": null,
            "grid_area": null,
            "grid_auto_columns": null,
            "grid_auto_flow": null,
            "grid_auto_rows": null,
            "grid_column": null,
            "grid_gap": null,
            "grid_row": null,
            "grid_template_areas": null,
            "grid_template_columns": null,
            "grid_template_rows": null,
            "height": null,
            "justify_content": null,
            "justify_items": null,
            "left": null,
            "margin": null,
            "max_height": null,
            "max_width": null,
            "min_height": null,
            "min_width": null,
            "object_fit": null,
            "object_position": null,
            "order": null,
            "overflow": null,
            "overflow_x": null,
            "overflow_y": null,
            "padding": null,
            "right": null,
            "top": null,
            "visibility": null,
            "width": null
          }
        },
        "2a96ebce5dd64c8e95a97c75dd2dd029": {
          "model_module": "@jupyter-widgets/controls",
          "model_name": "ProgressStyleModel",
          "model_module_version": "1.5.0",
          "state": {
            "_model_module": "@jupyter-widgets/controls",
            "_model_module_version": "1.5.0",
            "_model_name": "ProgressStyleModel",
            "_view_count": null,
            "_view_module": "@jupyter-widgets/base",
            "_view_module_version": "1.2.0",
            "_view_name": "StyleView",
            "bar_color": null,
            "description_width": ""
          }
        },
        "45ad750664b1474d96653a40568ba02c": {
          "model_module": "@jupyter-widgets/base",
          "model_name": "LayoutModel",
          "model_module_version": "1.2.0",
          "state": {
            "_model_module": "@jupyter-widgets/base",
            "_model_module_version": "1.2.0",
            "_model_name": "LayoutModel",
            "_view_count": null,
            "_view_module": "@jupyter-widgets/base",
            "_view_module_version": "1.2.0",
            "_view_name": "LayoutView",
            "align_content": null,
            "align_items": null,
            "align_self": null,
            "border": null,
            "bottom": null,
            "display": null,
            "flex": null,
            "flex_flow": null,
            "grid_area": null,
            "grid_auto_columns": null,
            "grid_auto_flow": null,
            "grid_auto_rows": null,
            "grid_column": null,
            "grid_gap": null,
            "grid_row": null,
            "grid_template_areas": null,
            "grid_template_columns": null,
            "grid_template_rows": null,
            "height": null,
            "justify_content": null,
            "justify_items": null,
            "left": null,
            "margin": null,
            "max_height": null,
            "max_width": null,
            "min_height": null,
            "min_width": null,
            "object_fit": null,
            "object_position": null,
            "order": null,
            "overflow": null,
            "overflow_x": null,
            "overflow_y": null,
            "padding": null,
            "right": null,
            "top": null,
            "visibility": null,
            "width": null
          }
        },
        "5b128d37ab3e428197e7ddeea6e6d29f": {
          "model_module": "@jupyter-widgets/controls",
          "model_name": "DescriptionStyleModel",
          "model_module_version": "1.5.0",
          "state": {
            "_model_module": "@jupyter-widgets/controls",
            "_model_module_version": "1.5.0",
            "_model_name": "DescriptionStyleModel",
            "_view_count": null,
            "_view_module": "@jupyter-widgets/base",
            "_view_module_version": "1.2.0",
            "_view_name": "StyleView",
            "description_width": ""
          }
        },
        "477c847af2154530a7873227ff2b6506": {
          "model_module": "@jupyter-widgets/controls",
          "model_name": "HBoxModel",
          "model_module_version": "1.5.0",
          "state": {
            "_dom_classes": [],
            "_model_module": "@jupyter-widgets/controls",
            "_model_module_version": "1.5.0",
            "_model_name": "HBoxModel",
            "_view_count": null,
            "_view_module": "@jupyter-widgets/controls",
            "_view_module_version": "1.5.0",
            "_view_name": "HBoxView",
            "box_style": "",
            "children": [
              "IPY_MODEL_093e2f6d99db4681a28e5f837066d405",
              "IPY_MODEL_a2ae96d18f1d4d2fb781476fdfae1a29",
              "IPY_MODEL_ca388397b34d45cfac810a48725b3fc2"
            ],
            "layout": "IPY_MODEL_6243d62a2797480196660738a624f396"
          }
        },
        "093e2f6d99db4681a28e5f837066d405": {
          "model_module": "@jupyter-widgets/controls",
          "model_name": "HTMLModel",
          "model_module_version": "1.5.0",
          "state": {
            "_dom_classes": [],
            "_model_module": "@jupyter-widgets/controls",
            "_model_module_version": "1.5.0",
            "_model_name": "HTMLModel",
            "_view_count": null,
            "_view_module": "@jupyter-widgets/controls",
            "_view_module_version": "1.5.0",
            "_view_name": "HTMLView",
            "description": "",
            "description_tooltip": null,
            "layout": "IPY_MODEL_f611e0ae00464cbd90e0231fd24418cd",
            "placeholder": "​",
            "style": "IPY_MODEL_0ff47bc4e2fb4442a550b391a8b75033",
            "value": "model.onnx: 100%"
          }
        },
        "a2ae96d18f1d4d2fb781476fdfae1a29": {
          "model_module": "@jupyter-widgets/controls",
          "model_name": "FloatProgressModel",
          "model_module_version": "1.5.0",
          "state": {
            "_dom_classes": [],
            "_model_module": "@jupyter-widgets/controls",
            "_model_module_version": "1.5.0",
            "_model_name": "FloatProgressModel",
            "_view_count": null,
            "_view_module": "@jupyter-widgets/controls",
            "_view_module_version": "1.5.0",
            "_view_name": "ProgressView",
            "bar_style": "success",
            "description": "",
            "description_tooltip": null,
            "layout": "IPY_MODEL_b021f0950e484ea982d6c5c3fa36a6e3",
            "max": 1336854282,
            "min": 0,
            "orientation": "horizontal",
            "style": "IPY_MODEL_7b9747e2db5f436b9fa793ac23b4cef9",
            "value": 1336854282
          }
        },
        "ca388397b34d45cfac810a48725b3fc2": {
          "model_module": "@jupyter-widgets/controls",
          "model_name": "HTMLModel",
          "model_module_version": "1.5.0",
          "state": {
            "_dom_classes": [],
            "_model_module": "@jupyter-widgets/controls",
            "_model_module_version": "1.5.0",
            "_model_name": "HTMLModel",
            "_view_count": null,
            "_view_module": "@jupyter-widgets/controls",
            "_view_module_version": "1.5.0",
            "_view_name": "HTMLView",
            "description": "",
            "description_tooltip": null,
            "layout": "IPY_MODEL_dd9c26a8a02e45cd99a6dc8b6f02d199",
            "placeholder": "​",
            "style": "IPY_MODEL_785c6ad18f714b7485054daa77f63616",
            "value": " 1.34G/1.34G [00:32&lt;00:00, 43.8MB/s]"
          }
        },
        "6243d62a2797480196660738a624f396": {
          "model_module": "@jupyter-widgets/base",
          "model_name": "LayoutModel",
          "model_module_version": "1.2.0",
          "state": {
            "_model_module": "@jupyter-widgets/base",
            "_model_module_version": "1.2.0",
            "_model_name": "LayoutModel",
            "_view_count": null,
            "_view_module": "@jupyter-widgets/base",
            "_view_module_version": "1.2.0",
            "_view_name": "LayoutView",
            "align_content": null,
            "align_items": null,
            "align_self": null,
            "border": null,
            "bottom": null,
            "display": null,
            "flex": null,
            "flex_flow": null,
            "grid_area": null,
            "grid_auto_columns": null,
            "grid_auto_flow": null,
            "grid_auto_rows": null,
            "grid_column": null,
            "grid_gap": null,
            "grid_row": null,
            "grid_template_areas": null,
            "grid_template_columns": null,
            "grid_template_rows": null,
            "height": null,
            "justify_content": null,
            "justify_items": null,
            "left": null,
            "margin": null,
            "max_height": null,
            "max_width": null,
            "min_height": null,
            "min_width": null,
            "object_fit": null,
            "object_position": null,
            "order": null,
            "overflow": null,
            "overflow_x": null,
            "overflow_y": null,
            "padding": null,
            "right": null,
            "top": null,
            "visibility": null,
            "width": null
          }
        },
        "f611e0ae00464cbd90e0231fd24418cd": {
          "model_module": "@jupyter-widgets/base",
          "model_name": "LayoutModel",
          "model_module_version": "1.2.0",
          "state": {
            "_model_module": "@jupyter-widgets/base",
            "_model_module_version": "1.2.0",
            "_model_name": "LayoutModel",
            "_view_count": null,
            "_view_module": "@jupyter-widgets/base",
            "_view_module_version": "1.2.0",
            "_view_name": "LayoutView",
            "align_content": null,
            "align_items": null,
            "align_self": null,
            "border": null,
            "bottom": null,
            "display": null,
            "flex": null,
            "flex_flow": null,
            "grid_area": null,
            "grid_auto_columns": null,
            "grid_auto_flow": null,
            "grid_auto_rows": null,
            "grid_column": null,
            "grid_gap": null,
            "grid_row": null,
            "grid_template_areas": null,
            "grid_template_columns": null,
            "grid_template_rows": null,
            "height": null,
            "justify_content": null,
            "justify_items": null,
            "left": null,
            "margin": null,
            "max_height": null,
            "max_width": null,
            "min_height": null,
            "min_width": null,
            "object_fit": null,
            "object_position": null,
            "order": null,
            "overflow": null,
            "overflow_x": null,
            "overflow_y": null,
            "padding": null,
            "right": null,
            "top": null,
            "visibility": null,
            "width": null
          }
        },
        "0ff47bc4e2fb4442a550b391a8b75033": {
          "model_module": "@jupyter-widgets/controls",
          "model_name": "DescriptionStyleModel",
          "model_module_version": "1.5.0",
          "state": {
            "_model_module": "@jupyter-widgets/controls",
            "_model_module_version": "1.5.0",
            "_model_name": "DescriptionStyleModel",
            "_view_count": null,
            "_view_module": "@jupyter-widgets/base",
            "_view_module_version": "1.2.0",
            "_view_name": "StyleView",
            "description_width": ""
          }
        },
        "b021f0950e484ea982d6c5c3fa36a6e3": {
          "model_module": "@jupyter-widgets/base",
          "model_name": "LayoutModel",
          "model_module_version": "1.2.0",
          "state": {
            "_model_module": "@jupyter-widgets/base",
            "_model_module_version": "1.2.0",
            "_model_name": "LayoutModel",
            "_view_count": null,
            "_view_module": "@jupyter-widgets/base",
            "_view_module_version": "1.2.0",
            "_view_name": "LayoutView",
            "align_content": null,
            "align_items": null,
            "align_self": null,
            "border": null,
            "bottom": null,
            "display": null,
            "flex": null,
            "flex_flow": null,
            "grid_area": null,
            "grid_auto_columns": null,
            "grid_auto_flow": null,
            "grid_auto_rows": null,
            "grid_column": null,
            "grid_gap": null,
            "grid_row": null,
            "grid_template_areas": null,
            "grid_template_columns": null,
            "grid_template_rows": null,
            "height": null,
            "justify_content": null,
            "justify_items": null,
            "left": null,
            "margin": null,
            "max_height": null,
            "max_width": null,
            "min_height": null,
            "min_width": null,
            "object_fit": null,
            "object_position": null,
            "order": null,
            "overflow": null,
            "overflow_x": null,
            "overflow_y": null,
            "padding": null,
            "right": null,
            "top": null,
            "visibility": null,
            "width": null
          }
        },
        "7b9747e2db5f436b9fa793ac23b4cef9": {
          "model_module": "@jupyter-widgets/controls",
          "model_name": "ProgressStyleModel",
          "model_module_version": "1.5.0",
          "state": {
            "_model_module": "@jupyter-widgets/controls",
            "_model_module_version": "1.5.0",
            "_model_name": "ProgressStyleModel",
            "_view_count": null,
            "_view_module": "@jupyter-widgets/base",
            "_view_module_version": "1.2.0",
            "_view_name": "StyleView",
            "bar_color": null,
            "description_width": ""
          }
        },
        "dd9c26a8a02e45cd99a6dc8b6f02d199": {
          "model_module": "@jupyter-widgets/base",
          "model_name": "LayoutModel",
          "model_module_version": "1.2.0",
          "state": {
            "_model_module": "@jupyter-widgets/base",
            "_model_module_version": "1.2.0",
            "_model_name": "LayoutModel",
            "_view_count": null,
            "_view_module": "@jupyter-widgets/base",
            "_view_module_version": "1.2.0",
            "_view_name": "LayoutView",
            "align_content": null,
            "align_items": null,
            "align_self": null,
            "border": null,
            "bottom": null,
            "display": null,
            "flex": null,
            "flex_flow": null,
            "grid_area": null,
            "grid_auto_columns": null,
            "grid_auto_flow": null,
            "grid_auto_rows": null,
            "grid_column": null,
            "grid_gap": null,
            "grid_row": null,
            "grid_template_areas": null,
            "grid_template_columns": null,
            "grid_template_rows": null,
            "height": null,
            "justify_content": null,
            "justify_items": null,
            "left": null,
            "margin": null,
            "max_height": null,
            "max_width": null,
            "min_height": null,
            "min_width": null,
            "object_fit": null,
            "object_position": null,
            "order": null,
            "overflow": null,
            "overflow_x": null,
            "overflow_y": null,
            "padding": null,
            "right": null,
            "top": null,
            "visibility": null,
            "width": null
          }
        },
        "785c6ad18f714b7485054daa77f63616": {
          "model_module": "@jupyter-widgets/controls",
          "model_name": "DescriptionStyleModel",
          "model_module_version": "1.5.0",
          "state": {
            "_model_module": "@jupyter-widgets/controls",
            "_model_module_version": "1.5.0",
            "_model_name": "DescriptionStyleModel",
            "_view_count": null,
            "_view_module": "@jupyter-widgets/base",
            "_view_module_version": "1.2.0",
            "_view_name": "StyleView",
            "description_width": ""
          }
        },
        "a69377ee8b134a49b284a20881117b47": {
          "model_module": "@jupyter-widgets/controls",
          "model_name": "HBoxModel",
          "model_module_version": "1.5.0",
          "state": {
            "_dom_classes": [],
            "_model_module": "@jupyter-widgets/controls",
            "_model_module_version": "1.5.0",
            "_model_name": "HBoxModel",
            "_view_count": null,
            "_view_module": "@jupyter-widgets/controls",
            "_view_module_version": "1.5.0",
            "_view_name": "HBoxView",
            "box_style": "",
            "children": [
              "IPY_MODEL_af071fc1d91b4d63a51700affabc35f6",
              "IPY_MODEL_26761be349b24133860f7c95578a4508",
              "IPY_MODEL_54fbd1ca862344c4af8401b2c684b7ff"
            ],
            "layout": "IPY_MODEL_aa15293b6064406e892f2fec8af5266c"
          }
        },
        "af071fc1d91b4d63a51700affabc35f6": {
          "model_module": "@jupyter-widgets/controls",
          "model_name": "HTMLModel",
          "model_module_version": "1.5.0",
          "state": {
            "_dom_classes": [],
            "_model_module": "@jupyter-widgets/controls",
            "_model_module_version": "1.5.0",
            "_model_name": "HTMLModel",
            "_view_count": null,
            "_view_module": "@jupyter-widgets/controls",
            "_view_module_version": "1.5.0",
            "_view_name": "HTMLView",
            "description": "",
            "description_tooltip": null,
            "layout": "IPY_MODEL_39e4d51adc6343f68d3b68ac68502daa",
            "placeholder": "​",
            "style": "IPY_MODEL_dae12aacba6d4fcdaaa67111f198d180",
            "value": "config.json: 100%"
          }
        },
        "26761be349b24133860f7c95578a4508": {
          "model_module": "@jupyter-widgets/controls",
          "model_name": "FloatProgressModel",
          "model_module_version": "1.5.0",
          "state": {
            "_dom_classes": [],
            "_model_module": "@jupyter-widgets/controls",
            "_model_module_version": "1.5.0",
            "_model_name": "FloatProgressModel",
            "_view_count": null,
            "_view_module": "@jupyter-widgets/controls",
            "_view_module_version": "1.5.0",
            "_view_name": "ProgressView",
            "bar_style": "success",
            "description": "",
            "description_tooltip": null,
            "layout": "IPY_MODEL_bebdbb7b826945c6bbc95e0bb6b4d1ea",
            "max": 660,
            "min": 0,
            "orientation": "horizontal",
            "style": "IPY_MODEL_6c089a0d820440d1b6206da8f1d1879f",
            "value": 660
          }
        },
        "54fbd1ca862344c4af8401b2c684b7ff": {
          "model_module": "@jupyter-widgets/controls",
          "model_name": "HTMLModel",
          "model_module_version": "1.5.0",
          "state": {
            "_dom_classes": [],
            "_model_module": "@jupyter-widgets/controls",
            "_model_module_version": "1.5.0",
            "_model_name": "HTMLModel",
            "_view_count": null,
            "_view_module": "@jupyter-widgets/controls",
            "_view_module_version": "1.5.0",
            "_view_name": "HTMLView",
            "description": "",
            "description_tooltip": null,
            "layout": "IPY_MODEL_b54eb70753734d7eb39afe0123aea609",
            "placeholder": "​",
            "style": "IPY_MODEL_b0edf3a6a2c04602b313179e63fb1566",
            "value": " 660/660 [00:00&lt;00:00, 7.73kB/s]"
          }
        },
        "aa15293b6064406e892f2fec8af5266c": {
          "model_module": "@jupyter-widgets/base",
          "model_name": "LayoutModel",
          "model_module_version": "1.2.0",
          "state": {
            "_model_module": "@jupyter-widgets/base",
            "_model_module_version": "1.2.0",
            "_model_name": "LayoutModel",
            "_view_count": null,
            "_view_module": "@jupyter-widgets/base",
            "_view_module_version": "1.2.0",
            "_view_name": "LayoutView",
            "align_content": null,
            "align_items": null,
            "align_self": null,
            "border": null,
            "bottom": null,
            "display": null,
            "flex": null,
            "flex_flow": null,
            "grid_area": null,
            "grid_auto_columns": null,
            "grid_auto_flow": null,
            "grid_auto_rows": null,
            "grid_column": null,
            "grid_gap": null,
            "grid_row": null,
            "grid_template_areas": null,
            "grid_template_columns": null,
            "grid_template_rows": null,
            "height": null,
            "justify_content": null,
            "justify_items": null,
            "left": null,
            "margin": null,
            "max_height": null,
            "max_width": null,
            "min_height": null,
            "min_width": null,
            "object_fit": null,
            "object_position": null,
            "order": null,
            "overflow": null,
            "overflow_x": null,
            "overflow_y": null,
            "padding": null,
            "right": null,
            "top": null,
            "visibility": null,
            "width": null
          }
        },
        "39e4d51adc6343f68d3b68ac68502daa": {
          "model_module": "@jupyter-widgets/base",
          "model_name": "LayoutModel",
          "model_module_version": "1.2.0",
          "state": {
            "_model_module": "@jupyter-widgets/base",
            "_model_module_version": "1.2.0",
            "_model_name": "LayoutModel",
            "_view_count": null,
            "_view_module": "@jupyter-widgets/base",
            "_view_module_version": "1.2.0",
            "_view_name": "LayoutView",
            "align_content": null,
            "align_items": null,
            "align_self": null,
            "border": null,
            "bottom": null,
            "display": null,
            "flex": null,
            "flex_flow": null,
            "grid_area": null,
            "grid_auto_columns": null,
            "grid_auto_flow": null,
            "grid_auto_rows": null,
            "grid_column": null,
            "grid_gap": null,
            "grid_row": null,
            "grid_template_areas": null,
            "grid_template_columns": null,
            "grid_template_rows": null,
            "height": null,
            "justify_content": null,
            "justify_items": null,
            "left": null,
            "margin": null,
            "max_height": null,
            "max_width": null,
            "min_height": null,
            "min_width": null,
            "object_fit": null,
            "object_position": null,
            "order": null,
            "overflow": null,
            "overflow_x": null,
            "overflow_y": null,
            "padding": null,
            "right": null,
            "top": null,
            "visibility": null,
            "width": null
          }
        },
        "dae12aacba6d4fcdaaa67111f198d180": {
          "model_module": "@jupyter-widgets/controls",
          "model_name": "DescriptionStyleModel",
          "model_module_version": "1.5.0",
          "state": {
            "_model_module": "@jupyter-widgets/controls",
            "_model_module_version": "1.5.0",
            "_model_name": "DescriptionStyleModel",
            "_view_count": null,
            "_view_module": "@jupyter-widgets/base",
            "_view_module_version": "1.2.0",
            "_view_name": "StyleView",
            "description_width": ""
          }
        },
        "bebdbb7b826945c6bbc95e0bb6b4d1ea": {
          "model_module": "@jupyter-widgets/base",
          "model_name": "LayoutModel",
          "model_module_version": "1.2.0",
          "state": {
            "_model_module": "@jupyter-widgets/base",
            "_model_module_version": "1.2.0",
            "_model_name": "LayoutModel",
            "_view_count": null,
            "_view_module": "@jupyter-widgets/base",
            "_view_module_version": "1.2.0",
            "_view_name": "LayoutView",
            "align_content": null,
            "align_items": null,
            "align_self": null,
            "border": null,
            "bottom": null,
            "display": null,
            "flex": null,
            "flex_flow": null,
            "grid_area": null,
            "grid_auto_columns": null,
            "grid_auto_flow": null,
            "grid_auto_rows": null,
            "grid_column": null,
            "grid_gap": null,
            "grid_row": null,
            "grid_template_areas": null,
            "grid_template_columns": null,
            "grid_template_rows": null,
            "height": null,
            "justify_content": null,
            "justify_items": null,
            "left": null,
            "margin": null,
            "max_height": null,
            "max_width": null,
            "min_height": null,
            "min_width": null,
            "object_fit": null,
            "object_position": null,
            "order": null,
            "overflow": null,
            "overflow_x": null,
            "overflow_y": null,
            "padding": null,
            "right": null,
            "top": null,
            "visibility": null,
            "width": null
          }
        },
        "6c089a0d820440d1b6206da8f1d1879f": {
          "model_module": "@jupyter-widgets/controls",
          "model_name": "ProgressStyleModel",
          "model_module_version": "1.5.0",
          "state": {
            "_model_module": "@jupyter-widgets/controls",
            "_model_module_version": "1.5.0",
            "_model_name": "ProgressStyleModel",
            "_view_count": null,
            "_view_module": "@jupyter-widgets/base",
            "_view_module_version": "1.2.0",
            "_view_name": "StyleView",
            "bar_color": null,
            "description_width": ""
          }
        },
        "b54eb70753734d7eb39afe0123aea609": {
          "model_module": "@jupyter-widgets/base",
          "model_name": "LayoutModel",
          "model_module_version": "1.2.0",
          "state": {
            "_model_module": "@jupyter-widgets/base",
            "_model_module_version": "1.2.0",
            "_model_name": "LayoutModel",
            "_view_count": null,
            "_view_module": "@jupyter-widgets/base",
            "_view_module_version": "1.2.0",
            "_view_name": "LayoutView",
            "align_content": null,
            "align_items": null,
            "align_self": null,
            "border": null,
            "bottom": null,
            "display": null,
            "flex": null,
            "flex_flow": null,
            "grid_area": null,
            "grid_auto_columns": null,
            "grid_auto_flow": null,
            "grid_auto_rows": null,
            "grid_column": null,
            "grid_gap": null,
            "grid_row": null,
            "grid_template_areas": null,
            "grid_template_columns": null,
            "grid_template_rows": null,
            "height": null,
            "justify_content": null,
            "justify_items": null,
            "left": null,
            "margin": null,
            "max_height": null,
            "max_width": null,
            "min_height": null,
            "min_width": null,
            "object_fit": null,
            "object_position": null,
            "order": null,
            "overflow": null,
            "overflow_x": null,
            "overflow_y": null,
            "padding": null,
            "right": null,
            "top": null,
            "visibility": null,
            "width": null
          }
        },
        "b0edf3a6a2c04602b313179e63fb1566": {
          "model_module": "@jupyter-widgets/controls",
          "model_name": "DescriptionStyleModel",
          "model_module_version": "1.5.0",
          "state": {
            "_model_module": "@jupyter-widgets/controls",
            "_model_module_version": "1.5.0",
            "_model_name": "DescriptionStyleModel",
            "_view_count": null,
            "_view_module": "@jupyter-widgets/base",
            "_view_module_version": "1.2.0",
            "_view_name": "StyleView",
            "description_width": ""
          }
        },
        "1c8d7c95f8f145e8b9045e97fa4a2b12": {
          "model_module": "@jupyter-widgets/controls",
          "model_name": "HBoxModel",
          "model_module_version": "1.5.0",
          "state": {
            "_dom_classes": [],
            "_model_module": "@jupyter-widgets/controls",
            "_model_module_version": "1.5.0",
            "_model_name": "HBoxModel",
            "_view_count": null,
            "_view_module": "@jupyter-widgets/controls",
            "_view_module_version": "1.5.0",
            "_view_name": "HBoxView",
            "box_style": "",
            "children": [
              "IPY_MODEL_7d330003af034185a2c5684a591b52b6",
              "IPY_MODEL_2d31e4768db34250989fa7914894196d",
              "IPY_MODEL_aff599166c934e18a168a01e6cc95502"
            ],
            "layout": "IPY_MODEL_4fcf6f044bcc4995ad16665830e7f6e6"
          }
        },
        "7d330003af034185a2c5684a591b52b6": {
          "model_module": "@jupyter-widgets/controls",
          "model_name": "HTMLModel",
          "model_module_version": "1.5.0",
          "state": {
            "_dom_classes": [],
            "_model_module": "@jupyter-widgets/controls",
            "_model_module_version": "1.5.0",
            "_model_name": "HTMLModel",
            "_view_count": null,
            "_view_module": "@jupyter-widgets/controls",
            "_view_module_version": "1.5.0",
            "_view_name": "HTMLView",
            "description": "",
            "description_tooltip": null,
            "layout": "IPY_MODEL_f49b75834f404322b48027df2de7f44f",
            "placeholder": "​",
            "style": "IPY_MODEL_b59ee9ba3f9f49c99af2c9165377514c",
            "value": "tokenizer.json: "
          }
        },
        "2d31e4768db34250989fa7914894196d": {
          "model_module": "@jupyter-widgets/controls",
          "model_name": "FloatProgressModel",
          "model_module_version": "1.5.0",
          "state": {
            "_dom_classes": [],
            "_model_module": "@jupyter-widgets/controls",
            "_model_module_version": "1.5.0",
            "_model_name": "FloatProgressModel",
            "_view_count": null,
            "_view_module": "@jupyter-widgets/controls",
            "_view_module_version": "1.5.0",
            "_view_name": "ProgressView",
            "bar_style": "success",
            "description": "",
            "description_tooltip": null,
            "layout": "IPY_MODEL_7a29d838a7e940b8ad0eea88519f9842",
            "max": 1,
            "min": 0,
            "orientation": "horizontal",
            "style": "IPY_MODEL_275943172473432f987e520d5485a8d4",
            "value": 1
          }
        },
        "aff599166c934e18a168a01e6cc95502": {
          "model_module": "@jupyter-widgets/controls",
          "model_name": "HTMLModel",
          "model_module_version": "1.5.0",
          "state": {
            "_dom_classes": [],
            "_model_module": "@jupyter-widgets/controls",
            "_model_module_version": "1.5.0",
            "_model_name": "HTMLModel",
            "_view_count": null,
            "_view_module": "@jupyter-widgets/controls",
            "_view_module_version": "1.5.0",
            "_view_name": "HTMLView",
            "description": "",
            "description_tooltip": null,
            "layout": "IPY_MODEL_65e17f5fd2c9420494009bc8ea01a793",
            "placeholder": "​",
            "style": "IPY_MODEL_51d8aa090feb45469a3495abf91cb1b5",
            "value": " 712k/? [00:00&lt;00:00, 2.34MB/s]"
          }
        },
        "4fcf6f044bcc4995ad16665830e7f6e6": {
          "model_module": "@jupyter-widgets/base",
          "model_name": "LayoutModel",
          "model_module_version": "1.2.0",
          "state": {
            "_model_module": "@jupyter-widgets/base",
            "_model_module_version": "1.2.0",
            "_model_name": "LayoutModel",
            "_view_count": null,
            "_view_module": "@jupyter-widgets/base",
            "_view_module_version": "1.2.0",
            "_view_name": "LayoutView",
            "align_content": null,
            "align_items": null,
            "align_self": null,
            "border": null,
            "bottom": null,
            "display": null,
            "flex": null,
            "flex_flow": null,
            "grid_area": null,
            "grid_auto_columns": null,
            "grid_auto_flow": null,
            "grid_auto_rows": null,
            "grid_column": null,
            "grid_gap": null,
            "grid_row": null,
            "grid_template_areas": null,
            "grid_template_columns": null,
            "grid_template_rows": null,
            "height": null,
            "justify_content": null,
            "justify_items": null,
            "left": null,
            "margin": null,
            "max_height": null,
            "max_width": null,
            "min_height": null,
            "min_width": null,
            "object_fit": null,
            "object_position": null,
            "order": null,
            "overflow": null,
            "overflow_x": null,
            "overflow_y": null,
            "padding": null,
            "right": null,
            "top": null,
            "visibility": null,
            "width": null
          }
        },
        "f49b75834f404322b48027df2de7f44f": {
          "model_module": "@jupyter-widgets/base",
          "model_name": "LayoutModel",
          "model_module_version": "1.2.0",
          "state": {
            "_model_module": "@jupyter-widgets/base",
            "_model_module_version": "1.2.0",
            "_model_name": "LayoutModel",
            "_view_count": null,
            "_view_module": "@jupyter-widgets/base",
            "_view_module_version": "1.2.0",
            "_view_name": "LayoutView",
            "align_content": null,
            "align_items": null,
            "align_self": null,
            "border": null,
            "bottom": null,
            "display": null,
            "flex": null,
            "flex_flow": null,
            "grid_area": null,
            "grid_auto_columns": null,
            "grid_auto_flow": null,
            "grid_auto_rows": null,
            "grid_column": null,
            "grid_gap": null,
            "grid_row": null,
            "grid_template_areas": null,
            "grid_template_columns": null,
            "grid_template_rows": null,
            "height": null,
            "justify_content": null,
            "justify_items": null,
            "left": null,
            "margin": null,
            "max_height": null,
            "max_width": null,
            "min_height": null,
            "min_width": null,
            "object_fit": null,
            "object_position": null,
            "order": null,
            "overflow": null,
            "overflow_x": null,
            "overflow_y": null,
            "padding": null,
            "right": null,
            "top": null,
            "visibility": null,
            "width": null
          }
        },
        "b59ee9ba3f9f49c99af2c9165377514c": {
          "model_module": "@jupyter-widgets/controls",
          "model_name": "DescriptionStyleModel",
          "model_module_version": "1.5.0",
          "state": {
            "_model_module": "@jupyter-widgets/controls",
            "_model_module_version": "1.5.0",
            "_model_name": "DescriptionStyleModel",
            "_view_count": null,
            "_view_module": "@jupyter-widgets/base",
            "_view_module_version": "1.2.0",
            "_view_name": "StyleView",
            "description_width": ""
          }
        },
        "7a29d838a7e940b8ad0eea88519f9842": {
          "model_module": "@jupyter-widgets/base",
          "model_name": "LayoutModel",
          "model_module_version": "1.2.0",
          "state": {
            "_model_module": "@jupyter-widgets/base",
            "_model_module_version": "1.2.0",
            "_model_name": "LayoutModel",
            "_view_count": null,
            "_view_module": "@jupyter-widgets/base",
            "_view_module_version": "1.2.0",
            "_view_name": "LayoutView",
            "align_content": null,
            "align_items": null,
            "align_self": null,
            "border": null,
            "bottom": null,
            "display": null,
            "flex": null,
            "flex_flow": null,
            "grid_area": null,
            "grid_auto_columns": null,
            "grid_auto_flow": null,
            "grid_auto_rows": null,
            "grid_column": null,
            "grid_gap": null,
            "grid_row": null,
            "grid_template_areas": null,
            "grid_template_columns": null,
            "grid_template_rows": null,
            "height": null,
            "justify_content": null,
            "justify_items": null,
            "left": null,
            "margin": null,
            "max_height": null,
            "max_width": null,
            "min_height": null,
            "min_width": null,
            "object_fit": null,
            "object_position": null,
            "order": null,
            "overflow": null,
            "overflow_x": null,
            "overflow_y": null,
            "padding": null,
            "right": null,
            "top": null,
            "visibility": null,
            "width": "20px"
          }
        },
        "275943172473432f987e520d5485a8d4": {
          "model_module": "@jupyter-widgets/controls",
          "model_name": "ProgressStyleModel",
          "model_module_version": "1.5.0",
          "state": {
            "_model_module": "@jupyter-widgets/controls",
            "_model_module_version": "1.5.0",
            "_model_name": "ProgressStyleModel",
            "_view_count": null,
            "_view_module": "@jupyter-widgets/base",
            "_view_module_version": "1.2.0",
            "_view_name": "StyleView",
            "bar_color": null,
            "description_width": ""
          }
        },
        "65e17f5fd2c9420494009bc8ea01a793": {
          "model_module": "@jupyter-widgets/base",
          "model_name": "LayoutModel",
          "model_module_version": "1.2.0",
          "state": {
            "_model_module": "@jupyter-widgets/base",
            "_model_module_version": "1.2.0",
            "_model_name": "LayoutModel",
            "_view_count": null,
            "_view_module": "@jupyter-widgets/base",
            "_view_module_version": "1.2.0",
            "_view_name": "LayoutView",
            "align_content": null,
            "align_items": null,
            "align_self": null,
            "border": null,
            "bottom": null,
            "display": null,
            "flex": null,
            "flex_flow": null,
            "grid_area": null,
            "grid_auto_columns": null,
            "grid_auto_flow": null,
            "grid_auto_rows": null,
            "grid_column": null,
            "grid_gap": null,
            "grid_row": null,
            "grid_template_areas": null,
            "grid_template_columns": null,
            "grid_template_rows": null,
            "height": null,
            "justify_content": null,
            "justify_items": null,
            "left": null,
            "margin": null,
            "max_height": null,
            "max_width": null,
            "min_height": null,
            "min_width": null,
            "object_fit": null,
            "object_position": null,
            "order": null,
            "overflow": null,
            "overflow_x": null,
            "overflow_y": null,
            "padding": null,
            "right": null,
            "top": null,
            "visibility": null,
            "width": null
          }
        },
        "51d8aa090feb45469a3495abf91cb1b5": {
          "model_module": "@jupyter-widgets/controls",
          "model_name": "DescriptionStyleModel",
          "model_module_version": "1.5.0",
          "state": {
            "_model_module": "@jupyter-widgets/controls",
            "_model_module_version": "1.5.0",
            "_model_name": "DescriptionStyleModel",
            "_view_count": null,
            "_view_module": "@jupyter-widgets/base",
            "_view_module_version": "1.2.0",
            "_view_name": "StyleView",
            "description_width": ""
          }
        },
        "e9889c9e685e409e8bdf12067138939f": {
          "model_module": "@jupyter-widgets/controls",
          "model_name": "HBoxModel",
          "model_module_version": "1.5.0",
          "state": {
            "_dom_classes": [],
            "_model_module": "@jupyter-widgets/controls",
            "_model_module_version": "1.5.0",
            "_model_name": "HBoxModel",
            "_view_count": null,
            "_view_module": "@jupyter-widgets/controls",
            "_view_module_version": "1.5.0",
            "_view_name": "HBoxView",
            "box_style": "",
            "children": [
              "IPY_MODEL_111afdaadef447b4babe6d8609096f5e",
              "IPY_MODEL_6218e04b6f524ffca3e8ee3b67162e2f",
              "IPY_MODEL_fb1565d99fbc41da8f80b0ebc65ef23c"
            ],
            "layout": "IPY_MODEL_9866f9bde2ae489dba1ce3a44774dd5c"
          }
        },
        "111afdaadef447b4babe6d8609096f5e": {
          "model_module": "@jupyter-widgets/controls",
          "model_name": "HTMLModel",
          "model_module_version": "1.5.0",
          "state": {
            "_dom_classes": [],
            "_model_module": "@jupyter-widgets/controls",
            "_model_module_version": "1.5.0",
            "_model_name": "HTMLModel",
            "_view_count": null,
            "_view_module": "@jupyter-widgets/controls",
            "_view_module_version": "1.5.0",
            "_view_name": "HTMLView",
            "description": "",
            "description_tooltip": null,
            "layout": "IPY_MODEL_f670964bb2a248f290506c26fbcc4992",
            "placeholder": "​",
            "style": "IPY_MODEL_64ecd29ca4aa4ae7985b1f1bbc343098",
            "value": "tokenizer_config.json: "
          }
        },
        "6218e04b6f524ffca3e8ee3b67162e2f": {
          "model_module": "@jupyter-widgets/controls",
          "model_name": "FloatProgressModel",
          "model_module_version": "1.5.0",
          "state": {
            "_dom_classes": [],
            "_model_module": "@jupyter-widgets/controls",
            "_model_module_version": "1.5.0",
            "_model_name": "FloatProgressModel",
            "_view_count": null,
            "_view_module": "@jupyter-widgets/controls",
            "_view_module_version": "1.5.0",
            "_view_name": "ProgressView",
            "bar_style": "success",
            "description": "",
            "description_tooltip": null,
            "layout": "IPY_MODEL_c7aed4e07c6b49a7a1325a73817586be",
            "max": 1,
            "min": 0,
            "orientation": "horizontal",
            "style": "IPY_MODEL_3f9e169a1ff94c13896d6504619d5456",
            "value": 1
          }
        },
        "fb1565d99fbc41da8f80b0ebc65ef23c": {
          "model_module": "@jupyter-widgets/controls",
          "model_name": "HTMLModel",
          "model_module_version": "1.5.0",
          "state": {
            "_dom_classes": [],
            "_model_module": "@jupyter-widgets/controls",
            "_model_module_version": "1.5.0",
            "_model_name": "HTMLModel",
            "_view_count": null,
            "_view_module": "@jupyter-widgets/controls",
            "_view_module_version": "1.5.0",
            "_view_name": "HTMLView",
            "description": "",
            "description_tooltip": null,
            "layout": "IPY_MODEL_faa5084254dd4822876133c04feb689f",
            "placeholder": "​",
            "style": "IPY_MODEL_19f89320b4384f98956dead4e0efce37",
            "value": " 1.41k/? [00:00&lt;00:00, 30.9kB/s]"
          }
        },
        "9866f9bde2ae489dba1ce3a44774dd5c": {
          "model_module": "@jupyter-widgets/base",
          "model_name": "LayoutModel",
          "model_module_version": "1.2.0",
          "state": {
            "_model_module": "@jupyter-widgets/base",
            "_model_module_version": "1.2.0",
            "_model_name": "LayoutModel",
            "_view_count": null,
            "_view_module": "@jupyter-widgets/base",
            "_view_module_version": "1.2.0",
            "_view_name": "LayoutView",
            "align_content": null,
            "align_items": null,
            "align_self": null,
            "border": null,
            "bottom": null,
            "display": null,
            "flex": null,
            "flex_flow": null,
            "grid_area": null,
            "grid_auto_columns": null,
            "grid_auto_flow": null,
            "grid_auto_rows": null,
            "grid_column": null,
            "grid_gap": null,
            "grid_row": null,
            "grid_template_areas": null,
            "grid_template_columns": null,
            "grid_template_rows": null,
            "height": null,
            "justify_content": null,
            "justify_items": null,
            "left": null,
            "margin": null,
            "max_height": null,
            "max_width": null,
            "min_height": null,
            "min_width": null,
            "object_fit": null,
            "object_position": null,
            "order": null,
            "overflow": null,
            "overflow_x": null,
            "overflow_y": null,
            "padding": null,
            "right": null,
            "top": null,
            "visibility": null,
            "width": null
          }
        },
        "f670964bb2a248f290506c26fbcc4992": {
          "model_module": "@jupyter-widgets/base",
          "model_name": "LayoutModel",
          "model_module_version": "1.2.0",
          "state": {
            "_model_module": "@jupyter-widgets/base",
            "_model_module_version": "1.2.0",
            "_model_name": "LayoutModel",
            "_view_count": null,
            "_view_module": "@jupyter-widgets/base",
            "_view_module_version": "1.2.0",
            "_view_name": "LayoutView",
            "align_content": null,
            "align_items": null,
            "align_self": null,
            "border": null,
            "bottom": null,
            "display": null,
            "flex": null,
            "flex_flow": null,
            "grid_area": null,
            "grid_auto_columns": null,
            "grid_auto_flow": null,
            "grid_auto_rows": null,
            "grid_column": null,
            "grid_gap": null,
            "grid_row": null,
            "grid_template_areas": null,
            "grid_template_columns": null,
            "grid_template_rows": null,
            "height": null,
            "justify_content": null,
            "justify_items": null,
            "left": null,
            "margin": null,
            "max_height": null,
            "max_width": null,
            "min_height": null,
            "min_width": null,
            "object_fit": null,
            "object_position": null,
            "order": null,
            "overflow": null,
            "overflow_x": null,
            "overflow_y": null,
            "padding": null,
            "right": null,
            "top": null,
            "visibility": null,
            "width": null
          }
        },
        "64ecd29ca4aa4ae7985b1f1bbc343098": {
          "model_module": "@jupyter-widgets/controls",
          "model_name": "DescriptionStyleModel",
          "model_module_version": "1.5.0",
          "state": {
            "_model_module": "@jupyter-widgets/controls",
            "_model_module_version": "1.5.0",
            "_model_name": "DescriptionStyleModel",
            "_view_count": null,
            "_view_module": "@jupyter-widgets/base",
            "_view_module_version": "1.2.0",
            "_view_name": "StyleView",
            "description_width": ""
          }
        },
        "c7aed4e07c6b49a7a1325a73817586be": {
          "model_module": "@jupyter-widgets/base",
          "model_name": "LayoutModel",
          "model_module_version": "1.2.0",
          "state": {
            "_model_module": "@jupyter-widgets/base",
            "_model_module_version": "1.2.0",
            "_model_name": "LayoutModel",
            "_view_count": null,
            "_view_module": "@jupyter-widgets/base",
            "_view_module_version": "1.2.0",
            "_view_name": "LayoutView",
            "align_content": null,
            "align_items": null,
            "align_self": null,
            "border": null,
            "bottom": null,
            "display": null,
            "flex": null,
            "flex_flow": null,
            "grid_area": null,
            "grid_auto_columns": null,
            "grid_auto_flow": null,
            "grid_auto_rows": null,
            "grid_column": null,
            "grid_gap": null,
            "grid_row": null,
            "grid_template_areas": null,
            "grid_template_columns": null,
            "grid_template_rows": null,
            "height": null,
            "justify_content": null,
            "justify_items": null,
            "left": null,
            "margin": null,
            "max_height": null,
            "max_width": null,
            "min_height": null,
            "min_width": null,
            "object_fit": null,
            "object_position": null,
            "order": null,
            "overflow": null,
            "overflow_x": null,
            "overflow_y": null,
            "padding": null,
            "right": null,
            "top": null,
            "visibility": null,
            "width": "20px"
          }
        },
        "3f9e169a1ff94c13896d6504619d5456": {
          "model_module": "@jupyter-widgets/controls",
          "model_name": "ProgressStyleModel",
          "model_module_version": "1.5.0",
          "state": {
            "_model_module": "@jupyter-widgets/controls",
            "_model_module_version": "1.5.0",
            "_model_name": "ProgressStyleModel",
            "_view_count": null,
            "_view_module": "@jupyter-widgets/base",
            "_view_module_version": "1.2.0",
            "_view_name": "StyleView",
            "bar_color": null,
            "description_width": ""
          }
        },
        "faa5084254dd4822876133c04feb689f": {
          "model_module": "@jupyter-widgets/base",
          "model_name": "LayoutModel",
          "model_module_version": "1.2.0",
          "state": {
            "_model_module": "@jupyter-widgets/base",
            "_model_module_version": "1.2.0",
            "_model_name": "LayoutModel",
            "_view_count": null,
            "_view_module": "@jupyter-widgets/base",
            "_view_module_version": "1.2.0",
            "_view_name": "LayoutView",
            "align_content": null,
            "align_items": null,
            "align_self": null,
            "border": null,
            "bottom": null,
            "display": null,
            "flex": null,
            "flex_flow": null,
            "grid_area": null,
            "grid_auto_columns": null,
            "grid_auto_flow": null,
            "grid_auto_rows": null,
            "grid_column": null,
            "grid_gap": null,
            "grid_row": null,
            "grid_template_areas": null,
            "grid_template_columns": null,
            "grid_template_rows": null,
            "height": null,
            "justify_content": null,
            "justify_items": null,
            "left": null,
            "margin": null,
            "max_height": null,
            "max_width": null,
            "min_height": null,
            "min_width": null,
            "object_fit": null,
            "object_position": null,
            "order": null,
            "overflow": null,
            "overflow_x": null,
            "overflow_y": null,
            "padding": null,
            "right": null,
            "top": null,
            "visibility": null,
            "width": null
          }
        },
        "19f89320b4384f98956dead4e0efce37": {
          "model_module": "@jupyter-widgets/controls",
          "model_name": "DescriptionStyleModel",
          "model_module_version": "1.5.0",
          "state": {
            "_model_module": "@jupyter-widgets/controls",
            "_model_module_version": "1.5.0",
            "_model_name": "DescriptionStyleModel",
            "_view_count": null,
            "_view_module": "@jupyter-widgets/base",
            "_view_module_version": "1.2.0",
            "_view_name": "StyleView",
            "description_width": ""
          }
        },
        "fb0d2a8d30a34de1a36160de86215ce7": {
          "model_module": "@jupyter-widgets/controls",
          "model_name": "HBoxModel",
          "model_module_version": "1.5.0",
          "state": {
            "_dom_classes": [],
            "_model_module": "@jupyter-widgets/controls",
            "_model_module_version": "1.5.0",
            "_model_name": "HBoxModel",
            "_view_count": null,
            "_view_module": "@jupyter-widgets/controls",
            "_view_module_version": "1.5.0",
            "_view_name": "HBoxView",
            "box_style": "",
            "children": [
              "IPY_MODEL_eaa979e623604fcc8c769d9b339347fb",
              "IPY_MODEL_a059e9b52339483dada54db848b15d42",
              "IPY_MODEL_b2cc7963f2324b11ba06f9f66ac0b86c"
            ],
            "layout": "IPY_MODEL_7fa1aa019a2c4959a4a16fcecaa45c21"
          }
        },
        "eaa979e623604fcc8c769d9b339347fb": {
          "model_module": "@jupyter-widgets/controls",
          "model_name": "HTMLModel",
          "model_module_version": "1.5.0",
          "state": {
            "_dom_classes": [],
            "_model_module": "@jupyter-widgets/controls",
            "_model_module_version": "1.5.0",
            "_model_name": "HTMLModel",
            "_view_count": null,
            "_view_module": "@jupyter-widgets/controls",
            "_view_module_version": "1.5.0",
            "_view_name": "HTMLView",
            "description": "",
            "description_tooltip": null,
            "layout": "IPY_MODEL_fed23f5321e64b7286cd107a55344970",
            "placeholder": "​",
            "style": "IPY_MODEL_2351aac5684c40478e90667c70ffedf9",
            "value": "special_tokens_map.json: 100%"
          }
        },
        "a059e9b52339483dada54db848b15d42": {
          "model_module": "@jupyter-widgets/controls",
          "model_name": "FloatProgressModel",
          "model_module_version": "1.5.0",
          "state": {
            "_dom_classes": [],
            "_model_module": "@jupyter-widgets/controls",
            "_model_module_version": "1.5.0",
            "_model_name": "FloatProgressModel",
            "_view_count": null,
            "_view_module": "@jupyter-widgets/controls",
            "_view_module_version": "1.5.0",
            "_view_name": "ProgressView",
            "bar_style": "success",
            "description": "",
            "description_tooltip": null,
            "layout": "IPY_MODEL_c812e75d8dc7431492dc2e025ebe92ac",
            "max": 695,
            "min": 0,
            "orientation": "horizontal",
            "style": "IPY_MODEL_58dfdd3939684a4296f219f1d4ab6b4b",
            "value": 695
          }
        },
        "b2cc7963f2324b11ba06f9f66ac0b86c": {
          "model_module": "@jupyter-widgets/controls",
          "model_name": "HTMLModel",
          "model_module_version": "1.5.0",
          "state": {
            "_dom_classes": [],
            "_model_module": "@jupyter-widgets/controls",
            "_model_module_version": "1.5.0",
            "_model_name": "HTMLModel",
            "_view_count": null,
            "_view_module": "@jupyter-widgets/controls",
            "_view_module_version": "1.5.0",
            "_view_name": "HTMLView",
            "description": "",
            "description_tooltip": null,
            "layout": "IPY_MODEL_d34ad7b1dd78428db19f0c3ea0ce7df4",
            "placeholder": "​",
            "style": "IPY_MODEL_11c6b8ec09604b72b953e593ba641c21",
            "value": " 695/695 [00:00&lt;00:00, 12.2kB/s]"
          }
        },
        "7fa1aa019a2c4959a4a16fcecaa45c21": {
          "model_module": "@jupyter-widgets/base",
          "model_name": "LayoutModel",
          "model_module_version": "1.2.0",
          "state": {
            "_model_module": "@jupyter-widgets/base",
            "_model_module_version": "1.2.0",
            "_model_name": "LayoutModel",
            "_view_count": null,
            "_view_module": "@jupyter-widgets/base",
            "_view_module_version": "1.2.0",
            "_view_name": "LayoutView",
            "align_content": null,
            "align_items": null,
            "align_self": null,
            "border": null,
            "bottom": null,
            "display": null,
            "flex": null,
            "flex_flow": null,
            "grid_area": null,
            "grid_auto_columns": null,
            "grid_auto_flow": null,
            "grid_auto_rows": null,
            "grid_column": null,
            "grid_gap": null,
            "grid_row": null,
            "grid_template_areas": null,
            "grid_template_columns": null,
            "grid_template_rows": null,
            "height": null,
            "justify_content": null,
            "justify_items": null,
            "left": null,
            "margin": null,
            "max_height": null,
            "max_width": null,
            "min_height": null,
            "min_width": null,
            "object_fit": null,
            "object_position": null,
            "order": null,
            "overflow": null,
            "overflow_x": null,
            "overflow_y": null,
            "padding": null,
            "right": null,
            "top": null,
            "visibility": null,
            "width": null
          }
        },
        "fed23f5321e64b7286cd107a55344970": {
          "model_module": "@jupyter-widgets/base",
          "model_name": "LayoutModel",
          "model_module_version": "1.2.0",
          "state": {
            "_model_module": "@jupyter-widgets/base",
            "_model_module_version": "1.2.0",
            "_model_name": "LayoutModel",
            "_view_count": null,
            "_view_module": "@jupyter-widgets/base",
            "_view_module_version": "1.2.0",
            "_view_name": "LayoutView",
            "align_content": null,
            "align_items": null,
            "align_self": null,
            "border": null,
            "bottom": null,
            "display": null,
            "flex": null,
            "flex_flow": null,
            "grid_area": null,
            "grid_auto_columns": null,
            "grid_auto_flow": null,
            "grid_auto_rows": null,
            "grid_column": null,
            "grid_gap": null,
            "grid_row": null,
            "grid_template_areas": null,
            "grid_template_columns": null,
            "grid_template_rows": null,
            "height": null,
            "justify_content": null,
            "justify_items": null,
            "left": null,
            "margin": null,
            "max_height": null,
            "max_width": null,
            "min_height": null,
            "min_width": null,
            "object_fit": null,
            "object_position": null,
            "order": null,
            "overflow": null,
            "overflow_x": null,
            "overflow_y": null,
            "padding": null,
            "right": null,
            "top": null,
            "visibility": null,
            "width": null
          }
        },
        "2351aac5684c40478e90667c70ffedf9": {
          "model_module": "@jupyter-widgets/controls",
          "model_name": "DescriptionStyleModel",
          "model_module_version": "1.5.0",
          "state": {
            "_model_module": "@jupyter-widgets/controls",
            "_model_module_version": "1.5.0",
            "_model_name": "DescriptionStyleModel",
            "_view_count": null,
            "_view_module": "@jupyter-widgets/base",
            "_view_module_version": "1.2.0",
            "_view_name": "StyleView",
            "description_width": ""
          }
        },
        "c812e75d8dc7431492dc2e025ebe92ac": {
          "model_module": "@jupyter-widgets/base",
          "model_name": "LayoutModel",
          "model_module_version": "1.2.0",
          "state": {
            "_model_module": "@jupyter-widgets/base",
            "_model_module_version": "1.2.0",
            "_model_name": "LayoutModel",
            "_view_count": null,
            "_view_module": "@jupyter-widgets/base",
            "_view_module_version": "1.2.0",
            "_view_name": "LayoutView",
            "align_content": null,
            "align_items": null,
            "align_self": null,
            "border": null,
            "bottom": null,
            "display": null,
            "flex": null,
            "flex_flow": null,
            "grid_area": null,
            "grid_auto_columns": null,
            "grid_auto_flow": null,
            "grid_auto_rows": null,
            "grid_column": null,
            "grid_gap": null,
            "grid_row": null,
            "grid_template_areas": null,
            "grid_template_columns": null,
            "grid_template_rows": null,
            "height": null,
            "justify_content": null,
            "justify_items": null,
            "left": null,
            "margin": null,
            "max_height": null,
            "max_width": null,
            "min_height": null,
            "min_width": null,
            "object_fit": null,
            "object_position": null,
            "order": null,
            "overflow": null,
            "overflow_x": null,
            "overflow_y": null,
            "padding": null,
            "right": null,
            "top": null,
            "visibility": null,
            "width": null
          }
        },
        "58dfdd3939684a4296f219f1d4ab6b4b": {
          "model_module": "@jupyter-widgets/controls",
          "model_name": "ProgressStyleModel",
          "model_module_version": "1.5.0",
          "state": {
            "_model_module": "@jupyter-widgets/controls",
            "_model_module_version": "1.5.0",
            "_model_name": "ProgressStyleModel",
            "_view_count": null,
            "_view_module": "@jupyter-widgets/base",
            "_view_module_version": "1.2.0",
            "_view_name": "StyleView",
            "bar_color": null,
            "description_width": ""
          }
        },
        "d34ad7b1dd78428db19f0c3ea0ce7df4": {
          "model_module": "@jupyter-widgets/base",
          "model_name": "LayoutModel",
          "model_module_version": "1.2.0",
          "state": {
            "_model_module": "@jupyter-widgets/base",
            "_model_module_version": "1.2.0",
            "_model_name": "LayoutModel",
            "_view_count": null,
            "_view_module": "@jupyter-widgets/base",
            "_view_module_version": "1.2.0",
            "_view_name": "LayoutView",
            "align_content": null,
            "align_items": null,
            "align_self": null,
            "border": null,
            "bottom": null,
            "display": null,
            "flex": null,
            "flex_flow": null,
            "grid_area": null,
            "grid_auto_columns": null,
            "grid_auto_flow": null,
            "grid_auto_rows": null,
            "grid_column": null,
            "grid_gap": null,
            "grid_row": null,
            "grid_template_areas": null,
            "grid_template_columns": null,
            "grid_template_rows": null,
            "height": null,
            "justify_content": null,
            "justify_items": null,
            "left": null,
            "margin": null,
            "max_height": null,
            "max_width": null,
            "min_height": null,
            "min_width": null,
            "object_fit": null,
            "object_position": null,
            "order": null,
            "overflow": null,
            "overflow_x": null,
            "overflow_y": null,
            "padding": null,
            "right": null,
            "top": null,
            "visibility": null,
            "width": null
          }
        },
        "11c6b8ec09604b72b953e593ba641c21": {
          "model_module": "@jupyter-widgets/controls",
          "model_name": "DescriptionStyleModel",
          "model_module_version": "1.5.0",
          "state": {
            "_model_module": "@jupyter-widgets/controls",
            "_model_module_version": "1.5.0",
            "_model_name": "DescriptionStyleModel",
            "_view_count": null,
            "_view_module": "@jupyter-widgets/base",
            "_view_module_version": "1.2.0",
            "_view_name": "StyleView",
            "description_width": ""
          }
        }
      }
    }
  },
  "nbformat": 4,
  "nbformat_minor": 0
}